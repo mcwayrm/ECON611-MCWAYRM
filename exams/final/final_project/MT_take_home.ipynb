{
 "cells": [
  {
   "cell_type": "markdown",
   "metadata": {},
   "source": [
    "<img src=\"https://images.efollett.com/htmlroot/images/templates/storeLogos/CA/864.gif\" style=\"float: right;\"> \n",
    "\n",
    "\n",
    "\n",
    "\n",
    "# ECON611\n",
    "### Final Exam - Take Home Project\n",
    "\n",
    "\n",
    "\n",
    "---\n",
    "#### Guidelines \n",
    "- You are required to submit your answers using this notebook (do not push or submit PDFs, Word docs, etc, cause your answers will be considered invalid = **0%**).\n",
    "- The take home is **20%** of your final exam score.\n",
    "- You need to be part of a group with **3** students.\n",
    "- The **take home project** is due on **DEC 9th 2019** before class/exam (if you are taking the in-class exam before the rest of the class, you **need to push your take home project** before you commence with the in-class exam) = **NO EXCUSES !!**\n",
    "- The team leader will receive an email where he/she will uploading the team members names and a link to the notebook in GitHub.\n",
    "\n",
    "#### The data\n",
    "\n",
    "The state of Iowa provides many data sets on their website, we will be using a dataset which contains transactions for all stores that have a class E liquor license. \n",
    "\n",
    "The data , data dictionary can be found [directly on their website](https://data.iowa.gov/Economy/Iowa-Liquor-Sales/m3tr-qhgy).\n",
    "\n",
    "**However,** since many of you may have had computer issues reading medium size datasets, **everyone** needs to use the 10% dataset version of Iowa liquor sales, located in your dataset folder. \n",
    "\n",
    "---\n",
    "\n",
    "#### Package imports"
   ]
  },
  {
   "cell_type": "code",
   "execution_count": 1,
   "metadata": {
    "collapsed": true
   },
   "outputs": [],
   "source": [
    "import numpy as np\n",
    "import scipy.stats as stats\n",
    "import pandas as pd\n",
    "import seaborn as sns\n",
    "\n",
    "import matplotlib\n",
    "import matplotlib.pyplot as plt\n",
    "\n",
    "%config InlineBackend.figure_format = 'retina'\n",
    "%matplotlib inline\n",
    "\n",
    "plt.style.use('fivethirtyeight')"
   ]
  },
  {
   "cell_type": "markdown",
   "metadata": {},
   "source": [
    "## 1. Load the data from file\n",
    "\n",
    "---"
   ]
  },
  {
   "cell_type": "code",
   "execution_count": 2,
   "metadata": {},
   "outputs": [],
   "source": [
    "iowa_path = '../../../datasets/iowa_liquor/Iowa_Liquor_sales_sample_10pct.csv'\n",
    "\n",
    "iowa = pd.read_csv(iowa_path)"
   ]
  },
  {
   "cell_type": "code",
   "execution_count": 3,
   "metadata": {},
   "outputs": [
    {
     "data": {
      "text/html": [
       "<div>\n",
       "<style scoped>\n",
       "    .dataframe tbody tr th:only-of-type {\n",
       "        vertical-align: middle;\n",
       "    }\n",
       "\n",
       "    .dataframe tbody tr th {\n",
       "        vertical-align: top;\n",
       "    }\n",
       "\n",
       "    .dataframe thead th {\n",
       "        text-align: right;\n",
       "    }\n",
       "</style>\n",
       "<table border=\"1\" class=\"dataframe\">\n",
       "  <thead>\n",
       "    <tr style=\"text-align: right;\">\n",
       "      <th></th>\n",
       "      <th>Date</th>\n",
       "      <th>Store Number</th>\n",
       "      <th>City</th>\n",
       "      <th>Zip Code</th>\n",
       "      <th>County Number</th>\n",
       "      <th>County</th>\n",
       "      <th>Category</th>\n",
       "      <th>Category Name</th>\n",
       "      <th>Vendor Number</th>\n",
       "      <th>Item Number</th>\n",
       "      <th>Item Description</th>\n",
       "      <th>Bottle Volume (ml)</th>\n",
       "      <th>State Bottle Cost</th>\n",
       "      <th>State Bottle Retail</th>\n",
       "      <th>Bottles Sold</th>\n",
       "      <th>Sale (Dollars)</th>\n",
       "      <th>Volume Sold (Liters)</th>\n",
       "      <th>Volume Sold (Gallons)</th>\n",
       "    </tr>\n",
       "  </thead>\n",
       "  <tbody>\n",
       "    <tr>\n",
       "      <th>0</th>\n",
       "      <td>11/04/2015</td>\n",
       "      <td>3717</td>\n",
       "      <td>SUMNER</td>\n",
       "      <td>50674</td>\n",
       "      <td>9.0</td>\n",
       "      <td>Bremer</td>\n",
       "      <td>1051100.0</td>\n",
       "      <td>APRICOT BRANDIES</td>\n",
       "      <td>55</td>\n",
       "      <td>54436</td>\n",
       "      <td>Mr. Boston Apricot Brandy</td>\n",
       "      <td>750</td>\n",
       "      <td>$4.50</td>\n",
       "      <td>$6.75</td>\n",
       "      <td>12</td>\n",
       "      <td>$81.00</td>\n",
       "      <td>9.0</td>\n",
       "      <td>2.38</td>\n",
       "    </tr>\n",
       "    <tr>\n",
       "      <th>1</th>\n",
       "      <td>03/02/2016</td>\n",
       "      <td>2614</td>\n",
       "      <td>DAVENPORT</td>\n",
       "      <td>52807</td>\n",
       "      <td>82.0</td>\n",
       "      <td>Scott</td>\n",
       "      <td>1011100.0</td>\n",
       "      <td>BLENDED WHISKIES</td>\n",
       "      <td>395</td>\n",
       "      <td>27605</td>\n",
       "      <td>Tin Cup</td>\n",
       "      <td>750</td>\n",
       "      <td>$13.75</td>\n",
       "      <td>$20.63</td>\n",
       "      <td>2</td>\n",
       "      <td>$41.26</td>\n",
       "      <td>1.5</td>\n",
       "      <td>0.40</td>\n",
       "    </tr>\n",
       "    <tr>\n",
       "      <th>2</th>\n",
       "      <td>02/11/2016</td>\n",
       "      <td>2106</td>\n",
       "      <td>CEDAR FALLS</td>\n",
       "      <td>50613</td>\n",
       "      <td>7.0</td>\n",
       "      <td>Black Hawk</td>\n",
       "      <td>1011200.0</td>\n",
       "      <td>STRAIGHT BOURBON WHISKIES</td>\n",
       "      <td>65</td>\n",
       "      <td>19067</td>\n",
       "      <td>Jim Beam</td>\n",
       "      <td>1000</td>\n",
       "      <td>$12.59</td>\n",
       "      <td>$18.89</td>\n",
       "      <td>24</td>\n",
       "      <td>$453.36</td>\n",
       "      <td>24.0</td>\n",
       "      <td>6.34</td>\n",
       "    </tr>\n",
       "  </tbody>\n",
       "</table>\n",
       "</div>"
      ],
      "text/plain": [
       "         Date  Store Number         City Zip Code  County Number      County  \\\n",
       "0  11/04/2015          3717       SUMNER    50674            9.0      Bremer   \n",
       "1  03/02/2016          2614    DAVENPORT    52807           82.0       Scott   \n",
       "2  02/11/2016          2106  CEDAR FALLS    50613            7.0  Black Hawk   \n",
       "\n",
       "    Category              Category Name  Vendor Number  Item Number  \\\n",
       "0  1051100.0           APRICOT BRANDIES             55        54436   \n",
       "1  1011100.0           BLENDED WHISKIES            395        27605   \n",
       "2  1011200.0  STRAIGHT BOURBON WHISKIES             65        19067   \n",
       "\n",
       "            Item Description  Bottle Volume (ml) State Bottle Cost  \\\n",
       "0  Mr. Boston Apricot Brandy                 750             $4.50   \n",
       "1                    Tin Cup                 750            $13.75   \n",
       "2                   Jim Beam                1000            $12.59   \n",
       "\n",
       "  State Bottle Retail  Bottles Sold Sale (Dollars)  Volume Sold (Liters)  \\\n",
       "0               $6.75            12         $81.00                   9.0   \n",
       "1              $20.63             2         $41.26                   1.5   \n",
       "2              $18.89            24        $453.36                  24.0   \n",
       "\n",
       "   Volume Sold (Gallons)  \n",
       "0                   2.38  \n",
       "1                   0.40  \n",
       "2                   6.34  "
      ]
     },
     "execution_count": 3,
     "metadata": {},
     "output_type": "execute_result"
    }
   ],
   "source": [
    "iowa.head(3)"
   ]
  },
  {
   "cell_type": "markdown",
   "metadata": {},
   "source": [
    "## 2. Do an initial overview of the data\n",
    "\n",
    "---\n",
    "\n",
    "At the very least describe the columns/variables and the datatypes. "
   ]
  },
  {
   "cell_type": "code",
   "execution_count": null,
   "metadata": {
    "collapsed": true
   },
   "outputs": [],
   "source": []
  },
  {
   "cell_type": "markdown",
   "metadata": {},
   "source": [
    "\n",
    "## 3. Clean the dataset\n",
    "\n",
    "---\n",
    "\n",
    "### 3.1 Identify columns that you will need to convert and clean. Where and how is the data corrupted?\n",
    "\n",
    "Don't worry about converting the date column to a pandas/numpy \"datetime\" datatype, unless you want to (not required for these problems and is a challenging thing to work with in its own right.)"
   ]
  },
  {
   "cell_type": "code",
   "execution_count": null,
   "metadata": {
    "collapsed": true
   },
   "outputs": [],
   "source": []
  },
  {
   "cell_type": "markdown",
   "metadata": {},
   "source": [
    "### 3.2 Clean the columns"
   ]
  },
  {
   "cell_type": "code",
   "execution_count": null,
   "metadata": {
    "collapsed": true
   },
   "outputs": [],
   "source": []
  },
  {
   "cell_type": "markdown",
   "metadata": {},
   "source": [
    "\n",
    "### 3.3 Perform more extensive cleaning of the dataset\n",
    "\n",
    "Cleaning of data can mean a lot more than just fixing strings and numbers in columns. There are often logical errors with data, useless or nonsensical categories, redundancy of information, outliers, and many more problems.\n",
    "\n",
    "This dataset has problems beyond just fixing the types of columns. Keep in mind that some types of \"data cleaning\" is subjective: it's not always a cut-and-dry conversion of type or removal of null values. Subjectivity when dealing with data is just a fact of life when dealing with data. This isn't a kind of programming where things are just right or wrong."
   ]
  },
  {
   "cell_type": "code",
   "execution_count": null,
   "metadata": {
    "collapsed": true
   },
   "outputs": [],
   "source": []
  },
  {
   "cell_type": "markdown",
   "metadata": {},
   "source": [
    "\n",
    "## 4. Filter/adjust the store data\n",
    "\n",
    "---\n",
    "\n",
    "Some stores may have opened or closed in 2015. These stores will have incorrect yearly summary statistics since they were not open the full year. We need to filter them out or find another way to deal with the inconsistent numbers of months across stores.\n",
    "\n",
    "It is up to you how you want to deal with this problem.\n",
    "\n",
    "1. Investigate problematic stores.\n",
    "2. Decide on an approach to deal with stores not open for the full 2015 year.\n",
    "3. Implement your plan.\n",
    "4. Briefly report on what you did and why.\n"
   ]
  },
  {
   "cell_type": "code",
   "execution_count": null,
   "metadata": {},
   "outputs": [],
   "source": []
  },
  {
   "cell_type": "markdown",
   "metadata": {},
   "source": [
    "\n",
    "## 5. Case 1 - Proposals for new tax rates \n",
    "\n",
    "---\n",
    "\n",
    "You are an economist working for the Iowa State tax board. The Iowa State legislature is considering changes in the liquor tax rates and has assigned you to the project.\n",
    "\n",
    "### 5.1 Calculate yearly liquor sales for each store in 2015."
   ]
  },
  {
   "cell_type": "code",
   "execution_count": null,
   "metadata": {},
   "outputs": [],
   "source": []
  },
  {
   "cell_type": "markdown",
   "metadata": {},
   "source": [
    "### 5.2 Calculate the profit each store is making in 2015.\n"
   ]
  },
  {
   "cell_type": "code",
   "execution_count": null,
   "metadata": {},
   "outputs": [],
   "source": []
  },
  {
   "cell_type": "markdown",
   "metadata": {},
   "source": [
    "### 5.3 Investigate which Iowa counties are making the most profit on liquor per gallon in 2015."
   ]
  },
  {
   "cell_type": "code",
   "execution_count": null,
   "metadata": {
    "collapsed": true
   },
   "outputs": [],
   "source": []
  },
  {
   "cell_type": "markdown",
   "metadata": {},
   "source": [
    "### 5.4  Does profit scale proportionally to store size?\n",
    "\n",
    "Size of a store can be defined as the total gallons sold in 2015. Is the profit to store size ratio increasing as store size increases? Decreasing? Consistent?"
   ]
  },
  {
   "cell_type": "code",
   "execution_count": null,
   "metadata": {},
   "outputs": [],
   "source": []
  },
  {
   "cell_type": "markdown",
   "metadata": {},
   "source": [
    "### 5.5 Create a broader category for liquor type.\n",
    "\n",
    "Liquor types are pretty granular in this dataset. Create a column that categorizes these types into a smaller amount of categories. The categories you decide on are up to you."
   ]
  },
  {
   "cell_type": "code",
   "execution_count": null,
   "metadata": {},
   "outputs": [],
   "source": []
  },
  {
   "cell_type": "markdown",
   "metadata": {},
   "source": [
    "### 5.6 Do relationships exist between the broader liquor type and profit?"
   ]
  },
  {
   "cell_type": "code",
   "execution_count": null,
   "metadata": {
    "collapsed": true
   },
   "outputs": [],
   "source": []
  },
  {
   "cell_type": "markdown",
   "metadata": {},
   "source": [
    "\n",
    "### 5.7 Are there any noticeable relationships between liquor brand and sales? Profit?"
   ]
  },
  {
   "cell_type": "code",
   "execution_count": null,
   "metadata": {
    "scrolled": false
   },
   "outputs": [],
   "source": []
  },
  {
   "cell_type": "markdown",
   "metadata": {},
   "source": [
    "### 5.8 The tax board wants to design a tax or taxes that affect larger stores more than smaller \"mom and pop\" stores.\n",
    "\n",
    "Based on your investigations into the data, come up with a way you could design a tax that achieves this goal **without explicitly taxing stores based on size or county critera.** The liqour board does not want to obviously punish larger stores or speific counties for fear of backlash, but is willing to tax hard alcohol more than beer, for example.\n",
    "\n",
    "Feel free to do more EDA if it helps.\n",
    "\n",
    "Your report should describe whether such a tax is possible or not, and the specifics of what the tax will target/do."
   ]
  },
  {
   "cell_type": "code",
   "execution_count": null,
   "metadata": {},
   "outputs": [],
   "source": [
    "\n"
   ]
  },
  {
   "cell_type": "markdown",
   "metadata": {},
   "source": [
    "\n",
    "## 6. Case 2 = Market research for new store locations \n",
    "\n",
    "A liquor store owner in Iowa is looking to open a store in a new location and has hired you as a consultant to investigate the market data for potential new locations. The business owner is interested in what you can discover from the data that will help him evaluate a good location for a new storefront.\n",
    "\n",
    "---\n",
    "\n",
    "### 6.1 Create columns for Q1 2015 sales and Q1 2016 sales.\n",
    "\n",
    "The owner is not just interested in what locations are currently selling well, but also which areas are showing the most promising sales growth from 2015 to 2016. \n",
    "\n",
    "For yearly changes we will focus on the changes from Q1 2015 to Q1 2016 specifically (avoiding effects of season changes).\n",
    "\n",
    "Note: Q1 is months: January, February, and March.\n"
   ]
  },
  {
   "cell_type": "code",
   "execution_count": null,
   "metadata": {},
   "outputs": [],
   "source": []
  },
  {
   "cell_type": "markdown",
   "metadata": {},
   "source": [
    "### 6.2 Decide on a metric for performance that combines Q1 2016 sales as well as growth in sales from Q1 2015.\n",
    "\n",
    "Again, the owner wants to know that his store will be in a good position to sell a large amount of liquor now, but also have his store be more likely to grow and sell even more going forward. \n",
    "\n",
    "In particular, he is worried about opening a store in an area that is showing a decline in liquor sales between Q1 2015 and Q1 2016."
   ]
  },
  {
   "cell_type": "code",
   "execution_count": null,
   "metadata": {},
   "outputs": [],
   "source": []
  },
  {
   "cell_type": "markdown",
   "metadata": {},
   "source": [
    "### 6.3 Recommend a location based on your metric.\n",
    "\n",
    "The owner asks you to make a recommendation for a new store location. Explain why you recommended this area."
   ]
  },
  {
   "cell_type": "code",
   "execution_count": null,
   "metadata": {
    "collapsed": true
   },
   "outputs": [],
   "source": []
  },
  {
   "cell_type": "markdown",
   "metadata": {},
   "source": [
    "### 6.4 Recommend a location based also on a restricted inventory type.\n",
    "\n",
    "Your employer has now decided he wants his store to focus on one type of liquor only. He askes you:\n",
    "\n",
    "1. What would be the best type of liquor to sell to maximize profit?\n",
    "2. Should the recommended location change if he is only selling one type of liquor?"
   ]
  },
  {
   "cell_type": "code",
   "execution_count": null,
   "metadata": {},
   "outputs": [],
   "source": []
  }
 ],
 "metadata": {
  "kernelspec": {
   "display_name": "Python [conda env:gds-scipy16]",
   "language": "python",
   "name": "conda-env-gds-scipy16-py"
  },
  "language_info": {
   "codemirror_mode": {
    "name": "ipython",
    "version": 3
   },
   "file_extension": ".py",
   "mimetype": "text/x-python",
   "name": "python",
   "nbconvert_exporter": "python",
   "pygments_lexer": "ipython3",
   "version": "3.6.3"
  }
 },
 "nbformat": 4,
 "nbformat_minor": 1
}
