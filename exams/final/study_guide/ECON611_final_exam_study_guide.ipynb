{
 "cells": [
  {
   "cell_type": "markdown",
   "metadata": {},
   "source": [
    "<img src=\"https://images.efollett.com/htmlroot/images/templates/storeLogos/CA/864.gif\" style=\"float: right;\"> \n",
    "\n",
    "\n",
    "\n",
    "\n",
    "# ECON611\n",
    "### Final Exam -  Study Guide \n",
    "- The purpose of this study guide is to give you an idea of the topics and type of questions you will see in the final exam."
   ]
  },
  {
   "cell_type": "markdown",
   "metadata": {},
   "source": [
    "### 1. Git \n",
    "---\n",
    "- What are the steps you will take to ignore files in git?"
   ]
  },
  {
   "cell_type": "markdown",
   "metadata": {},
   "source": [
    "ANS:"
   ]
  },
  {
   "cell_type": "markdown",
   "metadata": {},
   "source": [
    "### 2. Command line\n",
    "---"
   ]
  },
  {
   "cell_type": "markdown",
   "metadata": {},
   "source": [
    "In the following sequence what is the output of the last ``ls`` command? \n",
    "```\n",
    "pwd \n",
    "    GIVES YOU THIS OUTPUT: /Users/mario/data\n",
    "ls\n",
    "    GIVES YOU THIS OUTPUT: regressions.py\n",
    "mkdir combine\n",
    "mv regressions.py combine\n",
    "mv combine/regressions.py        ../regressions\\_complete.py\n",
    "ls \n",
    "```\n",
    "ANS:"
   ]
  },
  {
   "cell_type": "markdown",
   "metadata": {},
   "source": [
    "### 3.1 Command line\n",
    "---"
   ]
  },
  {
   "cell_type": "markdown",
   "metadata": {},
   "source": [
    "In the example below, what does ``cp`` do when given several filenames and a directory name?\n",
    "```\n",
    "$ mkdir just_in_case\n",
    "$ cp study_guide_1.txt my_studies.txt just_in_case/\n",
    "```\n",
    "ANS:\n"
   ]
  },
  {
   "cell_type": "markdown",
   "metadata": {},
   "source": [
    "### 3.2 Command line\n",
    "---"
   ]
  },
  {
   "cell_type": "markdown",
   "metadata": {},
   "source": [
    "In the example below, what does ``cp`` do when given three or more file names?\n",
    "\n",
    "```\n",
    "$ cp study_guide_1.txt my_studies.txt python_ideas.txt\n",
    "```\n",
    "\n",
    "ANS:"
   ]
  },
  {
   "cell_type": "markdown",
   "metadata": {},
   "source": [
    "### 4. Functions with strings\n",
    "---\n",
    "Def a function that given a sentence it returns the same sentece in reverse words and caps the first letter of each word\n",
    "```\n",
    "reverseWords(\"The most brilliant people I have met are those who like ice cream\")\n",
    "\n",
    "should return => Cream Ice Like Who Those Are Met Have I People Brilliant Most The\n",
    "```"
   ]
  },
  {
   "cell_type": "code",
   "execution_count": 1,
   "metadata": {
    "collapsed": true
   },
   "outputs": [],
   "source": [
    "ANS:"
   ]
  },
  {
   "cell_type": "markdown",
   "metadata": {},
   "source": [
    "### 5. Functions + Math\n",
    "---\n",
    "Def a function that calculates the volume of a sphere with a radius ``r`` where the equation is $${4\\over 3}\\pi{r}^{3} $$ you should import the pi function from math as \n",
    "```\n",
    "import math\n",
    "```\n",
    "In the exam I will give you the hint about what function you need to import "
   ]
  },
  {
   "cell_type": "code",
   "execution_count": 3,
   "metadata": {
    "collapsed": true
   },
   "outputs": [],
   "source": [
    "ANS:"
   ]
  },
  {
   "cell_type": "markdown",
   "metadata": {},
   "source": [
    "### 6. Functions + strings + list comp\n",
    "---\n",
    "\n",
    "Write a function that:\n",
    "\n",
    "1. Accepts a list of movies and a category name.\n",
    "2. Returns the movie names within that category (case-insensitive!)\n",
    "3. If the category is not in the data, print a message that it does not exist and return None.\n",
    "\n",
    "Here is an example for your input\n",
    "\n",
    "```\n",
    "movies = [\n",
    "{\n",
    "\"name\": \"Usual Suspects\", \n",
    "\"imdb\": 7.0,\n",
    "\"category\": \"Thriller\"\n",
    "},\n",
    "{\n",
    "\"name\": \"Hitman\",\n",
    "\"imdb\": 6.3,\n",
    "\"category\": \"Action\"\n",
    "},\n",
    "{\n",
    "\"name\": \"Dark Knight\",\n",
    "\"imdb\": 9.0,\n",
    "\"category\": \"Adventure\"\n",
    "},\n",
    "{\n",
    "\"name\": \"The Help\",\n",
    "\"imdb\": 8.0,\n",
    "\"category\": \"Drama\"\n",
    "}]\n",
    "```"
   ]
  },
  {
   "cell_type": "code",
   "execution_count": 5,
   "metadata": {
    "collapsed": true
   },
   "outputs": [],
   "source": [
    "ANS:"
   ]
  },
  {
   "cell_type": "markdown",
   "metadata": {},
   "source": [
    "### 6. Classes \n",
    "---\n",
    "\n",
    "Def a class that calculates the volume of a sphere with a radius ``r`` where the equation is $${4\\over 3}\\pi{r}^{3} $$ you should import the pi function from math as \n",
    "```\n",
    "import math\n",
    "```\n",
    "In the exam I will give you the hint about what function you need to import "
   ]
  },
  {
   "cell_type": "code",
   "execution_count": 6,
   "metadata": {
    "collapsed": true
   },
   "outputs": [],
   "source": [
    "ANS:"
   ]
  },
  {
   "cell_type": "markdown",
   "metadata": {},
   "source": [
    "### 7. Classes \n",
    "---\n",
    "\n",
    "1. Define a class called Dinner. \n",
    "2. Its ```__init__()``` method should have two arguments:self and menu (where menu is a string). \n",
    "3. Add a method called dinner_menu_price.\n",
    "    - It will involve a if statement:\n",
    "        - if \"dinner menu 1\" print \"Your dinner choice:\", menu, \"will be 120.00\", \n",
    "        - if \"menu 2\" print \"Your dinner choice:\", menu, \"will be 144.60\", \n",
    "        - else print \"Error in dinner menu\"."
   ]
  },
  {
   "cell_type": "code",
   "execution_count": 8,
   "metadata": {
    "collapsed": true
   },
   "outputs": [],
   "source": [
    "ANS:"
   ]
  },
  {
   "cell_type": "markdown",
   "metadata": {},
   "source": [
    "### 8. Classes \n",
    "---\n",
    "Define a class to calculates the wage of an employee by\n",
    "1. Define a class called Employee. \n",
    "2. Its ```__init__()``` method should have 3 arguments: self, employee name, wage .  \n",
    "3. Add a method calculate_wage that takes self, hours, wage.\n",
    "    - it will return the number of hours * wage\n",
    "4. Create a new class, PartTimeEmployee, that inherits from Employee\n",
    "5. Override the PartTimeEmployee method it should take self, hours, wage and returns hours * wage/2. "
   ]
  },
  {
   "cell_type": "code",
   "execution_count": 10,
   "metadata": {
    "collapsed": true
   },
   "outputs": [],
   "source": [
    "ANS:"
   ]
  },
  {
   "cell_type": "markdown",
   "metadata": {},
   "source": [
    "### 9. Numpy + Matrices \n",
    "---\n",
    "1. Translate the following equation into a numpy operations\n",
    "$${2I} + {3A} + {AB}$$\n",
    "2. Define two 2X2 matrices.\n",
    "3. Define an identity matrix (I = np.eye(2))\n",
    "4. Use np.matmul(A, B) for the matrix multiplication\n",
    "5. You don't need to do the math\n",
    "\n"
   ]
  },
  {
   "cell_type": "code",
   "execution_count": 12,
   "metadata": {
    "collapsed": true
   },
   "outputs": [],
   "source": [
    "ANS:"
   ]
  },
  {
   "cell_type": "code",
   "execution_count": 13,
   "metadata": {
    "collapsed": true
   },
   "outputs": [],
   "source": [
    "ANS:"
   ]
  },
  {
   "cell_type": "code",
   "execution_count": 14,
   "metadata": {
    "collapsed": true
   },
   "outputs": [],
   "source": [
    "ANS:"
   ]
  },
  {
   "cell_type": "code",
   "execution_count": 15,
   "metadata": {
    "collapsed": true
   },
   "outputs": [],
   "source": [
    "ANS:"
   ]
  },
  {
   "cell_type": "markdown",
   "metadata": {},
   "source": [
    "### SQL\n",
    "---\n",
    "Given this Entity Relation Diagram (Sample Database)\n",
    "\n",
    "<p align=\"center\">\n",
    "  <img src=\"../../img/sql_schema.png\" width=\"1000\" height=\"1500\">\n",
    "</p>\n",
    "\n",
    "\n",
    "[Image from W3Schools](https://www.chegg.com/homework-help/questions-and-answers/link-w3schools-relationship-diagram-needed-questions-1-implementing-relational-database-co-q38045137)\n"
   ]
  },
  {
   "cell_type": "markdown",
   "metadata": {},
   "source": [
    "### 10 Write a SQL query that:\n",
    "---\n",
    "1. Retrieves the top 3 orders by number of items ordered"
   ]
  },
  {
   "cell_type": "markdown",
   "metadata": {},
   "source": [
    "ANS:"
   ]
  },
  {
   "cell_type": "markdown",
   "metadata": {},
   "source": [
    "### 11 Write a SQL query that:\n",
    "---\n",
    "1. Retrieves the oldest 5 orders"
   ]
  },
  {
   "cell_type": "markdown",
   "metadata": {},
   "source": [
    "ANS:"
   ]
  },
  {
   "cell_type": "markdown",
   "metadata": {},
   "source": [
    "### 12 Write a SQL query that:\n",
    "---\n",
    "1. Retrieves the 5 most recent orders."
   ]
  },
  {
   "cell_type": "markdown",
   "metadata": {},
   "source": [
    "ANS:"
   ]
  },
  {
   "cell_type": "markdown",
   "metadata": {},
   "source": [
    "### 13. Pandas\n",
    "---\n",
    "1. Define a function that takes in a dataset, a list of columns, and one column of interest as arguments\n",
    "2. Returns the count, mean, std, min, 25%, 50%, 75%, max values"
   ]
  },
  {
   "cell_type": "markdown",
   "metadata": {
    "collapsed": true
   },
   "source": [
    "ANS:"
   ]
  },
  {
   "cell_type": "markdown",
   "metadata": {},
   "source": [
    "### 14. Pandas\n",
    "---\n",
    "Explain the differences of the following methods of indexing in python\n",
    "1. loc\n",
    "2. .iloc\n",
    "3. .ix"
   ]
  },
  {
   "cell_type": "markdown",
   "metadata": {
    "collapsed": true
   },
   "source": [
    "ANS:"
   ]
  }
 ],
 "metadata": {
  "kernelspec": {
   "display_name": "Python [conda env:gds-scipy16]",
   "language": "python",
   "name": "conda-env-gds-scipy16-py"
  },
  "language_info": {
   "codemirror_mode": {
    "name": "ipython",
    "version": 3
   },
   "file_extension": ".py",
   "mimetype": "text/x-python",
   "name": "python",
   "nbconvert_exporter": "python",
   "pygments_lexer": "ipython3",
   "version": "3.6.3"
  }
 },
 "nbformat": 4,
 "nbformat_minor": 2
}
