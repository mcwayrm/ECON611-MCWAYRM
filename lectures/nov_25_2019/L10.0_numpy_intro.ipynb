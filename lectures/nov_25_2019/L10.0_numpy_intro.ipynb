{
 "cells": [
  {
   "cell_type": "markdown",
   "metadata": {
    "slideshow": {
     "slide_type": "slide"
    }
   },
   "source": [
    "<img src=\"https://images.efollett.com/htmlroot/images/templates/storeLogos/CA/864.gif\" style=\"float: right;\"> \n",
    "\n",
    "\n",
    "\n",
    "\n",
    "# ECON611\n",
    "### Lecture 10 -  Numpy - Introduction.\n",
    "- Notes adapted from: \n",
    "\n",
    "    1. [Numpy.org](https://numpy.org/)\n",
    "    2. [Numpy Tutorial for Beginners](https://www.kaggle.com/orhansertkaya/numpy-tutorial-for-beginners) "
   ]
  },
  {
   "cell_type": "markdown",
   "metadata": {
    "slideshow": {
     "slide_type": "slide"
    }
   },
   "source": [
    "## <span style=\"color:blue\">WHAT IS NUMPY</span>\n",
    "---\n",
    "- Numerical Python.\n",
    "- Scientific computing with Python.\n",
    "- Python library that provides a multidimensional array object.\n",
    "    - arrays and matrices.\n",
    "    - mathematical, logical, shape manipulation, sorting, selecting.\n",
    "    - linear algebra, simulation, statistics\n",
    "    \n",
    "    \n",
    "    \n",
    "- Differences between NumPy arrays and the standard Python sequences:\n",
    "    - NumPy arrays have a fixed size at creation, unlike Python lists (which can grow dynamically). \n",
    "    - Changing the size of an ndarray will create a new array and delete the original.\n",
    "    - The elements in a NumPy array are all required to be of the same data type, and thus will be the same size in memory. The exception: one can have arrays of (Python, including NumPy) objects, thereby allowing for arrays of different sized elements.\n",
    "    - NumPy arrays facilitate advanced mathematical and other types of operations on large numbers of data. Typically, such operations are executed more efficiently and with less code than is possible using Python’s built-in sequences.\n",
    "    - A growing plethora of scientific and mathematical Python-based packages are using NumPy arrays; though these typically support Python-sequence input, they convert such input to NumPy arrays prior to processing, and they often output NumPy arrays. ***In other words, in order to efficiently use much (perhaps even most) of today’s scientific/mathematical Python-based software, just knowing how to use Python’s built-in sequence types is insufficient - one also needs to know how to use NumPy arrays.***   "
   ]
  },
  {
   "cell_type": "markdown",
   "metadata": {
    "slideshow": {
     "slide_type": "slide"
    }
   },
   "source": [
    "## <span style=\"color:blue\">WHY IS NUMPY</span>\n",
    "---\n",
    "- Fast: Behind the scenes it uses Vectorization:\n",
    "    - Vectorization describes the absence of any explicit looping, indexing, etc., in the code - these things are taking place, of course, just “behind the scenes” in optimized, pre-compiled ```C``` code. \n",
    "    \n",
    "```\n",
    "1. Vectorized code is more concise and easier to read.\n",
    "2. Fewer lines of code generally means fewer bugs.\n",
    "3. The code more closely resembles standard mathematical notation (making it easier, typically, to correctly code mathematical constructs)\n",
    "4. Vectorization results in more “Pythonic” code. Without vectorization, our code would be littered with inefficient and difficult to read for loops.\n",
    " ```\n",
    " \n",
    "```\n",
    "Did you know that some of python’s leading package rely on NumPy as a fundamental piece of their infrastructure (examples include scikit-learn, SciPy, pandas, and tensorflow). Beyond the ability to slice and dice numeric data, mastering numpy will give you an edge when dealing and debugging with advanced usecases in these libraries.\n",
    "```"
   ]
  },
  {
   "cell_type": "code",
   "execution_count": 83,
   "metadata": {
    "collapsed": true,
    "slideshow": {
     "slide_type": "slide"
    }
   },
   "outputs": [],
   "source": [
    "'''How to import it into your workflow'''\n",
    "import numpy as np"
   ]
  },
  {
   "cell_type": "code",
   "execution_count": 129,
   "metadata": {
    "slideshow": {
     "slide_type": "slide"
    }
   },
   "outputs": [
    {
     "name": "stdout",
     "output_type": "stream",
     "text": [
      "[1 2 3]\n",
      "(3,)\n"
     ]
    }
   ],
   "source": [
    "'''\n",
    "Array\n",
    "1. Homogeneous multidimensional array\n",
    "2. It is a table with same type elements, i.e, integers or string or characters (homogeneous), usually integers. \n",
    "3. In NumPy, dimensions are called axes. \n",
    "4. The number of axes is called the rank.\n",
    "'''\n",
    "print(np.array([1,2,3])) \n",
    "print(np.array([1,2,3]).shape) ## 3 rows and 1 column"
   ]
  },
  {
   "cell_type": "markdown",
   "metadata": {
    "slideshow": {
     "slide_type": "slide"
    }
   },
   "source": [
    "## <span style=\"color:blue\">Graphically</span> \n",
    "---\n",
    "<p align=\"center\">\n",
    "  <img src=\"../../img/np_array_1.png\" width=\"600\" height=\"1000\">\n",
    "</p>"
   ]
  },
  {
   "cell_type": "code",
   "execution_count": 85,
   "metadata": {
    "slideshow": {
     "slide_type": "slide"
    }
   },
   "outputs": [
    {
     "name": "stdout",
     "output_type": "stream",
     "text": [
      "[ 1.  1.  1.]\n",
      "[ 0.  0.  0.]\n",
      "[ 0.51898884  0.66197782  0.87979172]\n"
     ]
    }
   ],
   "source": [
    "'''\n",
    "Allow Numpy to initialize the values:\n",
    "1. Ones\n",
    "2. Zeros\n",
    "3. random.random()\n",
    "'''\n",
    "print(np.ones(3))\n",
    "print(np.zeros(3))\n",
    "print(np.random.random(3))"
   ]
  },
  {
   "cell_type": "markdown",
   "metadata": {
    "slideshow": {
     "slide_type": "slide"
    }
   },
   "source": [
    "## <span style=\"color:blue\">Graphically</span> \n",
    "---\n",
    "<p align=\"center\">\n",
    "  <img src=\"../../img/np_array_2.png\" width=\"600\" height=\"1000\">\n",
    "</p>"
   ]
  },
  {
   "cell_type": "markdown",
   "metadata": {
    "slideshow": {
     "slide_type": "slide"
    }
   },
   "source": [
    "# <span style=\"color:blue\">Mathematics</span> \n",
    "---\n",
    "- Array - one dimension vector "
   ]
  },
  {
   "cell_type": "code",
   "execution_count": 130,
   "metadata": {
    "slideshow": {
     "slide_type": "slide"
    }
   },
   "outputs": [
    {
     "name": "stdout",
     "output_type": "stream",
     "text": [
      "[1 2] [ 1.  1.]\n",
      "(2,) (2,)\n"
     ]
    }
   ],
   "source": [
    "data = np.array([1,2]) \n",
    "ones =  np.ones(2)\n",
    "print(data, ones)\n",
    "print(data.shape, ones.shape)"
   ]
  },
  {
   "cell_type": "code",
   "execution_count": 87,
   "metadata": {
    "slideshow": {
     "slide_type": "slide"
    }
   },
   "outputs": [
    {
     "name": "stdout",
     "output_type": "stream",
     "text": [
      "[ 2.  3.]\n",
      "[ 0.  1.]\n",
      "[1 4]\n",
      "[ 1.  1.]\n",
      "[ 1.6  3.2]\n"
     ]
    }
   ],
   "source": [
    "'''\n",
    "    Adding them up - position wise\n",
    "'''\n",
    "print(data + ones)\n",
    "\n",
    "\n",
    "\n",
    "''' Substraction'''\n",
    "print(data - ones)\n",
    "\n",
    "\n",
    "'''Multiplication'''\n",
    "print(data*data)\n",
    "\n",
    "'''Division'''\n",
    "print(data/data)\n",
    "\n",
    "'''Vector and Scalar Multiplication'''\n",
    "print(data*1.6)"
   ]
  },
  {
   "cell_type": "markdown",
   "metadata": {
    "slideshow": {
     "slide_type": "slide"
    }
   },
   "source": [
    "## <span style=\"color:blue\">Graphically</span> \n",
    "---\n",
    "<p align=\"center\">\n",
    "  <img src=\"../../img/np_array_3.png\" width=\"400\" height=\"1000\">\n",
    "</p>\n",
    "<p align=\"center\">\n",
    "  <img src=\"../../img/np_array_4.png\" width=\"700\" height=\"1000\">\n",
    "</p>\n",
    "<p align=\"center\">\n",
    "  <img src=\"../../img/np_array_5.png\" width=\"700\" height=\"1000\">\n",
    "</p>"
   ]
  },
  {
   "cell_type": "code",
   "execution_count": 88,
   "metadata": {
    "slideshow": {
     "slide_type": "slide"
    }
   },
   "outputs": [
    {
     "name": "stdout",
     "output_type": "stream",
     "text": [
      "[1 2 3]\n",
      "1\n",
      "2\n",
      "[1 2]\n",
      "[2 3]\n"
     ]
    }
   ],
   "source": [
    "'''INDEXING: Accesing elements of an array'''\n",
    "data = np.array([1,2,3])\n",
    "print(data)\n",
    "\n",
    "print(data[0])\n",
    "print(data[1])\n",
    "print(data[0:2])\n",
    "print(data[1:])"
   ]
  },
  {
   "cell_type": "code",
   "execution_count": 89,
   "metadata": {
    "slideshow": {
     "slide_type": "slide"
    }
   },
   "outputs": [
    {
     "name": "stdout",
     "output_type": "stream",
     "text": [
      "[1 2 3]\n",
      "3\n",
      "1\n",
      "6\n",
      "2.0\n",
      "6\n",
      "0.816496580928\n",
      "0\n",
      "2\n"
     ]
    }
   ],
   "source": [
    "'''AGGREGATION'''\n",
    "print(data)\n",
    "print(data.max())\n",
    "print(data.min())\n",
    "print(data.sum())\n",
    "print(data.mean())\n",
    "print(data.prod())\n",
    "print(data.std())\n",
    "print(data.argmin()) #index of min value\n",
    "print(data.argmax()) #index of max value"
   ]
  },
  {
   "cell_type": "markdown",
   "metadata": {
    "slideshow": {
     "slide_type": "slide"
    }
   },
   "source": [
    "## <span style=\"color:blue\">Graphically</span> \n",
    "---\n",
    "<p align=\"center\">\n",
    "  <img src=\"../../img/np_array_6.png\" width=\"800\" height=\"1000\">\n",
    "</p>"
   ]
  },
  {
   "cell_type": "markdown",
   "metadata": {
    "slideshow": {
     "slide_type": "slide"
    }
   },
   "source": [
    "## <span style=\"color:blue\">More on Aggregation</span> \n",
    "---\n",
    "<p align=\"center\">\n",
    "  <img src=\"../../img/np_array_7.png\" width=\"500\" height=\"1000\">\n",
    "</p>"
   ]
  },
  {
   "cell_type": "markdown",
   "metadata": {
    "collapsed": true,
    "slideshow": {
     "slide_type": "slide"
    }
   },
   "source": [
    "## <span style=\"color:blue\">Adding Dimensions - Matrix</span> \n",
    "---\n",
    "- Use a lists of lists"
   ]
  },
  {
   "cell_type": "code",
   "execution_count": 90,
   "metadata": {
    "slideshow": {
     "slide_type": "slide"
    }
   },
   "outputs": [
    {
     "name": "stdout",
     "output_type": "stream",
     "text": [
      "[[1 2]\n",
      " [3 4]]\n",
      "Shape:  (2, 2)\n",
      "\n",
      "\n",
      "[[ 1.  1.]\n",
      " [ 1.  1.]\n",
      " [ 1.  1.]]\n",
      "Shape:  (3, 2)\n",
      "\n",
      "\n",
      "[[0 0]\n",
      " [0 0]\n",
      " [0 0]]\n",
      "Shape:  (3, 2)\n",
      "\n",
      "\n",
      "[[ 0.98939944  0.46201437]\n",
      " [ 0.00461663  0.80096434]\n",
      " [ 0.6253768   0.8495485 ]]\n",
      "Shape:  (3, 2)\n",
      "\n",
      "\n"
     ]
    }
   ],
   "source": [
    "print(np.array([[1,2], [3,4]]))\n",
    "print(\"Shape: \", np.array([[1,2], [3,4]]).shape)\n",
    "print(\"\\n\")\n",
    "\n",
    "print(np.ones((3,2)))\n",
    "print(\"Shape: \", (np.ones((3,2)).shape))\n",
    "print(\"\\n\")\n",
    "\n",
    "print(np.zeros((3,2), dtype=int))\n",
    "print(\"Shape: \", (np.zeros((3,2)).shape))\n",
    "print(\"\\n\")\n",
    "\n",
    "print(np.random.random((3,2)))\n",
    "print(\"Shape: \", (np.random.random((3,2)).shape))\n",
    "print(\"\\n\")"
   ]
  },
  {
   "cell_type": "markdown",
   "metadata": {
    "slideshow": {
     "slide_type": "slide"
    }
   },
   "source": [
    "## <span style=\"color:blue\">Graphically</span> \n",
    "---\n",
    "<p align=\"center\">\n",
    "  <img src=\"../../img/np_array_8.png\" width=\"400\" height=\"1000\">\n",
    "</p>\n",
    "<p align=\"center\">\n",
    "  <img src=\"../../img/np_array_9.png\" width=\"700\" height=\"1000\">\n",
    "</p>\n"
   ]
  },
  {
   "cell_type": "markdown",
   "metadata": {
    "collapsed": true,
    "slideshow": {
     "slide_type": "slide"
    }
   },
   "source": [
    "## <span style=\"color:blue\">Matrix - Arithmetic</span> \n",
    "---\n",
    "- As long as the size of the matrix are of the same size, one can implement mathematical operations.\n",
    "\n",
    "```python\n",
    "data = np.array([[1,2], [3,4]])\n",
    "ones = np.ones((2,2))\n",
    "\n",
    "print(\"sum\")\n",
    "print(data+ones)\n",
    "\n",
    "print(\"subst\")\n",
    "print(data-ones)\n",
    "\n",
    "print(\"mult\")\n",
    "print(data*ones)\n",
    "\n",
    "print(\"div\")\n",
    "print(data/ones)\n",
    "\n",
    "```"
   ]
  },
  {
   "cell_type": "code",
   "execution_count": 91,
   "metadata": {
    "slideshow": {
     "slide_type": "slide"
    }
   },
   "outputs": [
    {
     "name": "stdout",
     "output_type": "stream",
     "text": [
      "[[1 2]\n",
      " [3 4]]\n",
      "(2, 2)\n",
      "\n",
      "\n",
      "[[ 1.  1.]\n",
      " [ 1.  1.]]\n",
      "(2, 2)\n",
      "\n",
      "\n",
      "sum\n",
      "[[ 2.  3.]\n",
      " [ 4.  5.]]\n",
      "\n",
      "\n",
      "subst\n",
      "[[ 0.  1.]\n",
      " [ 2.  3.]]\n",
      "\n",
      "\n",
      "mult\n",
      "[[ 1.  2.]\n",
      " [ 3.  4.]]\n",
      "\n",
      "\n",
      "div\n",
      "[[ 1.  2.]\n",
      " [ 3.  4.]]\n",
      "\n",
      "\n"
     ]
    }
   ],
   "source": [
    "data = np.array([[1,2], [3,4]])\n",
    "print(data)\n",
    "print(data.shape)\n",
    "print(\"\\n\")\n",
    "\n",
    "ones = np.ones((2,2))\n",
    "print(ones)\n",
    "print(ones.shape)\n",
    "print(\"\\n\")\n",
    "\n",
    "print(\"sum\")\n",
    "print(data+ones)\n",
    "print(\"\\n\")\n",
    "\n",
    "print(\"subst\")\n",
    "print(data-ones)\n",
    "print(\"\\n\")\n",
    "\n",
    "print(\"mult\")\n",
    "print(data*ones)\n",
    "print(\"\\n\")\n",
    "\n",
    "print(\"div\")\n",
    "print(data/ones)\n",
    "print(\"\\n\")"
   ]
  },
  {
   "cell_type": "markdown",
   "metadata": {
    "slideshow": {
     "slide_type": "slide"
    }
   },
   "source": [
    "## <span style=\"color:blue\">Matrix - Arithmetic</span> \n",
    "---\n",
    "- If dealing with matrices of different size, as long as the different dimension is one \n",
    "    (e.g. the matrix has only one column or one row), in which case NumPy uses \n",
    "    its broadcast rules for that operation\n",
    "    \n",
    "```python\n",
    "data = np.array([[1,2], [3,4], [5,6]])\n",
    "\n",
    "ones_row = np.ones((1,2))\n",
    "\n",
    "data +ones_row\n",
    "\n",
    "```"
   ]
  },
  {
   "cell_type": "code",
   "execution_count": 92,
   "metadata": {
    "slideshow": {
     "slide_type": "slide"
    }
   },
   "outputs": [
    {
     "name": "stdout",
     "output_type": "stream",
     "text": [
      "[[1 2]\n",
      " [3 4]\n",
      " [5 6]]\n",
      "(3, 2)\n",
      "\n",
      "\n",
      "[[ 1.  1.]]\n",
      "(1, 2)\n",
      "\n",
      "\n",
      "[[ 2.  3.]\n",
      " [ 4.  5.]\n",
      " [ 6.  7.]]\n",
      "(3, 2)\n"
     ]
    }
   ],
   "source": [
    "data = np.array([[1,2], [3,4], [5,6]])\n",
    "print(data)\n",
    "print(data.shape)\n",
    "print(\"\\n\")\n",
    "\n",
    "ones_row = np.ones((1,2))\n",
    "print(ones_row)\n",
    "print(ones_row.shape)\n",
    "print(\"\\n\")\n",
    "\n",
    "print(data +ones_row)\n",
    "print((data +ones_row).shape)"
   ]
  },
  {
   "cell_type": "markdown",
   "metadata": {
    "collapsed": true,
    "slideshow": {
     "slide_type": "slide"
    }
   },
   "source": [
    "## <span style=\"color:blue\">Matrix - Dot Product</span> \n",
    "---\n",
    "- Sum of the products of the corresponding entries of the two sequences of numbers.\n"
   ]
  },
  {
   "cell_type": "code",
   "execution_count": 93,
   "metadata": {
    "slideshow": {
     "slide_type": "slide"
    }
   },
   "outputs": [
    {
     "name": "stdout",
     "output_type": "stream",
     "text": [
      "(3,)\n",
      "\n",
      "\n",
      "(3, 2)\n",
      "\n",
      "\n",
      "[ 30201 302010]\n",
      "(2,)\n"
     ]
    }
   ],
   "source": [
    "data = np.array([1, 2, 3])\n",
    "print(data.shape)\n",
    "print(\"\\n\")\n",
    "\n",
    "powers_ten =np.array([ [1,10], [100, 1000], [10000, 100000] ])\n",
    "print(powers_ten.shape)\n",
    "print(\"\\n\")\n",
    "\n",
    "print(np.dot(data, powers_ten))\n",
    "print(np.dot(data, powers_ten).shape)"
   ]
  },
  {
   "cell_type": "markdown",
   "metadata": {
    "collapsed": true,
    "slideshow": {
     "slide_type": "slide"
    }
   },
   "source": [
    "## <span style=\"color:blue\">Graphically</span> \n",
    "---\n",
    "<p align=\"center\">\n",
    "  <img src=\"../../img/np_array_10.png\" width=\"500\" height=\"1000\">\n",
    "</p>\n",
    "<p align=\"center\">\n",
    "  <img src=\"../../img/np_array_11.png\" width=\"700\" height=\"1000\">\n",
    "</p>"
   ]
  },
  {
   "cell_type": "markdown",
   "metadata": {
    "collapsed": true,
    "slideshow": {
     "slide_type": "slide"
    }
   },
   "source": [
    "## <span style=\"color:blue\">Matrix - Indexing</span> \n",
    "---\n"
   ]
  },
  {
   "cell_type": "code",
   "execution_count": 110,
   "metadata": {
    "slideshow": {
     "slide_type": "slide"
    }
   },
   "outputs": [
    {
     "name": "stdout",
     "output_type": "stream",
     "text": [
      "[[1 2]\n",
      " [3 4]\n",
      " [5 6]]\n",
      "\n",
      "\n",
      "2\n",
      "\n",
      "\n",
      "[[3 4]\n",
      " [5 6]]\n",
      "\n",
      "\n",
      "[1 3]\n"
     ]
    }
   ],
   "source": [
    "data = np.array([[1,2], [3,4], [5,6]])\n",
    "print(data)\n",
    "print(\"\\n\")\n",
    "\n",
    "print(data[0,1]) #top right value\n",
    "print(\"\\n\")\n",
    "\n",
    "print(data[1:]) ## one can add 3\n",
    "print(\"\\n\")\n",
    "\n",
    "print(data[0:2, 0])\n"
   ]
  },
  {
   "cell_type": "markdown",
   "metadata": {
    "slideshow": {
     "slide_type": "slide"
    }
   },
   "source": [
    "## <span style=\"color:blue\">Matrix - Aggregation</span> \n",
    "---\n"
   ]
  },
  {
   "cell_type": "code",
   "execution_count": 113,
   "metadata": {
    "slideshow": {
     "slide_type": "slide"
    }
   },
   "outputs": [
    {
     "name": "stdout",
     "output_type": "stream",
     "text": [
      "[[1 2]\n",
      " [3 4]\n",
      " [5 6]]\n",
      "6\n",
      "1\n",
      "21\n",
      "3.5\n",
      "720\n",
      "1.70782512766\n",
      "0\n",
      "5\n"
     ]
    }
   ],
   "source": [
    "'''AGGREGATION'''\n",
    "print(data)\n",
    "print(data.max())\n",
    "print(data.min())\n",
    "print(data.sum())\n",
    "print(data.mean())\n",
    "print(data.prod())\n",
    "print(data.std())\n",
    "print(data.argmin()) #index of min value\n",
    "print(data.argmax()) #index of max value"
   ]
  },
  {
   "cell_type": "markdown",
   "metadata": {
    "slideshow": {
     "slide_type": "slide"
    }
   },
   "source": [
    "## <span style=\"color:blue\">Matrix - Aggregation</span> \n",
    "---\n",
    "- By colums => axis= 0\n",
    "- By rows => axiis = 1"
   ]
  },
  {
   "cell_type": "code",
   "execution_count": 114,
   "metadata": {
    "slideshow": {
     "slide_type": "slide"
    }
   },
   "outputs": [
    {
     "name": "stdout",
     "output_type": "stream",
     "text": [
      "[[1 2]\n",
      " [3 4]\n",
      " [5 6]]\n",
      "\n",
      "\n",
      "[5 6]\n",
      "\n",
      "\n",
      "[1 2]\n",
      "\n",
      "\n",
      "[ 9 12]\n",
      "\n",
      "\n",
      "[ 3.  4.]\n",
      "\n",
      "\n",
      "[15 48]\n",
      "\n",
      "\n",
      "[ 1.63299316  1.63299316]\n",
      "\n",
      "\n",
      "[0 0]\n",
      "\n",
      "\n",
      "[2 2]\n",
      "\n",
      "\n"
     ]
    }
   ],
   "source": [
    "print(data)\n",
    "print(\"\\n\")\n",
    "print(data.max(axis=0))\n",
    "print(\"\\n\")\n",
    "print(data.min(axis=0))\n",
    "print(\"\\n\")\n",
    "print(data.sum(axis=0))\n",
    "print(\"\\n\")\n",
    "print(data.mean(axis=0))\n",
    "print(\"\\n\")\n",
    "print(data.prod(axis=0))\n",
    "print(\"\\n\")\n",
    "print(data.std(axis=0))\n",
    "print(\"\\n\")\n",
    "print(data.argmin(axis=0)) #index of min value\n",
    "print(\"\\n\")\n",
    "print(data.argmax(axis=0)) #index of max value\n",
    "print(\"\\n\")"
   ]
  },
  {
   "cell_type": "code",
   "execution_count": 115,
   "metadata": {
    "slideshow": {
     "slide_type": "slide"
    }
   },
   "outputs": [
    {
     "name": "stdout",
     "output_type": "stream",
     "text": [
      "[[1 2]\n",
      " [3 4]\n",
      " [5 6]]\n",
      "\n",
      "\n",
      "[2 4 6]\n",
      "\n",
      "\n",
      "[1 3 5]\n",
      "\n",
      "\n",
      "[ 3  7 11]\n",
      "\n",
      "\n",
      "[ 1.5  3.5  5.5]\n",
      "\n",
      "\n",
      "[ 2 12 30]\n",
      "\n",
      "\n",
      "[ 0.5  0.5  0.5]\n",
      "\n",
      "\n",
      "[0 0 0]\n",
      "\n",
      "\n",
      "[1 1 1]\n",
      "\n",
      "\n"
     ]
    }
   ],
   "source": [
    "print(data)\n",
    "print(\"\\n\")\n",
    "print(data.max(axis=1))\n",
    "print(\"\\n\")\n",
    "print(data.min(axis=1))\n",
    "print(\"\\n\")\n",
    "print(data.sum(axis=1))\n",
    "print(\"\\n\")\n",
    "print(data.mean(axis=1))\n",
    "print(\"\\n\")\n",
    "print(data.prod(axis=1))\n",
    "print(\"\\n\")\n",
    "print(data.std(axis=1))\n",
    "print(\"\\n\")\n",
    "print(data.argmin(axis=1)) #index of min value\n",
    "print(\"\\n\")\n",
    "print(data.argmax(axis=1)) #index of max value\n",
    "print(\"\\n\")"
   ]
  },
  {
   "cell_type": "markdown",
   "metadata": {
    "slideshow": {
     "slide_type": "slide"
    }
   },
   "source": [
    "## <span style=\"color:blue\">Matrix - Transposing & Reshaping</span> \n",
    "---\n",
    "- This is helpful when we need to take the ```dot``` product of two matrices and need to align the dimension they share. "
   ]
  },
  {
   "cell_type": "code",
   "execution_count": 120,
   "metadata": {
    "slideshow": {
     "slide_type": "slide"
    }
   },
   "outputs": [
    {
     "name": "stdout",
     "output_type": "stream",
     "text": [
      "[[1 2]\n",
      " [3 4]\n",
      " [5 6]]\n",
      "(3, 2)\n",
      "\n",
      "\n",
      "[[1 3 5]\n",
      " [2 4 6]]\n",
      "(2, 3)\n"
     ]
    }
   ],
   "source": [
    "print(data)\n",
    "print(data.shape)\n",
    "print(\"\\n\")\n",
    "print(data.T)\n",
    "print(data.T.shape)"
   ]
  },
  {
   "cell_type": "code",
   "execution_count": 126,
   "metadata": {
    "slideshow": {
     "slide_type": "slide"
    }
   },
   "outputs": [
    {
     "name": "stdout",
     "output_type": "stream",
     "text": [
      "[[1]\n",
      " [2]\n",
      " [3]\n",
      " [4]\n",
      " [5]\n",
      " [6]]\n",
      "(6, 1)\n",
      "\n",
      "\n",
      "[[1 2 3]\n",
      " [4 5 6]]\n",
      "\n",
      "\n",
      "[[1 2]\n",
      " [3 4]\n",
      " [5 6]]\n"
     ]
    }
   ],
   "source": [
    "data = np.array([ [1], [2], [3], [4], [5], [6] ])\n",
    "print(data)\n",
    "print(data.shape)\n",
    "print(\"\\n\")\n",
    "print(data.reshape(2,3))\n",
    "print(\"\\n\")\n",
    "print(data.reshape(3,2))"
   ]
  },
  {
   "cell_type": "markdown",
   "metadata": {
    "slideshow": {
     "slide_type": "slide"
    }
   },
   "source": [
    "## <span style=\"color:blue\">Graphically</span> \n",
    "---\n",
    "<p align=\"center\">\n",
    "  <img src=\"../../img/np_array_12.png\" width=\"600\" height=\"1000\">\n",
    "</p>"
   ]
  },
  {
   "cell_type": "markdown",
   "metadata": {
    "slideshow": {
     "slide_type": "slide"
    }
   },
   "source": [
    "<p align=\"center\">\n",
    "  <img src=\"../../img/stop_pict.jpg\" width=\"400\" height=\"800\">\n",
    "</p>"
   ]
  },
  {
   "cell_type": "code",
   "execution_count": null,
   "metadata": {
    "collapsed": true
   },
   "outputs": [],
   "source": []
  }
 ],
 "metadata": {
  "anaconda-cloud": {},
  "celltoolbar": "Slideshow",
  "kernelspec": {
   "display_name": "Python [conda env:gds-scipy16]",
   "language": "python",
   "name": "conda-env-gds-scipy16-py"
  },
  "language_info": {
   "codemirror_mode": {
    "name": "ipython",
    "version": 3
   },
   "file_extension": ".py",
   "mimetype": "text/x-python",
   "name": "python",
   "nbconvert_exporter": "python",
   "pygments_lexer": "ipython3",
   "version": "3.6.3"
  }
 },
 "nbformat": 4,
 "nbformat_minor": 4
}
