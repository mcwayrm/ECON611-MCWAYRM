{
 "cells": [
  {
   "cell_type": "markdown",
   "metadata": {
    "slideshow": {
     "slide_type": "slide"
    }
   },
   "source": [
    "<img src=\"https://images.efollett.com/htmlroot/images/templates/storeLogos/CA/864.gif\" style=\"float: right;\"> \n",
    "\n",
    "\n",
    "\n",
    "\n",
    "# ECON611\n",
    "### Lecture 3 -  Python - Introduction\n"
   ]
  },
  {
   "cell_type": "markdown",
   "metadata": {
    "slideshow": {
     "slide_type": "slide"
    }
   },
   "source": [
    "## Python\n",
    "---\n",
    "- **Created in ~1980 by [Guido van Rossun.](https://en.wikipedia.org/wiki/Guido_van_Rossum)**\n",
    "- **Python is a clear and powerful object-oriented programming language, comparable to Perl, Ruby, Scheme, or Java.**\n",
    "\n",
    "\n",
    "\n",
    "\n",
    "A few Python's notable features:\n",
    "\n",
    "1. Uses an elegant syntax, making the programs you write easier to read.\n",
    "2. Is an easy-to-use language that makes it simple to get your program working. This makes Python ideal for prototype development and other ad-hoc programming tasks, without compromising maintainability.\n",
    "3. Comes with a large standard library that supports many common programming tasks such as connecting to web servers, searching text with regular expressions, reading and modifying files.\n",
    "4. Python's interactive mode makes it easy to test short snippets of code. \n",
    "5. Is easily extended by adding new modules implemented in a compiled language such as C or C++.\n",
    "6. Can also be embedded into an application to provide a programmable interface.\n",
    "7. Runs anywhere, including Mac OS X, Windows, Linux, and Unix, with unofficial builds also available for Android and iOS.\n",
    "~~~\n",
    "Is free software in two senses:It doesn't cost anything to download or use Python, or to include it in your application. Python can also be freely modified and re-distributed, because while the language is copyrighted it's available under an open source license.\n",
    "~~~\n",
    "\n",
    "A few programming-language features of Python are:\n",
    "\n",
    "1. A variety of basic data types are available: numbers (floating point, complex, and unlimited-length long integers), strings (both ASCII and Unicode), lists, and dictionaries.\n",
    "2. Python supports object-oriented programming with classes and multiple inheritance.\n",
    "3. Code can be grouped into modules and packages.\n",
    "4. The language supports raising and catching exceptions, resulting in cleaner error handling.\n",
    "5. Data types are strongly and dynamically typed. Mixing incompatible types (e.g. attempting to add a string and a number) causes an exception to be raised, so errors are caught sooner.\n",
    "6. Python contains advanced programming features such as generators and __list comprehensions.__\n",
    "7. Python's automatic memory management frees you from having to manually allocate and free memory in your code.\n",
    "\n",
    "\n",
    "\n",
    "\n",
    "Source: https://www.python.org/"
   ]
  },
  {
   "cell_type": "markdown",
   "metadata": {
    "slideshow": {
     "slide_type": "slide"
    }
   },
   "source": [
    "## Python\n",
    "---\n",
    "\n",
    "- __Value:__ the _most_ basic things a program needs to work with. Number, letters\n",
    "- Values belong to different types:\n",
    "~~~\n",
    "2 : integer\n",
    "16.0 : float-point number (float)\n",
    "\"Hello World\" : string\n",
    "~~~\n",
    "~~~\n",
    ">>> type(2)\n",
    "<class 'int'>\n",
    ">>> type(16.0)\n",
    "<class 'float'>\n",
    ">>> type(\"Hello ECON611 class\")\n",
    "<class 'str'>\n",
    "~~~\n",
    "\n",
    "\n",
    "In the above output the word __class__ referers to a category, where a type is a category of values\n",
    "\n",
    "Now pay attention to this:\n",
    "~~~\n",
    "2: integer\n",
    "\"2\": string\n",
    "~~~\n",
    "\n",
    "~~~\n",
    "<class 'int'>\n",
    ">>> type(\"2\")\n",
    "<class 'str'>\n",
    "~~~\n",
    "\n",
    "Now, if you try to type a large intger in python, avoid using commas in between groups of digits:\n",
    "~~~\n",
    ">>> 2,000,000\n",
    "(2, 0, 0)\n",
    "~~~\n"
   ]
  },
  {
   "cell_type": "code",
   "execution_count": 1,
   "metadata": {
    "slideshow": {
     "slide_type": "slide"
    }
   },
   "outputs": [
    {
     "name": "stdout",
     "output_type": "stream",
     "text": [
      "<class 'int'>\n",
      "<class 'float'>\n",
      "<class 'str'>\n",
      "2 0 0\n",
      "this is fun\n"
     ]
    }
   ],
   "source": [
    "print (type(1)) # int \n",
    "print (type(1.0)) #float \n",
    "print (type(\"I love python\")) # string \n",
    "print(2,000,000)\n",
    "\n",
    "print(\"this is fun\")"
   ]
  },
  {
   "cell_type": "code",
   "execution_count": 2,
   "metadata": {},
   "outputs": [
    {
     "data": {
      "text/plain": [
       "4"
      ]
     },
     "execution_count": 2,
     "metadata": {},
     "output_type": "execute_result"
    }
   ],
   "source": [
    "2+2"
   ]
  },
  {
   "cell_type": "markdown",
   "metadata": {
    "slideshow": {
     "slide_type": "slide"
    }
   },
   "source": [
    "## Python\n",
    "---\n",
    "\n",
    "- When we create programs (set of instructions that specifies a computation process) are more likely to input errors in our code. In the programming world this is called __bugs__, where the process of tracking them down is called __debugging__\n",
    "\n",
    "Manipulation of variables is one of the most powerful features a programming language has. \n",
    "- __Variables:__ When we use an assignment statement we ended up creating a variable, which is nothing more than a name for a value.\n",
    "\n",
    "~~~\n",
    "Variable names can be as long as you like. They can have letters and numbers but they CAN NOT begin with a number and should not use Python keywords\n",
    "False, None, True, and, as, assert, break, class, continue, def, del, elif, else, except, finally, for, from, global, if, import, in, is, lambda, nonlocal, not, or, pass, raise, return, try, while, with, yield\n",
    "~~~\n",
    "\n",
    "~~~\n",
    ">>> if = \"ECON611\"\n",
    "  File \"<stdin>\", line 1\n",
    "    if = \"ECON611\"\n",
    "       ^\n",
    "SyntaxError: invalid syntax\n",
    ">>> or = \"ECON611\"\n",
    "  File \"<stdin>\", line 1\n",
    "    or = \"ECON611\"\n",
    "     ^\n",
    "SyntaxError: invalid syntax\n",
    ">>> class = \"ECON611\"\n",
    "  File \"<stdin>\", line 1\n",
    "    class = \"ECON611\"\n",
    "          ^\n",
    "SyntaxError: invalid syntax\n",
    "~~~\n",
    "\n",
    "\n",
    "- __Expressions__: Combination of values, variables and operators on which the interpreter finds the value of an expression.\n",
    "\n",
    "~~~\n",
    ">>> n= 17\n",
    ">>> k=19\n",
    ">>> 42\n",
    "42\n",
    ">>> k\n",
    "19\n",
    ">>> k+4+n\n",
    "40\n",
    "~~~\n",
    "\n",
    "- __Statement__: unit of code that has an effect, so that it is executed by the python interpreter\n",
    "~~~\n",
    ">>> k\n",
    "19\n",
    ">>> n\n",
    "17\n",
    "~~~\n",
    "\n",
    "- __Script__: Working on the intepreter mode is helpful for small tasks. However, in production mode the interpreter is not longer helpful thus we need to save our files in __script__ .py and run the interpreter in script mode.\n",
    "You must rember that in script mode, python only evaluates the expression but doesn't display the value unless you tell it too.\n",
    "\n",
    "\n",
    "- __PEMDAS__: the obvious logic in mathematical operations. Keep in mind you can't perform math operations using __Strings__ EVEN IF THE STRINGS LOOK LIKE NUMBERS. HOWEVER YOU CAN USE ```+``` to concatenate strings AND ```*``` to repeat strings\n",
    "\n",
    "~~~\n",
    ">>> course_name = \"ECON\"\n",
    ">>> course_number= \"611\"\n",
    ">>> course_name + course_number\n",
    "'ECON611'\n",
    "\n",
    ">>> course_name*3 + \"_\" + course_number*3\n",
    "'ECONECONECON_611611611'\n",
    "~~~\n",
    "\n",
    "- __Comments__: They are needed, no execuse. Be specific and only use a comment when there is no information provided in the code. Use ```#``` to begin a comment. This can be before the line of code begins or at the end of a line.\n",
    "~~~\n",
    "## tuple with one value => add comma after the first elment\n",
    "'''MAN U one of the best soccer teams ever'''\n",
    "tup_1 = (\"MAN_U\", )\n",
    "print (tup_1) # this prints the value=> NO NEED TO TYPE THIS\n",
    "~~~\n"
   ]
  },
  {
   "cell_type": "markdown",
   "metadata": {
    "slideshow": {
     "slide_type": "slide"
    }
   },
   "source": [
    "## Python - Conditional & Recursions\n",
    "---\n",
    "- __Floor division__: ```//``` divides 2 numbers and rounds down to an integer (lower). i.e. How many hours did I spent preparing class, knowing that I kept track of the minutes?\n",
    "\n",
    "\n",
    "~~~\n",
    ">>> minutes_prep_class = 146\n",
    ">>> minutes_prep_class/60\n",
    "2.433333333333333\n",
    "\n",
    "\n",
    ">>> minutes_prep_class = 97\n",
    ">>> minutes_prep_class/60\n",
    "1.6166666666666667\n",
    "~~~\n",
    "\n",
    "```\n",
    ">>> minutes_prep_class = 146\n",
    ">>> minutes_prep_class//60\n",
    "2\n",
    "\n",
    ">>> minutes_prep_class = 97\n",
    ">>> minutes_prep_class//60\n",
    "1\n",
    "```\n",
    "\n",
    "- __Modulus operator__: ```%``` practial way of returning **just** the remainder of a division.\n",
    "\n",
    "```\n",
    ">>> hours = minutes_prep_class //60\n",
    ">>> remainder = minutes_prep_class - hours *60\n",
    ">>> remainder\n",
    "26\n",
    ">>> minutes_prep_class%60\n",
    "26\n",
    "```\n",
    "The modulus operator comes handy when trying to identify if a number is even (remainder 0) or odd. \n",
    "\n",
    "- __Boolean Expressions__: is the way of identifying if something is ```True``` or ```False``` SUPER helpful!!!! Uses the ```==``` __relational operator__ we can compare two operands. If equal then output ```True``` if not then ```False```\n",
    "\n",
    "~~~\n",
    ">>> remainder == hours\n",
    "False\n",
    ">>> 145 == 145\n",
    "True\n",
    "~~~\n",
    "\n",
    "\n",
    "| Relational Operator | Meaning                      |\n",
    "|:---------------------:|:------------------------------:|\n",
    "| x != y              | x not equal to y             |\n",
    "| x > y               | x greater than y             |\n",
    "| x < y               | x less than y                |\n",
    "| x >= y              | x greater than or equal to y |\n",
    "| x <= y              | x less than or equal to y    |\n",
    "| x == y              | x equal to y                 |\n",
    "\n",
    "- __Logical Operator__: these are ```and, or, not```. The meaning of the operator is the same as the meaning they have in the English Language.\n",
    "\n",
    "```\n",
    "This expression is true only if y is greater than 0 AND y is less than 10:\n",
    "y > 0 and y < 10. \n",
    "This expression is true if either or both of the conditions are true:\n",
    "GDP_USA > GDP_MEXICO or GPD_USA <= GPD_UK\n",
    "The not operator NEGATES a BOOLEAN EXPRESSION:\n",
    "not (GDP_USA > GDP_MEXICO) is False if GDP_USA > GDP_MEXICO is True\n",
    "```\n",
    "\n",
    "- __Conditional Executions__: Allow a program to check a condition and change the behavior of the program according to the needs of the output we are looking for:\n",
    "\n",
    "```\n",
    "if GDP_USA > GDP_MEXICO:\n",
    "    print(\"who is responsible for this\")\n",
    "```\n",
    "Know that the boolean expression after if is called the **condition.** There is no limit on the number of statements one can pass.\n",
    "\n",
    "Here is the alternative execution statemetn => meaning there are 2 possibilities **branches**. In here if the first condition is False than the second condition is evaluated.\n",
    "```\n",
    "if GDP_USA > GDP_MEXICO:\n",
    "    print(\"who is responsible for this\")\n",
    "else:\n",
    "    print(\"We need to do somenthing\")\n",
    "```\n",
    "\n",
    "- __Chained Conditions__: life is more than a binary outcome.. is full of possibilities. We can included all these posibilities into a chained conditional. \n",
    "\n",
    "```\n",
    "if GDP_USA > GDP_MEXICO:\n",
    "    print(\"who is responsible for this\")\n",
    "    \n",
    "elif GDP_USA < GDP_MEXICO:\n",
    "    print(\"somebody messed up\")\n",
    "    \n",
    "else:\n",
    "    print(\"we are on even plain\")\n",
    "    \n",
    "```\n",
    "Note:\n",
    "1. even if more than one condition is true, only the first __true__ branch will run.\n",
    "2. elif = else if, there is no limit into how many elif statements one can have\n",
    "3. if there is an ``else`` clause it has to be at the end, but there doesn't have to be one\n",
    "\n",
    "\n",
    "- __Nested Conditions__: A condition that is nested within another (so the above example, now has 2 outer conditional branches, where the second statement has another if statement with 2 branches):\n",
    "\n",
    "```\n",
    "if GDP_USA == GDP_MEXICO:\n",
    "    print(\"we are on even plain\")\n",
    "\n",
    "else:\n",
    "    if GDP_USA > GDP_MEXICO:\n",
    "        print(\"who is responsible for this\")\n",
    "     \n",
    "    else:\n",
    "        print(\"somebody messed up\")\n",
    "        \n",
    "```\n",
    "\n",
    "Avoid creating nested conditions, they are confusing (see this):\n",
    "\n",
    "\n",
    "```\n",
    "'''Don't do this'''\n",
    "if mom_age < dad_age:\n",
    "    if dad_age < grandpa_age:\n",
    "        print(\"mom is young\")\n",
    "        \n",
    "\n",
    "'''Try this'''\n",
    "if mom_age < dad_age and dad_age < grandpa_age:\n",
    "    print(\"mom is young\")\n",
    "\n",
    "\n",
    "'''Pythonic way'''\n",
    "if mom_age < dad_age < grandpa_age:\n",
    "    print(\"mom is young\")\n",
    "    \n",
    "```\n",
    "\n"
   ]
  },
  {
   "cell_type": "markdown",
   "metadata": {
    "slideshow": {
     "slide_type": "slide"
    }
   },
   "source": [
    "## Virtual Envinronments\n",
    "---\n",
    "- __Virtual Envinronments__: The main purpose of [Python virtual environments](https://realpython.com/python-virtual-environments-a-primer/) is to create an isolated environment for Python projects. This means that each project can have its own dependencies, regardless of what dependencies every other project has (https://realpython.com). This also means that we can create conda environments to deal with different python versions  "
   ]
  },
  {
   "cell_type": "markdown",
   "metadata": {
    "slideshow": {
     "slide_type": "slide"
    }
   },
   "source": [
    "## Python Virtual Env and Script\n",
    "---\n",
    "Check if conda is install\n",
    "```\n",
    "conda list\n",
    "```\n",
    "Check what version of conda you have installed\n",
    "```\n",
    "conda --version\n",
    "```\n",
    "\n",
    "Let's create a simple envinronment - for python 3\n",
    "```\n",
    "conda create --name py3-611 python=3.6\n",
    "```\n",
    "\n",
    "To activate this environment, use\n",
    "```\n",
    "$ conda activate py3-611\n",
    "some rare ocassions you will need to use:\n",
    "source activate py3-611\n",
    "```\n",
    "\n",
    "To deactivate an active environment, use\n",
    "```\n",
    "$ conda deactivate\n",
    "```\n",
    "\n",
    "In the same manner you can create a Python 2.7 envinronment\n",
    "Let's create a simple envinronment - for python 2\n",
    "```\n",
    "conda create --name py2-611 python=2.7\n",
    "```\n",
    "\n",
    "Didn't like the envinronment than delete it.\n",
    "```\n",
    "conda env remove --name py2-611\n",
    "```\n",
    "\n",
    "Let's activate the envinronment py3-611: what inside the envinronment?\n",
    "```\n",
    "conda --list\n",
    "```\n",
    "\n",
    "Lets add a few lines so we can see the envinronment on the notebook\n",
    "```\n",
    "pip install ipykernel\n",
    "ipython kernel install --user --name=py3-611\n",
    "```\n",
    "\n",
    "Want to learn more on conda, here is a short [cheatsheet](https://docs.conda.io/projects/conda/en/4.6.0/_downloads/52a95608c49671267e40c689e0bc00ca/conda-cheatsheet.pdf) or here is the official [conda site](https://docs.conda.io/projects/conda/en/latest/user-guide/tasks/manage-environments.html)\n",
    "\n"
   ]
  },
  {
   "cell_type": "markdown",
   "metadata": {
    "slideshow": {
     "slide_type": "notes"
    }
   },
   "source": [
    "Here sample in different computer\n",
    "## Do you know what is going on?\n",
    "---\n",
    "<p align=\"center\">\n",
    "  <img src=\"../../img/stop_pict.jpg\" width=\"256\" height=\"455\">\n",
    "</p>"
   ]
  },
  {
   "cell_type": "markdown",
   "metadata": {
    "slideshow": {
     "slide_type": "slide"
    }
   },
   "source": [
    "## Iteration \n",
    "---\n",
    "- __Updating a variable__: the idea here is to updated the value assigned to a variable. This will work as ling as you have created the variable. If you haven't created a variable, you will get an error\n",
    "\n",
    "~~~\n",
    ">>> n\n",
    "17\n",
    ">>> n= n+2\n",
    ">>> n\n",
    "19\n",
    "\n",
    ">>> s\n",
    "Traceback (most recent call last):\n",
    "  File \"<stdin>\", line 1, in <module>\n",
    "NameError: name 's' is not defined\n",
    "~~~\n",
    "\n",
    "This means that you need to create a variable before you can consider updating the var. Thus you can update a var by increment (adding 1) or by decrement (substract 1)\n",
    "\n",
    "- __While statement__: The process of repetition in a computer is called __iteration__, which is nothing more than automating a repetitive task\n",
    "\n",
    "~~~\n",
    "i = 1\n",
    "while i < 6:\n",
    "    print(i)\n",
    "    i += 1\n",
    "~~~\n"
   ]
  },
  {
   "cell_type": "code",
   "execution_count": 30,
   "metadata": {
    "slideshow": {
     "slide_type": "slide"
    }
   },
   "outputs": [
    {
     "name": "stdout",
     "output_type": "stream",
     "text": [
      "The variable i has been updated to value:  8\n",
      "The variable i has been updated to value:  7\n",
      "The variable i has been updated to value:  6\n",
      "The variable i has been updated to value:  5\n",
      "The variable i has been updated to value:  4\n",
      "The variable i has been updated to value:  3\n",
      "The variable i has been updated to value:  2\n",
      "The variable i has been updated to value:  1\n"
     ]
    }
   ],
   "source": [
    "i = 8\n",
    "while i > 0: #determine if condition is true or false\n",
    "    print(\"The variable i has been updated to value: \",i) # if true, then print and add\n",
    "    i -= 1 #third line loops back to the top \n",
    "    '''\n",
    "        the above line is the same as\n",
    "        i = i-1\n",
    "        The while statement reads as this: While i is less than 6, display the value of i \n",
    "        then increment the value by 1\n",
    "        At some point the condition becomes False and the loop stops, if it doesn't becomes and\n",
    "        infinite loop\n",
    "    '''\n",
    "    "
   ]
  },
  {
   "cell_type": "code",
   "execution_count": 49,
   "metadata": {
    "scrolled": true
   },
   "outputs": [
    {
     "name": "stdout",
     "output_type": "stream",
     "text": [
      "the value of n is: 3\n",
      "the value of n is odd\n",
      "the value of n is: 10\n",
      "the value of n is even\n",
      "\n",
      "\n",
      "the value of n is: 5.0\n",
      "the value of n is odd\n",
      "the value of n is: 16.0\n",
      "the value of n is even\n",
      "\n",
      "\n",
      "the value of n is: 8.0\n",
      "the value of n is even\n",
      "\n",
      "\n",
      "the value of n is: 4.0\n",
      "the value of n is even\n",
      "\n",
      "\n",
      "the value of n is: 2.0\n",
      "the value of n is even\n",
      "\n",
      "\n"
     ]
    }
   ],
   "source": [
    "def even_odd(n):\n",
    "    '''First condition: n !=1, if True continue until n=1 where is false and the stops '''\n",
    "    while n !=1:\n",
    "        print(\"the value of n is:\", n)\n",
    "        ''' Second condition: if even then print number and fdivide number by 2'''\n",
    "        if n % 2 == 0:\n",
    "            print(\"the value of n is even\")\n",
    "            n = n/2\n",
    "            print(\"\\n\")\n",
    "            '''Third condition: if is not even than it is odd, then the value of n \n",
    "            is multiplied by 3 and we add 1. We print the number'''\n",
    "        else:\n",
    "            n = n*3 +1\n",
    "            print(\"the value of n is odd\")\n",
    "even_odd(3)"
   ]
  },
  {
   "cell_type": "markdown",
   "metadata": {
    "slideshow": {
     "slide_type": "slide"
    }
   },
   "source": [
    "## While and break\n",
    "---\n",
    "- __Break__ Want to end a loop...then add a break\n",
    "<p align=\"center\">\n",
    "  <img src=\"../../img/break_statement.png\" width=\"500\" height=\"455\">\n",
    "</p>\n",
    "\n",
    "*Image from https://realpython.com*"
   ]
  },
  {
   "cell_type": "code",
   "execution_count": 55,
   "metadata": {
    "slideshow": {
     "slide_type": "slide"
    }
   },
   "outputs": [
    {
     "name": "stdout",
     "output_type": "stream",
     "text": [
      "first value 3\n",
      "updated value 2\n",
      "The end of the loop\n"
     ]
    }
   ],
   "source": [
    "n =3\n",
    "while n > 0:\n",
    "    print(\"first value\", n)\n",
    "    n -=1\n",
    "    print(\"updated value\", n)\n",
    "    if n ==2:\n",
    "        break\n",
    "    print(n)\n",
    "print(\"The end of the loop\")"
   ]
  },
  {
   "cell_type": "markdown",
   "metadata": {
    "slideshow": {
     "slide_type": "slide"
    }
   },
   "source": [
    "## Strings\n",
    "---\n",
    "- __String__ sequence => ordered collections of other values. \n",
    "- __Methods__:"
   ]
  },
  {
   "cell_type": "code",
   "execution_count": 77,
   "metadata": {},
   "outputs": [
    {
     "name": "stdout",
     "output_type": "stream",
     "text": [
      "Hello world\n",
      "love my econ611_class\n"
     ]
    }
   ],
   "source": [
    "var_1 = \"Hello world\"\n",
    "print(var_1)\n",
    "var_2  = \"love my econ611_class\"\n",
    "print(var_2)"
   ]
  },
  {
   "cell_type": "code",
   "execution_count": 78,
   "metadata": {},
   "outputs": [
    {
     "name": "stdout",
     "output_type": "stream",
     "text": [
      "Hello world\n",
      "Love my econ611_class\n"
     ]
    }
   ],
   "source": [
    "# Method 1\n",
    "''' Capitalize: Capitalized the first letter of a string'''\n",
    "print (var_1.capitalize()) #spot something?\n",
    "print (var_2.capitalize())"
   ]
  },
  {
   "cell_type": "code",
   "execution_count": 92,
   "metadata": {},
   "outputs": [
    {
     "name": "stdout",
     "output_type": "stream",
     "text": [
      "_________Hello world__________\n",
      "***************************************love my econ611_class****************************************\n",
      "***************************************Love my econ611_class****************************************\n"
     ]
    }
   ],
   "source": [
    "# Method 2\n",
    "''' Center: Returns a space-padded string with the original string centered to a total of width columns/spaces.'''\n",
    "print(var_1.center(30, \"_\"))\n",
    "print(var_2.center(100, \"*\"))\n",
    "print(var_2.capitalize().center(100, \"*\"))"
   ]
  },
  {
   "cell_type": "code",
   "execution_count": 101,
   "metadata": {},
   "outputs": [
    {
     "data": {
      "text/plain": [
       "0"
      ]
     },
     "execution_count": 101,
     "metadata": {},
     "output_type": "execute_result"
    }
   ],
   "source": [
    "# Method 3\n",
    "'''Count: counts how many times a str occurs within another string, str, begin, end'''\n",
    "var_1.count(\"H\",4,)"
   ]
  },
  {
   "cell_type": "code",
   "execution_count": 102,
   "metadata": {},
   "outputs": [
    {
     "data": {
      "text/plain": [
       "'decode and encode: more on this on later lectures.. useful when reading txt data'"
      ]
     },
     "execution_count": 102,
     "metadata": {},
     "output_type": "execute_result"
    }
   ],
   "source": [
    "# Method 4-5\n",
    "'''decode and encode: more on this on later lectures.. useful when reading txt data'''"
   ]
  },
  {
   "cell_type": "code",
   "execution_count": 107,
   "metadata": {},
   "outputs": [
    {
     "name": "stdout",
     "output_type": "stream",
     "text": [
      "False\n",
      "True\n"
     ]
    }
   ],
   "source": [
    "# Method 6\n",
    "'''Endswith: Determines if string or a substring of string (if starting index beg \n",
    "    and ending index end are given) ends with suffix; returns true if so and false otherwise.'''\n",
    "print(var_2.endswith(\"11\", 9, len(var_2)))\n",
    "print(var_2.endswith(\"ass\", 9, len(var_2)))"
   ]
  },
  {
   "cell_type": "code",
   "execution_count": 117,
   "metadata": {},
   "outputs": [
    {
     "name": "stdout",
     "output_type": "stream",
     "text": [
      "6\n",
      "-1\n"
     ]
    }
   ],
   "source": [
    "# Method 7\n",
    "'''Find: Return the lowest index in S where substring sub is found,\n",
    "such that sub is contained within S[start:end].  Optional\n",
    "arguments start and end are interpreted as in slice notation.'''\n",
    "print(var_1.find(\"wor\", 2, len(var_1)))\n",
    "print(var_1.find(\"kk\", 2, len(var_1)))"
   ]
  },
  {
   "cell_type": "code",
   "execution_count": 118,
   "metadata": {},
   "outputs": [
    {
     "name": "stdout",
     "output_type": "stream",
     "text": [
      "6\n"
     ]
    },
    {
     "ename": "ValueError",
     "evalue": "substring not found",
     "output_type": "error",
     "traceback": [
      "\u001b[0;31m---------------------------------------------------------------------------\u001b[0m",
      "\u001b[0;31mValueError\u001b[0m                                Traceback (most recent call last)",
      "\u001b[0;32m<ipython-input-118-81fdcf54c77a>\u001b[0m in \u001b[0;36m<module>\u001b[0;34m()\u001b[0m\n\u001b[1;32m      4\u001b[0m arguments start and end are interpreted as in slice notation. Raises ValueError when the substring is not found.'''\n\u001b[1;32m      5\u001b[0m \u001b[0mprint\u001b[0m\u001b[0;34m(\u001b[0m\u001b[0mvar_1\u001b[0m\u001b[0;34m.\u001b[0m\u001b[0mindex\u001b[0m\u001b[0;34m(\u001b[0m\u001b[0;34m\"wor\"\u001b[0m\u001b[0;34m,\u001b[0m \u001b[0;36m2\u001b[0m\u001b[0;34m,\u001b[0m \u001b[0mlen\u001b[0m\u001b[0;34m(\u001b[0m\u001b[0mvar_1\u001b[0m\u001b[0;34m)\u001b[0m\u001b[0;34m)\u001b[0m\u001b[0;34m)\u001b[0m\u001b[0;34m\u001b[0m\u001b[0m\n\u001b[0;32m----> 6\u001b[0;31m \u001b[0mprint\u001b[0m\u001b[0;34m(\u001b[0m\u001b[0mvar_1\u001b[0m\u001b[0;34m.\u001b[0m\u001b[0mindex\u001b[0m\u001b[0;34m(\u001b[0m\u001b[0;34m\"kk\"\u001b[0m\u001b[0;34m,\u001b[0m \u001b[0;36m2\u001b[0m\u001b[0;34m,\u001b[0m \u001b[0mlen\u001b[0m\u001b[0;34m(\u001b[0m\u001b[0mvar_1\u001b[0m\u001b[0;34m)\u001b[0m\u001b[0;34m)\u001b[0m\u001b[0;34m)\u001b[0m\u001b[0;34m\u001b[0m\u001b[0m\n\u001b[0m",
      "\u001b[0;31mValueError\u001b[0m: substring not found"
     ]
    }
   ],
   "source": [
    "# Method 8\n",
    "'''Index: S.index(sub[, start[, end]]) -> int Return the lowest index in S where substring sub is found, \n",
    "such that sub is contained within S[start:end].  Optional\n",
    "arguments start and end are interpreted as in slice notation. Raises ValueError when the substring is not found.'''\n",
    "print(var_1.index(\"wor\", 2, len(var_1)))\n",
    "print(var_1.index(\"kk\", 2, len(var_1)))"
   ]
  },
  {
   "cell_type": "code",
   "execution_count": 134,
   "metadata": {},
   "outputs": [
    {
     "name": "stdout",
     "output_type": "stream",
     "text": [
      "False\n",
      "True\n"
     ]
    }
   ],
   "source": [
    "# Method 9\n",
    "'''isalnum: Return True if all characters in S are alphanumeric\n",
    "and there is at least one character in S, False otherwise.'''\n",
    "var_3 = \"mario300\";  # No space & digit in this string\n",
    "print(var_1.isalnum())\n",
    "print(var_3.isalnum())"
   ]
  },
  {
   "cell_type": "code",
   "execution_count": 136,
   "metadata": {},
   "outputs": [
    {
     "name": "stdout",
     "output_type": "stream",
     "text": [
      "False\n",
      "False\n",
      "True\n"
     ]
    }
   ],
   "source": [
    "# Method 10\n",
    "'''isalpha(): Return True if all characters in S are alphabetic\n",
    "and there is at least one character in S, False otherwise.'''\n",
    "var_3 = \"mario\";  # No space & digit in this string\n",
    "print(var_2.isalpha())\n",
    "print(var_1.isalpha())\n",
    "print(var_3.isalpha())"
   ]
  },
  {
   "cell_type": "code",
   "execution_count": 143,
   "metadata": {},
   "outputs": [
    {
     "name": "stdout",
     "output_type": "stream",
     "text": [
      "False\n",
      "False\n",
      "True\n"
     ]
    }
   ],
   "source": [
    "# Method 11\n",
    "'''isdigit():Return True if all characters in S are digits\n",
    "and there is at least one character in S, False otherwise.'''\n",
    "var_3 = \"123456889\";  # Only digit in this string\n",
    "print(var_1.isdigit())\n",
    "print(var_2.isdigit())\n",
    "print(var_3.isdigit())"
   ]
  },
  {
   "cell_type": "code",
   "execution_count": 151,
   "metadata": {},
   "outputs": [
    {
     "name": "stdout",
     "output_type": "stream",
     "text": [
      "Hello world\n",
      "False\n",
      "\n",
      "\n",
      "love my econ611_class\n",
      "True\n",
      "\n",
      "\n",
      "123456889\n",
      "False\n",
      "\n",
      "\n"
     ]
    }
   ],
   "source": [
    "# Method 12\n",
    "'''  S.islower() -> bool\n",
    "\n",
    "Return True if all cased characters in S are lowercase and there is\n",
    "at least one cased character in S, False otherwise.'''\n",
    "var_list = [var_1, var_2, var_3]\n",
    "for var in var_list:\n",
    "    print(var)\n",
    "    print(var.islower())\n",
    "    print(\"\\n\")"
   ]
  },
  {
   "cell_type": "code",
   "execution_count": 153,
   "metadata": {},
   "outputs": [
    {
     "name": "stdout",
     "output_type": "stream",
     "text": [
      "Hello world\n",
      "False\n",
      "\n",
      "\n",
      "love my econ611_class\n",
      "False\n",
      "\n",
      "\n",
      "123456889\n",
      "True\n",
      "\n",
      "\n"
     ]
    }
   ],
   "source": [
    "# Method 13\n",
    "\"\"\"S.isnumeric() -> bool\n",
    "\n",
    "Return True if there are only numeric characters in S,\n",
    "False otherwise.\"\"\"\n",
    "for var in var_list:\n",
    "    print(var)\n",
    "    print(var.isnumeric())\n",
    "    print(\"\\n\")"
   ]
  },
  {
   "cell_type": "code",
   "execution_count": 163,
   "metadata": {},
   "outputs": [
    {
     "name": "stdout",
     "output_type": "stream",
     "text": [
      "Hello world\n",
      "False\n",
      "False\n",
      "\n",
      "\n",
      "love my econ611_class\n",
      "False\n",
      "False\n",
      "\n",
      "\n",
      "123456889\n",
      "False\n",
      "False\n",
      "\n",
      "\n",
      "SUPER MARIO\n",
      "False\n",
      "True\n",
      "\n",
      "\n",
      "Please\n",
      "True\n",
      "False\n",
      "\n",
      "\n"
     ]
    }
   ],
   "source": [
    "# Method 14 & 15\n",
    "'''S.istitle() -> bool\n",
    "\n",
    "Return True if S is a titlecased string and there is at least one\n",
    "character in S, i.e. upper- and titlecase characters may only\n",
    "follow uncased characters and lowercase characters only cased ones.\n",
    "Return False otherwise.\n",
    "\n",
    "S.isupper() -> bool\n",
    "\n",
    "Return True if all cased characters in S are uppercase and there is\n",
    "at least one cased character in S, False otherwise.\n",
    "'''\n",
    "var_4  = \"SUPER MARIO\"\n",
    "var_5 = \"Please\"\n",
    "var_list = [var_1, var_2, var_3, var_4, var_5]\n",
    "for var in var_list:\n",
    "    print(var)\n",
    "    print(var.istitle())\n",
    "    print(var.isupper())\n",
    "    print(\"\\n\")"
   ]
  },
  {
   "cell_type": "code",
   "execution_count": 173,
   "metadata": {},
   "outputs": [
    {
     "name": "stdout",
     "output_type": "stream",
     "text": [
      "mario-_-teaches-_-econ611\n"
     ]
    }
   ],
   "source": [
    "# Method 16\n",
    "'''S.join(iterable) -> str\n",
    "\n",
    "Return a string which is the concatenation of the strings in the\n",
    "iterable.  The separator between elements is S.'''\n",
    "s = \"-_-\";\n",
    "seq = (\"mario\", \"teaches\", \"econ611\"); # This is sequence of strings.\n",
    "print (s.join( seq ))"
   ]
  },
  {
   "cell_type": "code",
   "execution_count": 179,
   "metadata": {},
   "outputs": [
    {
     "name": "stdout",
     "output_type": "stream",
     "text": [
      "Hello world **len of var is**: 11\n",
      "love my econ611_class **len of var is**: 21\n",
      "123456889 **len of var is**: 9\n",
      "SUPER MARIO **len of var is**: 11\n",
      "Please **len of var is**: 6\n"
     ]
    }
   ],
   "source": [
    "# Method 17\n",
    "'''len(S): Returns the length of the string'''\n",
    "for var in var_list:\n",
    "    print(var, \"**len of var is**:\", len(var))"
   ]
  },
  {
   "cell_type": "code",
   "execution_count": 183,
   "metadata": {},
   "outputs": [
    {
     "name": "stdout",
     "output_type": "stream",
     "text": [
      "Original var is: Hello world\n",
      "hello world\n",
      "\n",
      "\n",
      "Original var is: love my econ611_class\n",
      "love my econ611_class\n",
      "\n",
      "\n",
      "Original var is: 123456889\n",
      "123456889\n",
      "\n",
      "\n",
      "Original var is: SUPER MARIO\n",
      "super mario\n",
      "\n",
      "\n",
      "Original var is: Please\n",
      "please\n",
      "\n",
      "\n"
     ]
    }
   ],
   "source": [
    "# Method 18\n",
    "'''S.lower() -> str\n",
    "Return a copy of the string S converted to lowercase.'''\n",
    "for var in var_list:\n",
    "    print(\"Original var is:\", var)\n",
    "    print(var.lower())\n",
    "    print(\"\\n\")"
   ]
  },
  {
   "cell_type": "code",
   "execution_count": 185,
   "metadata": {},
   "outputs": [
    {
     "name": "stdout",
     "output_type": "stream",
     "text": [
      "Hello world\n",
      "Hello world\n",
      "love my econ611_class\n",
      "love my econ611_class\n",
      "123456889\n",
      "123456889\n",
      "SUPER MARIO\n",
      "SUPER MARIO\n",
      "Please\n",
      "Please\n",
      "  this is my space\n",
      "this is my space\n"
     ]
    }
   ],
   "source": [
    "# Method 19\n",
    "\"\"\"S.lstrip([chars]) -> str\n",
    "Return a copy of the string S with leading whitespace removed.\n",
    "If chars is given and not None, remove characters in chars instead.\"\"\"\n",
    "var_6 = \"  this is my space\"\n",
    "var_list = [var_1, var_2, var_3, var_4, var_5, var_6]\n",
    "for var in var_list:\n",
    "    print(var)\n",
    "    print(var.lstrip())"
   ]
  },
  {
   "cell_type": "code",
   "execution_count": 194,
   "metadata": {},
   "outputs": [
    {
     "name": "stdout",
     "output_type": "stream",
     "text": [
      "Max character in  Hello world is: w\n",
      "Min character in  Hello world is:  \n",
      "\n",
      "\n",
      "Max character in  love my econ611_class is: y\n",
      "Min character in  love my econ611_class is:  \n",
      "\n",
      "\n",
      "Max character in  123456889 is: 9\n",
      "Min character in  123456889 is: 1\n",
      "\n",
      "\n",
      "Max character in  SUPER MARIO is: U\n",
      "Min character in  SUPER MARIO is:  \n",
      "\n",
      "\n",
      "Max character in  Please is: s\n",
      "Min character in  Please is: P\n",
      "\n",
      "\n",
      "Max character in    this is my space is: y\n",
      "Min character in    this is my space is:  \n",
      "\n",
      "\n",
      "Max character in  dont_like_it??? is: t\n",
      "Min character in  dont_like_it??? is: ?\n",
      "\n",
      "\n"
     ]
    }
   ],
   "source": [
    "# Method 20 & 21\n",
    "'''\n",
    "    s.max(): Returns the max alphabetical character from the string str.\n",
    "    min(): Returns the min alphabetical character from the string str.\n",
    "'''\n",
    "var_7 = \"dont_like_it???\"\n",
    "var_list = [var_1, var_2, var_3, var_4, var_5, var_6, var_7]\n",
    "for var in var_list:\n",
    "    print(\"Max character in \", var ,\"is:\", max(var))\n",
    "    print(\"Min character in \", var ,\"is:\", min(var))\n",
    "    print(\"\\n\")\n",
    "    "
   ]
  },
  {
   "cell_type": "code",
   "execution_count": 207,
   "metadata": {},
   "outputs": [
    {
     "name": "stdout",
     "output_type": "stream",
     "text": [
      "123456889\n",
      "\n",
      "\n",
      "123456**VIVA**89\n",
      "\n",
      "\n",
      "123456**VIVA****VIVA**9\n"
     ]
    }
   ],
   "source": [
    "# Method 22\n",
    "'''S.replace(old, new[, count]) -> str\n",
    "Return a copy of S with all occurrences of substring\n",
    "old replaced by new.  If the optional argument count is\n",
    "given, only the first count occurrences are replaced.\n",
    "\n",
    "old − This is old substring to be replaced.\n",
    "\n",
    "new − This is new substring, which would replace old substring.\n",
    "\n",
    "max − If this optional argument max is given, only the first count occurrences are replaced.'''\n",
    "\n",
    "for var in var_list:\n",
    "    if \"8\" in var:\n",
    "        print(var)\n",
    "        print(\"\\n\")\n",
    "        new_var = var.replace(\"8\", \"**VIVA**\", 1)\n",
    "        print(new_var)\n",
    "        print(\"\\n\")\n",
    "        new_var = var.replace(\"8\", \"**VIVA**\", 2)\n",
    "        print(new_var)\n"
   ]
  },
  {
   "cell_type": "code",
   "execution_count": 210,
   "metadata": {},
   "outputs": [
    {
     "name": "stdout",
     "output_type": "stream",
     "text": [
      "-1\n",
      "-1\n",
      "-1\n",
      "6\n",
      "-1\n",
      "-1\n",
      "-1\n"
     ]
    }
   ],
   "source": [
    "#Method 23\n",
    "\"\"\"S.rfind(sub[, start[, end]]) -> int === same as find but search BACKWARDS IN THE STRING\n",
    "Return the highest index in S where substring sub is found,\n",
    "such that sub is contained within S[start:end].  Optional\n",
    "arguments start and end are interpreted as in slice notation.\n",
    "Return -1 on failure.\n",
    "\n",
    "sub − This specifies the string to be searched.\n",
    "\n",
    "start − This is the starting index, by default its 0.\n",
    "\n",
    "end − This is the ending index, by default its equal to the length of the string.\n",
    "\"\"\"\n",
    "\n",
    "for var in var_list:\n",
    "    print(var.rfind(\"M\", 4, len(var)))  "
   ]
  },
  {
   "cell_type": "code",
   "execution_count": 218,
   "metadata": {},
   "outputs": [
    {
     "name": "stdout",
     "output_type": "stream",
     "text": [
      "SUPER MARIO\n",
      "  this is my space\n"
     ]
    }
   ],
   "source": [
    "#Method 24\n",
    "\"\"\"S.startswith(prefix[, start[, end]]) -> bool\n",
    "\n",
    "Return True if S starts with the specified prefix, False otherwise.\n",
    "With optional start, test S beginning at that position.\n",
    "With optional end, stop comparing S at that position.\n",
    "prefix can also be a tuple of strings to try.\n",
    "\n",
    "prefix − This is the string to be checked.\n",
    "\n",
    "start − This is the optional parameter to set start index of the matching boundary.\n",
    "\n",
    "end − This is the optional parameter to end start index of the matching boundary.\"\"\"\n",
    "\n",
    "for var in var_list:\n",
    "    if var.startswith(\"S\", 0, 4) or var.startswith(\" \", 0, 4):\n",
    "        print(var)"
   ]
  },
  {
   "cell_type": "code",
   "execution_count": 224,
   "metadata": {},
   "outputs": [
    {
     "name": "stdout",
     "output_type": "stream",
     "text": [
      "Hello world  ***swapcase***  hELLO WORLD\n",
      "Hello world  ***upper***  HELLO WORLD\n",
      "\n",
      "\n",
      "love my econ611_class  ***swapcase***  LOVE MY ECON611_CLASS\n",
      "love my econ611_class  ***upper***  LOVE MY ECON611_CLASS\n",
      "\n",
      "\n",
      "123456889  ***swapcase***  123456889\n",
      "123456889  ***upper***  123456889\n",
      "\n",
      "\n",
      "SUPER MARIO  ***swapcase***  super mario\n",
      "SUPER MARIO  ***upper***  SUPER MARIO\n",
      "\n",
      "\n",
      "Please  ***swapcase***  pLEASE\n",
      "Please  ***upper***  PLEASE\n",
      "\n",
      "\n",
      "  this is my space  ***swapcase***    THIS IS MY SPACE\n",
      "  this is my space  ***upper***    THIS IS MY SPACE\n",
      "\n",
      "\n",
      "dont_like_it???  ***swapcase***  DONT_LIKE_IT???\n",
      "dont_like_it???  ***upper***  DONT_LIKE_IT???\n",
      "\n",
      "\n"
     ]
    }
   ],
   "source": [
    "#Method 25\n",
    "'''S.swapcase() -> str\n",
    "Return a copy of S with uppercase characters converted to lowercase\n",
    "and vice versa.\n",
    "\n",
    "S.upper() -> str\n",
    "Return a copy of S converted to uppercase.\n",
    "'''\n",
    "for var in var_list:\n",
    "    print(var, \" ***swapcase*** \", var.swapcase())\n",
    "    print(var, \" ***upper*** \", var.upper())\n",
    "    print(\"\\n\")\n"
   ]
  },
  {
   "cell_type": "markdown",
   "metadata": {},
   "source": [
    "## Strings - sequence/parsing/transversing\n",
    "---\n",
    "- __String__ sequence => ordered collections of other values. \n"
   ]
  },
  {
   "cell_type": "code",
   "execution_count": 236,
   "metadata": {},
   "outputs": [
    {
     "name": "stdout",
     "output_type": "stream",
     "text": [
      "Hello world\n",
      "H\n",
      "e\n",
      "\n",
      "\n",
      "0 ***__** H\n",
      "1 ***__** e\n",
      "2 ***__** l\n",
      "3 ***__** l\n",
      "4 ***__** o\n",
      "5 ***__**  \n",
      "6 ***__** w\n",
      "7 ***__** o\n",
      "8 ***__** r\n",
      "9 ***__** l\n",
      "10 ***__** d\n"
     ]
    }
   ],
   "source": [
    "'''we can access the characters one at the time'''\n",
    "print(var_1)\n",
    "print(var_1[0])\n",
    "print(var_1[1])\n",
    "print (\"\\n\")\n",
    "\n",
    "'''transversal'''\n",
    "for i in range(len(var_1)):\n",
    "    print(i, \"***__**\", var_1[i] )"
   ]
  },
  {
   "cell_type": "code",
   "execution_count": 237,
   "metadata": {},
   "outputs": [
    {
     "name": "stdout",
     "output_type": "stream",
     "text": [
      "S\n",
      "U\n",
      "P\n",
      "E\n",
      "R\n",
      " \n",
      "M\n",
      "A\n",
      "R\n",
      "I\n",
      "O\n"
     ]
    }
   ],
   "source": [
    "'''same as above'''\n",
    "index = 0\n",
    "while index < len(var_4):\n",
    "    letter = var_4[index]\n",
    "    print(letter)\n",
    "    index +=1"
   ]
  },
  {
   "cell_type": "code",
   "execution_count": 247,
   "metadata": {},
   "outputs": [
    {
     "name": "stdout",
     "output_type": "stream",
     "text": [
      "SUPER MARIO\n",
      "SUP\n",
      "P R\n"
     ]
    }
   ],
   "source": [
    "'''slicing\n",
    "start - starting integer where the slicing of the object starts\n",
    "stop - integer until which the slicing takes place. The slicing stops at index stop - 1.\n",
    "step - integer value which determines the increment between each index for slicing\n",
    "'''\n",
    "print(var_4)\n",
    "print(var_4[:3]) ## includes the first character and excludes the last\n",
    "print(var_4[2:len(var_4):3])"
   ]
  },
  {
   "cell_type": "code",
   "execution_count": 251,
   "metadata": {},
   "outputs": [
    {
     "name": "stdout",
     "output_type": "stream",
     "text": [
      "Please\n",
      "Please to meet you\n"
     ]
    }
   ],
   "source": [
    "'''mutable strings'''\n",
    "print(var_5)\n",
    "var_5_new = var_5+\" to meet you\"\n",
    "print(var_5_new)"
   ]
  },
  {
   "cell_type": "code",
   "execution_count": 261,
   "metadata": {
    "collapsed": true
   },
   "outputs": [],
   "source": [
    "'''searching for vowels'''\n",
    "def vowel_search(text):\n",
    "    vowels = \"aeiou\"\n",
    "    index = 0\n",
    "    while index < len(text):\n",
    "        if text[index].lower() in vowels:\n",
    "            print(text[index])\n",
    "            return index\n",
    "        index +=1\n",
    "    return -1 #if character is not in the string please exit the loop"
   ]
  },
  {
   "cell_type": "code",
   "execution_count": 262,
   "metadata": {},
   "outputs": [
    {
     "name": "stdout",
     "output_type": "stream",
     "text": [
      "a\n"
     ]
    },
    {
     "data": {
      "text/plain": [
       "1"
      ]
     },
     "execution_count": 262,
     "metadata": {},
     "output_type": "execute_result"
    }
   ],
   "source": [
    "vowel_search(\"mario\")"
   ]
  },
  {
   "cell_type": "code",
   "execution_count": 265,
   "metadata": {
    "collapsed": true
   },
   "outputs": [],
   "source": [
    "'''how many times'''\n",
    "def vowel_count(text):\n",
    "    vowels = \"aeiou\"\n",
    "    count =0\n",
    "    for letter in text:\n",
    "        if letter in vowels:\n",
    "            count = count+1\n",
    "    return count"
   ]
  },
  {
   "cell_type": "code",
   "execution_count": 266,
   "metadata": {},
   "outputs": [
    {
     "data": {
      "text/plain": [
       "3"
      ]
     },
     "execution_count": 266,
     "metadata": {},
     "output_type": "execute_result"
    }
   ],
   "source": [
    "vowel_count(\"mario\")"
   ]
  },
  {
   "cell_type": "code",
   "execution_count": 267,
   "metadata": {
    "collapsed": true
   },
   "outputs": [],
   "source": [
    "'''in operator'''\n",
    "''' Not efficient'''\n",
    "def in_operator(text_1, text_2):\n",
    "    for i in text_1:\n",
    "        for j in text_2:\n",
    "            print(i, \"***__***\", j)\n",
    "    "
   ]
  },
  {
   "cell_type": "code",
   "execution_count": 268,
   "metadata": {},
   "outputs": [
    {
     "name": "stdout",
     "output_type": "stream",
     "text": [
      "m ***__*** e\n",
      "m ***__*** c\n",
      "m ***__*** o\n",
      "m ***__*** n\n",
      "m ***__*** 6\n",
      "m ***__*** 1\n",
      "m ***__*** 1\n",
      "a ***__*** e\n",
      "a ***__*** c\n",
      "a ***__*** o\n",
      "a ***__*** n\n",
      "a ***__*** 6\n",
      "a ***__*** 1\n",
      "a ***__*** 1\n",
      "r ***__*** e\n",
      "r ***__*** c\n",
      "r ***__*** o\n",
      "r ***__*** n\n",
      "r ***__*** 6\n",
      "r ***__*** 1\n",
      "r ***__*** 1\n",
      "i ***__*** e\n",
      "i ***__*** c\n",
      "i ***__*** o\n",
      "i ***__*** n\n",
      "i ***__*** 6\n",
      "i ***__*** 1\n",
      "i ***__*** 1\n",
      "o ***__*** e\n",
      "o ***__*** c\n",
      "o ***__*** o\n",
      "o ***__*** n\n",
      "o ***__*** 6\n",
      "o ***__*** 1\n",
      "o ***__*** 1\n"
     ]
    }
   ],
   "source": [
    "in_operator('mario', 'econ611')"
   ]
  },
  {
   "cell_type": "code",
   "execution_count": 274,
   "metadata": {},
   "outputs": [],
   "source": [
    "def in_operator(text_1, text_2):\n",
    "    for i in text_1:\n",
    "        if i in text_2:\n",
    "            print(i, \"***__***\", i)"
   ]
  },
  {
   "cell_type": "code",
   "execution_count": 276,
   "metadata": {},
   "outputs": [
    {
     "name": "stdout",
     "output_type": "stream",
     "text": [
      "o ***__*** o\n"
     ]
    }
   ],
   "source": [
    "in_operator('mario', 'econ611')"
   ]
  },
  {
   "cell_type": "code",
   "execution_count": 277,
   "metadata": {},
   "outputs": [
    {
     "name": "stdout",
     "output_type": "stream",
     "text": [
      "class 611\n"
     ]
    }
   ],
   "source": [
    "'''string comparisson'''\n",
    "for letter in \"mario\":\n",
    "    if letter == \"a\":\n",
    "        print(\"class 611\")"
   ]
  },
  {
   "cell_type": "markdown",
   "metadata": {},
   "source": [
    "## More on Control Flow: if statements, functions, iterators \n",
    "---"
   ]
  },
  {
   "cell_type": "code",
   "execution_count": 287,
   "metadata": {},
   "outputs": [
    {
     "name": "stdout",
     "output_type": "stream",
     "text": [
      "['ned stark', 'john snow']\n",
      "['ned stark', 'john snow', 'joffery']\n"
     ]
    }
   ],
   "source": [
    "game_of_thrones = ['ned stark', 'john snow'] # this is a list we will cover this in next class\n",
    "print(game_of_thrones)\n",
    "\n",
    "if 'joffery' in game_of_thrones:\n",
    "    print (\"joffery\")\n",
    "else:\n",
    "    game_of_thrones.append('joffery')\n",
    "print(game_of_thrones)"
   ]
  },
  {
   "cell_type": "code",
   "execution_count": 284,
   "metadata": {},
   "outputs": [
    {
     "name": "stdout",
     "output_type": "stream",
     "text": [
      "a+b 536\n"
     ]
    }
   ],
   "source": [
    "import random \n",
    "\n",
    "a = random.choice(range(100, 1000, 2))\n",
    "b = random.choice(range(100, 1000, 3))\n",
    "combined_str = str(a+b)[1:-1]\n",
    "\n",
    "if a + b > 100 and int(combined_str) % 2: \n",
    "    print (\"a+b\", a + b )\n",
    "\n",
    "elif a + b <= 100 and not int(combined_str) % 2: \n",
    "    print (\"a\", a) \n",
    "\n",
    "else:\n",
    "    print (\"b\", b )"
   ]
  },
  {
   "cell_type": "code",
   "execution_count": 279,
   "metadata": {},
   "outputs": [
    {
     "name": "stdout",
     "output_type": "stream",
     "text": [
      "columbia\n",
      "endeavour\n",
      "challenger\n",
      "discovery\n",
      "atlantis\n",
      "enterprise\n",
      "pathfinder\n",
      "0.0006840229034423828\n"
     ]
    }
   ],
   "source": [
    "import time \n",
    "shuttles = ['columbia', 'endeavour', 'challenger', 'discovery', 'atlantis', 'enterprise', 'pathfinder' ]\n",
    "\n",
    "start = time.time()\n",
    "for s in shuttles: \n",
    "    print (s)\n",
    "    \n",
    "print (time.time() - start)"
   ]
  },
  {
   "cell_type": "code",
   "execution_count": 281,
   "metadata": {},
   "outputs": [
    {
     "name": "stdout",
     "output_type": "stream",
     "text": [
      "columbia\n",
      "endeavour\n",
      "challenger\n",
      "discovery\n",
      "atlantis\n",
      "enterprise\n",
      "pathfinder\n",
      "0.0008020401000976562\n"
     ]
    }
   ],
   "source": [
    "start = time.time()\n",
    "\n",
    "counter = 0\n",
    "while len(shuttles) > counter:\n",
    "    print (shuttles[counter])\n",
    "    counter += 1\n",
    "    \n",
    "print (time.time() - start)"
   ]
  },
  {
   "cell_type": "code",
   "execution_count": 282,
   "metadata": {},
   "outputs": [
    {
     "name": "stdout",
     "output_type": "stream",
     "text": [
      "100000\n",
      "59049\n",
      "32768\n",
      "16807\n",
      "7776\n",
      "3125\n",
      "1024\n",
      "243\n",
      "32\n",
      "1\n"
     ]
    }
   ],
   "source": [
    "eval_num = 10\n",
    "\n",
    "while eval_num:\n",
    "    print (eval_num ** 5)\n",
    "    eval_num -= 1"
   ]
  },
  {
   "cell_type": "markdown",
   "metadata": {},
   "source": [
    "## Lets practice\n",
    "---"
   ]
  },
  {
   "cell_type": "markdown",
   "metadata": {},
   "source": [
    "---\n",
    "\n",
    "### Write an if-else statement for multiple conditions.\n",
    "\n",
    "Print out these recommendations based on the weather conditions:\n",
    "\n",
    "1. Temperature over 60 and rain: bring an umbrella.\n",
    "2. Temperature less than or equal to 60 and rain: bring and umbrella and a jacket.\n",
    "3. Temperature over 60 and shine: wear a t-shirt.\n",
    "4. Temperature less than or equal to 60 and shine: bring a jacket."
   ]
  },
  {
   "cell_type": "code",
   "execution_count": null,
   "metadata": {
    "collapsed": true
   },
   "outputs": [],
   "source": []
  },
  {
   "cell_type": "markdown",
   "metadata": {},
   "source": [
    "---\n",
    "\n",
    "### Write a for-loop that iterates from the number 1 to the number 15.\n",
    "\n",
    "On each iteration, print out the number."
   ]
  },
  {
   "cell_type": "code",
   "execution_count": null,
   "metadata": {
    "collapsed": true
   },
   "outputs": [],
   "source": []
  },
  {
   "cell_type": "markdown",
   "metadata": {},
   "source": [
    "---\n",
    "\n",
    "### Iterate from 1 to 15, printing whether the number is odd or even.\n",
    "\n",
    "Hint: The modulus operator, `%`, can be used to take the remainder. For example:\n",
    "\n",
    "```python\n",
    "9 % 5 == 4\n",
    "```\n",
    "\n",
    "Or in other words, the remainder of dividing 9 by 5 is 4. "
   ]
  },
  {
   "cell_type": "code",
   "execution_count": null,
   "metadata": {
    "collapsed": true
   },
   "outputs": [],
   "source": []
  },
  {
   "cell_type": "markdown",
   "metadata": {},
   "source": [
    "---\n",
    "\n",
    "### Iterate from 1 to 30 with the following instructions:\n",
    "\n",
    "1. If a number is divisible by 3, print 'fizz'. \n",
    "2. If a number is divisible by 5, print 'buzz'. \n",
    "3. If a number is both divisible by 3 and 5 print 'fizzbuzz'.\n",
    "4. Otherwise, print just the number."
   ]
  },
  {
   "cell_type": "code",
   "execution_count": null,
   "metadata": {
    "collapsed": true
   },
   "outputs": [],
   "source": []
  },
  {
   "cell_type": "markdown",
   "metadata": {},
   "source": [
    "---\n",
    "\n",
    "### Write a function that takes word as an argument and returns the number of vowels in the word.\n",
    "\n",
    "Try it out on 3 words."
   ]
  },
  {
   "cell_type": "code",
   "execution_count": null,
   "metadata": {
    "collapsed": true
   },
   "outputs": [],
   "source": []
  },
  {
   "cell_type": "code",
   "execution_count": null,
   "metadata": {
    "collapsed": true
   },
   "outputs": [],
   "source": [
    "print vowel_counter('hello')\n",
    "print vowel_counter('specialist')\n",
    "print vowel_counter('insanely')"
   ]
  }
 ],
 "metadata": {
  "anaconda-cloud": {},
  "celltoolbar": "Slideshow",
  "kernelspec": {
   "display_name": "Python 3",
   "language": "python",
   "name": "python3"
  },
  "language_info": {
   "codemirror_mode": {
    "name": "ipython",
    "version": 3
   },
   "file_extension": ".py",
   "mimetype": "text/x-python",
   "name": "python",
   "nbconvert_exporter": "python",
   "pygments_lexer": "ipython3",
   "version": "3.7.3"
  }
 },
 "nbformat": 4,
 "nbformat_minor": 1
}
