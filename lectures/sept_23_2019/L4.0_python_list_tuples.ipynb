{
 "cells": [
  {
   "cell_type": "markdown",
   "metadata": {
    "slideshow": {
     "slide_type": "slide"
    }
   },
   "source": [
    "<img src=\"https://images.efollett.com/htmlroot/images/templates/storeLogos/CA/864.gif\" style=\"float: right;\"> \n",
    "\n",
    "\n",
    "\n",
    "\n",
    "# ECON611\n",
    "### Lecture 3 -  Python - Lists & Tuples\n",
    "- Notes adapted from: \n",
    "\n",
    "    1. Think Python - How to Think like a Computer Scientist\n",
    "    2. Effective Python - 59 Specific Ways to Write Better Python\n",
    "    3. [Beginning Python Programming for Aspiring Web Developers](http://www.openbookproject.net/books/bpp4awd/index.html)\n"
   ]
  },
  {
   "cell_type": "markdown",
   "metadata": {
    "slideshow": {
     "slide_type": "slide"
    }
   },
   "source": [
    "## Strings - Lists & Tuples = Sequence Data Types\n",
    "---\n",
    "- __String__ sequence => ordered collections of other values. \n",
    "- __Strings, lists, and tuples are all sequence types, so called because they behave like a sequence - an ordered collection of objects__\n",
    "- Sequence types are compound data types, this means that they are made up of smaller pieces. \n",
    "    > In the case of strings, they’re made up of _smaller strings, each containing one character._ There is also the empty string, containing no characters at all. \n",
    "    \n",
    "    > _In the case of lists or tuples, they are made up of elements, which are values of any Python datatype, including other lists and tuples._\n",
    "    \n",
    "    > Lists are enclosed in square brackets ([ and ]) and tuples in parentheses (( and )).\n",
    "    \n",
    "    > A list containing no elements is called an empty list, and a tuple with no elements is an empty tuple."
   ]
  },
  {
   "cell_type": "code",
   "execution_count": 1,
   "metadata": {},
   "outputs": [
    {
     "name": "stdout",
     "output_type": "stream",
     "text": [
      "<class 'list'>\n",
      "<class 'list'>\n",
      "<class 'tuple'>\n",
      "<class 'tuple'>\n",
      "<class 'list'>\n",
      "<class 'list'>\n"
     ]
    }
   ],
   "source": [
    "[10, 20, 30, 40, 50, 60] # list of 6 integers\n",
    "print(type(([10, 20, 30, 40, 50, 60])))\n",
    "\n",
    "[\"excel\", \"stata\", \"python\"] #list of 3 strings\n",
    "print(type([\"excel\", \"stata\", \"python\"]))\n",
    "\n",
    "(2, 4, 6, 8, 20)#tuple with 5 integers\n",
    "print(type((2, 4, 6, 8, 20))) \n",
    "\n",
    "\n",
    "(\"two\", \"four\", \"six\", \"eight\")#tuple with 4 strings\n",
    "print(type((\"two\", \"four\", \"six\", \"eight\")))\n",
    "\n",
    "\n",
    "[(\"cheese\", \"white\"), (\"red\", \"wine\"), (\"salmon\", \"pink\")] #list with 3 tuples\n",
    "print(type([(\"cheese\", \"white\"), (\"red\", \"wine\"), (\"salmon\", \"pink\")]))\n",
    "\n",
    "[\"excel\", \"stata\", \"python\", (\"red\", \"wine\"), [\"two\", \"four\", \"six\", \"eight\"]]\n",
    "print(type([\"excel\", \"stata\", \"python\", (\"red\", \"wine\"), [\"two\", \"four\", \"six\", \"eight\"]])) #list with tuples and list\n"
   ]
  },
  {
   "cell_type": "code",
   "execution_count": 2,
   "metadata": {},
   "outputs": [
    {
     "name": "stdout",
     "output_type": "stream",
     "text": [
      "<class 'tuple'>\n",
      "<class 'tuple'>\n",
      "<class 'int'>\n",
      "<class 'tuple'>\n"
     ]
    }
   ],
   "source": [
    "## when dealing with tuples we can only use a comma to separate the values\n",
    "thing = 2, 4, 6, 8, 10, 12\n",
    "print(type(thing))\n",
    "\n",
    "\n",
    "## when creating a tuple with one element we need to use a comma\n",
    "one_element_tuple = (4,)\n",
    "print(type(one_element_tuple))\n",
    "\n",
    "no_a_tuple = (2)\n",
    "print(type(no_a_tuple))\n",
    "\n",
    "## empty tuple\n",
    "empty_tuple = ()\n",
    "print(type(empty_tuple))\n",
    "\n"
   ]
  },
  {
   "cell_type": "markdown",
   "metadata": {
    "slideshow": {
     "slide_type": "slide"
    }
   },
   "source": [
    "## Accessing the elements of a sequence\n",
    "---\n",
    "- __Strings, lists and tuples__: share a common set of operations\n",
    "1. Indexing\n",
    "2. Length\n",
    "3. Accessing the elements at the end of a sequence\n",
    "4. Traversing the element"
   ]
  },
  {
   "cell_type": "markdown",
   "metadata": {},
   "source": [
    "## Indexing\n",
    "---\n",
    "The indexing operator ```([ ])``` selects one element from a sequence. The expression inside brackets is called the index, and must be an __integer value.__ The index indicates which element to select, hence its name.\n",
    "Here sample in different computer\n",
    "\n",
    "<p align=\"center\">\n",
    "  <img src=\"../../img/banana.png\" width=\"500\" height=\"455\">\n",
    "</p>"
   ]
  },
  {
   "cell_type": "code",
   "execution_count": 3,
   "metadata": {},
   "outputs": [
    {
     "name": "stdout",
     "output_type": "stream",
     "text": [
      "<class 'str'>\n",
      "b\n",
      "\n",
      "\n",
      "<class 'list'>\n",
      "orange\n",
      "\n",
      "\n",
      "<class 'tuple'>\n",
      "3.3\n",
      "\n",
      "\n",
      "<class 'list'>\n",
      "('salmon', 'pink')\n",
      "\n",
      "\n",
      "salmon\n"
     ]
    }
   ],
   "source": [
    "## Basic form of slicing \n",
    "fruit = \"banana\"\n",
    "print(type(fruit))\n",
    "print(fruit[0])\n",
    "print(\"\\n\")\n",
    "\n",
    "\n",
    "fruits = ['orange', 'melon', 'apple']\n",
    "print(type(fruits))\n",
    "print(fruits[0])\n",
    "print(\"\\n\")\n",
    "\n",
    "market_prices = (3.30, 5,89, 4.89, 9)\n",
    "print(type(market_prices))\n",
    "print(market_prices[0])\n",
    "print(\"\\n\")\n",
    "\n",
    "\n",
    "pairs = [(\"cheese\", \"white\"), (\"red\", \"wine\"), (\"salmon\", \"pink\")]\n",
    "print(type(pairs))\n",
    "print(pairs[2])\n",
    "print(\"\\n\")\n",
    "print(pairs[2][0])"
   ]
  },
  {
   "cell_type": "markdown",
   "metadata": {
    "slideshow": {
     "slide_type": "slide"
    }
   },
   "source": [
    "## Length\n",
    "---\n",
    "- __String__: returns the number of characters in a string\n",
    "- __Lists and tuples__: returns the number of elements in the sequence"
   ]
  },
  {
   "cell_type": "code",
   "execution_count": 4,
   "metadata": {},
   "outputs": [
    {
     "name": "stdout",
     "output_type": "stream",
     "text": [
      "banana\n",
      "6\n",
      "\n",
      "\n",
      "['orange', 'melon', 'apple']\n",
      "3\n",
      "\n",
      "\n",
      "(3.3, 5, 89, 4.89, 9)\n",
      "5\n"
     ]
    }
   ],
   "source": [
    "print(fruit)\n",
    "print(len(fruit))\n",
    "print(\"\\n\")\n",
    "\n",
    "print(fruits)\n",
    "print(len(fruits))\n",
    "print(\"\\n\")\n",
    "\n",
    "print(market_prices)\n",
    "print(len(market_prices))"
   ]
  },
  {
   "cell_type": "markdown",
   "metadata": {
    "slideshow": {
     "slide_type": "slide"
    }
   },
   "source": [
    "## Accessing the elements at the end of a sequence and traversing element \n",
    "---\n"
   ]
  },
  {
   "cell_type": "code",
   "execution_count": 5,
   "metadata": {},
   "outputs": [
    {
     "name": "stdout",
     "output_type": "stream",
     "text": [
      "First four: ['a', 'b', 'c', 'd']\n",
      "Last four: ['e', 'f', 'g', 'h']\n",
      "Middle two: ['d', 'e']\n",
      "['a', 'b', 'c', 'd', 'e']\n",
      "['a', 'b', 'c', 'd', 'e']\n",
      "['f', 'g', 'h']\n",
      "['f', 'g', 'h']\n"
     ]
    }
   ],
   "source": [
    "'''Basic form of slicing [start:end]'''\n",
    "a = ['a', 'b', 'c', 'd','e','f','g','h']\n",
    "print('First four:', a[:4])\n",
    "print('Last four:', a[-4:])\n",
    "print('Middle two:', a[3:-3])\n",
    "\n",
    "'''When slicing from the start of a list, leave out the zero index to reduce visual noise'''\n",
    "print(a[:5])\n",
    "print(a[0:5])\n",
    "\n",
    "'''When slicing to the end of a list/string/tuple leave the final index empty'''\n",
    "print(a[5:])\n",
    "print(a[5:len(a)])"
   ]
  },
  {
   "cell_type": "code",
   "execution_count": 6,
   "metadata": {},
   "outputs": [
    {
     "name": "stdout",
     "output_type": "stream",
     "text": [
      "banana <class 'str'>\n",
      "First four: bana\n",
      "Last four: nana\n",
      "Middle two: na\n",
      "\n",
      "\n",
      "['orange', 'melon', 'apple'] <class 'list'>\n",
      "First four: ['orange', 'melon', 'apple']\n",
      "Last four: ['orange', 'melon', 'apple']\n",
      "Middle two: []\n",
      "\n",
      "\n",
      "(3.3, 5, 89, 4.89, 9) <class 'tuple'>\n",
      "First four: (3.3, 5, 89, 4.89)\n",
      "Last four: (5, 89, 4.89, 9)\n",
      "Middle two: (89,)\n",
      "\n",
      "\n"
     ]
    }
   ],
   "source": [
    "'''Lets create a list with a string, list and tuple'''\n",
    "sequence_data_types = [fruit, fruits, market_prices]\n",
    "for element in sequence_data_types:\n",
    "    print(element, type(element))\n",
    "    print('First four:', element[:4])\n",
    "    print('Last four:', element[-4:])\n",
    "    print('Middle two:', element[2:-2])\n",
    "    print(\"\\n\")"
   ]
  },
  {
   "cell_type": "markdown",
   "metadata": {
    "slideshow": {
     "slide_type": "slide"
    }
   },
   "source": [
    "## Do you know what is going on?\n",
    "---\n",
    "<p align=\"center\">\n",
    "  <img src=\"../../img/stop_pict.jpg\" width=\"256\" height=\"455\">\n",
    "</p>"
   ]
  },
  {
   "cell_type": "markdown",
   "metadata": {},
   "source": [
    "## Warm up 1\n",
    "---\n",
    "Iterate through the list of animals and print each one, but in all caps."
   ]
  },
  {
   "cell_type": "code",
   "execution_count": 7,
   "metadata": {
    "collapsed": true
   },
   "outputs": [],
   "source": [
    "animals = ['duck', 'rat', 'boar', 'slug', 'mammoth', 'gazelle']"
   ]
  },
  {
   "cell_type": "code",
   "execution_count": 8,
   "metadata": {},
   "outputs": [
    {
     "name": "stdout",
     "output_type": "stream",
     "text": [
      "DUCK\n",
      "RAT\n",
      "BOAR\n",
      "SLUG\n",
      "MAMMOTH\n",
      "GAZELLE\n"
     ]
    }
   ],
   "source": [
    "for animal in animals:\n",
    "    print(animal.upper())"
   ]
  },
  {
   "cell_type": "markdown",
   "metadata": {},
   "source": [
    "## Warm up 2\n",
    "---\n",
    "Iterate through the list of animals and if the name of animal begins with ```d, s, or g``` print the name of the animal, with ONLY the first letter in caps."
   ]
  },
  {
   "cell_type": "code",
   "execution_count": 9,
   "metadata": {},
   "outputs": [
    {
     "name": "stdout",
     "output_type": "stream",
     "text": [
      "duck ** Duck\n",
      "slug ** Slug\n",
      "gazelle ** Gazelle\n"
     ]
    }
   ],
   "source": [
    "for element in animals:\n",
    "    if element[0] in ['d', 's', 'g']:\n",
    "        print(element, \"**\", element.title())"
   ]
  },
  {
   "cell_type": "markdown",
   "metadata": {},
   "source": [
    "## More on slicing\n",
    "---\n",
    "\n",
    "- Using __negative__ numbers for slicing is helpful for doing offsets relative to the end of a list. \n"
   ]
  },
  {
   "cell_type": "code",
   "execution_count": 10,
   "metadata": {},
   "outputs": [
    {
     "data": {
      "text/plain": [
       "['a', 'b', 'c', 'd', 'e', 'f', 'g', 'h']"
      ]
     },
     "execution_count": 10,
     "metadata": {},
     "output_type": "execute_result"
    }
   ],
   "source": [
    "'''Using the list a => we created before'''\n",
    "a"
   ]
  },
  {
   "cell_type": "code",
   "execution_count": 11,
   "metadata": {},
   "outputs": [
    {
     "name": "stdout",
     "output_type": "stream",
     "text": [
      "['a', 'b', 'c', 'd', 'e', 'f', 'g', 'h']\n",
      "['a', 'b', 'c', 'd', 'e']\n",
      "['a', 'b', 'c', 'd', 'e', 'f', 'g']\n",
      "['e', 'f', 'g', 'h']\n",
      "['f', 'g', 'h']\n",
      "['c', 'd', 'e']\n",
      "['c', 'd', 'e', 'f', 'g']\n",
      "['f', 'g']\n"
     ]
    }
   ],
   "source": [
    "'''get all the elements of a list'''\n",
    "print(a[:])\n",
    "\n",
    "'''get the first five'''\n",
    "print(a[:5])\n",
    "\n",
    "'''get all the elements but the last'''\n",
    "print(a[:-1])\n",
    "\n",
    "'''get from the four element to the end'''\n",
    "print(a[4:])\n",
    "\n",
    "'''get the last 3 elements of the list'''\n",
    "print(a[-3:])\n",
    "\n",
    "'''get elements from the third to the fifth'''\n",
    "print(a[2:5])\n",
    "\n",
    "'''get elements from the third to the end but not the last one'''\n",
    "print(a[2:-1])\n",
    "\n",
    "'''get elements from the last third to the end but not the last one'''\n",
    "print(a[-3:-1])"
   ]
  },
  {
   "cell_type": "code",
   "execution_count": 12,
   "metadata": {},
   "outputs": [
    {
     "name": "stdout",
     "output_type": "stream",
     "text": [
      "['a', 'b', 'c', 'd', 'e', 'f', 'g', 'h']\n",
      "\n",
      "\n",
      "['a', 'b', 'c', 'd', 'e', 'f', 'g', 'h']\n"
     ]
    }
   ],
   "source": [
    "'''Slicing nicely deals with start or end index values that are outside the boundaries of the list'''\n",
    "first_twenty_items = a[:20]\n",
    "print(first_twenty_items)\n",
    "print(\"\\n\")\n",
    "\n",
    "last_twenty_items = a[-20:]\n",
    "print(last_twenty_items)\n"
   ]
  },
  {
   "cell_type": "code",
   "execution_count": 13,
   "metadata": {},
   "outputs": [
    {
     "name": "stdout",
     "output_type": "stream",
     "text": [
      "Before:   ['e', 'f', 'g', 'h']\n",
      "After:   ['e', 99, 'g', 'h']\n",
      "No change/original list:  ['a', 'b', 'c', 'd', 'e', 'f', 'g', 'h']\n"
     ]
    }
   ],
   "source": [
    "'''\n",
    "    The results of slicing a list is a whole new list\n",
    "    1. The original list keeps the elements\n",
    "    2. New list doesn't affect the original list\n",
    "'''\n",
    "b = a[4:]\n",
    "print(\"Before:  \", b)\n",
    "b[1] = 99\n",
    "print(\"After:  \", b)\n",
    "print('No change/original list: ', a)"
   ]
  },
  {
   "cell_type": "code",
   "execution_count": 14,
   "metadata": {},
   "outputs": [
    {
     "name": "stdout",
     "output_type": "stream",
     "text": [
      "Before:   ['a', 'b', 'c', 'd', 'e', 'f', 'g', 'h']\n",
      "After:   ['a', 'b', 99, 22, 15, 'h']\n"
     ]
    }
   ],
   "source": [
    "'''\n",
    "    When using assignments, slices will replace the specified range in the original list\n",
    "'''\n",
    "print(\"Before:  \",a)\n",
    "a[2:7] = [99,22,15]\n",
    "print(\"After:  \",a)"
   ]
  },
  {
   "cell_type": "code",
   "execution_count": 15,
   "metadata": {},
   "outputs": [
    {
     "name": "stdout",
     "output_type": "stream",
     "text": [
      "Before:   ['a', 'b', 99, 22, 15, 'h']\n",
      "After:   [102, 103, 104, 105]\n"
     ]
    }
   ],
   "source": [
    "'''\n",
    "    If you leave out both the start and the end indexex when slicing we end up with a copy of the original list\n",
    "'''\n",
    "b = a[:]\n",
    "assert b == a and b is not a\n",
    "\n",
    "'''\n",
    "    If you assign a slice with no start or end indexes, YOU WILL REPLACE THE ENTIRE CONTENTS WITH A COPY OF WHAT\n",
    "    IS REFERENCED - INSTEAD OF ALLOCATING A NEW LIST\n",
    "'''\n",
    "b = a\n",
    "print(\"Before:  \",a)\n",
    "a[:] = [102,103,104,105]\n",
    "assert a is b\n",
    "print(\"After:  \", b)"
   ]
  },
  {
   "cell_type": "code",
   "execution_count": 16,
   "metadata": {},
   "outputs": [
    {
     "name": "stdout",
     "output_type": "stream",
     "text": [
      "['red', 'yellow', 'blue']\n",
      "['orange', 'green', 'purple']\n"
     ]
    }
   ],
   "source": [
    "'''\n",
    "    Be careful when using stride - this can cause some unexpected behavior\n",
    "    alist[start:end:stride]\n",
    "'''\n",
    "a = ['red', 'orange', 'yellow', 'green', 'blue', 'purple']\n",
    "odds = a[::2]\n",
    "evens = a[1::2]\n",
    "print(odds)\n",
    "print(evens)"
   ]
  },
  {
   "cell_type": "code",
   "execution_count": 17,
   "metadata": {},
   "outputs": [
    {
     "name": "stdout",
     "output_type": "stream",
     "text": [
      "mongoose\n",
      "esoognom\n"
     ]
    }
   ],
   "source": [
    "'''\n",
    "    What about reversing? - this simple example makes a lot of sense\n",
    "'''\n",
    "x = 'mongoose'\n",
    "y = x[::-1]\n",
    "print(x)\n",
    "print(y)"
   ]
  },
  {
   "cell_type": "code",
   "execution_count": 18,
   "metadata": {},
   "outputs": [
    {
     "name": "stdout",
     "output_type": "stream",
     "text": [
      "['a', 'b', 'c', 'd', 'e', 'f', 'g', 'h']\n",
      "['a', 'c', 'e', 'g']\n",
      "['h', 'f', 'd', 'b']\n"
     ]
    }
   ],
   "source": [
    "a  = ['a', 'b', 'c', 'd', 'e', 'f', 'g', 'h']\n",
    "print(a)\n",
    "'''it means get/select every second item starting at the beginning'''\n",
    "print(a[::2])\n",
    "\n",
    "'''it means get/select every second item starting at the end and moving backwards'''\n",
    "print(a[::-2]) "
   ]
  },
  {
   "cell_type": "code",
   "execution_count": 19,
   "metadata": {},
   "outputs": [
    {
     "name": "stdout",
     "output_type": "stream",
     "text": [
      "['c', 'e', 'g']\n",
      "['g', 'e', 'c', 'a']\n",
      "['g', 'e']\n",
      "[]\n",
      "['a', 'c', 'e', 'g']\n"
     ]
    }
   ],
   "source": [
    "'''The stride part of slicing can be confusing'''\n",
    "print(a[2::2])\n",
    "print(a[-2::-2])\n",
    "print(a[-2:2:-2])\n",
    "print(a[2:2-2])\n",
    "\n",
    "'''If you need to use stride stick to the use of a positive number and omit using start and end indixes'''\n",
    "print(a[::2])\n"
   ]
  },
  {
   "cell_type": "markdown",
   "metadata": {
    "slideshow": {
     "slide_type": "slide"
    }
   },
   "source": [
    "## Slicing a list - looks familiar to slicing a string \n",
    "---"
   ]
  },
  {
   "cell_type": "code",
   "execution_count": 20,
   "metadata": {},
   "outputs": [
    {
     "name": "stdout",
     "output_type": "stream",
     "text": [
      "banana\n",
      "nn\n",
      "nn\n",
      "nnb\n",
      "n\n",
      "\n"
     ]
    }
   ],
   "source": [
    "'''Here it gets more confusing with '''\n",
    "print(fruit)\n",
    "print(fruit[2::2])\n",
    "print(fruit[2::2])\n",
    "print(fruit[-2::-2])\n",
    "print(fruit[-2:2:-2])\n",
    "print(fruit[2:2-2])"
   ]
  },
  {
   "cell_type": "code",
   "execution_count": 21,
   "metadata": {},
   "outputs": [
    {
     "name": "stdout",
     "output_type": "stream",
     "text": [
      "banana\n",
      "banan\n",
      "banan\n",
      "na\n",
      "ana\n",
      "nan\n",
      "nan\n",
      "an\n"
     ]
    }
   ],
   "source": [
    "'''get all the values in a string '''\n",
    "print(fruit[:])\n",
    "\n",
    "'''get the first five'''\n",
    "print(fruit[:5])\n",
    "\n",
    "'''get all the values but the last'''\n",
    "print(fruit[:-1])\n",
    "\n",
    "'''get from the four values to the end'''\n",
    "print(fruit[4:])\n",
    "\n",
    "'''get the last 3 values of the list'''\n",
    "print(fruit[-3:])\n",
    "\n",
    "'''get values from the third to the fifth'''\n",
    "print(fruit[2:5])\n",
    "\n",
    "'''get values from the third to the end but not the last one'''\n",
    "print(fruit[2:-1])\n",
    "\n",
    "'''get values from the last third to the end but not the last one'''\n",
    "print(fruit[-3:-1])"
   ]
  },
  {
   "cell_type": "code",
   "execution_count": 23,
   "metadata": {},
   "outputs": [
    {
     "name": "stdout",
     "output_type": "stream",
     "text": [
      "banana\n"
     ]
    },
    {
     "ename": "TypeError",
     "evalue": "'str' object does not support item assignment",
     "output_type": "error",
     "traceback": [
      "\u001b[0;31m---------------------------------------------------------------------------\u001b[0m",
      "\u001b[0;31mTypeError\u001b[0m                                 Traceback (most recent call last)",
      "\u001b[0;32m<ipython-input-23-f2ba53fff18a>\u001b[0m in \u001b[0;36m<module>\u001b[0;34m()\u001b[0m\n\u001b[1;32m      3\u001b[0m '''\n\u001b[1;32m      4\u001b[0m \u001b[0mprint\u001b[0m\u001b[0;34m(\u001b[0m\u001b[0mfruit\u001b[0m\u001b[0;34m)\u001b[0m\u001b[0;34m\u001b[0m\u001b[0m\n\u001b[0;32m----> 5\u001b[0;31m \u001b[0mfruit\u001b[0m\u001b[0;34m[\u001b[0m\u001b[0;36m0\u001b[0m\u001b[0;34m]\u001b[0m \u001b[0;34m=\u001b[0m \u001b[0;34m\"M\"\u001b[0m\u001b[0;34m\u001b[0m\u001b[0m\n\u001b[0m",
      "\u001b[0;31mTypeError\u001b[0m: 'str' object does not support item assignment"
     ]
    }
   ],
   "source": [
    "''' \n",
    "    Can we replace a value on a string?.... NOOOOOOOO => strings are NOT MUTABLES\n",
    "'''\n",
    "print(fruit)\n",
    "fruit[0] = \"M\""
   ]
  },
  {
   "cell_type": "code",
   "execution_count": 24,
   "metadata": {},
   "outputs": [
    {
     "name": "stdout",
     "output_type": "stream",
     "text": [
      "Before:  ['a', 'b', 'c', 'd', 'e', 'f', 'g', 'h']\n",
      "After:  [100, 'b', 'c', 'd', 'e', 'f', 'g', 'h']\n"
     ]
    }
   ],
   "source": [
    "''' \n",
    "    Can we replace a value on a list?.... YES => a list is MUTABLE\n",
    "'''\n",
    "print(\"Before: \", a)\n",
    "a[0]= 100\n",
    "print(\"After: \", a)"
   ]
  },
  {
   "cell_type": "code",
   "execution_count": 25,
   "metadata": {},
   "outputs": [
    {
     "name": "stdout",
     "output_type": "stream",
     "text": [
      "(3.3, 5, 89, 4.89, 9)\n"
     ]
    },
    {
     "ename": "TypeError",
     "evalue": "'tuple' object does not support item assignment",
     "output_type": "error",
     "traceback": [
      "\u001b[0;31m---------------------------------------------------------------------------\u001b[0m",
      "\u001b[0;31mTypeError\u001b[0m                                 Traceback (most recent call last)",
      "\u001b[0;32m<ipython-input-25-dba301911d10>\u001b[0m in \u001b[0;36m<module>\u001b[0;34m()\u001b[0m\n\u001b[1;32m      3\u001b[0m '''\n\u001b[1;32m      4\u001b[0m \u001b[0mprint\u001b[0m\u001b[0;34m(\u001b[0m\u001b[0mmarket_prices\u001b[0m\u001b[0;34m)\u001b[0m\u001b[0;34m\u001b[0m\u001b[0m\n\u001b[0;32m----> 5\u001b[0;31m \u001b[0mmarket_prices\u001b[0m\u001b[0;34m[\u001b[0m\u001b[0;36m0\u001b[0m\u001b[0;34m]\u001b[0m \u001b[0;34m=\u001b[0m \u001b[0;36m10\u001b[0m\u001b[0;34m\u001b[0m\u001b[0m\n\u001b[0m",
      "\u001b[0;31mTypeError\u001b[0m: 'tuple' object does not support item assignment"
     ]
    }
   ],
   "source": [
    "''' \n",
    "    Can we replace a value on a tuple?.... NOOOO => tuples are NOT MUTABLE\n",
    "'''\n",
    "print(market_prices)\n",
    "market_prices[0] = 10"
   ]
  },
  {
   "cell_type": "markdown",
   "metadata": {},
   "source": [
    "## Objects and methods \n",
    "---\n",
    "- __Strings, lists and tuples are objects__\n",
    "    - _object_: In computer science, an object can be a variable, a data structure, a function, or a method, and as such, is a value in memory referenced by an identifier.\n",
    "    \n",
    "- __This means that they not only hold values, but they have built-in behaviors called methods. These methods act on the values in the object__"
   ]
  },
  {
   "cell_type": "code",
   "execution_count": 26,
   "metadata": {},
   "outputs": [
    {
     "data": {
      "text/plain": [
       "['__add__',\n",
       " '__class__',\n",
       " '__contains__',\n",
       " '__delattr__',\n",
       " '__dir__',\n",
       " '__doc__',\n",
       " '__eq__',\n",
       " '__format__',\n",
       " '__ge__',\n",
       " '__getattribute__',\n",
       " '__getitem__',\n",
       " '__getnewargs__',\n",
       " '__gt__',\n",
       " '__hash__',\n",
       " '__init__',\n",
       " '__init_subclass__',\n",
       " '__iter__',\n",
       " '__le__',\n",
       " '__len__',\n",
       " '__lt__',\n",
       " '__mod__',\n",
       " '__mul__',\n",
       " '__ne__',\n",
       " '__new__',\n",
       " '__reduce__',\n",
       " '__reduce_ex__',\n",
       " '__repr__',\n",
       " '__rmod__',\n",
       " '__rmul__',\n",
       " '__setattr__',\n",
       " '__sizeof__',\n",
       " '__str__',\n",
       " '__subclasshook__',\n",
       " 'capitalize',\n",
       " 'casefold',\n",
       " 'center',\n",
       " 'count',\n",
       " 'encode',\n",
       " 'endswith',\n",
       " 'expandtabs',\n",
       " 'find',\n",
       " 'format',\n",
       " 'format_map',\n",
       " 'index',\n",
       " 'isalnum',\n",
       " 'isalpha',\n",
       " 'isdecimal',\n",
       " 'isdigit',\n",
       " 'isidentifier',\n",
       " 'islower',\n",
       " 'isnumeric',\n",
       " 'isprintable',\n",
       " 'isspace',\n",
       " 'istitle',\n",
       " 'isupper',\n",
       " 'join',\n",
       " 'ljust',\n",
       " 'lower',\n",
       " 'lstrip',\n",
       " 'maketrans',\n",
       " 'partition',\n",
       " 'replace',\n",
       " 'rfind',\n",
       " 'rindex',\n",
       " 'rjust',\n",
       " 'rpartition',\n",
       " 'rsplit',\n",
       " 'rstrip',\n",
       " 'split',\n",
       " 'splitlines',\n",
       " 'startswith',\n",
       " 'strip',\n",
       " 'swapcase',\n",
       " 'title',\n",
       " 'translate',\n",
       " 'upper',\n",
       " 'zfill']"
      ]
     },
     "execution_count": 26,
     "metadata": {},
     "output_type": "execute_result"
    }
   ],
   "source": [
    "'''we cover most of these methods last class '''\n",
    "dir(str)"
   ]
  },
  {
   "cell_type": "code",
   "execution_count": 27,
   "metadata": {},
   "outputs": [
    {
     "data": {
      "text/plain": [
       "['__add__',\n",
       " '__class__',\n",
       " '__contains__',\n",
       " '__delattr__',\n",
       " '__dir__',\n",
       " '__doc__',\n",
       " '__eq__',\n",
       " '__format__',\n",
       " '__ge__',\n",
       " '__getattribute__',\n",
       " '__getitem__',\n",
       " '__getnewargs__',\n",
       " '__gt__',\n",
       " '__hash__',\n",
       " '__init__',\n",
       " '__init_subclass__',\n",
       " '__iter__',\n",
       " '__le__',\n",
       " '__len__',\n",
       " '__lt__',\n",
       " '__mul__',\n",
       " '__ne__',\n",
       " '__new__',\n",
       " '__reduce__',\n",
       " '__reduce_ex__',\n",
       " '__repr__',\n",
       " '__rmul__',\n",
       " '__setattr__',\n",
       " '__sizeof__',\n",
       " '__str__',\n",
       " '__subclasshook__',\n",
       " 'count',\n",
       " 'index']"
      ]
     },
     "execution_count": 27,
     "metadata": {},
     "output_type": "execute_result"
    }
   ],
   "source": [
    "dir(tuple)"
   ]
  },
  {
   "cell_type": "code",
   "execution_count": 28,
   "metadata": {},
   "outputs": [
    {
     "data": {
      "text/plain": [
       "['__add__',\n",
       " '__class__',\n",
       " '__contains__',\n",
       " '__delattr__',\n",
       " '__delitem__',\n",
       " '__dir__',\n",
       " '__doc__',\n",
       " '__eq__',\n",
       " '__format__',\n",
       " '__ge__',\n",
       " '__getattribute__',\n",
       " '__getitem__',\n",
       " '__gt__',\n",
       " '__hash__',\n",
       " '__iadd__',\n",
       " '__imul__',\n",
       " '__init__',\n",
       " '__init_subclass__',\n",
       " '__iter__',\n",
       " '__le__',\n",
       " '__len__',\n",
       " '__lt__',\n",
       " '__mul__',\n",
       " '__ne__',\n",
       " '__new__',\n",
       " '__reduce__',\n",
       " '__reduce_ex__',\n",
       " '__repr__',\n",
       " '__reversed__',\n",
       " '__rmul__',\n",
       " '__setattr__',\n",
       " '__setitem__',\n",
       " '__sizeof__',\n",
       " '__str__',\n",
       " '__subclasshook__',\n",
       " 'append',\n",
       " 'clear',\n",
       " 'copy',\n",
       " 'count',\n",
       " 'extend',\n",
       " 'index',\n",
       " 'insert',\n",
       " 'pop',\n",
       " 'remove',\n",
       " 'reverse',\n",
       " 'sort']"
      ]
     },
     "execution_count": 28,
     "metadata": {},
     "output_type": "execute_result"
    }
   ],
   "source": [
    "dir(list)"
   ]
  },
  {
   "cell_type": "code",
   "execution_count": 29,
   "metadata": {},
   "outputs": [
    {
     "name": "stdout",
     "output_type": "stream",
     "text": [
      "L.append(object) -> None -- append object to end\n"
     ]
    }
   ],
   "source": [
    "print(list.append.__doc__)"
   ]
  },
  {
   "cell_type": "markdown",
   "metadata": {},
   "source": [
    "## List - enumerate and more\n",
    "---\n",
    "- __Before we deal with methods__ we need to know how to traverse the elements of a list\n",
    "- range(len())\n",
    "- enumerate()"
   ]
  },
  {
   "cell_type": "code",
   "execution_count": 30,
   "metadata": {},
   "outputs": [
    {
     "name": "stdout",
     "output_type": "stream",
     "text": [
      "0\n",
      "1\n",
      "2\n",
      "3\n",
      "4\n"
     ]
    }
   ],
   "source": [
    "'''\n",
    "    Prefer enumerate over range\n",
    "    1. range => built-in function useful for loop that iterate over a set of integers\n",
    "'''\n",
    "for i in range(5):\n",
    "    print(i)"
   ]
  },
  {
   "cell_type": "code",
   "execution_count": 31,
   "metadata": {},
   "outputs": [
    {
     "name": "stdout",
     "output_type": "stream",
     "text": [
      "Vanilla is delicious \n",
      "Chocolate is delicious \n",
      "Pecan is delicious \n",
      "Strawberry is delicious \n"
     ]
    }
   ],
   "source": [
    "'''when you have a data structure to iterate over, you can loop directly over the sequence'''\n",
    "flavor_list = ['vanilla', 'chocolate', 'pecan', 'strawberry']\n",
    "for flavor in flavor_list:\n",
    "    print('%s is delicious ' %flavor.title())"
   ]
  },
  {
   "cell_type": "code",
   "execution_count": 32,
   "metadata": {},
   "outputs": [
    {
     "name": "stdout",
     "output_type": "stream",
     "text": [
      "vanilla 0\n",
      "Index for flavor vanilla is: 0\n",
      "chocolate 1\n",
      "Index for flavor chocolate is: 1\n",
      "pecan 2\n",
      "Index for flavor pecan is: 2\n",
      "strawberry 3\n",
      "Index for flavor strawberry is: 3\n"
     ]
    }
   ],
   "source": [
    "'''Now if you also want to know the index of the current item in the list'''\n",
    "for i in range(len(flavor_list)):\n",
    "    print(flavor_list[i], i)\n",
    "    print(\"Index for flavor %s is: %d\" % (flavor_list[i], i))"
   ]
  },
  {
   "cell_type": "code",
   "execution_count": 33,
   "metadata": {},
   "outputs": [
    {
     "name": "stdout",
     "output_type": "stream",
     "text": [
      "Index for flavor vanilla is: 0\n",
      "Rank 1: vanilla\n",
      "Index for flavor chocolate is: 1\n",
      "Rank 2: chocolate\n",
      "Index for flavor pecan is: 2\n",
      "Rank 3: pecan\n",
      "Index for flavor strawberry is: 3\n",
      "Rank 4: strawberry\n"
     ]
    }
   ],
   "source": [
    "'''\n",
    "    Now if you also want to know the index of the current item in the list\n",
    "    and ALSO want to rank the flavors based on the order of appereance in the list\n",
    "'''\n",
    "for i in range(len(flavor_list)):\n",
    "    print(\"Index for flavor %s is: %d\" % (flavor_list[i], i))\n",
    "    flavor = flavor_list[i]\n",
    "    print('Rank %d: %s' % (i+1, flavor))"
   ]
  },
  {
   "cell_type": "code",
   "execution_count": 34,
   "metadata": {},
   "outputs": [
    {
     "name": "stdout",
     "output_type": "stream",
     "text": [
      "0 vanilla\n",
      "Index 0 corresponds to flavor: vanilla\n",
      "1 chocolate\n",
      "Index 1 corresponds to flavor: chocolate\n",
      "2 pecan\n",
      "Index 2 corresponds to flavor: pecan\n",
      "3 strawberry\n",
      "Index 3 corresponds to flavor: strawberry\n"
     ]
    }
   ],
   "source": [
    "'''The steps above can be confusing => here is with enumerate comes handy'''\n",
    "for i, flavor in enumerate(flavor_list):\n",
    "    print(i, flavor)\n",
    "    print(\"Index %d corresponds to flavor: %s\" % (i, flavor))"
   ]
  },
  {
   "cell_type": "code",
   "execution_count": 35,
   "metadata": {},
   "outputs": [
    {
     "name": "stdout",
     "output_type": "stream",
     "text": [
      "1 vanilla\n",
      "Index 1 corresponds to flavor: vanilla\n",
      "2 chocolate\n",
      "Index 2 corresponds to flavor: chocolate\n",
      "3 pecan\n",
      "Index 3 corresponds to flavor: pecan\n",
      "4 strawberry\n",
      "Index 4 corresponds to flavor: strawberry\n"
     ]
    }
   ],
   "source": [
    "'''Using enumerate you can specify the number from which enumerate should begin counting'''\n",
    "for i, flavor in enumerate(flavor_list, 1):\n",
    "    print(i, flavor)\n",
    "    print(\"Index %d corresponds to flavor: %s\" % (i, flavor))"
   ]
  },
  {
   "cell_type": "markdown",
   "metadata": {},
   "source": [
    "```\n",
    "    Remeber: \n",
    "    1. Enumerate provides concise syntax for looping over an iterator and getting the index of each item\n",
    "    2. Prefer enumerate instead of looping over a range and indexing into a sequence\n",
    "    3. You can always assign a second parameter to enumerate to specify the number from which to begin counting \n",
    "    (zero is the default)\n",
    "```"
   ]
  },
  {
   "cell_type": "markdown",
   "metadata": {},
   "source": [
    "## List - functions\n",
    "---"
   ]
  },
  {
   "cell_type": "code",
   "execution_count": 36,
   "metadata": {},
   "outputs": [
    {
     "name": "stdout",
     "output_type": "stream",
     "text": [
      "[3, 5, 7, 60]\n",
      "['Car', 'Nothing', 'Winner']\n",
      "==========\n",
      "\n"
     ]
    }
   ],
   "source": [
    "numeric_list  = [3, 5, 7, 60]\n",
    "string_list = ['Car', 'Nothing', 'Winner']\n",
    "print(numeric_list)\n",
    "print(string_list)\n",
    "print (\"==========\\n\")"
   ]
  },
  {
   "cell_type": "code",
   "execution_count": 37,
   "metadata": {},
   "outputs": [
    {
     "name": "stdout",
     "output_type": "stream",
     "text": [
      "The length of numeric_list is 4\n",
      "==========\n",
      "\n"
     ]
    }
   ],
   "source": [
    "\"\"\"Length\"\"\"\n",
    "print (\"The length of numeric_list is %s\" % (len(numeric_list)))\n",
    "print (\"==========\\n\")"
   ]
  },
  {
   "cell_type": "code",
   "execution_count": 38,
   "metadata": {},
   "outputs": [
    {
     "name": "stdout",
     "output_type": "stream",
     "text": [
      "You can add numeric_list and another list to get this result [3, 5, 7, 60, 'ECON611', '30', 'MAE', 90, '2019']\n",
      "==========\n",
      "\n"
     ]
    }
   ],
   "source": [
    "\"\"\" Concatenation\"\"\"\n",
    "new_list = numeric_list + [\"ECON611\", \"30\", \"MAE\", 90, '2019']\n",
    "print (\"You can add numeric_list and another list to get this result\", new_list)\n",
    "print (\"==========\\n\")"
   ]
  },
  {
   "cell_type": "code",
   "execution_count": 39,
   "metadata": {},
   "outputs": [
    {
     "name": "stdout",
     "output_type": "stream",
     "text": [
      "['Car', 'Nothing', 'Winner', 'Car', 'Nothing', 'Winner', 'Car', 'Nothing', 'Winner', 'Car', 'Nothing', 'Winner', 'Car', 'Nothing', 'Winner']\n",
      "==========\n",
      "\n"
     ]
    }
   ],
   "source": [
    "\"\"\" Repetition\"\"\"\n",
    "print (string_list*5)\n",
    "print (\"==========\\n\")"
   ]
  },
  {
   "cell_type": "code",
   "execution_count": 40,
   "metadata": {},
   "outputs": [
    {
     "name": "stdout",
     "output_type": "stream",
     "text": [
      "False\n",
      "True\n",
      "==========\n",
      "\n"
     ]
    }
   ],
   "source": [
    "\"\"\" Membership => look this is case sensitive!!!\"\"\"\n",
    "print (\"Pandora\" in (string_list))\n",
    "print (\"Car\" in (string_list))\n",
    "print (\"==========\\n\")\n"
   ]
  },
  {
   "cell_type": "code",
   "execution_count": 41,
   "metadata": {},
   "outputs": [
    {
     "name": "stdout",
     "output_type": "stream",
     "text": [
      "60 Winner\n",
      "3 Car\n",
      "==========\n",
      "\n"
     ]
    }
   ],
   "source": [
    "\"\"\" returnning item from the tuple with max and min value\"\"\"\n",
    "print (max(numeric_list), max(string_list))\n",
    "print (min(numeric_list), min(string_list))\n",
    "print (\"==========\\n\")"
   ]
  },
  {
   "cell_type": "markdown",
   "metadata": {
    "slideshow": {
     "slide_type": "slide"
    }
   },
   "source": [
    "## List - methods\n",
    "---"
   ]
  },
  {
   "cell_type": "code",
   "execution_count": 42,
   "metadata": {},
   "outputs": [
    {
     "name": "stdout",
     "output_type": "stream",
     "text": [
      "The original numeric list is: [3, 5, 7, 60]\n",
      "==========\n",
      "\n",
      "The update numeric list is: [3, 5, 7, 60, 8, 8]\n"
     ]
    }
   ],
   "source": [
    "'''list.append(i) => appends an element to a list'''\n",
    "print (\"The original numeric list is:\" , numeric_list)\n",
    "print (\"==========\\n\")\n",
    "numeric_list.append(8)\n",
    "numeric_list.append(8)\n",
    "print (\"The update numeric list is:\" , numeric_list)"
   ]
  },
  {
   "cell_type": "code",
   "execution_count": 43,
   "metadata": {},
   "outputs": [
    {
     "name": "stdout",
     "output_type": "stream",
     "text": [
      "2\n",
      "==========\n",
      "\n"
     ]
    }
   ],
   "source": [
    "'''list.count(i) => Returns count of how many times i occurs in list'''\n",
    "print(numeric_list.count(8))\n",
    "print (\"==========\\n\")"
   ]
  },
  {
   "cell_type": "code",
   "execution_count": 44,
   "metadata": {},
   "outputs": [
    {
     "name": "stdout",
     "output_type": "stream",
     "text": [
      "[3, 5, 7, 60, 8, 8]\n",
      "[3, 5, 7, 60, 8, 8, 99, 8988, 7675, 9.9]\n",
      "==========\n",
      "\n"
     ]
    }
   ],
   "source": [
    "'''list.extend(i) Appends the contents of i to list'''\n",
    "print (numeric_list)\n",
    "new_numeri_list =  [99, 8988, 7675, 9.90]\n",
    "numeric_list.extend(new_numeri_list)\n",
    "print (numeric_list)\n",
    "print (\"==========\\n\")"
   ]
  },
  {
   "cell_type": "code",
   "execution_count": 45,
   "metadata": {},
   "outputs": [
    {
     "name": "stdout",
     "output_type": "stream",
     "text": [
      "4\n",
      "==========\n",
      "\n"
     ]
    }
   ],
   "source": [
    "'''list.index(i) Returns the lowest index in list that i appears'''\n",
    "print(numeric_list.index(8))\n",
    "print (\"==========\\n\")"
   ]
  },
  {
   "cell_type": "code",
   "execution_count": 46,
   "metadata": {},
   "outputs": [
    {
     "name": "stdout",
     "output_type": "stream",
     "text": [
      "[3, 5, 7, 60, 'new99', 8, 8, 99, 8988, 7675, 9.9]\n",
      "==========\n",
      "\n"
     ]
    }
   ],
   "source": [
    "'''list.insert(index, i) The method insert(), inserts object i into list at offset index'''\n",
    "numeric_list.insert(4, \"new99\") ##inserts doesn't replace\n",
    "print (numeric_list)\n",
    "print (\"==========\\n\")"
   ]
  },
  {
   "cell_type": "code",
   "execution_count": 47,
   "metadata": {},
   "outputs": [
    {
     "name": "stdout",
     "output_type": "stream",
     "text": [
      "['2', 9, 8, 'ECON^611']\n",
      "['2', 9, 8]\n",
      "ECON^611\n",
      "==========\n",
      "\n"
     ]
    }
   ],
   "source": [
    "'''list.pop(i=list[-1]) The method pop() removes and returns last object or obj from the list, where i is an optional\n",
    "parameter, note i in here refers to the index'''\n",
    "new_list = ['2', 9, 8, \"ECON^611\"]\n",
    "print(new_list)\n",
    "removed_element = new_list.pop(-1)\n",
    "print (new_list)\n",
    "print(removed_element)\n",
    "print (\"==========\\n\")"
   ]
  },
  {
   "cell_type": "code",
   "execution_count": 48,
   "metadata": {},
   "outputs": [
    {
     "name": "stdout",
     "output_type": "stream",
     "text": [
      "['2', 9, 8]\n",
      "None\n",
      "==========\n",
      "\n"
     ]
    }
   ],
   "source": [
    "'''list.remove(i) Removes object obj from list'''\n",
    "new_list = ['2', 9, 8, \"ECON^611\"]\n",
    "removed_element = new_list.remove(\"ECON^611\")\n",
    "print (new_list)\n",
    "print(removed_element) ## funky it doesn't assing the removed value to \n",
    "print (\"==========\\n\")"
   ]
  },
  {
   "cell_type": "code",
   "execution_count": 49,
   "metadata": {},
   "outputs": [
    {
     "name": "stdout",
     "output_type": "stream",
     "text": [
      "[101.9, 90, 8.9]\n",
      "==========\n",
      "\n"
     ]
    },
    {
     "data": {
      "text/plain": [
       "[101.9, 90, 8.9]"
      ]
     },
     "execution_count": 49,
     "metadata": {},
     "output_type": "execute_result"
    }
   ],
   "source": [
    "''' list.reverse()=> reverse objects from a list'''\n",
    "list_new = [8.90, 90,  101.90]\n",
    "list_new.reverse()\n",
    "print (list_new)\n",
    "print (\"==========\\n\")\n",
    "list_new"
   ]
  },
  {
   "cell_type": "code",
   "execution_count": 50,
   "metadata": {},
   "outputs": [
    {
     "name": "stdout",
     "output_type": "stream",
     "text": [
      "[8.9, 90, 101.9]\n"
     ]
    }
   ],
   "source": [
    "''' list.sort() The method sort() sorts items of list, use compare func if given.'''\n",
    "list_new.sort()\n",
    "print (list_new)"
   ]
  },
  {
   "cell_type": "markdown",
   "metadata": {},
   "source": [
    "## FROM your readings - DELETING ITEMS\n",
    "---\n",
    "- pop()\n",
    "- remove()\n",
    "- del "
   ]
  },
  {
   "cell_type": "code",
   "execution_count": 51,
   "metadata": {},
   "outputs": [
    {
     "name": "stdout",
     "output_type": "stream",
     "text": [
      "['a', 'b', 'c']\n",
      "==========\n",
      "\n",
      "b\n",
      "==========\n",
      "\n"
     ]
    }
   ],
   "source": [
    "'''\n",
    "    IF YOU KNOW THE INDEX OF THE ELEMENT WE WANT TO DELETE\n",
    "    1. POP modifies the list and returns the element that was removed\n",
    "    2. If you dont provide an index, IT DELETES AND RETURNS THE LAST ELEMENT\n",
    "'''\n",
    "t = ['a', 'b', 'c']\n",
    "print(t)\n",
    "print (\"==========\\n\")\n",
    "x = t.pop(1)\n",
    "print(x)\n",
    "print (\"==========\\n\")"
   ]
  },
  {
   "cell_type": "code",
   "execution_count": 52,
   "metadata": {},
   "outputs": [
    {
     "name": "stdout",
     "output_type": "stream",
     "text": [
      "['a', 'b', 'c']\n",
      "==========\n",
      "\n",
      "['a', 'c']\n",
      "==========\n",
      "\n"
     ]
    }
   ],
   "source": [
    "'''\n",
    "    IF YOU DONT NEED THE REMOVED VALUE USE DEL\n",
    "'''\n",
    "t = ['a', 'b', 'c']\n",
    "print(t)\n",
    "print (\"==========\\n\")\n",
    "del t[1]\n",
    "print(t)\n",
    "print (\"==========\\n\")"
   ]
  },
  {
   "cell_type": "code",
   "execution_count": 53,
   "metadata": {},
   "outputs": [
    {
     "name": "stdout",
     "output_type": "stream",
     "text": [
      "['a', 'b', 'c']\n",
      "==========\n",
      "\n",
      "['a', 'c']\n",
      "==========\n",
      "\n"
     ]
    }
   ],
   "source": [
    "'''\n",
    "    IF YOU KNOW THE ELEMENT YOU WANT TO REMOVE - BUT NOT THE INDEX - USE REMOVE - note the return value from\n",
    "    remove is NONE\n",
    "'''\n",
    "t = ['a', 'b', 'c']\n",
    "print(t)\n",
    "print (\"==========\\n\")\n",
    "t.remove('b')\n",
    "print(t)\n",
    "print (\"==========\\n\")"
   ]
  },
  {
   "cell_type": "code",
   "execution_count": 54,
   "metadata": {},
   "outputs": [
    {
     "name": "stdout",
     "output_type": "stream",
     "text": [
      "['a', 'b', 'c']\n",
      "==========\n",
      "\n",
      "['a']\n",
      "==========\n",
      "\n"
     ]
    }
   ],
   "source": [
    "'''\n",
    "    REMOVE MORE THAN ONE ELEMENT USING SLICING\n",
    "'''\n",
    "t = ['a', 'b', 'c']\n",
    "print(t)\n",
    "print (\"==========\\n\")\n",
    "\n",
    "del t[1:5]\n",
    "print(t)\n",
    "print (\"==========\\n\")\n"
   ]
  },
  {
   "cell_type": "code",
   "execution_count": 55,
   "metadata": {},
   "outputs": [
    {
     "name": "stdout",
     "output_type": "stream",
     "text": [
      "spamfilter <class 'str'>\n",
      "==========\n",
      "\n",
      "['s', 'p', 'a', 'm', 'f', 'i', 'l', 't', 'e', 'r'] <class 'list'>\n",
      "==========\n",
      "\n"
     ]
    }
   ],
   "source": [
    "''' Pass a string or anything else to a list'''\n",
    "s = 'spamfilter'\n",
    "print(s, type(s))\n",
    "print (\"==========\\n\")\n",
    "\n",
    "t = list(s)\n",
    "print(t, type(t))\n",
    "print (\"==========\\n\")"
   ]
  },
  {
   "cell_type": "code",
   "execution_count": 56,
   "metadata": {},
   "outputs": [
    {
     "name": "stdout",
     "output_type": "stream",
     "text": [
      "['this', 'class', 'is', 'giving', 'me', 'a', 'hard', 'time', 'but', 'I', 'like', 'it'] <class 'list'>\n"
     ]
    }
   ],
   "source": [
    "'''Breaking a string into a list'''\n",
    "s = 'this class is giving me a hard time but I like it'\n",
    "t = s.split()\n",
    "print(t, type(t))"
   ]
  },
  {
   "cell_type": "code",
   "execution_count": 57,
   "metadata": {},
   "outputs": [
    {
     "name": "stdout",
     "output_type": "stream",
     "text": [
      "['this', 'class', 'is', 'giving', 'me', 'a', 'hard', 'time', 'but', 'I', 'like', 'it'] <class 'list'>\n"
     ]
    }
   ],
   "source": [
    "'''Breaking a string into a list using a delimeter'''\n",
    "s = 'this_class_is_giving_me_a_hard_time_but_I_like_it'\n",
    "t = s.split(\"_\")\n",
    "print(t, type(t))"
   ]
  },
  {
   "cell_type": "code",
   "execution_count": 58,
   "metadata": {},
   "outputs": [
    {
     "name": "stdout",
     "output_type": "stream",
     "text": [
      "['this', 'class', 'is', 'giving', 'me', 'a', 'hard', 'time', 'but', 'I', 'like', 'it']\n",
      "this class is giving me a hard time but I like it\n"
     ]
    }
   ],
   "source": [
    "'''Joining the elements'''\n",
    "t\n",
    "print(t)\n",
    "s = \" \".join(t)\n",
    "print(s)"
   ]
  },
  {
   "cell_type": "markdown",
   "metadata": {},
   "source": [
    "## Do you know what is going on?\n",
    "---\n",
    "<p align=\"center\">\n",
    "  <img src=\"../../img/stop_pict.jpg\" width=\"256\" height=\"455\">\n",
    "</p>"
   ]
  },
  {
   "cell_type": "markdown",
   "metadata": {},
   "source": [
    "## Warm up 3\n",
    "---\n",
    "You order a mushroom and cheeze pizza from Pizza Hut and they represent your order as a list:\n",
    "```\n",
    "pizza1 = ['cheese', 'mushroom]\n",
    "```\n",
    "Then you realize you want to add onions. You know that Pizza Hut needs to update your order but they don't know anything about programming. So they do this:\n",
    "```\n",
    "pizza2 = pizza1+ ['onions']\n",
    "pizza1 = ['cheese', 'mushroom]\n",
    "pizza2 = ['cheese', 'mushroom], 'onions'\n",
    "```\n",
    "What is wrong here? DO you really want 2 pizzas? How can you mutate the existing pizza1?"
   ]
  },
  {
   "cell_type": "markdown",
   "metadata": {},
   "source": [
    "## Warm up 3 - continue\n",
    "---\n",
    "In a paper write the output of the following:\n",
    "\n",
    "```\n",
    "lst1 = [1,2,3]\n",
    "lst2 = lst1\n",
    "lst2 is lst1\n",
    "```\n",
    "\n",
    "```\n",
    "lst1.append(4)\n",
    "lst1\n",
    "```\n",
    "\n",
    "```\n",
    "lst2\n",
    "```\n",
    "\n",
    "```\n",
    "lst2[1] = 42\n",
    "lst2\n",
    "```\n",
    "\n",
    "```\n",
    "lst1\n",
    "```\n",
    "\n",
    "\n",
    "```\n",
    "lst1 = lst1 +[5]\n",
    "lst1\n",
    "```\n",
    "\n",
    "\n",
    "```\n",
    "lst2\n",
    "```\n",
    "\n",
    "```\n",
    "lst2 is lst1\n",
    "```"
   ]
  },
  {
   "cell_type": "code",
   "execution_count": 59,
   "metadata": {},
   "outputs": [
    {
     "data": {
      "text/plain": [
       "True"
      ]
     },
     "execution_count": 59,
     "metadata": {},
     "output_type": "execute_result"
    }
   ],
   "source": [
    "lst1 = [1,2,3]\n",
    "lst2 = lst1\n",
    "lst2 is lst1"
   ]
  },
  {
   "cell_type": "code",
   "execution_count": 60,
   "metadata": {},
   "outputs": [
    {
     "data": {
      "text/plain": [
       "[1, 2, 3, 4]"
      ]
     },
     "execution_count": 60,
     "metadata": {},
     "output_type": "execute_result"
    }
   ],
   "source": [
    "lst1.append(4)\n",
    "lst1"
   ]
  },
  {
   "cell_type": "code",
   "execution_count": 61,
   "metadata": {},
   "outputs": [
    {
     "name": "stdout",
     "output_type": "stream",
     "text": [
      "[1, 2, 3, 4]\n"
     ]
    },
    {
     "data": {
      "text/plain": [
       "[1, 42, 3, 4]"
      ]
     },
     "execution_count": 61,
     "metadata": {},
     "output_type": "execute_result"
    }
   ],
   "source": [
    "print(lst2)\n",
    "lst2[1] = 42\n",
    "lst2"
   ]
  },
  {
   "cell_type": "code",
   "execution_count": 62,
   "metadata": {},
   "outputs": [
    {
     "name": "stdout",
     "output_type": "stream",
     "text": [
      "[1, 42, 3, 4]\n"
     ]
    },
    {
     "data": {
      "text/plain": [
       "[1, 42, 3, 4, 5]"
      ]
     },
     "execution_count": 62,
     "metadata": {},
     "output_type": "execute_result"
    }
   ],
   "source": [
    "print(lst1)\n",
    "lst1 = lst1 +[5]\n",
    "lst1"
   ]
  },
  {
   "cell_type": "code",
   "execution_count": 63,
   "metadata": {},
   "outputs": [
    {
     "data": {
      "text/plain": [
       "False"
      ]
     },
     "execution_count": 63,
     "metadata": {},
     "output_type": "execute_result"
    }
   ],
   "source": [
    "lst2 is lst1"
   ]
  },
  {
   "cell_type": "markdown",
   "metadata": {},
   "source": [
    "## Warm up 4\n",
    "---\n",
    "Create a new list with the converted numbers. If something cannot be converted, skip it and append nothing to the new list.\n",
    "HINT: you can cast a value as an integer using ```int()```, or as a float using ```float()```, or as a string using ```str()```"
   ]
  },
  {
   "cell_type": "code",
   "execution_count": 64,
   "metadata": {
    "collapsed": true
   },
   "outputs": [],
   "source": [
    "corrupted = ['!1', '23.1', '23.4.5', '??12', '.12', '12-12', '-11.1', '0-1', '*12.1', '1000']"
   ]
  },
  {
   "cell_type": "code",
   "execution_count": 65,
   "metadata": {},
   "outputs": [
    {
     "name": "stdout",
     "output_type": "stream",
     "text": [
      "[23.1, 0.12, -11.1, 1000.0]\n"
     ]
    }
   ],
   "source": [
    "cleaned = []\n",
    "for item in corrupted:\n",
    "    try:\n",
    "        cleaned.append(float(item))\n",
    "    except:\n",
    "        pass\n",
    "print (cleaned)"
   ]
  },
  {
   "cell_type": "markdown",
   "metadata": {},
   "source": [
    "## Warm up 5\n",
    "---\n",
    "- Write a function ```square_elements``` which takes a list and replaces each element with the square of that element.\n",
    "- NOTE: MUTATE THE ORIGINAL LIST INSTEAD OF CREATING A NEW LIST"
   ]
  },
  {
   "cell_type": "code",
   "execution_count": 66,
   "metadata": {
    "collapsed": true
   },
   "outputs": [],
   "source": [
    "def square_elements(lst):\n",
    "    '''Squares every element in a list'''\n",
    "    i = 0\n",
    "    while i < len(lst):\n",
    "        lst[i] = lst[i]*lst[i]\n",
    "        i +=1\n",
    "    return lst"
   ]
  },
  {
   "cell_type": "code",
   "execution_count": 67,
   "metadata": {},
   "outputs": [
    {
     "data": {
      "text/plain": [
       "[1, 4, 9, 16]"
      ]
     },
     "execution_count": 67,
     "metadata": {},
     "output_type": "execute_result"
    }
   ],
   "source": [
    "square_elements([1,2,3,4])"
   ]
  },
  {
   "cell_type": "markdown",
   "metadata": {},
   "source": [
    "## Tuples\n",
    "---\n",
    "- __Sequence of values, where the value can be of any type and we can index a tuple using an integer => thus behave like a list.\n",
    "- Tuples are not MUTABLE"
   ]
  },
  {
   "cell_type": "code",
   "execution_count": 68,
   "metadata": {},
   "outputs": [
    {
     "name": "stdout",
     "output_type": "stream",
     "text": [
      "<class 'tuple'>\n"
     ]
    }
   ],
   "source": [
    "'''THIS IS A TUPLE'''\n",
    "t = 'a', 'b', 'c', 'd','e'\n",
    "print(type(t))"
   ]
  },
  {
   "cell_type": "code",
   "execution_count": 69,
   "metadata": {},
   "outputs": [
    {
     "name": "stdout",
     "output_type": "stream",
     "text": [
      "<class 'tuple'>\n"
     ]
    }
   ],
   "source": [
    "'''THIS IS ALSO A TUPLE'''\n",
    "t = ('a', 'b', 'c', 'd','e')\n",
    "print(type(t))"
   ]
  },
  {
   "cell_type": "code",
   "execution_count": 70,
   "metadata": {},
   "outputs": [
    {
     "name": "stdout",
     "output_type": "stream",
     "text": [
      "<class 'tuple'>\n"
     ]
    }
   ],
   "source": [
    "'''THIS IS ALSO A TUPLE => notice the comma'''\n",
    "t1 = 'a', \n",
    "print(type(t1))"
   ]
  },
  {
   "cell_type": "code",
   "execution_count": 71,
   "metadata": {},
   "outputs": [
    {
     "name": "stdout",
     "output_type": "stream",
     "text": [
      "<class 'tuple'>\n"
     ]
    }
   ],
   "source": [
    "'''THIS IS ALSO A TUPLE => notice the comma'''\n",
    "t1 = ('a', )\n",
    "print(type(t1))"
   ]
  },
  {
   "cell_type": "code",
   "execution_count": 72,
   "metadata": {},
   "outputs": [
    {
     "name": "stdout",
     "output_type": "stream",
     "text": [
      "<class 'str'>\n"
     ]
    }
   ],
   "source": [
    "'''THIS IS NOT A TUPLE => notice the comma'''\n",
    "t2 = ('a')\n",
    "print(type(t2))"
   ]
  },
  {
   "cell_type": "code",
   "execution_count": 73,
   "metadata": {},
   "outputs": [
    {
     "name": "stdout",
     "output_type": "stream",
     "text": [
      "<class 'tuple'>\n"
     ]
    }
   ],
   "source": [
    "'''call the function as is'''\n",
    "t = tuple()\n",
    "print(type(t))"
   ]
  },
  {
   "cell_type": "code",
   "execution_count": 74,
   "metadata": {},
   "outputs": [
    {
     "name": "stdout",
     "output_type": "stream",
     "text": [
      "<class 'tuple'>\n",
      "<class 'tuple'>\n",
      "<class 'tuple'>\n"
     ]
    }
   ],
   "source": [
    "'''call the function as is'and pass a sequence'''\n",
    "t1 = tuple([1,2,3,4])\n",
    "print(type(t1))\n",
    "t2 = tuple('econ611')\n",
    "print(type(t2))\n",
    "t3 = tuple((4,5))\n",
    "print(type(t3))"
   ]
  },
  {
   "cell_type": "code",
   "execution_count": 75,
   "metadata": {},
   "outputs": [
    {
     "name": "stdout",
     "output_type": "stream",
     "text": [
      "1\n",
      "(3, 4)\n",
      "e\n",
      "('o', 'n', '6')\n",
      "4\n",
      "5\n"
     ]
    }
   ],
   "source": [
    "'''You can access the elements of a tuple in the same manner as the str and lst'''\n",
    "print(t1[0])\n",
    "print(t1[2:4]) ##slice a tuple\n",
    "\n",
    "print(t2[0])\n",
    "print(t2[2:5]) ##slice a tuple\n",
    "\n",
    "print(t3[0])\n",
    "print(t3[1])"
   ]
  },
  {
   "cell_type": "code",
   "execution_count": 76,
   "metadata": {},
   "outputs": [
    {
     "ename": "TypeError",
     "evalue": "'tuple' object does not support item assignment",
     "output_type": "error",
     "traceback": [
      "\u001b[0;31m---------------------------------------------------------------------------\u001b[0m",
      "\u001b[0;31mTypeError\u001b[0m                                 Traceback (most recent call last)",
      "\u001b[0;32m<ipython-input-76-d559e144b783>\u001b[0m in \u001b[0;36m<module>\u001b[0;34m()\u001b[0m\n\u001b[1;32m      1\u001b[0m \u001b[0;34m'''Remember tuples are IMMUTABLE'''\u001b[0m\u001b[0;34m\u001b[0m\u001b[0m\n\u001b[0;32m----> 2\u001b[0;31m \u001b[0mt1\u001b[0m\u001b[0;34m[\u001b[0m\u001b[0;36m0\u001b[0m\u001b[0;34m]\u001b[0m \u001b[0;34m=\u001b[0m \u001b[0;36m4\u001b[0m\u001b[0;34m\u001b[0m\u001b[0m\n\u001b[0m",
      "\u001b[0;31mTypeError\u001b[0m: 'tuple' object does not support item assignment"
     ]
    }
   ],
   "source": [
    "'''Remember tuples are IMMUTABLE'''\n",
    "t1[0] = 4"
   ]
  },
  {
   "cell_type": "code",
   "execution_count": 77,
   "metadata": {},
   "outputs": [
    {
     "name": "stdout",
     "output_type": "stream",
     "text": [
      "(1, 2, 3, 4) <class 'tuple'>\n",
      "(4, 2, 3, 4) <class 'tuple'>\n"
     ]
    }
   ],
   "source": [
    "'''But you can work around this'''\n",
    "print(t1, type(t1))\n",
    "t1 = (4,) + t1[1:]\n",
    "print(t1, type(t1))"
   ]
  },
  {
   "cell_type": "code",
   "execution_count": 78,
   "metadata": {},
   "outputs": [
    {
     "name": "stdout",
     "output_type": "stream",
     "text": [
      "(4, 5) (4, 2, 3, 4)\n",
      "False\n",
      "True\n",
      "False\n"
     ]
    }
   ],
   "source": [
    "'''\n",
    "    Comparing values of a tuple with relational operators\n",
    "    NOTE:  THIS RELATIONAL OPERATOR WORKS WITH OTHER SEQUENCES\n",
    "           IT COMPARES THE FIRST ELEMENT FROM EACH SEQUENCE, IF EQUAL MOVES TO THE NEXT ELEMENT UNTIL IT FINDS\n",
    "           THE ELEMENT THAT DIFFER THEN STOPS\n",
    "'''\n",
    "print(t3, t1)\n",
    "print(t3 < t1)\n",
    "print(t3 > t1)\n",
    "print(t3 == t1)"
   ]
  },
  {
   "cell_type": "code",
   "execution_count": 79,
   "metadata": {},
   "outputs": [
    {
     "name": "stdout",
     "output_type": "stream",
     "text": [
      "[100, 'b', 'c', 'd', 'e', 'f', 'g', 'h'] **** [100, 'b', 'c', 'd', 'e', 'f', 'g', 'h']\n",
      "[102, 103, 104, 105] **** [100, 'b', 'c', 'd', 'e', 'f', 'g', 'h'] **** [102, 103, 104, 105]\n",
      "[102, 103, 104, 105] **** [100, 'b', 'c', 'd', 'e', 'f', 'g', 'h'] **** [100, 'b', 'c', 'd', 'e', 'f', 'g', 'h'] **** [100, 'b', 'c', 'd', 'e', 'f', 'g', 'h']\n"
     ]
    },
    {
     "ename": "AssertionError",
     "evalue": "",
     "output_type": "error",
     "traceback": [
      "\u001b[0;31m---------------------------------------------------------------------------\u001b[0m",
      "\u001b[0;31mAssertionError\u001b[0m                            Traceback (most recent call last)",
      "\u001b[0;32m<ipython-input-79-23c55bfb2c14>\u001b[0m in \u001b[0;36m<module>\u001b[0;34m()\u001b[0m\n\u001b[1;32m      7\u001b[0m \u001b[0mb\u001b[0m \u001b[0;34m=\u001b[0m \u001b[0mtest\u001b[0m\u001b[0;34m\u001b[0m\u001b[0m\n\u001b[1;32m      8\u001b[0m \u001b[0mprint\u001b[0m\u001b[0;34m(\u001b[0m\u001b[0ma\u001b[0m\u001b[0;34m,\u001b[0m \u001b[0;34m\"****\"\u001b[0m\u001b[0;34m,\u001b[0m \u001b[0mtest\u001b[0m\u001b[0;34m,\u001b[0m \u001b[0;34m\"****\"\u001b[0m\u001b[0;34m,\u001b[0m \u001b[0mb\u001b[0m\u001b[0;34m,\u001b[0m \u001b[0;34m\"****\"\u001b[0m\u001b[0;34m,\u001b[0m \u001b[0mtest\u001b[0m \u001b[0;34m)\u001b[0m\u001b[0;34m\u001b[0m\u001b[0m\n\u001b[0;32m----> 9\u001b[0;31m \u001b[0;32massert\u001b[0m \u001b[0ma\u001b[0m\u001b[0;34m==\u001b[0m\u001b[0mb\u001b[0m \u001b[0;32mand\u001b[0m \u001b[0ma\u001b[0m \u001b[0;34m==\u001b[0m\u001b[0mtest\u001b[0m  \u001b[0;32mand\u001b[0m \u001b[0mb\u001b[0m \u001b[0;34m==\u001b[0m\u001b[0mtest\u001b[0m\u001b[0;34m\u001b[0m\u001b[0m\n\u001b[0m\u001b[1;32m     10\u001b[0m \u001b[0;34m\u001b[0m\u001b[0m\n\u001b[1;32m     11\u001b[0m \u001b[0;34m'''Here is a more elegant way of doing the same'''\u001b[0m\u001b[0;34m\u001b[0m\u001b[0m\n",
      "\u001b[0;31mAssertionError\u001b[0m: "
     ]
    }
   ],
   "source": [
    "''' SWAP VALUES THE PYTHONIC WAY'''\n",
    "test =a\n",
    "print \n",
    "print(a, \"****\", test)\n",
    "a = b\n",
    "print(a, \"****\", test, \"****\", b)\n",
    "b = test\n",
    "print(a, \"****\", test, \"****\", b, \"****\", test )\n",
    "assert a==b and a ==test  and b ==test\n",
    "\n",
    "'''Here is a more elegant way of doing the same'''\n",
    "a, b = b, a\n",
    "assert a==b and b ==a\n",
    "print(a, \"****\", b)\n"
   ]
  },
  {
   "cell_type": "code",
   "execution_count": 80,
   "metadata": {},
   "outputs": [
    {
     "name": "stdout",
     "output_type": "stream",
     "text": [
      "(2, 1)\n",
      "2 1\n"
     ]
    }
   ],
   "source": [
    "'''\n",
    "    Hidden gems: the divmod => meaning a buil-in function that takes 2 arguments and returns a \n",
    "    tuple quotient and reminder\n",
    "'''\n",
    "t = divmod(7,3)\n",
    "print(t)\n",
    "\n",
    "'''we can assign these values to a variable'''\n",
    "quot, rem = divmod(7,3)\n",
    "print(quot, rem)"
   ]
  },
  {
   "cell_type": "code",
   "execution_count": 81,
   "metadata": {},
   "outputs": [
    {
     "ename": "TypeError",
     "evalue": "divmod expected 2 arguments, got 1",
     "output_type": "error",
     "traceback": [
      "\u001b[0;31m---------------------------------------------------------------------------\u001b[0m",
      "\u001b[0;31mTypeError\u001b[0m                                 Traceback (most recent call last)",
      "\u001b[0;32m<ipython-input-81-98d6bfbd151d>\u001b[0m in \u001b[0;36m<module>\u001b[0;34m()\u001b[0m\n\u001b[1;32m      5\u001b[0m '''\n\u001b[1;32m      6\u001b[0m \u001b[0mt\u001b[0m \u001b[0;34m=\u001b[0m \u001b[0;34m(\u001b[0m\u001b[0;36m7\u001b[0m\u001b[0;34m,\u001b[0m\u001b[0;36m3\u001b[0m\u001b[0;34m)\u001b[0m\u001b[0;34m\u001b[0m\u001b[0m\n\u001b[0;32m----> 7\u001b[0;31m \u001b[0mdivmod\u001b[0m\u001b[0;34m(\u001b[0m\u001b[0mt\u001b[0m\u001b[0;34m)\u001b[0m\u001b[0;34m\u001b[0m\u001b[0m\n\u001b[0m",
      "\u001b[0;31mTypeError\u001b[0m: divmod expected 2 arguments, got 1"
     ]
    }
   ],
   "source": [
    "'''\n",
    "    Hidden gems: the *args\n",
    "    1. *args => if we have a sequence of values that want to pass it into a function as multiple argument use the\n",
    "    * operator \n",
    "'''\n",
    "t = (7,3)\n",
    "divmod(t)\n"
   ]
  },
  {
   "cell_type": "code",
   "execution_count": 82,
   "metadata": {},
   "outputs": [
    {
     "name": "stdout",
     "output_type": "stream",
     "text": [
      "(7, 3)\n"
     ]
    },
    {
     "data": {
      "text/plain": [
       "(2, 1)"
      ]
     },
     "execution_count": 82,
     "metadata": {},
     "output_type": "execute_result"
    }
   ],
   "source": [
    "print(t)\n",
    "divmod(*t)"
   ]
  },
  {
   "cell_type": "code",
   "execution_count": 83,
   "metadata": {},
   "outputs": [
    {
     "name": "stdout",
     "output_type": "stream",
     "text": [
      "<zip object at 0x10ab02288>\n",
      "('e', 0)\n",
      "('c', 1)\n",
      "('o', 2)\n",
      "('n', 3)\n",
      "('6', 4)\n",
      "('1', 5)\n",
      "('1', 6)\n"
     ]
    }
   ],
   "source": [
    "'''\n",
    "    Hidden gems: zip\n",
    "    built-in function that takes 2 or more sequences and returns a list of tuples, where each tuple has\n",
    "    one element from each sequence\n",
    "'''\n",
    "a = 'econ611'\n",
    "b = [0,1,2,3,4,5,6]\n",
    "print(zip(a,b))\n",
    "\n",
    "'''When you use it in a loop is super powerful'''\n",
    "for value_pair in zip(a,b):\n",
    "    print(value_pair)"
   ]
  },
  {
   "cell_type": "code",
   "execution_count": 84,
   "metadata": {},
   "outputs": [
    {
     "data": {
      "text/plain": [
       "[('e', 0), ('c', 1), ('o', 2), ('n', 3), ('6', 4), ('1', 5), ('1', 6)]"
      ]
     },
     "execution_count": 84,
     "metadata": {},
     "output_type": "execute_result"
    }
   ],
   "source": [
    "'''Zip and list'''\n",
    "list(zip(a,b))"
   ]
  },
  {
   "cell_type": "markdown",
   "metadata": {},
   "source": [
    "## More on Tuples\n",
    "---"
   ]
  },
  {
   "cell_type": "code",
   "execution_count": 85,
   "metadata": {},
   "outputs": [
    {
     "name": "stdout",
     "output_type": "stream",
     "text": [
      "<class 'tuple'> <class 'tuple'> 3 3\n"
     ]
    }
   ],
   "source": [
    "x_tupe_1 = (\"UBER\", \"Google\", \"Worl Bank\")\n",
    "x_tupe_2 = (\"Driver\", \"Engineer\", \"Economist\")\n",
    "print (type(x_tupe_1), type(x_tupe_2), len(x_tupe_1), len(x_tupe_2))"
   ]
  },
  {
   "cell_type": "code",
   "execution_count": 86,
   "metadata": {},
   "outputs": [
    {
     "name": "stdout",
     "output_type": "stream",
     "text": [
      "The lentgth of x_tupe_1 is 3\n",
      "==========\n",
      "\n",
      "You can add x_tupe_1 and x_tupe_2 to get this result ('UBER', 'Google', 'Worl Bank', 'Driver', 'Engineer', 'Economist')\n",
      "==========\n",
      "\n",
      "('MAN_U', 'MAN_U', 'MAN_U', 'MAN_U', 'MAN_U')\n",
      "==========\n",
      "\n",
      "False\n",
      "True\n",
      "==========\n",
      "\n",
      "The elements of the x_tupe_2 are Driver\n",
      "The elements of the x_tupe_2 are Engineer\n",
      "The elements of the x_tupe_2 are Economist\n",
      "==========\n",
      "\n",
      "Worl Bank\n",
      "Google\n",
      "==========\n",
      "\n",
      "<class 'list'>\n",
      "('Trulia', 'Doordash', 'Spotify')\n"
     ]
    }
   ],
   "source": [
    "## Tuple operations\n",
    "\"\"\"Length\"\"\"\n",
    "print (\"The lentgth of x_tupe_1 is %s\" % (len(x_tupe_1)))\n",
    "print (\"==========\\n\")\n",
    "\n",
    "\"\"\" Concatenation\"\"\"\n",
    "new_tuple = x_tupe_1 + x_tupe_2\n",
    "print( \"You can add x_tupe_1 and x_tupe_2 to get this result\", new_tuple)\n",
    "print (\"==========\\n\")\n",
    "\n",
    "\"\"\" Repetition\"\"\"\n",
    "tup_1 = (\"MAN_U\", )\n",
    "print (tup_1*5)\n",
    "print (\"==========\\n\")\n",
    "\n",
    "\"\"\" Membership => look this is case sensitive!!!\"\"\"\n",
    "print (\"Uber\" in (x_tupe_1))\n",
    "print (\"UBER\" in (x_tupe_1))\n",
    "print (\"==========\\n\")\n",
    "\n",
    "\"\"\" Iteration\"\"\"\n",
    "for i in x_tupe_2:\n",
    "    print (\"The elements of the x_tupe_2 are\" ,i)\n",
    "print (\"==========\\n\"  )\n",
    "    \n",
    "\"\"\" Build in Tuple Functions\"\"\"\n",
    "\"\"\" returnning item from the tuple with max and min value\"\"\"\n",
    "print (max(x_tupe_1))\n",
    "print (min(x_tupe_1))\n",
    "print (\"==========\\n\")\n",
    "\n",
    "\"\"\" Build in Tuple Functions\"\"\"\n",
    "\"\"\" converting a list into a tuple\"\"\"\n",
    "x_list = [\"Trulia\", \"Doordash\", \"Spotify\"]\n",
    "print (type(x_list))\n",
    "print (tuple(x_list))"
   ]
  }
 ],
 "metadata": {
  "anaconda-cloud": {},
  "celltoolbar": "Slideshow",
  "kernelspec": {
   "display_name": "Python [conda env:gds-scipy16]",
   "language": "python",
   "name": "conda-env-gds-scipy16-py"
  },
  "language_info": {
   "codemirror_mode": {
    "name": "ipython",
    "version": 3
   },
   "file_extension": ".py",
   "mimetype": "text/x-python",
   "name": "python",
   "nbconvert_exporter": "python",
   "pygments_lexer": "ipython3",
   "version": "3.6.3"
  }
 },
 "nbformat": 4,
 "nbformat_minor": 1
}
