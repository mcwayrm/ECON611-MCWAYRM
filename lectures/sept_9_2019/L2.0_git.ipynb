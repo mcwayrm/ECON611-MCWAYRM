{
 "cells": [
  {
   "cell_type": "markdown",
   "metadata": {
    "slideshow": {
     "slide_type": "slide"
    }
   },
   "source": [
    "<img src=\"https://images.efollett.com/htmlroot/images/templates/storeLogos/CA/864.gif\" style=\"float: right;\"> \n",
    "\n",
    "\n",
    "\n",
    "\n",
    "# ECON611\n",
    "### Lecture 2 -  Git and GitHub\n",
    "\n",
    "\n",
    "\n",
    "### LEARNING GOALS\n",
    "\n",
    "- Understand what Git and GitHub are and how they are different\n",
    "- Apply most common [git] [1] commands (add, commit, push, and clone)\n",
    "- Creating a gitigone \n",
    "- Pull information from a repo/push information to a repo\n",
    "- Copy files in the command line\n",
    "- Branching\n",
    "\n",
    "[1]: https://www.learnenough.com/git-tutorial    \"git\"\n"
   ]
  },
  {
   "cell_type": "markdown",
   "metadata": {
    "slideshow": {
     "slide_type": "slide"
    }
   },
   "source": [
    "## The challenge....\n",
    "---\n",
    "- Multiple times we have faced this ridiculous multi nearly-identical versions of the same document? Have you experienced this?\n",
    "![gui](../../img/phdconomics_versions.png)\n",
    "*Image from http://phdcomics.com/*"
   ]
  },
  {
   "cell_type": "markdown",
   "metadata": {
    "slideshow": {
     "slide_type": "slide"
    }
   },
   "source": [
    "## What is version control: def 1?\n",
    "---\n",
    "- Word processors help us deal with this in a somehow better way.\n",
    "    - Microsoft Word\n",
    "    - Google Docs\n",
    "    \n",
    "- __Version control__ is a system that records changes to a file or set of files over time so that you can recall specific versions later (Chacon & Straub)\n",
    "\n"
   ]
  },
  {
   "cell_type": "markdown",
   "metadata": {
    "slideshow": {
     "slide_type": "slide"
    }
   },
   "source": [
    "## What is version control: Visually?\n",
    "---\n",
    "\n",
    "- A __version control__ system begins with a base document, then records each change you make. \n",
    "    - It is like recording your progress where you can start at a base document and playback each change made until eventually arriving at the most recent version. \n",
    "![gui](../../img/version_1.png)\n",
    "*Image from swcarpentry*\n",
    " \n",
    "    - If you think changes as separate parts from the document itself, you can begin reaching/playing back the different sets of changes on the base document => This results in different versions of the same document.\n",
    "    - In the case below => two different users can make independent sets of changes on the same doc.\n",
    "![gui](../../img/version_2.png)\n",
    "*Image from swcarpentry*\n",
    "\n",
    "    - Then you are more likely to incorporate the 2 set of changes into the same base document\n",
    "![gui](../../img/version_3.png)\n",
    "*Image from swcarpentry*"
   ]
  },
  {
   "cell_type": "markdown",
   "metadata": {
    "slideshow": {
     "slide_type": "slide"
    }
   },
   "source": [
    "## So... version control is:\n",
    "---\n",
    "- A tool that keeps track of all changes for us and in that process, creates different versions of our files.\n",
    "- Version Control System (VCS) allows you to:\n",
    "\n",
    "        - revert selected files back to a previous state\n",
    "        - revert the entire project back to a previous state\n",
    "        - compare changes over time\n",
    "        - see who last modified something that might be causing a problem\n",
    "        - who introduced an issue and when, and more. \n",
    "\n",
    "- Plain simple.... a VCS means that if you screw things up or lose files, you can easily recover. (Chacon & Straub)\n"
   ]
  },
  {
   "cell_type": "markdown",
   "metadata": {
    "slideshow": {
     "slide_type": "slide"
    }
   },
   "source": [
    "## VCS - short history - local computer:\n",
    "---\n",
    "- __Local Version Control Systems__ => copy files into another directory (SOUNDS FAMILIAR?): \n",
    "    - Helpful but prone to error\n",
    "    - Solution => programmers developed local VCS... a simple database that kept all the changes to files under revision control\n",
    "    \n",
    "![gui](../../img/vcs_1.png)   \n",
    "*Image from ProGit*"
   ]
  },
  {
   "cell_type": "markdown",
   "metadata": {
    "slideshow": {
     "slide_type": "slide"
    }
   },
   "source": [
    "## VCS - short history - centralized version :\n",
    "---\n",
    "- __Centralized Version Controls Systems__ => there was a need to collaborate with developers/peers on other projects/systems. CVCS were developed, with the idea of having a **single server that contains all the verioned files as well as the number of clients that check out files from that central place**\n",
    "\n",
    "    - **THE ISSUE:** if a server goes down (Salesforce) and that is the single point of entry, the entire system is paralized. __Scary__ => _If the hard disk the central database is on becomes corrupted, and proper backups haven’t been kept, you lose absolutely everything — the entire history of the project except whatever single snapshots people happen to have on their local machines._ (Chacon & Straub)\n",
    "![gui](../../img/vcs_2.png)\n",
    "*Image from ProGit*\n"
   ]
  },
  {
   "cell_type": "markdown",
   "metadata": {
    "slideshow": {
     "slide_type": "slide"
    }
   },
   "source": [
    "## VCS - short history -  distributed version:\n",
    "---\n",
    "- __Distributed Version Controls Systems__ => In a DVCS (such as __Git__), clients don’t just check out the latest snapshot of the files; instead, they fully mirror the repository, including its full __history.__ Thus, if any server dies, and these systems were collaborating via that server, any of the client repositories can be copied back up to the server to restore it. Every clone is a full backup of all the data. (Chacon & Straub)\n",
    "\n",
    "- DVCS deal pretty well with having several remote repositories they can work with\n",
    "    - You can collaborate with different groups of people in different ways simultaneously within the same project.\n",
    "    - Allows you to set up several types of workflows that aren’t possible in centralized systems.\n",
    "![gui](../../img/vcs_3.png)\n",
    "*Image from ProGit*"
   ]
  },
  {
   "cell_type": "markdown",
   "metadata": {
    "slideshow": {
     "slide_type": "slide"
    }
   },
   "source": [
    "## Git :\n",
    "---\n",
    "- 2005 \n",
    "- Speed\n",
    "- Simple Design (hard to believe it)\n",
    "- Strong support for non-linear development (parallel branches)\n",
    "- Fully Distributed\n",
    "- Handle large projects, similar to the [Linux Kernel](https://en.wikipedia.org/wiki/Linux_kernel)... something we convered last lecture.\n",
    "\n",
    "![gui](../../img/git_1.png)\n",
    "*Image from https://linuxhint.com*\n"
   ]
  },
  {
   "cell_type": "markdown",
   "metadata": {
    "slideshow": {
     "slide_type": "slide"
    }
   },
   "source": [
    "## What the heck is GIT???\n",
    "---\n",
    "- GIT thinks about its data as SNAPSHOTS - NOT DIFFERENCES\n",
    "    - Other systems store information as a list of file-based changes\n",
    "    - Other systems think of the information they store like a set of files and the changes (delta) made to each file over time.\n",
    "\n",
    "![gui](../../img/git_2.png)\n",
    "*Image from https://git-scm.com/*  \n"
   ]
  },
  {
   "cell_type": "markdown",
   "metadata": {
    "slideshow": {
     "slide_type": "slide"
    }
   },
   "source": [
    "## What the heck is GIT???\n",
    "---\n",
    "- GIT => Thinks of its data as series of SNAPSHOTS of miniature filesystem. \n",
    "    - Every time you commit/save the state of your project => GIT takes a picture of what all your files look like __at that time/moment__ and stores a reference to that snapshot.\n",
    "    - If files have not changed => GIT doesn't store the file again => just a link to the previous identical file is stored.\n",
    "    - GIT thinks about its data => STREAM of SNAPSHOTS\n",
    "\n",
    "![gui](../../img/git_3.png)\n",
    "*Image from https://git-scm.com/*  "
   ]
  },
  {
   "cell_type": "markdown",
   "metadata": {
    "slideshow": {
     "slide_type": "slide"
    }
   },
   "source": [
    "## What the heck is GIT???\n",
    "---\n",
    "- __GIT - Almost every operation is LOCAL__\n",
    "    - No information from another computer in my network\n",
    "    - Want to know the history of a project: GIT doesn't go out to a server to get the history and give it to you, it reads the history from your local database\n",
    "    - If you are offline or off VPN (virtual private network)... meaning that when you dont have access to the internet you can commit to your local copy, then get to a network access then upload the file.\n",
    "    \n",
    "    \n",
    "- __GIT - Generally only adds data__  \n",
    "    - Actions in GIT, nearly only add data to the Git database. \n",
    "    - __YOU CAN LOSE OR MESS UP__ changes you haven't committed yet...but after you commit a SNAPSHOT into Git it is very difficult to lose.. [Want to Undo things?](https://git-scm.com/book/en/v2/Git-Basics-Undoing-Things#_undoing)"
   ]
  },
  {
   "cell_type": "markdown",
   "metadata": {
    "slideshow": {
     "slide_type": "slide"
    }
   },
   "source": [
    "## THE MEAT OF GIT!!!\n",
    "---\n",
    "- GIT has 3 main stages where our files reside in: \n",
    "    - MODIFIED => you have changed the file but you haven't committed to your database YET! \n",
    "    - STAGED => you have marked a modified file in its current version TO GO INTO your NEXT COMMIT Snapshot\n",
    "    - COMMITTED => means that your data is safely stored in your local database\n",
    " \n",
    "![gui](../../img/git_4.png)\n",
    "*Image from https://git-scm.com/*  \n",
    "    \n",
    "- All these stages lead us to the 3 MAIN SECTIONS OF A GIT PROJECT:\n",
    "    - __THE WORKING TREE__ => Single chekout of one version of the project. Meaning the files are pulled out of the compressed database in the GIT directory and placed on disk for you to modify.  \n",
    "    - __THE STAGING AREA AKA INDEX__ => IS A FILE, generally contained in the Git directory which stores information about what will go into your next commit.\n",
    "    - __THE GIT DIRECTORY (REPOSITORY)__ => Where GIT stores the metadata and object database of your project(s). THIS IS WHAT IS COPIED WHEN YOU CLONE A REPO FROM ANOTHER COMPUTER... ESSENCE -> THE MOST IMPORTANT PART OF GIT\n",
    "    "
   ]
  },
  {
   "cell_type": "markdown",
   "metadata": {
    "slideshow": {
     "slide_type": "slide"
    }
   },
   "source": [
    "## GIT THE WORKFLOW.\n",
    "---\n",
    "1. You modified files in your working tree\n",
    "2. You selectively stage just those changes you want to be part of your next commit => Essentially add ONLY those changes to the staging area\n",
    "3. You do a commit => take the files as they are in the staging area and stores that snapshot forever in the Git REPO!\n",
    "\n",
    "```bash\n",
    "**IN A NUTSHELL** \n",
    "If a particular version of a file is in the Git directory, it’s considered committed. \n",
    "If it has been modified and was added to the staging area, it is staged. \n",
    "And if it was changed since it was checked out but has not been staged, it is modified.\n",
    "```"
   ]
  },
  {
   "cell_type": "markdown",
   "metadata": {
    "slideshow": {
     "slide_type": "slide"
    }
   },
   "source": [
    "## Git the workflow... simple.\n",
    "---\n",
    "In other words you local repository consists of three \"trees\" maintained by git.\n",
    "1. The first one is your working directory => remember this holds the actual files\n",
    "2. Index acts as a staging area\n",
    "3. Head points to the last commit you have made.\n",
    "![gui](../../img/git_5.png)\n",
    "*Image from http://rogerdudler.github.io/git-guide/*  \n"
   ]
  },
  {
   "cell_type": "markdown",
   "metadata": {
    "slideshow": {
     "slide_type": "slide"
    }
   },
   "source": [
    "\n",
    "# __Git is not GitHub__ DO NOT make this mistake#\n",
    "---\n",
    "\n",
    "#### We just learned that Git is..\n",
    "\n",
    "[Git](https://git-scm.com/) is:\n",
    "\n",
    "- Program you run from the command line\n",
    "- Distributed version control system\n",
    "\n",
    "Programmers use Git so that they can keep the history of all the changes to their code. This means that they can rollback changes (or switch to older versions) as far back int time as they started using Git on their project.\n",
    "\n",
    "A codebase in Git is referred to as a **repository**, or **repo**, for short.\n",
    "\n",
    "---\n",
    "#### What is Github?\n",
    "\n",
    "[Github](https://github.com/) is:\n",
    "\n",
    "- A hosting service for Git repositories\n",
    "- A web interface to explore Git repositories\n",
    "- A social network of programmers\n",
    "- You can follow users and star your projects\n",
    "- Developers can access codebases on other public accounts\n",
    "- GitHub uses Git\n",
    "\n",
    "**_“Git is software. GitHub is a company that happens to use Git software.”  THEREFORE, you can certainly use Git without GitHub!_**"
   ]
  },
  {
   "cell_type": "code",
   "execution_count": null,
   "metadata": {
    "slideshow": {
     "slide_type": "slide"
    }
   },
   "outputs": [],
   "source": [
    "# Installing and configuring git\n",
    "---\n",
    "- Confirm that git is installed in your computer\n",
    "    1. Open the Termninal\n",
    "    2. cd into your Desktop\n",
    "    3. Type\n",
    "    ```bash\n",
    "    $ git --version\n",
    "    ```\n",
    "    - If this code prints something like ```git version 2.13.2``` (or any other higher version number), then you’re ready to go.\n",
    "\n",
    "    - If you see git: ```command not found``` then you need to [install git](https://git-scm.com/book/en/v2/Getting-Started-Installing-Git) and.or refer to the [installation documents from the begining of the class](https://drive.google.com/drive/u/1/folders/16jWD8dII6jrFregFmJXxgIKaZtT2R8KS)\n",
    "\n",
    "- Once git is installed we can configure some of the global options, in your terminal type this: \n",
    "```bash\n",
    "$ git config --list --show-origin\n",
    "```\n",
    "You should see an output similar to this\n",
    "\n",
    "![gui](../../img/git_set_up.png)"
   ]
  },
  {
   "cell_type": "markdown",
   "metadata": {
    "slideshow": {
     "slide_type": "slide"
    }
   },
   "source": [
    "## Configuring git - your identity\n",
    "---\n",
    "- If not then, we need to configure some a few global options - your identity\n",
    "```bash\n",
    "$ git config --global user.name \"John Dalmatian\"\n",
    "$ git config --global user.email \"johndalmatian@example.com\"\n",
    "```\n",
    "\n",
    "USE your own name and email address instead of John Dalmatian’s. This user name and email will be associated with your subsequent Git activity, which means that any changes pushed to GitHub, BitBucket, GitLab or another Git host server.\n",
    "\n",
    "You need to do this only once if you pass the ``--global`` option, because then Git will always use that information for anything you do on that system. If you want to override this with a different name or email address for specific projects, you can run the command without the ``--global`` option when you’re in that project.\n"
   ]
  },
  {
   "cell_type": "markdown",
   "metadata": {
    "slideshow": {
     "slide_type": "slide"
    }
   },
   "source": [
    "## Configuring git - your txt editor\n",
    "---\n",
    "***Try this at your own risk!!***\n",
    "\n",
    "| Editor             | Configuration command                            |\n",
    "|:-------------------|:-------------------------------------------------|\n",
    "| Atom | `$ git config --global core.editor \"atom --wait\"`|\n",
    "| nano               | `$ git config --global core.editor \"nano -w\"`    |\n",
    "| BBEdit (Mac, with command line tools) | `$ git config --global core.editor \"bbedit -w\"`    |\n",
    "| Sublime Text (Mac) | `$ git config --global core.editor \"/Applications/Sublime\\ Text.app/Contents/SharedSupport/bin/subl -n -w\"` |\n",
    "| Sublime Text (Win, 32-bit install) | `$ git config --global core.editor \"'c:/program files (x86)/sublime text 3/sublime_text.exe' -w\"` |\n",
    "| Sublime Text (Win, 64-bit install) | `$ git config --global core.editor \"'c:/program files/sublime text 3/sublime_text.exe' -w\"` |\n",
    "| Notepad++ (Win, 32-bit install)    | `$ git config --global core.editor \"'c:/program files (x86)/Notepad++/notepad++.exe' -multiInst -notabbar -nosession -noPlugin\"`|\n",
    "| Notepad++ (Win, 64-bit install)    | `$ git config --global core.editor \"'c:/program files/Notepad++/notepad++.exe' -multiInst -notabbar -nosession -noPlugin\"`|\n",
    "| Kate (Linux)       | `$ git config --global core.editor \"kate\"`       |\n",
    "| Gedit (Linux)      | `$ git config --global core.editor \"gedit --wait --new-window\"`   |\n",
    "| Scratch (Linux)       | `$ git config --global core.editor \"scratch-text-editor\"`  |\n",
    "| Emacs              | `$ git config --global core.editor \"emacs\"`   |\n",
    "| Vim                | `$ git config --global core.editor \"vim\"`   |\n",
    "| VS Code                | `$ git config --global core.editor \"code --wait\"`   |\n",
    "\n",
    "REMEMBER: You can change your configuration as many times as you want: use the\n",
    "same commands to choose another editor or update your email address."
   ]
  },
  {
   "cell_type": "markdown",
   "metadata": {
    "slideshow": {
     "slide_type": "slide"
    }
   },
   "source": [
    "## Git check your settings and help!\n",
    "---\n",
    "Settings?\n",
    "```bash\n",
    "$ git config --list\n",
    "\n",
    "```\n",
    "\n",
    "Asking for help...locally\n",
    "```bash\n",
    "$ git help <verb>\n",
    "$ git <verb> --help\n",
    "$ man git-<verb>\n",
    "\n",
    "```\n",
    "\n",
    "Asking for help - quick reference\n",
    "```bash\n",
    "$ git config -help\n",
    "$ git config -h\n",
    "you can replace config with other options\n",
    "```\n",
    "While viewing the manual, remember the `:` is a prompt waiting for commands and you can press <kbd>Q</kbd> to exit the manual."
   ]
  },
  {
   "cell_type": "markdown",
   "metadata": {
    "slideshow": {
     "slide_type": "slide"
    }
   },
   "source": [
    "## Create yet another repo\n",
    "---\n",
    "For this exercise we are going to create a directory in `Desktop` folder for our work and then move into that directory:\n",
    "```bash\n",
    "$ cd ~/Desktop\n",
    "$ mkdir repo_skills\n",
    "$ cd repo_skills\n",
    "```\n",
    "\n",
    "Now, let's tell Git to make `repo_skills` a __repository__ —in other words a place where Git can store versions of our files:\n",
    "~~~\n",
    "$ git init\n",
    "~~~\n",
    "\n",
    "NOTE: `git init` will create a repository that includes subdirectories and their files---there is no need to create\n",
    "separate repositories nested within the `repo_skills` repository, whether subdirectories are present from the beginning or added later. Also, note that the creation of the `repo_skills` directory and its initialization as a\n",
    "repository are completely separate processes.\n",
    "\n",
    "If we use `ls` to show the directory's contents,\n",
    "it appears that nothing has changed:\n",
    "~~~\n",
    "$ ls\n",
    "~~~\n",
    "\n",
    "But remember the command to access hidden files? \n",
    "~~~\n",
    "$ ls -a \n",
    "~~~\n",
    "\n",
    "It shows the following output\n",
    "~~~\n",
    ".\t..\t.git\n",
    "~~~\n",
    "\n",
    "__NOTE__\n",
    "\n",
    "Git uses this special sub-directory to store all the information about the project, including all files and sub-directories located within the project's directory. __If we ever delete the `.git` sub-directory,\n",
    "we will lose the project's history.__"
   ]
  },
  {
   "cell_type": "markdown",
   "metadata": {
    "slideshow": {
     "slide_type": "slide"
    }
   },
   "source": [
    "## Create yet another repo\n",
    "---\n",
    "Let's check if everything is setup correctly...let's ask Git about the status of the project:\n",
    "~~~\n",
    "$ git status\n",
    "~~~\n",
    "If you have done everything correct the output should be:\n",
    "~~~\n",
    "# On branch master\n",
    "#\n",
    "# Initial commit\n",
    "#\n",
    "nothing to commit (create/copy files and use \"git add\" to track)\n",
    "~~~"
   ]
  },
  {
   "cell_type": "markdown",
   "metadata": {
    "slideshow": {
     "slide_type": "slide"
    }
   },
   "source": [
    "## Do you know what is going on?\n",
    "---\n",
    "<p align=\"center\">\n",
    "  <img src=\"../../img/stop_pict.jpg\" width=\"256\" height=\"455\">\n",
    "</p>"
   ]
  },
  {
   "cell_type": "markdown",
   "metadata": {
    "slideshow": {
     "slide_type": "slide"
    }
   },
   "source": [
    "## What do you think of this - should we create a repo here?\n",
    "---\n",
    "> Along with tracking information about repo_skills (the project we have already created), \n",
    "> The classmate sitting next to you would also like to track information about other_skills.\n",
    "> Despite your concerns, you create a `other_skills` project inside his `repo_skills` \n",
    "> project with the following sequence of commands:\n",
    ">\n",
    "~~~\n",
    "$ cd ~/Desktop        # return to Desktop directory\n",
    "$ cd repo_skills      # go into repo_skills directory, which is already a Git repository\n",
    "$ ls -a               # ensure the .git sub-directory is still present in the repo_skills directory\n",
    "$ mkdir other_skills  # make a sub-directory planets/moons\n",
    "$ cd other_skills     # go into other_skills sub-directory\n",
    "$ git init            # make the other_skills sub-directory a Git repository\n",
    "$ ls -a               # ensure the .git sub-directory is present indicating we have created a new Git repository\n",
    "~~~\n",
    "\n",
    "\n",
    "## __QUESTION IS:__\n",
    "\n",
    "> __Is the `git init` command, run inside the `other_skills` sub-directory, required for tracking files stored in the `other_skills` sub-directory?__"
   ]
  },
  {
   "cell_type": "markdown",
   "metadata": {
    "slideshow": {
     "slide_type": "slide"
    }
   },
   "source": [
    "## What do you think of this - should we create a repo here?\n",
    "---\n",
    "__NOOOOOOO__ you do not need to make the `other_skills` sub-directory a Git repository because the `repo_skills` repository will track all files, sub-directories, and sub-directory files under the `repo_skills` directory.  Thus, in order to track all information about other_skills, You only needed to add the `other_skills` sub-directory to the `repo_skills` directory.\n",
    " \n",
    "> __WARNING__: Git repositories can interfere with each other if they are \"nested\":\n",
    " the outer repository will try to version-control\n",
    "the inner repository. Therefore, it's best to create each new Git\n",
    " repository in a separate directory. To be sure that there is no conflicting\n",
    "repository in the directory, check the output of `git status`. "
   ]
  },
  {
   "cell_type": "markdown",
   "metadata": {
    "slideshow": {
     "slide_type": "slide"
    }
   },
   "source": [
    "## What if you ended up creating the other_skills repo ?\n",
    "---\n",
    "REMOVE the file by doing this.....but USE WITH CAUTION!\n",
    "~~~\n",
    " $ rm filename\n",
    "~~~\n",
    "Remember that Git keeps all of its files in the `.git` directory. To recover from this little mistake, you can just remove the `.git` folder in the moons subdirectory by running the following command from inside the `other_skills` directory:\n",
    "\n",
    "~~~\n",
    "$ rm -rf other_skills/.git\n",
    "~~~\n",
    "\n",
    "AS ALWAYS be careful! __running this command in the wrong directory, will remove the entire Git history of a project you might want to keep. Therefore, always check your current directory using the command `pwd`.__"
   ]
  },
  {
   "cell_type": "markdown",
   "metadata": {
    "slideshow": {
     "slide_type": "slide"
    }
   },
   "source": [
    "## How do I record changes in Git?\n",
    "---\n",
    "First let's make sure we are in the`repo_skills` directory.\n",
    "\n",
    "~~~\n",
    "$ cd ~/Desktop/repo_skills\n",
    "~~~\n",
    "\n",
    "Let's create a txt file called `how_to.txt` and let's add some basic notes.\n",
    "\n",
    "~~~\n",
    "$ nano how_to.txt\n",
    "~~~\n",
    "\n",
    "Then type the text below into the `how_to.txt` file:\n",
    "\n",
    "~~~\n",
    "I am learning how to use Git! Hope to be a Git Ninja.\n",
    "~~~\n",
    "Once you are done typing, press `CTRL + O`, this writes the data to our computer's disk. Be aware that we’ll be asked what file we want to save this to: press Return to accept the suggested default of notes.txt).\n",
    "Now that the file is saved you can type `CTRL + X`\n",
    "\n",
    "Verify that the how_to.txt file is there.\n",
    "\n",
    "~~~\n",
    "$ ls -lt\n",
    "~~~\n",
    "\n",
    "You can rapidly see if the content of the file is correct\n",
    "~~~\n",
    "$ cat how_to.txt\n",
    "~~~\n",
    "\n",
    "Great, but now let's check the status of our project\n",
    "\n",
    "~~~\n",
    "$ git status\n",
    "~~~\n",
    "\n",
    "You should see this output\n",
    "~~~\n",
    "On branch master\n",
    "\n",
    "Initial commit\n",
    "\n",
    "Untracked files:\n",
    "   (use \"git add <file>...\" to include in what will be committed)\n",
    "\n",
    "\thow_to.txt\n",
    "nothing added to commit but untracked files present (use \"git add\" to track)\n",
    "~~~\n",
    "\n",
    "Just by reading the message you have a hint on what is going on...The \"untracked files\" message means that there's a file in the directory that Git isn't keeping track of.\n",
    "We can tell Git to track a file using `git add`:\n",
    "~~~\n",
    "$ git add how_to.txt\n",
    "~~~"
   ]
  },
  {
   "cell_type": "markdown",
   "metadata": {
    "slideshow": {
     "slide_type": "slide"
    }
   },
   "source": [
    "## How do I record changes in Git?\n",
    "---\n",
    "Now let's check the status again\n",
    "~~~\n",
    "$ git status\n",
    "~~~\n",
    "\n",
    "You should see this output:\n",
    "~~~\n",
    "On branch master\n",
    "\n",
    "Initial commit\n",
    "\n",
    "Changes to be committed:\n",
    "  (use \"git rm --cached <file>...\" to unstage)\n",
    "\n",
    "\tnew file:   how_to.txt\n",
    "\n",
    "~~~\n",
    "\n",
    "\n",
    "In this step, Git now knows that it's supposed to keep track of `how_to.txt`, but it hasn't recorded these changes as a commit yet.\n",
    "\n",
    "To get Git to do that,\n",
    "we need to run one more command:\n",
    "\n",
    "~~~\n",
    "$ git commit -m \"Learning Git\"\n",
    "~~~\n",
    "\n",
    "You should see this output:\n",
    "\n",
    "~~~\n",
    "[master (root-commit) b51b70f] Learning Git\n",
    " 1 file changed, 2 insertions(+)\n",
    " create mode 100644 how_to.txt\n",
    "~~~\n",
    "\n",
    "## What just happened?\n",
    "---\n",
    "1. When we run `git commit`, Git takes everything we have told it to save by using `git add` and stores a copy permanently inside the special `.git` directory. This permanent copy is called a commit and its short identifier is `b51b70f`. Your commit may have another identifier.\n",
    "2. We use the `-m` flag (for \"message\")to record a short, descriptive, and specific comment that will help us remember later on what we did and why. If we just run `git commit` without the `-m` option, Git will launch `nano` (or whatever other editor we configured as `core.editor`)so that we can write a longer message.\n",
    "3. ___BEST PRACTICES___ [Good commit messages](https://chris.beams.io/posts/git-commit/) start with a brief `(<50 characters)` statement about the changes made in the commit. Generally, the message should complete the sentence \"If applied, this commit will\" <commit message here>. If you want to go into more detail, add a blank line between the summary line and your additional notes. Use this additional space to explain why you made changes and/or what their impact will be."
   ]
  },
  {
   "cell_type": "markdown",
   "metadata": {
    "slideshow": {
     "slide_type": "slide"
    }
   },
   "source": [
    "## How do I record changes in Git?\n",
    "---\n",
    "Let's check the status\n",
    "~~~\n",
    "$ git status\n",
    "~~~\n",
    "\n",
    "You should see this\n",
    "~~~\n",
    "On branch master\n",
    "nothing to commit, working tree clean\n",
    "~~~\n",
    "\n",
    "It is telling us that our project is up to date. But now we want to know what we have done recently\n",
    "\n",
    "~~~\n",
    "$ git log\n",
    "~~~\n",
    "\n",
    "You should get this output:\n",
    "~~~\n",
    "Author: Mario Javier Carrillo <majacaci00@gmail.com>\n",
    "Date:   Mon Sep 9 00:59:37 2019 -0700\n",
    "\n",
    "    Learning Git\n",
    "~~~\n",
    "\n",
    "`git log` lists all commits  made to a repository in reverse chronological order.\n",
    "The listing for each commit includes:\n",
    "- the commit's full identifier (which starts with the same characters as the short identifier printed by the `git commit` command earlier) => note this may not appear due to git version\n",
    "- the commit's author,\n",
    "- when it was created,\n",
    "- log message Git was given when the commit was created."
   ]
  },
  {
   "cell_type": "markdown",
   "metadata": {
    "slideshow": {
     "slide_type": "slide"
    }
   },
   "source": [
    "## How do I record changes in Git?\n",
    "---\n",
    "So far so good.. but what if we add more information to the `how_to.txt` file;\n",
    "~~~\n",
    "$ nano how_to.txt\n",
    "~~~\n",
    "Type:\n",
    "\n",
    "~~~\n",
    "Learning is a process.. Git is not different\n",
    "~~~\n",
    "\n",
    "Then\n",
    "~~~\n",
    "$ cat how_to.txt\n",
    "~~~\n",
    "\n",
    "We have made changes, so let's see what GIT has to say:\n",
    "\n",
    "~~~\n",
    "$git status\n",
    "~~~\n",
    "\n",
    "You probably see an output like this:\n",
    "~~~\n",
    "On branch master\n",
    "Changes not staged for commit:\n",
    "  (use \"git add <file>...\" to update what will be committed)\n",
    "  (use \"git checkout -- <file>...\" to discard changes in working directory)\n",
    "\n",
    "\tmodified:   how_to.txt\n",
    "\n",
    "no changes added to commit (use \"git add\" and/or \"git commit -a\")\n",
    "~~~\n",
    "\n",
    "__IF YOU CAREFULLY READ THE LAST LINE : `no changes added to commit (use \"git add\" and/or \"git commit -a\").` It basically says that we have changed our ` how_to.txt` file, but have NOT TOLD GIT that we will want to save the changes (`git add`) even more, we have not saved them (`git commit`)__\n",
    "\n",
    "__BEST PRATICE:\n",
    "REVIEW YOUR CHANGES BEFORE SAVING THEM.... MEANING US `git diff`__\n",
    "\n",
    "The output:\n",
    "~~~\n",
    "diff --git a/how_to.txt b/how_to.txt\n",
    "index 1263754..9aaf639 100644\n",
    "--- a/how_to.txt\n",
    "+++ b/how_to.txt\n",
    "@@ -1,2 +1,3 @@\n",
    " I am learning how to use Git! Hope to be a Git Ninja.\n",
    "+Learning is a process.. Git is not different\n",
    "~~~\n",
    "has a lot of lines, but the meaning is as follows:\n",
    "~~~\n",
    "\n",
    "1.  The first line tells us that Git is producing output similar to the Unix `diff` command\n",
    "    comparing the old and new versions of the file.\n",
    "2.  The second line tells exactly which versions of the file\n",
    "    Git is comparing;\n",
    "    `1263754` and `9aaf639` are unique computer-generated labels for those versions.\n",
    "3.  The third and fourth lines once again show the name of the file being changed.\n",
    "4.  The remaining lines are the most interesting, they show us the actual differences\n",
    "    and the lines on which they occur.\n",
    "    In particular,\n",
    "    the `+` marker in the first column shows where we added a line.\n",
    "    \n",
    "\n",
    "If everything looks good to you, then we need to commit the change;\n",
    "~~~\n",
    "~~~\n",
    "$ git commit -m \"Add ideas regarding learing Git\"\n",
    "$ git status\n",
    "~~~\n",
    "\n",
    "Something went wrong.... can you guess?\n",
    "\n",
    "~~~\n",
    "On branch master\n",
    "Changes not staged for commit:\n",
    "\tmodified:   how_to.txt\n",
    "\n",
    "no changes added to commit\n",
    "~~~\n",
    "~~~\n",
    "On branch master\n",
    "Changes not staged for commit:\n",
    "  (use \"git add <file>...\" to update what will be committed)\n",
    "  (use \"git checkout -- <file>...\" to discard changes in working directory)\n",
    "\n",
    "\tmodified:   how_to.txt\n",
    "\n",
    "no changes added to commit (use \"git add\" and/or \"git commit -a\")\n",
    "~~~\n",
    "\n",
    "If you thing we need to add something you are correct..\n",
    "~~~\n",
    "$ git add how_to.txt\n",
    "$ git commit -m \"Add ideas regarding learing Git\"\n",
    "~~~\n",
    "\n",
    "The output now looks good:\n",
    "~~~\n",
    "[master a8e3f83] Add ideas regarding learing Git\n",
    " 1 file changed, 1 insertion(+)\n",
    " ~~~"
   ]
  },
  {
   "cell_type": "markdown",
   "metadata": {
    "slideshow": {
     "slide_type": "slide"
    }
   },
   "source": [
    "## Do you know what is going on?\n",
    "---\n",
    "<p align=\"center\">\n",
    "  <img src=\"../../img/stop_pict.jpg\" width=\"256\" height=\"455\">\n",
    "</p>"
   ]
  },
  {
   "cell_type": "markdown",
   "metadata": {
    "slideshow": {
     "slide_type": "slide"
    }
   },
   "source": [
    "## Do you remember GIT's workflow.\n",
    "---\n",
    "Your local repository consists of three \"trees\" maintained by git.\n",
    "1. The first one is your working directory => remember this holds the actual files\n",
    "2. Index acts as a __staging area__\n",
    "3. Head points to the last commit you have made.\n",
    "<p align=\"center\">\n",
    "  <img src=\"../../img/git_5.png\" width=\"455\" height=\"455\">\n",
    "  *Image from http://rogerdudler.github.io/git-guide/* \n",
    "</p>\n",
    "\n",
    "\n",
    " "
   ]
  },
  {
   "cell_type": "markdown",
   "metadata": {
    "slideshow": {
     "slide_type": "slide"
    }
   },
   "source": [
    "## The Staging Area AKA Index\n",
    "---\n",
    "Remembet Git takes SNAPSHOTS of changes over the life of a project. Therefore:\n",
    "1. `git add` specifies what will go in a snapshot (putting things in the staging area)\n",
    "2. `git commit` takes the snapshot, and makes a permanent record of it (as a commit).\n",
    "3. Now, if you don't have anything staged when you type `git commit`, Git will prompt you to use `git commit -a` or `git commit --all`, which is basically saying gather *everyone* for the picture!\n",
    "\n",
    "> However, it's almost always better to\n",
    "> explicitly add things to the staging area, because you might\n",
    "> commit changes you forgot you made. \n",
    "\n",
    "<p align=\"center\">\n",
    "  <img src=\"../../img/staging.png\" width=\"900\" height=\"455\">\n",
    "  *Image from swcarpentry* \n",
    "</p>"
   ]
  },
  {
   "cell_type": "markdown",
   "metadata": {
    "slideshow": {
     "slide_type": "slide"
    }
   },
   "source": [
    "## The Staging Area AKA Index\n",
    "---\n",
    "Let's dive a little deep into the staging area.\n",
    "\n",
    "Add another line to the file:\n",
    "~~~\n",
    "I am learning how to use Git! Hope to be a Git Ninja.\n",
    "Learning is a process.. Git is not different\n",
    "Can't wait to master Git!\n",
    "~~~\n",
    "\n",
    "Any differences in git?\n",
    "\n",
    "~~~\n",
    "$ git diff\n",
    "~~~\n",
    "__YESSSS__\n",
    "~~~\n",
    "diff --git a/how_to.txt b/how_to.txt\n",
    "index 9aaf639..ce06d32 100644\n",
    "--- a/how_to.txt\n",
    "+++ b/how_to.txt\n",
    "@@ -1,3 +1,4 @@\n",
    " I am learning how to use Git! Hope to be a Git Ninja.\n",
    " Learning is a process.. Git is not different\n",
    "+Can't wait to master Git\n",
    "~~~\n",
    "\n",
    "Since we added/modified the txt file we need to add the new SNAPSHOT.\n",
    "\n",
    "~~~\n",
    "$ git add how_to.txt\n",
    "$ git diff\n",
    "~~~\n",
    "After the `git diff` command nothing shows up?????\n",
    "\n",
    "Well.. try this:\n",
    "~~~\n",
    "$ git diff --staged\n",
    "~~~\n",
    "\n",
    "Now we can see the difference between the last committed change and what’s in the staging area. \n",
    "~~~\n",
    "diff --git a/how_to.txt b/how_to.txt\n",
    "index 9aaf639..ce06d32 100644\n",
    "--- a/how_to.txt\n",
    "+++ b/how_to.txt\n",
    "@@ -1,3 +1,4 @@\n",
    " I am learning how to use Git! Hope to be a Git Ninja.\n",
    " Learning is a process.. Git is not different\n",
    "+Can't wait to master Git\n",
    "~~~\n",
    "\n",
    "Let’s save our changes:\n",
    "~~~\n",
    "$ git commit -m \"I am being optimistic about Git\"\n",
    "~~~\n",
    "\n",
    "You shuld see something like this\n",
    "~~~\n",
    "[master 16e56b1] I am being optimistic about Git\n",
    " 1 file changed, 1 insertion(+)\n",
    " ~~~\n",
    "\n",
    "What is Git status?\n",
    "~~~\n",
    "$ git status\n",
    "~~~\n",
    "\n",
    "If you see this.... you are good to go:\n",
    "~~~\n",
    "On branch master\n",
    "nothing to commit, working tree clean\n",
    "~~~\n",
    "\n",
    "GREAT... so what have you done so far?\n",
    "\n",
    "~~~\n",
    "$ git log\n",
    "~~~\n",
    "\n",
    "Here is my history\n",
    "~~~ \n",
    "commit 16e56b1eccd2ef3897adbe61713c3eb4b3b42dbb (HEAD -> master)\n",
    "Author: Mario Javier Carrillo <majacaci00@gmail.com>\n",
    "Date:   Mon Sep 9 12:27:24 2019 -0700\n",
    "\n",
    "    I am being optimistic about Git\n",
    "\n",
    "commit a8e3f83a4daab12cc73662ab3073b96f8e16af14\n",
    "Author: Mario Javier Carrillo <majacaci00@gmail.com>\n",
    "Date:   Mon Sep 9 12:00:30 2019 -0700\n",
    "\n",
    "    Add ideas regarding learing Git\n",
    "\n",
    "commit b51b70fe05730dadfbf0306be0e929f8351fe8f4\n",
    "Author: Mario Javier Carrillo <majacaci00@gmail.com>\n",
    "Date:   Mon Sep 9 00:59:37 2019 -0700\n",
    "\n",
    "    Learning Git\n",
    "~~~\n",
    "\n",
    "**HINTS:**\n",
    "#### 1. If the output of `git log` is too long to fit in your screen, `git` uses a program to split it into pages of the size of your screen. When this \"pager\" is called, you will notice that the last line in your screen is a `:`, instead of your usual prompt.\n",
    "\n",
    "*   To get out of the pager, press <kbd>Q</kbd>.\n",
    "*   To move to the next page, press <kbd>Spacebar</kbd>.\n",
    "*   To search for `some_word` in all pages,\n",
    "   press <kbd>/</kbd>\n",
    "     and type `some_word`.\n",
    "     Navigate through matches pressing <kbd>N</kbd>.\n",
    "\n",
    "\n",
    "#### 2. Limit the log size, or the number of commits. Use `-N`, where `N` is the number of commits that you want to view:\n",
    "~~~\n",
    "$ git log -2\n",
    "~~~\n",
    "\n",
    "#### 3. Reduce the amount of information on the screen\n",
    "~~~\n",
    "$ git log --oneline\n",
    "~~~"
   ]
  },
  {
   "cell_type": "markdown",
   "metadata": {
    "slideshow": {
     "slide_type": "slide"
    }
   },
   "source": [
    "## Not everything is perfect :(\n",
    "---\n",
    "- __Git does not track directories on their own, only files within them.__\n",
    "\n",
    "Let's check this:\n",
    "~~~\n",
    "$ mkdir stata_skills\n",
    "$ git status\n",
    "$ git add stata_skills\n",
    "$ git status\n",
    "~~~\n",
    "\n",
    "And you see this output:\n",
    "~~~\n",
    "On branch master\n",
    "nothing to commit, working tree clean\n",
    "~~~\n",
    "\n",
    "You see that the newly created empty directory `stata_skills` does not appear in the list of untracked files even if we explicitly add it (_via_ `git add`) to our repository. This is the reason why you will sometimes see `.gitkeep` files in otherwise empty directories. Unlike `.gitignore`, these files are not special and their sole purpose is to populate a directory so that Git adds it to the repository. In fact, you can name such files anything you like.\n",
    "\n",
    "- __Now if we create files inside the `stata_skills` directory we can add them too!!__\n",
    "\n",
    "~~~\n",
    "$ touch stata_skills/string_variables stata_skills/data_dictionary\n",
    "$ git status\n",
    "$ git add stata_skills\n",
    "$ git status\n",
    "~~~\n",
    "\n",
    "Output 1:\n",
    "~~~\n",
    "On branch master\n",
    "Untracked files:\n",
    "  (use \"git add <file>...\" to include in what will be committed)\n",
    "\n",
    "\tstata_skills/\n",
    "\n",
    "nothing added to commit but untracked files present (use \"git add\" to track)\n",
    "~~~\n",
    "\n",
    "Output 2:\n",
    "~~~\n",
    "On branch master\n",
    "Changes to be committed:\n",
    "  (use \"git reset HEAD <file>...\" to unstage)\n",
    "\n",
    "\tnew file:   stata_skills/data_dictionary\n",
    "\tnew file:   stata_skills/string_variables\n",
    "~~~\n",
    "\n",
    "- __Finally, commit the last changes__\n",
    "\n",
    "~~~\n",
    "$ git commit -m \"Add ideas on stata\"\n",
    "~~~\n",
    "\n",
    "Output 3:\n",
    "~~~\n",
    "[master c4a1149] Add ideas on stata\n",
    " 2 files changed, 0 insertions(+), 0 deletions(-)\n",
    " create mode 100644 stata_skills/data_dictionary\n",
    " create mode 100644 stata_skills/string_variables\n",
    " ~~~"
   ]
  },
  {
   "cell_type": "markdown",
   "metadata": {
    "slideshow": {
     "slide_type": "slide"
    }
   },
   "source": [
    "## In a nutshell \n",
    "---\n",
    "If you want to add changes to a repository:\n",
    "- First you need to add the changed files to the staging area (`git add`) \n",
    "- Second commit the staged changes to the repository (`git commit`)\n",
    "\n",
    "Graphically:\n",
    "<p align=\"center\">\n",
    "  <img src=\"../../img/staging_1.png\" width=\"900\" height=\"455\">\n",
    "  *Image from swcarpentry* \n",
    "</p>"
   ]
  },
  {
   "cell_type": "markdown",
   "metadata": {
    "slideshow": {
     "slide_type": "slide"
    }
   },
   "source": [
    "<p align=\"center\">\n",
    "  <img src=\"../../img/stop_pict.jpg\" width=\"256\" height=\"455\">\n",
    "</p>"
   ]
  },
  {
   "cell_type": "markdown",
   "metadata": {
    "slideshow": {
     "slide_type": "slide"
    }
   },
   "source": [
    "## My Git.... History\n",
    "---\n",
    "At this point you should be asking yourself:\n",
    "1. How do I distinguish old file versions\n",
    "2. How do I reexamine my changes\n",
    "3. How can I retrieve old versions of files\n",
    "\n",
    "\n",
    "Remember we can refer to commits by their identifiers. Therefore, we can refer to the _most recent commit_ of the working directory by using the identifier `HEAD`.\n",
    "\n",
    "\n",
    "Lets add one more line to our `how_to.txt`\n",
    "\n",
    "~~~\n",
    "I am exploring the history of this Git repo\n",
    "~~~\n",
    "\n",
    "Now lets use HEAD\n",
    "\n",
    "~~~\n",
    "$ git diff HEAD how_to.txt\n",
    "~~~\n",
    "\n",
    "Output 1: (nothing surprising)\n",
    "~~~\n",
    "diff --git a/how_to.txt b/how_to.txt\n",
    "index ce06d32..aaf915a 100644\n",
    "--- a/how_to.txt\n",
    "+++ b/how_to.txt\n",
    "@@ -1,4 +1,4 @@\n",
    " I am learning how to use Git! Hope to be a Git Ninja.\n",
    " Learning is a process.. Git is not different\n",
    " Can't wait to master Git\n",
    "-\n",
    "+I am exploring the history of this Git repo\n",
    "~~~\n",
    "\n",
    "Notice how the output is the same as what you would get if you leave out `HEAD` (dare to try it??).  __The\n",
    "real goodness in all this is when you can refer to previous commits.  We do that by adding `~1`  (where \"~\" is \"tilde\", pronounced [**til**-d*uh*]) \n",
    "to refer to the commit one before `HEAD`.__\n",
    "\n",
    "~~~\n",
    "$ git diff HEAD~3 how_to.txt\n",
    "~~~\n",
    "\n",
    "\n",
    "Output 2:\n",
    "~~~\n",
    "diff --git a/how_to.txt b/how_to.txt\n",
    "index 1263754..aaf915a 100644\n",
    "--- a/how_to.txt\n",
    "+++ b/how_to.txt\n",
    "@@ -1,2 +1,4 @@\n",
    " I am learning how to use Git! Hope to be a Git Ninja.\n",
    "-\n",
    "+Learning is a process.. Git is not different\n",
    "+Can't wait to master Git\n",
    "+I am exploring the history of this Git repo\n",
    "~~~\n",
    "\n",
    "Use `git show` to see what changes we made at an older commit as \n",
    "well as the commit message, rather than the _differences_ between a commit and our \n",
    "working directory that we see by using `git diff`.\n",
    "\n",
    "~~~\n",
    "$ git show HEAD~3 how_to.txt\n",
    "~~~\n",
    "\n",
    "Output 3:\n",
    "~~~\n",
    "commit b51b70fe05730dadfbf0306be0e929f8351fe8f4\n",
    "Author: Mario Javier Carrillo <majacaci00@gmail.com>\n",
    "Date:   Mon Sep 9 00:59:37 2019 -0700\n",
    "\n",
    "    Learning Git\n",
    "\n",
    "diff --git a/how_to.txt b/how_to.txt\n",
    "new file mode 100644\n",
    "index 0000000..1263754\n",
    "--- /dev/null\n",
    "+++ b/how_to.txt\n",
    "@@ -0,0 +1,2 @@\n",
    "+I am learning how to use Git! Hope to be a Git Ninja.\n",
    "+\n",
    "~~~\n",
    "\n",
    "Now you can also use the commit id number/strings\n",
    "\n",
    "~~~\n",
    "$ git diff b51b70fe05730dadfbf0306be0e929f8351fe8f4 how_to.txt \n",
    "~~~\n",
    "\n",
    "\n",
    "You should get the same output as before\n",
    "~~~\n",
    "diff --git a/how_to.txt b/how_to.txt\n",
    "index 1263754..aaf915a 100644\n",
    "--- a/how_to.txt\n",
    "+++ b/how_to.txt\n",
    "@@ -1,2 +1,4 @@\n",
    " I am learning how to use Git! Hope to be a Git Ninja.\n",
    "-\n",
    "+Learning is a process.. Git is not different\n",
    "+Can't wait to master Git\n",
    "+I am exploring the history of this Git repo\n",
    "~~~\n",
    "\n",
    "\n",
    "__SO, HOW CAN WE RESTORE OLDER VERSIONS__\n",
    "\n",
    "First let's check the status\n",
    "\n",
    "~~~\n",
    "$ git status \n",
    "~~~\n",
    "\n",
    "Output 4:\n",
    "\n",
    "~~~\n",
    "On branch master\n",
    "Changes not staged for commit:\n",
    "  (use \"git add <file>...\" to update what will be committed)\n",
    "  (use \"git checkout -- <file>...\" to discard changes in working directory)\n",
    "\n",
    "\tmodified:   how_to.txt\n",
    "\n",
    "no changes added to commit (use \"git add\" and/or \"git commit -a\")\n",
    "~~~\n",
    "\n",
    "\n",
    "Now we can use `git checkout` to bring things back the way they were before\n",
    "\n",
    "~~~\n",
    "$ git checkout HEAD how_to.txt \n",
    "$ cat how_to.txt \n",
    "$ git status\n",
    "~~~\n",
    "\n",
    "Do you see any differences?\n",
    "\n",
    "MEANING => `git checkout` : restores an old version of a file. In our scenario we're telling Git that we want to recover the version of the file recorded in `HEAD`, which is the last saved commit.\n",
    "\n",
    "Now you want to go a version further: then we need to use the commit identifier:\n",
    "\n",
    "Let's go back to our first commit:\n",
    "~~~\n",
    "$ git checkout b51b70fe how_to.txt\n",
    "$ git status\n",
    "~~~\n",
    "\n",
    "Output:\n",
    "~~~\n",
    "On branch master\n",
    "Changes to be committed:\n",
    "  (use \"git reset HEAD <file>...\" to unstage)\n",
    "\n",
    "\tmodified:   how_to.txt\n",
    "~~~\n",
    "\n",
    "Let's check the content\n",
    "~~~\n",
    "$ cat how_to.txt\n",
    "~~~\n",
    "\n",
    "Output:\n",
    "~~~\n",
    "I am learning how to use Git! Hope to be a Git Ninja.\n",
    "~~~\n",
    "\n",
    "The `git status` output is telling us this\n",
    "~~~\n",
    "On branch master\n",
    "Changes to be committed:\n",
    "  (use \"git reset HEAD <file>...\" to unstage)\n",
    "\n",
    "\tmodified:   how_to.txt\n",
    "~~~\n",
    "Is this an staging area?? \n",
    "\n",
    "\n",
    "OK... let's bring things backt the way they were:\n",
    "~~~\n",
    "$ git checkout HEAD how_to.txt \n",
    "~~~"
   ]
  },
  {
   "cell_type": "markdown",
   "metadata": {
    "slideshow": {
     "slide_type": "slide"
    }
   },
   "source": [
    "## So here is how GIT WORKS.....\n",
    "---\n",
    "\n",
    "<p align=\"center\">\n",
    "  <img src=\"../../img/staging_2.png\" width=\"700\" height=\"500\">\n",
    "</p>"
   ]
  },
  {
   "cell_type": "markdown",
   "metadata": {
    "slideshow": {
     "slide_type": "slide"
    }
   },
   "source": [
    "## How do I tell Git to Ignore files???\n",
    "---\n",
    "\n",
    "There are certain files that we do not want Git to track for us, i.e. backup files created by our editor\n",
    "or intermediate files created during data analysis?\n",
    "\n",
    "There is a solution for that:\n",
    "\n",
    "1. Lets create some random files\n",
    "~~~\n",
    "$ mkdir prelim_results\n",
    "$ touch a.dato b.dato c.dato prelim_results/a.outo prelim_results/b.outo\n",
    "~~~\n",
    "\n",
    "2. Check what you have created\n",
    "3. What is the status\n",
    "~~~\n",
    "$ git status\n",
    "~~~\n",
    "\n",
    "Output:\n",
    "~~~\n",
    "On branch master\n",
    "Untracked files:\n",
    "  (use \"git add <file>...\" to include in what will be committed)\n",
    "\n",
    "\ta.dato\n",
    "\tb.dato\n",
    "\tc.dato\n",
    "\tprelim_results/\n",
    "\n",
    "nothing added to commit but untracked files present (use \"git add\" to track)\n",
    "~~~\n",
    "\n",
    "Ask yourself do you want to push all the files above??? Probably NO, so we need to create a `.gitignore` file in the root directory\n",
    "\n",
    "~~~\n",
    "$ nano .gitignore\n",
    "~~~\n",
    "\n",
    "Type\n",
    "~~~\n",
    "*.dato\n",
    "prelim_results/\n",
    "~~~\n",
    "\n",
    "Check what you have\n",
    "~~~\n",
    "$ cat .gitignore\n",
    "~~~\n",
    "\n",
    "Let's add more files to ignore into our list\n",
    "~~~\n",
    ".DS_Store \n",
    ".DS_Store? \n",
    "._* .Trashes \n",
    "ehthumbs.db \n",
    "Thumbs.db\n",
    "# Jupyter Notebook\n",
    ".ipynb_checkpoints\n",
    "~~~\n",
    "Type:\n",
    "~~~\n",
    "$ cat .gitignore\n",
    "~~~\n",
    "\n",
    "Now check the status.. how does it look like?\n",
    "\n",
    "~~~\n",
    "$ git status\n",
    "~~~\n",
    "\n",
    "\n",
    "Now, we can add the newly created file, then commit the file\n",
    "~~~\n",
    "$ git add .gitignore\n",
    "$ git commit -m \"Files I want to ignore and the prelim_results folder.\"\n",
    "$ git status\n",
    "~~~\n"
   ]
  },
  {
   "cell_type": "markdown",
   "metadata": {
    "slideshow": {
     "slide_type": "slide"
    }
   },
   "source": [
    "## How do I share my local repo/changes with others?\n",
    "---\n",
    "Most programmers use hosting\n",
    "services like [GitHub](https://github.com), [Bitbucket](https://bitbucket.org) or\n",
    "[GitLab](https://gitlab.com/) to hold those master copies. The idea here is to collaborate with other people.\n",
    "\n",
    "Let’s share our project with the WORLD!! Log in to GitHub, then click on the icon in the top right corner to create a new repository called repo_skills:\n",
    "<p align=\"center\">\n",
    "  <img src=\"../../img/repo_create_1.png\" width=\"700\" height=\"500\">\n",
    "</p>"
   ]
  },
  {
   "cell_type": "markdown",
   "metadata": {
    "slideshow": {
     "slide_type": "slide"
    }
   },
   "source": [
    "## How do I share my local repo/changes with others?\n",
    "---\n",
    "Fill the information as follows:\n",
    "<p align=\"center\">\n",
    "  <img src=\"../../img/repo_create_2.png\" width=\"700\" height=\"500\">\n",
    "</p>\n",
    "Note: Since this repository will be connected to a local repository, it needs to be empty. Leave \n",
    "__\"Initialize this repository with a README\" unchecked, and keep \"None\" as options for both \"Add \n",
    ".gitignore\" and \"Add a license.\"__ \n",
    "\n",
    "Once the repository is created, GitHub gives you a page with a URL and some\n",
    "information on how to configure your local repository:\n",
    "<p align=\"center\">\n",
    "  <img src=\"../../img/repo_create_3.png\" width=\"700\" height=\"500\">\n",
    "</p>\n",
    "\n",
    "## What the heck is this doing?\n",
    "---\n",
    "Well what you saw before effectively does the following on GitHub's servers... this is what we did at the begning.. Remember?\n",
    "\n",
    "~~~\n",
    "$ mkdir repo_skills\n",
    "$ cd repo_skills\n",
    "$ git init\n",
    "~~~\n",
    "\n",
    "If you remember back at the begining of the lecture, we added and\n",
    "committed our earlier work on `how_to.txt`, we had a diagram of the local repository\n",
    "which looked like this:\n",
    "\n",
    "<p align=\"center\">\n",
    "  <img src=\"../../img/repo_create_4.png\" width=\"700\" height=\"500\">\n",
    "</p>\n",
    "\n",
    "Now that we have two repositories, we need a diagram like this:\n",
    "\n",
    "<p align=\"center\">\n",
    "  <img src=\"../../img/repo_create_5.png\" width=\"700\" height=\"500\">\n",
    "</p>\n",
    "<p align=\"center\">\n",
    "  <img src=\"../../img/repo_create_6.png\" width=\"700\" height=\"500\">\n",
    "</p>\n",
    "\n",
    "You should know that our local repository still contains our earlier work on `how_to.txt`, but the\n",
    "remote repository on GitHub appears empty as it doesn't contain any files yet."
   ]
  },
  {
   "cell_type": "markdown",
   "metadata": {
    "collapsed": true,
    "slideshow": {
     "slide_type": "slide"
    }
   },
   "source": [
    "## How do I share my local repo/changes with others?\n",
    "---\n",
    "Now we need to connect these 2 repos by making the\n",
    "GitHub repository a remote for the local repository.\n",
    "The home page of the repository on GitHub includes the string we need to\n",
    "identify it:\n",
    "<p align=\"center\">\n",
    "  <img src=\"../../img/repo_create_7.png\" width=\"700\" height=\"500\">\n",
    "</p>\n",
    "\n",
    "__Click on the 'HTTPS' link to change the protocol from SSH to HTTPS.__\n",
    "\n",
    "> We use HTTPS here because it does not require additional configuration. You may want to set up SSH access, which is a bit more secure, by\n",
    "> following one of the great tutorials from\n",
    "> [GitHub](https://help.github.com/articles/generating-ssh-keys),\n",
    "> [Atlassian/Bitbucket](https://confluence.atlassian.com/bitbucket/set-up-ssh-for-git-728138079.html)\n",
    "> and [GitLab](https://about.gitlab.com/2014/03/04/add-ssh-key-screencast/)\n",
    "> (this one has a screencast).\n",
    "\n",
    "Copy that URL from the browser, go into the local `repo_skills` repository, and run\n",
    "this command:\n",
    "~~~\n",
    "$ git remote add origin https://github.com/majacaci00/repo_skills.git\n",
    "\n",
    "~~~\n",
    "\n",
    "Make sure to use the URL for your repository rather than majacaci00: the only\n",
    "difference should be your username instead of `majacaci00`.\n",
    "\n",
    "Here, `origin` is a local name used to refer to the remote repository. It could be called anything, but `origin` is a convention that is often used by default in git and GitHub, so it's helpful to stick with this unless there's a reason not to."
   ]
  },
  {
   "cell_type": "markdown",
   "metadata": {
    "collapsed": true,
    "slideshow": {
     "slide_type": "slide"
    }
   },
   "source": [
    "## How do I share my local repo/changes with others?\n",
    "---\n",
    "Did it work???\n",
    "\n",
    "~~~\n",
    "$ git remote -v\n",
    "~~~\n",
    "\n",
    "If it did, then you should have this output\n",
    "\n",
    "~~~\n",
    "origin\thttps://github.com/majacaci00/repo_skills.git (fetch)\n",
    "origin\thttps://github.com/majacaci00/repo_skills.git (push)\n",
    "\n",
    "~~~\n",
    "\n",
    "We have setup the remote, we now need to __push the changes from our local repository to the repository on GitHub:___\n",
    "~~~\n",
    "$ git push origin master\n",
    "~~~\n",
    "\n",
    "The Output should look like:\n",
    "~~~\n",
    "Counting objects: 16, done.\n",
    "Delta compression using up to 8 threads.\n",
    "Compressing objects: 100% (12/12), done.\n",
    "Writing objects: 100% (16/16), 1.54 KiB | 0 bytes/s, done.\n",
    "Total 16 (delta 2), reused 0 (delta 0)\n",
    "remote: Resolving deltas: 100% (2/2), done.\n",
    "To https://github.com/majacaci00/repo_skills.git\n",
    " * [new branch]      master -> master\n",
    " ~~~\n",
    " \n",
    "Now we can pull changes from the remote repository to the local one as well.... that is what you have been doing for the class repo!!\n",
    "\n",
    "~~~\n",
    "$ git pull origin master\n",
    "~~~\n",
    "\n",
    "The output should be this:\n",
    "~~~\n",
    "From https://github.com/majacaci00/repo_skills\n",
    " * branch            master     -> FETCH_HEAD\n",
    "Already up-to-date.\n",
    "~~~"
   ]
  },
  {
   "cell_type": "markdown",
   "metadata": {
    "collapsed": true,
    "slideshow": {
     "slide_type": "slide"
    }
   },
   "source": [
    "<p align=\"center\">\n",
    "  <img src=\"../../img/stop_pict.jpg\" width=\"256\" height=\"455\">\n",
    "</p>"
   ]
  },
  {
   "cell_type": "markdown",
   "metadata": {
    "collapsed": true,
    "slideshow": {
     "slide_type": "slide"
    }
   },
   "source": [
    "## Collaboration.... that is where the magic happens.\n",
    "---\n",
    "Pair with the person next to you:\n",
    "One person will be the __\"Owner\"__ and the other\n",
    "will be the __\"Collaborator\".__ \n",
    "#### The goal:\n",
    "- The Collaborator add changes into the Owner's repository. If we have time we will switch roles at the end, so both persons will play Owner and Collaborator.\n",
    "\n",
    "The Owner needs to give the Collaborator access.\n",
    "On GitHub, click the settings button on the right,\n",
    "then select Collaborators, and enter your partner's username.\n",
    "\n",
    "Go to Settings > Collaborator and enter the github handle of your collaborator\n",
    "\n",
    "<p align=\"center\">\n",
    "  <img src=\"../../img/repo_create_8.png\" width=\"800\" height=\"455\">\n",
    "</p>\n",
    "\n",
    "To accept access to the Owner's repo, the Collaborator\n",
    "needs to go to [https://github.com/notifications](https://github.com/notifications).\n",
    "Once there she can accept access to the Owner's repo.\n",
    "\n",
    "Next, the Collaborator needs to download a copy of the Owner's repository to her\n",
    " machine. This is called \"cloning a repo\". To clone the Owner's repo into\n",
    "her `Desktop` folder, the Collaborator enters:\n",
    "\n",
    "~~~\n",
    "$ git clone https://github.com/majacaci00/repo_skills.git ~/Desktop/majacaci00-repo_skills\n",
    "~~~\n",
    "\n",
    "Replace 'majacaci00' with the Owner's username. At this step the __Collaborator__ can now make a change in her clone of the Owner’s repository, exactly the same way as we’ve been doing before:\n",
    "~~~\n",
    "$ cd ~/Desktop/majacaci00-repo_skills\n",
    "$ nano collaboration.txt\n",
    "~~~\n",
    "\n",
    "Type:\n",
    "~~~\n",
    "I am helping my friend with his Repo\n",
    "~~~\n",
    "Then:\n",
    "~~~\n",
    "\n",
    "$ cat collaboration.txt\n",
    "~~~\n",
    "\n",
    "Then:\n",
    "~~~\n",
    "$ git add collaboration.txt\n",
    "$ git commit -m \"Notes on collaboration\"\n",
    "~~~\n",
    "\n",
    "Finally then push the change to the Owner’s repository on GitHub:\n",
    "~~~\n",
    "$ git push origin master\n",
    "~~~"
   ]
  },
  {
   "cell_type": "markdown",
   "metadata": {
    "collapsed": true,
    "slideshow": {
     "slide_type": "slide"
    }
   },
   "source": [
    "## What is a remote?\n",
    "---\n",
    "A remote is a copy of the repository that is hosted somewhere else, that we can push to and pull from, and there's no reason that you have to work with only one. For example, on some large projects you might have your own copy in your own GitHub account (you'd probably call this `origin`) and also the main \"upstream\" project repository (let's call this `upstream` for the sake of examples).\n",
    "You would pull from `upstream` from time to time to get the latest updates that other people have committed.\n",
    "Remember that the name you give to a remote only exists locally. It's an alias that you choose - whether `origin`, or `upstream`, or `fred` - and not something intrinstic to the remote repository.\n",
    "\n",
    "> The `git remote` family of commands is used to set up and alter the remotes\n",
    "> associated with a repository. Here are some of the most useful ones:\n",
    ">\n",
    "> * `git remote -v` lists all the remotes that are configured (we already used\n",
    "> this in the last episode)\n",
    "> * `git remote add [name] [url]` is used to add a new remote\n",
    "> * `git remote remove [name]` removes a remote. Note that it doesn't affect the \n",
    "> remote repository at all - it just removes the link to it from the local repo.\n",
    "> * `git remote set-url [name] [newurl]` changes the URL that is associated \n",
    "> with the remote. This is useful if it has moved, e.g. to a different GitHub\n",
    "> account, or from GitHub to a different hosting service. Or, if we made a typo when\n",
    "> adding it!\n",
    "> * `git remote rename [oldname] [newname]` changes the local alias by which a remote \n",
    "> is known - its name. For example, one could use this to change `upstream` to `fred`."
   ]
  },
  {
   "cell_type": "markdown",
   "metadata": {
    "slideshow": {
     "slide_type": "slide"
    }
   },
   "source": [
    "## Collaboration.... that is where the magic happens.\n",
    "---\n",
    "Take a look to the Owner's repository on its GitHub website now (you probably need\n",
    "to refresh your browser.) You should be able to see the new commit made by the\n",
    "__Collaborator.__\n",
    "\n",
    "To download the Collaborator's changes from GitHub, the __Owner__ now enters:\n",
    "\n",
    "~~~\n",
    "$ git pull origin master\n",
    "~~~\n",
    "\n",
    "## There are multiple ways to collaborate, but here is a `Basic Collaborative Workflow`\n",
    "---\n",
    "> In practice, it is good to be sure that you have an updated version of the\n",
    "> repository you are collaborating on, so you should `git pull` before making\n",
    "> our changes. The basic collaborative workflow would be:\n",
    ">\n",
    "> * update your local repo with `git pull origin master`,\n",
    "> * make your changes and stage them with `git add`,\n",
    "> * commit your changes with `git commit -m`, and\n",
    "> * upload the changes to GitHub with `git push origin master`\n",
    ">\n",
    "> __It is better to make many commits with smaller changes rather than\n",
    "> of one commit with massive changes: small commits are easier to\n",
    "> read and review.__\n",
    "\n",
    "\n",
    "Now switch Roles and Repeat"
   ]
  },
  {
   "cell_type": "markdown",
   "metadata": {
    "slideshow": {
     "slide_type": "slide"
    }
   },
   "source": [
    "## Collaboration.... Branching.\n",
    "---\n",
    "Branches are used to develop features __isolated__ from each other. \n",
    "Keep in mind that the master branch is the \"default\" branch when you create a repository. \n",
    "Best practice: __Use other branches for development and merge them back to the master branch upon completion.__\n",
    "\n",
    "<p align=\"center\">\n",
    "  <img src=\"../../img/branch_1.png\" width=\"700\" height=\"500\">\n",
    "</p>\n",
    "\n",
    "To create a new branch and switch to it at the same time, you can run the `git checkout` command with the `-b` switch:\n",
    "~~~\n",
    "$ git checkout -b feature_x\n",
    "~~~\n",
    "\n",
    "What you did above is short for \n",
    "~~~\n",
    "$ git branch feature_x\n",
    "$ git checkout feature_x\n",
    "~~~\n",
    "\n",
    "Type:\n",
    "~~~\n",
    "$ git status\n",
    "~~~\n",
    "\n",
    "Output should be:\n",
    "\n",
    "~~~\n",
    "On branch feature_x\n",
    "nothing to commit, working tree clean\n",
    "~~~\n",
    "\n",
    "Type:\n",
    "~~~\n",
    "$ nano index.txt\n",
    "~~~\n",
    "\n",
    "Type:\n",
    "~~~\n",
    "Testing the branch\n",
    "~~~\n",
    "Type\n",
    "~~~\n",
    "$ cat index.txt \n",
    "~~~\n",
    "\n",
    "Type\n",
    "~~~\n",
    "$ git add\n",
    "$ git commit -a -m 'added a new text file [index]'\n",
    "~~~\n",
    "\n",
    "Now switch back to master\n",
    "~~~\n",
    "$ git checkout master\n",
    "~~~\n",
    "\n",
    "Now merge the work from feature_x\n",
    "~~~\n",
    "$ git merge feature_x\n",
    "~~~\n",
    "\n",
    "Output should loook like this:\n",
    "~~~\n",
    "Updating 3773348..55eee8b\n",
    "Fast-forward\n",
    " index.txt | 1 +\n",
    " 1 file changed, 1 insertion(+)\n",
    " create mode 100644 index.txt\n",
    "~~~\n",
    "\n",
    "Is the file there??\n",
    "~~~\n",
    "$ git status\n",
    "~~~\n",
    "\n",
    "Let's see:\n",
    "`ls -l`\n",
    "~~~\n",
    "total 16\n",
    "-rw-r--r--  1 Javier  staff     0B Sep  9 13:54 a.dato\n",
    "-rw-r--r--  1 Javier  staff     0B Sep  9 13:54 b.dato\n",
    "-rw-r--r--  1 Javier  staff     0B Sep  9 13:54 c.dato\n",
    "-rw-r--r--  1 Javier  staff   125B Sep  9 13:39 how_to.txt\n",
    "-rw-r--r--  1 Javier  staff    19B Sep  9 17:39 index.txt\n",
    "drwxr-xr-x  4 Javier  staff   128B Sep  9 13:54 prelim_results/\n",
    "drwxr-xr-x  4 Javier  staff   128B Sep  9 12:55 stata_skills/\n",
    "~~~\n",
    "\n",
    "Now let's see if the content is correct\n",
    "~~~\n",
    "$ cat index.txt \n",
    "~~~\n",
    "\n",
    "Output:\n",
    "~~~\n",
    "Testing the branch\n",
    "~~~\n",
    "\n",
    "Looks good!!!!! if you are ok, then we can delete the branch\n",
    "~~~\n",
    "$ git branch -d feature_x\n",
    "~~~\n",
    "\n",
    "This tells you that you have deleted the branch:\n",
    "~~~\n",
    "Deleted branch feature_x (was 55eee8b).\n",
    "~~~\n",
    "\n",
    "Keep in mind that a branch is not available to others unless you push the branch to your remote repository\n",
    "~~~\n",
    "git push origin <branch>\n",
    "~~~"
   ]
  },
  {
   "cell_type": "markdown",
   "metadata": {
    "slideshow": {
     "slide_type": "slide"
    }
   },
   "source": [
    "~~~\n",
    "Class Notes adapted from:\n",
    "\n",
    "Greg Wilson: \"Software Carpentry: Getting Scientists to Write Better\n",
    "Code by Making Them More Productive\".  Computing in Science &\n",
    "Engineering, Nov-Dec 2006.\n",
    "\n",
    "Greg Wilson: \"Software Carpentry: Lessons Learned\". arXiv:1307.5448,\n",
    "July 2013.\n",
    "\n",
    "@article{wilson-software-carpentry-2006,\n",
    "    author =  {Greg Wilson},\n",
    "    title =   {Software Carpentry: Getting Scientists to Write Better Code by Making Them More Productive},\n",
    "    journal = {Computing in Science \\& Engineering},\n",
    "    month =   {November--December},\n",
    "    year =    {2006},\n",
    "}\n",
    "\n",
    "@online{wilson-software-carpentry-2013,\n",
    "  author      = {Greg Wilson},\n",
    "  title       = {Software Carpentry: Lessons Learned},\n",
    "  version     = {1},\n",
    "  date        = {2013-07-20},\n",
    "  eprinttype  = {arxiv},\n",
    "  eprint      = {1307.5448}\n",
    "}\n",
    "\n",
    "~~~\n",
    " - [Basic commands cheat sheet(s)](http://git-scm.com/docs) (Note the links to\n",
    "   other cheat sheets!)\n",
    " - [Gamified git](http://pcottle.github.io/learnGitBranching/)\n",
    " - GitHub sponsors [this](http://try.github.io/).\n",
    " - Where does \"help\" go from GitHub? [Here](https://help.github.com/).\n",
    " - [Linux commands cheat sheet](http://www.pixelbeat.org/cmdline.html) (also\n",
    "   mostly works for OS X command line).\n",
    " - [git - the simple guide](http://rogerdudler.github.io/git-guide/)\n",
    " - [The visual git guide](http://marklodato.github.io/visual-git-guide/index-en.html)\n",
    "\n"
   ]
  },
  {
   "cell_type": "code",
   "execution_count": null,
   "metadata": {
    "collapsed": true
   },
   "outputs": [],
   "source": []
  }
 ],
 "metadata": {
  "anaconda-cloud": {},
  "celltoolbar": "Slideshow",
  "kernelspec": {
   "display_name": "Python 3",
   "language": "python",
   "name": "python3"
  },
  "language_info": {
   "codemirror_mode": {
    "name": "ipython",
    "version": 3
   },
   "file_extension": ".py",
   "mimetype": "text/x-python",
   "name": "python",
   "nbconvert_exporter": "python",
   "pygments_lexer": "ipython3",
   "version": "3.7.3"
  }
 },
 "nbformat": 4,
 "nbformat_minor": 1
}
