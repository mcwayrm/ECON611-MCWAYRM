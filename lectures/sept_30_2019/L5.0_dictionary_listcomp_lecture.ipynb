{
 "cells": [
  {
   "cell_type": "markdown",
   "metadata": {
    "slideshow": {
     "slide_type": "slide"
    }
   },
   "source": [
    "<img src=\"https://images.efollett.com/htmlroot/images/templates/storeLogos/CA/864.gif\" style=\"float: right;\"> \n",
    "\n",
    "\n",
    "\n",
    "\n",
    "# ECON611\n",
    "### Lecture 5 -  Python - Dictionary\n",
    "- Notes adapted from: \n",
    "\n",
    "    1. Think Python - How to Think like a Computer Scientist\n",
    "    2. Effective Python - 59 Specific Ways to Write Better Python\n",
    "    3. [Beginning Python Programming for Aspiring Web Developers](http://www.openbookproject.net/books/bpp4awd/index.html)\n",
    "    4. [Fluent Python, Clear, Concise and Effective Programming](https://evanli.github.io/programming-book-3/Python/Fluent%20Python.pdf)\n",
    "    5. [Python v3.1.5 documentation](https://docs.python.org/3.1/glossary.html)\n"
   ]
  },
  {
   "cell_type": "markdown",
   "metadata": {
    "slideshow": {
     "slide_type": "slide"
    }
   },
   "source": [
    "## Dictionaries: Compound Type\n",
    "---\n",
    "- __DICTIONARIES__: Are different than Python sequence types like ```strings, lists and tuples``` as they are a __compound type__. As a matter of fact, ```dictionaries``` are Python's build-in __mapping type__. They map ```keys``` to ```values.``` \n",
    "\n",
    "    > ```KEYS:``` can be ONLY BE OF THE IMMUTABLE TYPE: strings, numbers or tuples.\n",
    "    \n",
    "    > ```VALUES:``` can be OF ANY TYPE.\n",
    "\n",
    "The dyct type is a fundamental part of Python's implementation. Because of their crucial role, Python dict are highly optimized which makes them one of Python's best features. The engine behind Python's high-performance dictionaries are ```hash tables.```"
   ]
  },
  {
   "cell_type": "markdown",
   "metadata": {},
   "source": [
    "## Dictionaries: Compound Type\n",
    "---\n",
    "- From Python Glossary:\n",
    "\n",
    "    > \"An object is hashable if it has a hash value which never changes during its lifetime (it needs a ___hash____() method), and can be compared to other objects (it needs an ___eq____() method). Hashable objects which compare equal must have the same hash value.\n",
    "    \n",
    "    > Hashability makes an object usable as a dictionary key and a set member, because these data structures use the hash value internally.\n",
    "\n",
    "    **NOTE** a tuple is hashable only if all its items are hashable"
   ]
  },
  {
   "cell_type": "code",
   "execution_count": 1,
   "metadata": {},
   "outputs": [
    {
     "name": "stdout",
     "output_type": "stream",
     "text": [
      "8027212646858338501\n",
      "1905524326169833030\n"
     ]
    },
    {
     "ename": "TypeError",
     "evalue": "unhashable type: 'list'",
     "output_type": "error",
     "traceback": [
      "\u001b[0;31m---------------------------------------------------------------------------\u001b[0m",
      "\u001b[0;31mTypeError\u001b[0m                                 Traceback (most recent call last)",
      "\u001b[0;32m<ipython-input-1-2e7ab2404047>\u001b[0m in \u001b[0;36m<module>\u001b[0;34m()\u001b[0m\n\u001b[1;32m      6\u001b[0m \u001b[0;34m\u001b[0m\u001b[0m\n\u001b[1;32m      7\u001b[0m \u001b[0mtl\u001b[0m \u001b[0;34m=\u001b[0m \u001b[0;34m(\u001b[0m\u001b[0;36m1\u001b[0m\u001b[0;34m,\u001b[0m\u001b[0;36m2\u001b[0m\u001b[0;34m,\u001b[0m \u001b[0;34m[\u001b[0m\u001b[0;36m30\u001b[0m\u001b[0;34m,\u001b[0m \u001b[0;36m40\u001b[0m\u001b[0;34m]\u001b[0m\u001b[0;34m)\u001b[0m\u001b[0;34m\u001b[0m\u001b[0m\n\u001b[0;32m----> 8\u001b[0;31m \u001b[0mprint\u001b[0m\u001b[0;34m(\u001b[0m\u001b[0mhash\u001b[0m\u001b[0;34m(\u001b[0m\u001b[0mtl\u001b[0m\u001b[0;34m)\u001b[0m\u001b[0;34m)\u001b[0m\u001b[0;34m\u001b[0m\u001b[0m\n\u001b[0m",
      "\u001b[0;31mTypeError\u001b[0m: unhashable type: 'list'"
     ]
    }
   ],
   "source": [
    "tt = (1,2, (30, 40))\n",
    "print(hash(tt))\n",
    "\n",
    "tf = (1,2, (\"ls\", \"kk\"))\n",
    "print(hash(tf))\n",
    "\n",
    "tl = (1,2, [30, 40])\n",
    "print(hash(tl))"
   ]
  },
  {
   "cell_type": "markdown",
   "metadata": {
    "slideshow": {
     "slide_type": "slide"
    }
   },
   "source": [
    "## Dictionaries: Compound Type\n",
    "---\n",
    "- Differently than a list, a dictionary has a collections of indices _```keys```_ that are associated to _```values.```_\n",
    "- Each _```key```_ is associated with a single _```value```_ => This association is known as __```key-value-pair.```__\n",
    "- Mathematically speaking this association represents a _```mapping```_ from key to values.\n",
    "- The function __```dict()```__ creates a new dictionary without items => Remember this:  __```list()```__, __```tuple()```__, __```str()```__, __```int()```__, __```float()```__\n",
    "- The squiggly brackets __```{ }```__ represents a dictionary, Remember this:  __```[ ]```__, __```( )```__"
   ]
  },
  {
   "cell_type": "code",
   "execution_count": 2,
   "metadata": {},
   "outputs": [
    {
     "name": "stdout",
     "output_type": "stream",
     "text": [
      "{'one': 1, 'two': 2, 'three': 3} ** True ** <class 'dict'>\n",
      "\n",
      "\n",
      "{'one': 1, 'two': 2, 'three': 3} ** True ** <class 'dict'>\n",
      "\n",
      "\n",
      "{'one': 1, 'two': 2, 'three': 3} ** True ** <class 'dict'>\n",
      "\n",
      "\n",
      "{'two': 2, 'one': 1, 'three': 3} ** True ** <class 'dict'>\n",
      "\n",
      "\n",
      "{'three': 3, 'one': 1, 'two': 2} ** True ** <class 'dict'>\n",
      "\n",
      "\n"
     ]
    }
   ],
   "source": [
    "'''\n",
    "    One can build a dictionary in several ways\n",
    "        The isinstance() function checks if the object (first argument) \n",
    "        is an instance or subclass of classinfo class (second argument).\n",
    "'''\n",
    "a  = dict(one=1, two=2, three=3)\n",
    "print(a, \"**\", isinstance(a, dict), \"**\", type(a))\n",
    "print(\"\\n\")\n",
    "\n",
    "b = {'one':1, 'two':2, 'three':3}\n",
    "print(b, \"**\", isinstance(b, dict), \"**\", type(b))\n",
    "print(\"\\n\")\n",
    "\n",
    "c = dict(zip(['one', 'two', 'three'],[1,2,3]))\n",
    "print(c, \"**\", isinstance(c, dict), \"**\", type(c))\n",
    "print(\"\\n\")\n",
    "\n",
    "d = dict([('two',2), ('one', 1), ('three', 3)])\n",
    "print(d, \"**\", isinstance(d, dict), \"**\", type(d))\n",
    "print(\"\\n\")\n",
    "\n",
    "e = dict({'three':3, 'one':1, 'two':2})\n",
    "print(e, \"**\", isinstance(e, dict), \"**\", type(e))\n",
    "print(\"\\n\")\n",
    "\n",
    "'''use the assertion error'''\n",
    "assert a == b == c == d == e"
   ]
  },
  {
   "cell_type": "code",
   "execution_count": 3,
   "metadata": {},
   "outputs": [
    {
     "name": "stdout",
     "output_type": "stream",
     "text": [
      "{'one': 1, 'two': 2, 'three': 3}\n",
      "1\n",
      "\n",
      "\n",
      "{'three': 3, 'one': 1, 'two': 2}\n",
      "1\n"
     ]
    }
   ],
   "source": [
    "'''\n",
    "    In a list you access an element using the index, \n",
    "    in a dictionary you use the key to access its correspondent value'''\n",
    "print(a)\n",
    "print(a['one'])\n",
    "print(\"\\n\")\n",
    "print(e)\n",
    "print(e['one'])"
   ]
  },
  {
   "cell_type": "markdown",
   "metadata": {},
   "source": [
    "## Dictionaries: Unordered\n",
    "---\n",
    "- Standard Dictionaries are unordered. This actually means that a dictionary with the same keys and values can result in different orders of iteration. This behavior is a ```surprising``` byproduct of the way the hash table is implemented in a dict"
   ]
  },
  {
   "cell_type": "code",
   "execution_count": 4,
   "metadata": {
    "collapsed": true,
    "jupyter": {
     "outputs_hidden": true
    }
   },
   "outputs": [],
   "source": [
    "# import random\n",
    "# aa = {}\n",
    "# aa['cool'] = 1\n",
    "# aa['boring'] = 2\n",
    "\n",
    "# '''we are goning to randomly populate bb to see the conflict with hash'''\n",
    "# while True:\n",
    "#     '''\n",
    "#         random.randint(a, b)\n",
    "#         Return a random integer N such that a <= N <= b. Alias for randrange(a, b+1).\n",
    "#     '''\n",
    "#     zz = random.randint(1, 4)\n",
    "# #     print(zz)\n",
    "#     bb = {}\n",
    "#     for i in range(zz):\n",
    "#         bb[i] = i\n",
    "#         bb['cool'] = 1\n",
    "#         bb['boring'] = 2\n",
    "#     for i in range(zz):\n",
    "#         del bb[i]\n",
    "#     if str(bb) != str(aa):\n",
    "#         break\n",
    "# print(aa)\n",
    "# print(bb)\n",
    "# assert aa == b "
   ]
  },
  {
   "cell_type": "markdown",
   "metadata": {},
   "source": [
    "## Dictionaries: Accessing Values\n",
    "---"
   ]
  },
  {
   "cell_type": "code",
   "execution_count": 5,
   "metadata": {},
   "outputs": [
    {
     "ename": "KeyError",
     "evalue": "'four'",
     "output_type": "error",
     "traceback": [
      "\u001b[0;31m---------------------------------------------------------------------------\u001b[0m",
      "\u001b[0;31mKeyError\u001b[0m                                  Traceback (most recent call last)",
      "\u001b[0;32m<ipython-input-5-4bc21e88e13a>\u001b[0m in \u001b[0;36m<module>\u001b[0;34m()\u001b[0m\n\u001b[1;32m      2\u001b[0m     \u001b[0mAccessing\u001b[0m \u001b[0mvalues\u001b[0m \u001b[0;34m-\u001b[0m \u001b[0merror\u001b[0m\u001b[0;34m:\u001b[0m \u001b[0mWhat\u001b[0m \u001b[0;32mif\u001b[0m \u001b[0ma\u001b[0m \u001b[0mkey\u001b[0m \u001b[0mvalue\u001b[0m \u001b[0;32mis\u001b[0m \u001b[0;32mnot\u001b[0m \u001b[0;32min\u001b[0m \u001b[0mthe\u001b[0m \u001b[0mdictionary\u001b[0m \u001b[0;34m-\u001b[0m \u001b[0mERROR\u001b[0m\u001b[0;34m\u001b[0m\u001b[0m\n\u001b[1;32m      3\u001b[0m '''\n\u001b[0;32m----> 4\u001b[0;31m \u001b[0mprint\u001b[0m\u001b[0;34m(\u001b[0m\u001b[0ma\u001b[0m\u001b[0;34m[\u001b[0m\u001b[0;34m'four'\u001b[0m\u001b[0;34m]\u001b[0m\u001b[0;34m)\u001b[0m\u001b[0;34m\u001b[0m\u001b[0m\n\u001b[0m\u001b[1;32m      5\u001b[0m \u001b[0;34m\u001b[0m\u001b[0m\n\u001b[1;32m      6\u001b[0m \u001b[0;34m'''In other words if you refere to a key that is not in the dictionary Python will raise an error'''\u001b[0m\u001b[0;34m\u001b[0m\u001b[0m\n",
      "\u001b[0;31mKeyError\u001b[0m: 'four'"
     ]
    }
   ],
   "source": [
    "'''\n",
    "    Accessing values - error: What if a key value is not in the dictionary - ERROR\n",
    "'''\n",
    "print(a['four'])\n",
    "\n",
    "'''In other words if you refere to a key that is not in the dictionary Python will raise an error'''"
   ]
  },
  {
   "cell_type": "code",
   "execution_count": 6,
   "metadata": {},
   "outputs": [
    {
     "name": "stdout",
     "output_type": "stream",
     "text": [
      "{'one': 1, 'two': 2, 'three': 3}\n",
      "\n",
      "\n",
      "{'one': 1, 'two': 2, 'three': 3, 'four': 4}\n"
     ]
    }
   ],
   "source": [
    "'''You can ADD a new key-value pair to an existing dictionary'''\n",
    "print(a)\n",
    "print(\"\\n\")\n",
    "a['four'] = 4\n",
    "print(a)"
   ]
  },
  {
   "cell_type": "code",
   "execution_count": 7,
   "metadata": {},
   "outputs": [
    {
     "name": "stdout",
     "output_type": "stream",
     "text": [
      "{'one': 1, 'two': 2, 'three': 3, 'four': 'cuatro'}\n"
     ]
    }
   ],
   "source": [
    "'''You can UPDATE an existing entry dictionary'''\n",
    "a['four'] = 'cuatro'\n",
    "print(a)"
   ]
  },
  {
   "cell_type": "code",
   "execution_count": 8,
   "metadata": {},
   "outputs": [
    {
     "name": "stdout",
     "output_type": "stream",
     "text": [
      "{'one': 1, 'two': 2, 'three': 3}\n"
     ]
    }
   ],
   "source": [
    "'''We can delete the values in a dictionary'''\n",
    "del a['four']\n",
    "print(a)"
   ]
  },
  {
   "cell_type": "code",
   "execution_count": 9,
   "metadata": {},
   "outputs": [
    {
     "name": "stdout",
     "output_type": "stream",
     "text": [
      "{}\n"
     ]
    }
   ],
   "source": [
    "'''Remove all of the entries in a dictionary'''\n",
    "a.clear()\n",
    "print(a)"
   ]
  },
  {
   "cell_type": "code",
   "execution_count": 10,
   "metadata": {},
   "outputs": [
    {
     "name": "stdout",
     "output_type": "stream",
     "text": [
      "{}\n"
     ]
    },
    {
     "ename": "NameError",
     "evalue": "name 'a' is not defined",
     "output_type": "error",
     "traceback": [
      "\u001b[0;31m---------------------------------------------------------------------------\u001b[0m",
      "\u001b[0;31mNameError\u001b[0m                                 Traceback (most recent call last)",
      "\u001b[0;32m<ipython-input-10-2ca2575774ce>\u001b[0m in \u001b[0;36m<module>\u001b[0;34m()\u001b[0m\n\u001b[1;32m      2\u001b[0m \u001b[0mprint\u001b[0m\u001b[0;34m(\u001b[0m\u001b[0ma\u001b[0m\u001b[0;34m)\u001b[0m\u001b[0;34m\u001b[0m\u001b[0m\n\u001b[1;32m      3\u001b[0m \u001b[0;32mdel\u001b[0m \u001b[0ma\u001b[0m\u001b[0;34m\u001b[0m\u001b[0m\n\u001b[0;32m----> 4\u001b[0;31m \u001b[0mprint\u001b[0m\u001b[0;34m(\u001b[0m\u001b[0ma\u001b[0m\u001b[0;34m)\u001b[0m\u001b[0;34m\u001b[0m\u001b[0m\n\u001b[0m",
      "\u001b[0;31mNameError\u001b[0m: name 'a' is not defined"
     ]
    }
   ],
   "source": [
    "'''Delete the entire dictionary'''\n",
    "print(a)\n",
    "del a\n",
    "print(a)"
   ]
  },
  {
   "cell_type": "code",
   "execution_count": 11,
   "metadata": {},
   "outputs": [
    {
     "name": "stdout",
     "output_type": "stream",
     "text": [
      "{'one': 1, 'two': 2, 'three': 3} ** True ** <class 'dict'>\n",
      "\n",
      "\n",
      "{1: 'one', 2: 'two', 3: 'three'} ** True ** <class 'dict'>\n",
      "\n",
      "\n"
     ]
    }
   ],
   "source": [
    "\"\"\"Let's bring a back and define another dictionary\"\"\"\n",
    "a  = dict(one=1, two=2, three=3)\n",
    "print(a, \"**\", isinstance(a, dict), \"**\", type(a))\n",
    "print(\"\\n\")\n",
    "\n",
    "aa = dict(zip([1,2,3], ['one', 'two', 'three']))\n",
    "print(aa, \"**\", isinstance(aa, dict), \"**\", type(aa))\n",
    "print(\"\\n\")"
   ]
  },
  {
   "cell_type": "code",
   "execution_count": 12,
   "metadata": {},
   "outputs": [
    {
     "name": "stdout",
     "output_type": "stream",
     "text": [
      "1 *** three\n"
     ]
    },
    {
     "ename": "KeyError",
     "evalue": "0",
     "output_type": "error",
     "traceback": [
      "\u001b[0;31m---------------------------------------------------------------------------\u001b[0m",
      "\u001b[0;31mKeyError\u001b[0m                                  Traceback (most recent call last)",
      "\u001b[0;32m<ipython-input-12-24f32293cfd4>\u001b[0m in \u001b[0;36m<module>\u001b[0;34m()\u001b[0m\n\u001b[1;32m      1\u001b[0m \u001b[0;34m'''Dont get confuse with indices when accessing values'''\u001b[0m\u001b[0;34m\u001b[0m\u001b[0m\n\u001b[1;32m      2\u001b[0m \u001b[0mprint\u001b[0m\u001b[0;34m(\u001b[0m\u001b[0ma\u001b[0m\u001b[0;34m[\u001b[0m\u001b[0;34m'one'\u001b[0m\u001b[0;34m]\u001b[0m\u001b[0;34m,\u001b[0m \u001b[0;34m\"***\"\u001b[0m\u001b[0;34m,\u001b[0m \u001b[0maa\u001b[0m\u001b[0;34m[\u001b[0m\u001b[0;36m3\u001b[0m\u001b[0;34m]\u001b[0m\u001b[0;34m)\u001b[0m\u001b[0;34m\u001b[0m\u001b[0m\n\u001b[0;32m----> 3\u001b[0;31m \u001b[0mprint\u001b[0m\u001b[0;34m(\u001b[0m\u001b[0maa\u001b[0m\u001b[0;34m[\u001b[0m\u001b[0;36m0\u001b[0m\u001b[0;34m]\u001b[0m\u001b[0;34m)\u001b[0m \u001b[0;31m## accesing the first element???? NONONONONONONONO\u001b[0m\u001b[0;34m\u001b[0m\u001b[0m\n\u001b[0m",
      "\u001b[0;31mKeyError\u001b[0m: 0"
     ]
    }
   ],
   "source": [
    "'''Dont get confuse with indices when accessing values'''\n",
    "print(a['one'], \"***\", aa[3])\n",
    "print(aa[0]) ## accesing the first element???? NONONONONONONONO"
   ]
  },
  {
   "cell_type": "code",
   "execution_count": 13,
   "metadata": {},
   "outputs": [
    {
     "name": "stdout",
     "output_type": "stream",
     "text": [
      "{'mom': 'susan', 'dad': 'peter', 'mom_age': '42', 'dad_age': '39', 'kids': ['Lilla', 'Mario', 'Stephen'], 'pets_age': [('cat', 2), ('dog', 4)], 'birthdays': [['susan', '10-01-1977'], ['peter', '01-09-1979'], ['Lilla', '12-01-1995']]}\n"
     ]
    }
   ],
   "source": [
    "'''If you think for a moment a dictionary is almost like a flat representation of a dataseet'''\n",
    "household = {}\n",
    "household['mom'] ='susan'\n",
    "household['dad'] ='peter'\n",
    "household['mom_age'] ='42'\n",
    "household['dad_age'] ='39'\n",
    "household['kids'] = ['Lilla', 'Mario', 'Stephen']\n",
    "household['pets_age'] = [('cat', 2), ('dog', 4)]\n",
    "household['birthdays'] = [['susan', '10-01-1977'], \n",
    "                          ['peter', '01-09-1979'],\n",
    "                          ['Lilla', '12-01-1995']]\n",
    "print(household)"
   ]
  },
  {
   "cell_type": "code",
   "execution_count": 14,
   "metadata": {},
   "outputs": [
    {
     "name": "stdout",
     "output_type": "stream",
     "text": [
      "nehpets\n",
      "\n",
      "\n",
      "cat\n",
      "\n",
      "\n",
      "995\n"
     ]
    }
   ],
   "source": [
    "'''A little Help from Strings, Tuples and Lists methods'''\n",
    "print(household[\"kids\"][2].lower()[::-1])\n",
    "print(\"\\n\")\n",
    "print(household['pets_age'][0][0])\n",
    "print(\"\\n\")\n",
    "print(household['birthdays'][2][1].split(\"-\")[2][1:])"
   ]
  },
  {
   "cell_type": "code",
   "execution_count": 15,
   "metadata": {},
   "outputs": [
    {
     "name": "stdout",
     "output_type": "stream",
     "text": [
      "{'one': 1, 'two': 2, 'three': 3}\n",
      "\n",
      "\n",
      "{'one': 1, 'two': 2, 'three': 3, 4: 'four', <class 'int'>: 'integer', <class 'float'>: 'float', 5.5: 'float', False: 'true_false', <class 'bool'>: 5}\n"
     ]
    }
   ],
   "source": [
    "'''\n",
    "    There are some restrictions on Dictionary Keys and some helpful surprises:\n",
    "    You can use a Boolean, int, float\n",
    "    You can mix the type of keys (int, str)\n",
    "'''\n",
    "print(a)\n",
    "a[4] = \"four\"\n",
    "a[int] = 'integer'\n",
    "a[float] = 'float'\n",
    "a[5.5] = 'float'\n",
    "a[False] = 'true_false'\n",
    "a[bool] = 5\n",
    "print(\"\\n\")\n",
    "print(a)"
   ]
  },
  {
   "cell_type": "code",
   "execution_count": 16,
   "metadata": {},
   "outputs": [
    {
     "name": "stdout",
     "output_type": "stream",
     "text": [
      "{'one': 1, 'two': 2, 'three': 3, 4: 4, <class 'int'>: 'integer', <class 'float'>: 'float', 5.5: 'float', False: 'true_false', <class 'bool'>: 5}\n"
     ]
    }
   ],
   "source": [
    "'''\n",
    "    Restrictions on Dictionary Keys:\n",
    "        A key can appear only once in a dictionary => DUPLICATE KEYS ARE NOT ALLOWED\n",
    "        Remeber that when assigning a new value to an existing dictionary doesn't add the key a second time\n",
    "        It only replaces the value and keeps the key \n",
    "        \n",
    "    When you are creating a dictionary, if you give the same key to another value, ONLY THE LAST KEY AND VALUE ARE \n",
    "    PRESERVED!!\n",
    "'''\n",
    "\n",
    "a[4] = 4\n",
    "print(a)"
   ]
  },
  {
   "cell_type": "code",
   "execution_count": 17,
   "metadata": {},
   "outputs": [
    {
     "name": "stdout",
     "output_type": "stream",
     "text": [
      "{'mom': 'susan', 'dad': 'peter', 'mom_age': '42', 'dad_age': '39', 'kids': ['Lilla', 'Mario', 'Stephen'], 'pets_age': [('cat', 2), ('dog', 4)], 'birthdays': [['susan', '10-01-1977'], ['peter', '01-09-1979'], ['Lilla', '12-01-1995']]}\n",
      "{'mom': 'susan', 'dad': 'peter', 'mom_age': '42', 'dad_age': '39', 'kids': ['Lilla', 'Mario', 'Stephen'], 'pets_age': [('cat', 2), ('dog', 4)], 'birthdays': [['susan', '10-01-1977'], ['peter', '01-09-1979'], ['Lilla', '12-01-1995']], ('cousin', 'florida'): ['richie', 'matias', 'Sebastian']}\n"
     ]
    }
   ],
   "source": [
    "'''Remember any IMMUTABLE type can be a key => TUPLES INSTEAD OF LIST'''\n",
    "print(household)\n",
    "\n",
    "household[(\"cousin\", \"florida\")] = ['richie', 'matias', 'Sebastian']\n",
    "print(household)"
   ]
  },
  {
   "cell_type": "code",
   "execution_count": 18,
   "metadata": {},
   "outputs": [
    {
     "name": "stdout",
     "output_type": "stream",
     "text": [
      "True\n",
      "True\n",
      "True\n"
     ]
    }
   ],
   "source": [
    "'''\n",
    "    Calling Operators and Build-in Functios => in KEYS and VALUES\n",
    "'''\n",
    "print('mom' in household)\n",
    "print('susan' in household['mom'])\n",
    "print('peter' not in household['mom'])"
   ]
  },
  {
   "cell_type": "markdown",
   "metadata": {
    "slideshow": {
     "slide_type": "slide"
    }
   },
   "source": [
    "## Dictionaries: Built-in Functions and Methods\n",
    "---"
   ]
  },
  {
   "cell_type": "code",
   "execution_count": 19,
   "metadata": {},
   "outputs": [
    {
     "data": {
      "text/plain": [
       "['__class__',\n",
       " '__contains__',\n",
       " '__delattr__',\n",
       " '__delitem__',\n",
       " '__dir__',\n",
       " '__doc__',\n",
       " '__eq__',\n",
       " '__format__',\n",
       " '__ge__',\n",
       " '__getattribute__',\n",
       " '__getitem__',\n",
       " '__gt__',\n",
       " '__hash__',\n",
       " '__init__',\n",
       " '__init_subclass__',\n",
       " '__iter__',\n",
       " '__le__',\n",
       " '__len__',\n",
       " '__lt__',\n",
       " '__ne__',\n",
       " '__new__',\n",
       " '__reduce__',\n",
       " '__reduce_ex__',\n",
       " '__repr__',\n",
       " '__setattr__',\n",
       " '__setitem__',\n",
       " '__sizeof__',\n",
       " '__str__',\n",
       " '__subclasshook__',\n",
       " 'clear',\n",
       " 'copy',\n",
       " 'fromkeys',\n",
       " 'get',\n",
       " 'items',\n",
       " 'keys',\n",
       " 'pop',\n",
       " 'popitem',\n",
       " 'setdefault',\n",
       " 'update',\n",
       " 'values']"
      ]
     },
     "execution_count": 19,
     "metadata": {},
     "output_type": "execute_result"
    }
   ],
   "source": [
    "dir(dict)"
   ]
  },
  {
   "cell_type": "code",
   "execution_count": 20,
   "metadata": {},
   "outputs": [
    {
     "name": "stdout",
     "output_type": "stream",
     "text": [
      "D.items() -> a set-like object providing a view on D's items\n"
     ]
    }
   ],
   "source": [
    "print(dict.items.__doc__)"
   ]
  },
  {
   "cell_type": "code",
   "execution_count": 21,
   "metadata": {},
   "outputs": [
    {
     "name": "stdout",
     "output_type": "stream",
     "text": [
      "9\n",
      "\n",
      "\n",
      "{'one': 1, 'two': 2, 'three': 3, 4: 4, <class 'int'>: 'integer', <class 'float'>: 'float', 5.5: 'float', False: 'true_false', <class 'bool'>: 5} ** False ** <class 'str'>\n",
      "\n",
      "\n",
      "1\n",
      "\n",
      "\n",
      "['richie', 'matias', 'Sebastian']\n",
      "\n",
      "\n",
      "None\n",
      "\n",
      "\n",
      "None no exist\n",
      "\n",
      "\n",
      "-1\n",
      "\n",
      "\n",
      "dict_items([('one', 1), ('two', 2), ('three', 3), (4, 4), (<class 'int'>, 'integer'), (<class 'float'>, 'float'), (5.5, 'float'), (False, 'true_false'), (<class 'bool'>, 5)])\n",
      "False\n",
      "\n",
      "\n",
      "dict_items([('one', 1), ('two', 2), ('three', 3), (4, 4), (<class 'int'>, 'integer'), (<class 'float'>, 'float'), (5.5, 'float'), (False, 'true_false'), (<class 'bool'>, 5)]) ** False ** False ** <class 'dict_items'>\n",
      "\n",
      "\n",
      "dict_keys(['one', 'two', 'three', 4, <class 'int'>, <class 'float'>, 5.5, False, <class 'bool'>]) ** False ** False ** <class 'dict_keys'>\n",
      "\n",
      "\n",
      "dict_values([1, 2, 3, 4, 'integer', 'float', 'float', 'true_false', 5]) ** False ** False ** <class 'dict_values'>\n",
      "\n",
      "\n",
      "Before {'one': 1, 'two': 2, 'three': 3, 4: 4, <class 'int'>: 'integer', <class 'float'>: 'float', 5.5: 'float', False: 'true_false', <class 'bool'>: 5}\n",
      "float\n",
      "After {'one': 1, 'two': 2, 'three': 3, 4: 4, <class 'int'>: 'integer', <class 'float'>: 'float', False: 'true_false', <class 'bool'>: 5}\n",
      "\n",
      "\n"
     ]
    }
   ],
   "source": [
    "'''Number of key-value pairs in a dictionary'''\n",
    "print(len(a))\n",
    "print('\\n')\n",
    "\n",
    "'''A printable str version of a dictionary'''\n",
    "str_a = str(a)\n",
    "print(str_a, \"**\", isinstance(str_a, dict), \"**\", type(str_a))\n",
    "print('\\n')\n",
    "\n",
    "'''Get the value for a key if it exits in the dict'''\n",
    "print(a.get('one'))\n",
    "print('\\n')\n",
    "print(household.get((\"cousin\", \"florida\")))\n",
    "print('\\n')\n",
    "\n",
    "'''If a key is not found and an optional <default> aregument is given, then the argument is returned'''\n",
    "\n",
    "print(a.get('12'))\n",
    "print('\\n')\n",
    "print(a.get('12'), 'no exist')\n",
    "print('\\n')\n",
    "print(household.get((\"cousin\", \"florida\", 'texas'), -1))\n",
    "print('\\n')\n",
    "\n",
    "'''\n",
    "    dict.items() => returns a list of tuples that have a key value pair => PYTHON 2\n",
    "    \n",
    "    Here is where Python 2 and 3 are different:\n",
    "    (https://stackoverflow.com/questions/17695456/why-does-python-3-need-dict-items-to-be-wrapped-with-list)\n",
    "    n Python 2, the methods items(), keys() and values() used to \"take a snapshot\" of the dictionary contents \n",
    "    and return it as a list. It meant that if the dictionary changed while you were iterating over the list, \n",
    "    the contents in the list would not change.\n",
    "    In Python 3, these methods return a view object whose contents change dynamically as the dictionary changes. \n",
    "    Therefore, in order for the behavior of iterations over the result of these methods to remain consistent \n",
    "    with previous versions, an additional call to list() has to be performed in Python 3 to \n",
    "    \"take a snapshot\" of the view object contents.\n",
    "\n",
    "    \n",
    "'''\n",
    "print(a.items())\n",
    "print('one' in a.items())\n",
    "print('\\n')\n",
    "\n",
    "hold_list = a.items()\n",
    "print(hold_list, \"**\", isinstance(hold_list, dict), \"**\",isinstance(hold_list, list), \"**\", type(hold_list))\n",
    "print('\\n')\n",
    "\n",
    "'''\n",
    "    dict.keys() and dict.values () \n",
    "'''\n",
    "hold_keys = a.keys()\n",
    "print(hold_keys, \"**\", isinstance(hold_keys, dict), \"**\",isinstance(hold_keys, list), \"**\", type(hold_keys))\n",
    "print('\\n')\n",
    "\n",
    "\n",
    "hold_values = a.values()\n",
    "print(hold_values, \"**\", isinstance(hold_values, dict), \"**\",isinstance(hold_values, list), \"**\", type(hold_values))\n",
    "print('\\n')\n",
    "\n",
    "'''d.pop() => removes a key from a dictionary, as long as the value is present, and returns its correspondent value'''\n",
    "print('Before', a)\n",
    "print(a.pop(5.5))\n",
    "print(\"After\", a)\n",
    "print('\\n')"
   ]
  },
  {
   "cell_type": "code",
   "execution_count": 22,
   "metadata": {},
   "outputs": [
    {
     "name": "stdout",
     "output_type": "stream",
     "text": [
      "{'mom': 'susan', 'dad': 'peter', 'mom_age': '42', 'dad_age': '39', 'kids': ['Lilla', 'Mario', 'Stephen'], 'pets_age': [('cat', 2), ('dog', 4)], 'birthdays': [['susan', '10-01-1977'], ['peter', '01-09-1979'], ['Lilla', '12-01-1995']], ('cousin', 'florida'): ['richie', 'matias', 'Sebastian']}\n",
      "False\n",
      "\n",
      "\n",
      "key not in dictionary\n",
      "-1\n"
     ]
    },
    {
     "ename": "KeyError",
     "evalue": "'grandma'",
     "output_type": "error",
     "traceback": [
      "\u001b[0;31m---------------------------------------------------------------------------\u001b[0m",
      "\u001b[0;31mKeyError\u001b[0m                                  Traceback (most recent call last)",
      "\u001b[0;32m<ipython-input-22-93c1aee586b4>\u001b[0m in \u001b[0;36m<module>\u001b[0;34m()\u001b[0m\n\u001b[1;32m     10\u001b[0m \u001b[0mprint\u001b[0m\u001b[0;34m(\u001b[0m\u001b[0mhousehold\u001b[0m\u001b[0;34m.\u001b[0m\u001b[0mpop\u001b[0m\u001b[0;34m(\u001b[0m\u001b[0;34m'grandma'\u001b[0m\u001b[0;34m,\u001b[0m \u001b[0;34m\"key not in dictionary\"\u001b[0m\u001b[0;34m)\u001b[0m\u001b[0;34m)\u001b[0m\u001b[0;34m\u001b[0m\u001b[0m\n\u001b[1;32m     11\u001b[0m \u001b[0mprint\u001b[0m\u001b[0;34m(\u001b[0m\u001b[0mhousehold\u001b[0m\u001b[0;34m.\u001b[0m\u001b[0mpop\u001b[0m\u001b[0;34m(\u001b[0m\u001b[0;34m'grandma'\u001b[0m\u001b[0;34m,\u001b[0m \u001b[0;34m-\u001b[0m\u001b[0;36m1\u001b[0m\u001b[0;34m)\u001b[0m\u001b[0;34m)\u001b[0m\u001b[0;34m\u001b[0m\u001b[0m\n\u001b[0;32m---> 12\u001b[0;31m \u001b[0mhousehold\u001b[0m\u001b[0;34m.\u001b[0m\u001b[0mpop\u001b[0m\u001b[0;34m(\u001b[0m\u001b[0;34m'grandma'\u001b[0m\u001b[0;34m)\u001b[0m \u001b[0;31m## here is the error we want to avoid\u001b[0m\u001b[0;34m\u001b[0m\u001b[0m\n\u001b[0m",
      "\u001b[0;31mKeyError\u001b[0m: 'grandma'"
     ]
    }
   ],
   "source": [
    "'''\n",
    "    d.pop() => removes a key from a dictionary, as long as the value is present, and returns its correspondent value\n",
    "    ALSO... if a key is not present you can pass an additional argument, so that the value that is return is not an \n",
    "    error\n",
    "'''\n",
    "print(household)\n",
    "print('grandma' in household)\n",
    "print('\\n')\n",
    "\n",
    "print(household.pop('grandma', \"key not in dictionary\"))\n",
    "print(household.pop('grandma', -1))\n",
    "household.pop('grandma') ## here is the error we want to avoid"
   ]
  },
  {
   "cell_type": "code",
   "execution_count": 23,
   "metadata": {},
   "outputs": [
    {
     "name": "stdout",
     "output_type": "stream",
     "text": [
      "Before : {'two': 2, 'one': 1, 'three': 3}\n",
      "('three', 3)\n",
      "After : {'two': 2, 'one': 1}\n"
     ]
    }
   ],
   "source": [
    "'''\n",
    "    d.popitem() =>  r(k, v), remove and return some (key, value) pair as a\n",
    "                    2-tuple; but raise KeyError if D is empty.\n",
    "'''\n",
    "print(\"Before :\", d)\n",
    "random_k_v = d.popitem()\n",
    "print(random_k_v)\n",
    "print(\"After :\", d)"
   ]
  },
  {
   "cell_type": "code",
   "execution_count": 24,
   "metadata": {},
   "outputs": [
    {
     "name": "stdout",
     "output_type": "stream",
     "text": [
      "{'mom': 'susan', 'dad': 'peter', 'mom_age': '42', 'dad_age': '39', 'kids': ['Lilla', 'Mario', 'Stephen'], 'pets_age': [('cat', 2), ('dog', 4)], 'birthdays': [['susan', '10-01-1977'], ['peter', '01-09-1979'], ['Lilla', '12-01-1995']], ('cousin', 'florida'): ['richie', 'matias', 'Sebastian']}\n",
      "\n",
      "\n",
      "{'one': 1, 'two': 2, 'three': 3}\n",
      "\n",
      "\n",
      "{'mom': 'susan', 'dad': 'peter', 'mom_age': '42', 'dad_age': '39', 'kids': ['Lilla', 'Mario', 'Stephen'], 'pets_age': [('cat', 2), ('dog', 4)], 'birthdays': [['susan', '10-01-1977'], ['peter', '01-09-1979'], ['Lilla', '12-01-1995']], ('cousin', 'florida'): ['richie', 'matias', 'Sebastian'], 'one': 1, 'two': 2, 'three': 3}\n",
      "\n",
      "\n"
     ]
    }
   ],
   "source": [
    "'''\n",
    "    d.update() =>   D.update([E, ]**F) -> None.  Update D from dict/iterable E and F.\n",
    "                    If E is present and has a .keys() method, then does:  for k in E: D[k] = E[k]\n",
    "                    If E is present and lacks a .keys() method, then does:  for k, v in E: D[k] = v\n",
    "                    In either case, this is followed by: for k in F:  D[k] = F[k]\n",
    "    meaning =>  Merges a dictionary with another dictionary or with an iterable of key-value pairs.\n",
    "                If the key is not present in d, the key-value pair from <obj> is added to d.\n",
    "                If the key is already present in d, the corresponding value in d for that key is updated \n",
    "                to the value from <obj>.\n",
    "'''\n",
    "print(household)\n",
    "print('\\n')\n",
    "print(c)\n",
    "print('\\n')\n",
    "\n",
    "household.update(c) \n",
    "print(household)\n",
    "print('\\n')"
   ]
  },
  {
   "cell_type": "markdown",
   "metadata": {},
   "source": [
    "## Do you know what is going on?\n",
    "---\n",
    "<p align=\"center\">\n",
    "  <img src=\"../../img/stop_pict.jpg\" width=\"256\" height=\"455\">\n",
    "</p>"
   ]
  },
  {
   "cell_type": "code",
   "execution_count": 25,
   "metadata": {},
   "outputs": [
    {
     "name": "stdout",
     "output_type": "stream",
     "text": [
      "{'San Francisco': 'California', 'Austin': 'Texas'} ** True ** <class 'dict'>\n",
      "\n",
      "\n"
     ]
    },
    {
     "ename": "KeyError",
     "evalue": "'Denver'",
     "output_type": "error",
     "traceback": [
      "\u001b[0;31m---------------------------------------------------------------------------\u001b[0m",
      "\u001b[0;31mKeyError\u001b[0m                                  Traceback (most recent call last)",
      "\u001b[0;32m<ipython-input-25-315c07d1b6de>\u001b[0m in \u001b[0;36m<module>\u001b[0;34m()\u001b[0m\n\u001b[1;32m      3\u001b[0m \u001b[0mprint\u001b[0m\u001b[0;34m(\u001b[0m\u001b[0mlocations\u001b[0m\u001b[0;34m,\u001b[0m \u001b[0;34m\"**\"\u001b[0m\u001b[0;34m,\u001b[0m \u001b[0misinstance\u001b[0m\u001b[0;34m(\u001b[0m\u001b[0mlocations\u001b[0m\u001b[0;34m,\u001b[0m \u001b[0mdict\u001b[0m\u001b[0;34m)\u001b[0m\u001b[0;34m,\u001b[0m \u001b[0;34m\"**\"\u001b[0m\u001b[0;34m,\u001b[0m \u001b[0mtype\u001b[0m\u001b[0;34m(\u001b[0m\u001b[0mlocations\u001b[0m\u001b[0;34m)\u001b[0m\u001b[0;34m)\u001b[0m\u001b[0;34m\u001b[0m\u001b[0m\n\u001b[1;32m      4\u001b[0m \u001b[0mprint\u001b[0m\u001b[0;34m(\u001b[0m\u001b[0;34m'\\n'\u001b[0m\u001b[0;34m)\u001b[0m\u001b[0;34m\u001b[0m\u001b[0m\n\u001b[0;32m----> 5\u001b[0;31m \u001b[0mlocations\u001b[0m\u001b[0;34m[\u001b[0m\u001b[0;34m'Denver'\u001b[0m\u001b[0;34m]\u001b[0m \u001b[0;31m## Denver is not there => how do you avoid this?\u001b[0m\u001b[0;34m\u001b[0m\u001b[0m\n\u001b[0m",
      "\u001b[0;31mKeyError\u001b[0m: 'Denver'"
     ]
    }
   ],
   "source": [
    "'''Accessing Keys that are not in the dictionary'''\n",
    "locations = {\"San Francisco\": \"California\", \"Austin\": \"Texas\"}\n",
    "print(locations, \"**\", isinstance(locations, dict), \"**\", type(locations))\n",
    "print('\\n')\n",
    "locations['Denver'] ## Denver is not there => how do you avoid this?"
   ]
  },
  {
   "cell_type": "code",
   "execution_count": 26,
   "metadata": {},
   "outputs": [],
   "source": [
    "'''Deal with this nonexistence Key by using in'''\n",
    "if 'Denver' in locations: print(locations['Denver'])"
   ]
  },
  {
   "cell_type": "markdown",
   "metadata": {},
   "source": [
    "## [Shallow and deep copy](https://www.python-course.eu/python3_deep_copy.php)\n",
    "---"
   ]
  },
  {
   "cell_type": "code",
   "execution_count": 27,
   "metadata": {},
   "outputs": [
    {
     "name": "stdout",
     "output_type": "stream",
     "text": [
      "{'course1': {'title': 'Python Training Course for Beginners', 'location': 'Frankfurt', 'trainer': 'Steve G. Snake'}, 'course2': {'title': 'Intermediate Python Training', 'location': 'Berlin', 'trainer': 'Ella M. Charming'}, 'course3': {'title': 'Python Text Processing Course', 'location': 'München', 'trainer': 'Monica A. Snowdon'}} ** True ** <class 'dict'>\n",
      "\n",
      "\n",
      "{'course1': {'title': 'Python Training Course for Beginners', 'location': 'Frankfurt', 'trainer': 'Steve G. Snake'}, 'course2': {'title': 'Intermediate Python Training', 'location': 'Berlin', 'trainer': 'Ella M. Charming'}, 'course3': {'title': 'Python Text Processing Course', 'location': 'München', 'trainer': 'Monica A. Snowdon'}} ** True ** <class 'dict'>\n",
      "\n",
      "\n",
      "{'course1': {'title': 'Python Training Course for Beginners', 'location': 'Frankfurt', 'trainer': 'Steve G. Snake'}, 'course2': {'title': 'Perl Training Course for Beginners', 'location': 'Berlin', 'trainer': 'Ella M. Charming'}, 'course3': {'title': 'Python Text Processing Course', 'location': 'München', 'trainer': 'Monica A. Snowdon'}} ** True ** <class 'dict'>\n",
      "\n",
      "\n",
      "{'course1': {'title': 'Python Training Course for Beginners', 'location': 'Frankfurt', 'trainer': 'Steve G. Snake'}, 'course2': {'title': 'Perl Training Course for Beginners', 'location': 'Berlin', 'trainer': 'Ella M. Charming'}, 'course3': {'title': 'Python Text Processing Course', 'location': 'München', 'trainer': 'Monica A. Snowdon'}} ** True ** <class 'dict'>\n",
      "\n",
      "\n"
     ]
    }
   ],
   "source": [
    "'''\n",
    "    dict.copy() = > Want to make a copy of the dictionary\n",
    "    This copy is a shallow and not a deep copy. If a value is a complex data type like a list, \n",
    "    for example, in-place changes in this object have effects on the ***copy as well***:\n",
    "'''\n",
    "trainings = { \"course1\":{\"title\":\"Python Training Course for Beginners\", \n",
    "                         \"location\":\"Frankfurt\", \n",
    "                         \"trainer\":\"Steve G. Snake\"},\n",
    "              \"course2\":{\"title\":\"Intermediate Python Training\",\n",
    "                         \"location\":\"Berlin\",\n",
    "                         \"trainer\":\"Ella M. Charming\"},\n",
    "              \"course3\":{\"title\":\"Python Text Processing Course\",\n",
    "                         \"location\":\"München\",\n",
    "                         \"trainer\":\"Monica A. Snowdon\"}\n",
    "              }\n",
    "\n",
    "print(trainings, \"**\", isinstance(trainings, dict), \"**\", type(trainings))\n",
    "print('\\n')\n",
    "\n",
    "'''making a copy'''\n",
    "trainings2 = trainings.copy()\n",
    "print(trainings2, \"**\", isinstance(trainings2, dict), \"**\", type(trainings2))\n",
    "print('\\n')\n",
    "\n",
    "'''Here I am making a change in the oiginal and will have an effect on the copy too'''\n",
    "trainings[\"course2\"][\"title\"] = \"Perl Training Course for Beginners\"\n",
    "print(trainings2, \"**\", isinstance(trainings2, dict), \"**\", type(trainings2))\n",
    "print('\\n')\n",
    "\n",
    "print(trainings, \"**\", isinstance(trainings, dict), \"**\", type(trainings))\n",
    "print('\\n')"
   ]
  },
  {
   "cell_type": "code",
   "execution_count": 28,
   "metadata": {},
   "outputs": [
    {
     "name": "stdout",
     "output_type": "stream",
     "text": [
      "{'course1': {'title': 'Python Training Course for Beginners', 'location': 'Frankfurt', 'trainer': 'Steve G. Snake'}, 'course2': {'title': 'Intermediate Python Training', 'location': 'Berlin', 'trainer': 'Ella M. Charming'}, 'course3': {'title': 'Python Text Processing Course', 'location': 'München', 'trainer': 'Monica A. Snowdon'}} ** True ** <class 'dict'>\n",
      "\n",
      "\n",
      "{'course1': {'title': 'Python Training Course for Beginners', 'location': 'Frankfurt', 'trainer': 'Steve G. Snake'}, 'course2': {'title': 'Intermediate Python Training', 'location': 'Berlin', 'trainer': 'Ella M. Charming'}, 'course3': {'title': 'Python Text Processing Course', 'location': 'München', 'trainer': 'Monica A. Snowdon'}} ** True ** <class 'dict'>\n",
      "\n",
      "\n",
      "{'title': 'Perl Seminar for Beginners', 'location': 'Ulm', 'trainer': 'James D. Morgan'}\n",
      "\n",
      "\n",
      "{'title': 'Intermediate Python Training', 'location': 'Berlin', 'trainer': 'Ella M. Charming'}\n"
     ]
    }
   ],
   "source": [
    "'''\n",
    "    Shallow and deep copy (https://www.python-course.eu/python3_deep_copy.php)\n",
    "'''\n",
    "\n",
    "trainings = { \"course1\":{\"title\":\"Python Training Course for Beginners\", \n",
    "                         \"location\":\"Frankfurt\", \n",
    "                         \"trainer\":\"Steve G. Snake\"},\n",
    "              \"course2\":{\"title\":\"Intermediate Python Training\",\n",
    "                         \"location\":\"Berlin\",\n",
    "                         \"trainer\":\"Ella M. Charming\"},\n",
    "              \"course3\":{\"title\":\"Python Text Processing Course\",\n",
    "                         \"location\":\"München\",\n",
    "                         \"trainer\":\"Monica A. Snowdon\"}\n",
    "              }\n",
    "\n",
    "print(trainings, \"**\", isinstance(trainings, dict), \"**\", type(trainings))\n",
    "print('\\n')\n",
    "\n",
    "'''making a copy'''\n",
    "trainings2 = trainings.copy()\n",
    "print(trainings2, \"**\", isinstance(trainings2, dict), \"**\", type(trainings2))\n",
    "print('\\n')\n",
    "\n",
    "'''If you assign a new value, i.e. a new object, to a key => this is what happens'''\n",
    "trainings[\"course2\"] = {\"title\":\"Perl Seminar for Beginners\",\n",
    "                         \"location\":\"Ulm\",\n",
    "                         \"trainer\":\"James D. Morgan\"}\n",
    "\n",
    "print(trainings[\"course2\"])\n",
    "print('\\n')\n",
    "\n",
    "print(trainings2[\"course2\"])"
   ]
  },
  {
   "cell_type": "markdown",
   "metadata": {},
   "source": [
    "## Iterating over a dictionary\n",
    "---"
   ]
  },
  {
   "cell_type": "code",
   "execution_count": 29,
   "metadata": {},
   "outputs": [
    {
     "name": "stdout",
     "output_type": "stream",
     "text": [
      "Original Dict : {'three': 3, 'one': 1, 'two': 2}\n",
      "three\n",
      "one\n",
      "two\n",
      "\n",
      "\n",
      "three\n",
      "one\n",
      "two\n"
     ]
    }
   ],
   "source": [
    "print(\"Original Dict :\", e)\n",
    "\n",
    "'''accessing the keys'''\n",
    "for key in e:\n",
    "    print(key)\n",
    "\n",
    "print(\"\\n\")\n",
    "'''Using the method keys() => we get the same result'''\n",
    "for key in e.keys():\n",
    "    print(key)"
   ]
  },
  {
   "cell_type": "code",
   "execution_count": 30,
   "metadata": {},
   "outputs": [
    {
     "name": "stdout",
     "output_type": "stream",
     "text": [
      "3\n",
      "1\n",
      "2\n"
     ]
    }
   ],
   "source": [
    "'''\n",
    "    Accessing the values=> use the method values() to iterate over the values\n",
    "'''\n",
    "for value in e.values():\n",
    "    print(value)"
   ]
  },
  {
   "cell_type": "code",
   "execution_count": 31,
   "metadata": {},
   "outputs": [
    {
     "name": "stdout",
     "output_type": "stream",
     "text": [
      "3\n",
      "1\n",
      "2\n",
      "\n",
      "\n"
     ]
    }
   ],
   "source": [
    "'''\n",
    "    Does this looks familiar?\n",
    "    Extremely inneficient => time!!!\n",
    "'''\n",
    "for key in e:\n",
    "    print(e[key])\n",
    "print(\"\\n\")"
   ]
  },
  {
   "cell_type": "code",
   "execution_count": 32,
   "metadata": {},
   "outputs": [
    {
     "name": "stdout",
     "output_type": "stream",
     "text": [
      "0 three\n",
      "1 one\n",
      "2 two\n",
      "\n",
      "\n",
      "0\n",
      "1\n",
      "2\n",
      "\n",
      "\n",
      "three\n",
      "one\n",
      "two\n"
     ]
    }
   ],
   "source": [
    "'''\n",
    "    Remember Enumerate\n",
    "'''\n",
    "for k, v in enumerate(e):\n",
    "    print(k, v)\n",
    "print(\"\\n\")\n",
    "\n",
    "'''Need just the key then:'''\n",
    "for k, _ in enumerate(e):\n",
    "    print(k)\n",
    "print(\"\\n\")\n",
    "\n",
    "\n",
    "'''Need just the value then:'''\n",
    "for _, v in enumerate(e):\n",
    "    print(v)"
   ]
  },
  {
   "cell_type": "markdown",
   "metadata": {},
   "source": [
    "## List and Dictionaries: There is a connection\n",
    "---\n",
    "- Lists and dictionaries are the most common ways to work around your python code. Thus if we have a dictionary\n",
    "\n",
    "     ``eD = {'three': 3, 'one': 1, 'two': 2}``\n",
    "     \n",
    "     we can turn this into a list of tuples\n",
    "     \n",
    "     \n",
    "    eL = [('three', 3), ('one', 1), ('two', 2)]\n",
    "    \n",
    "We can create a list from a dictionary by using any of the following methods ```items(), keys() and values().``` As the name implies the method keys() creates a list, which consists solely of the keys of the dictionary. values() produces a list consisting of the values. items() can be used to create a list consisting of 2-tuples of (key,value)-pairs:"
   ]
  },
  {
   "cell_type": "code",
   "execution_count": 33,
   "metadata": {},
   "outputs": [
    {
     "name": "stdout",
     "output_type": "stream",
     "text": [
      "{'mom': 'susan', 'dad': 'peter', 'mom_age': '42', 'dad_age': '39', 'kids': ['Lilla', 'Mario', 'Stephen'], 'pets_age': [('cat', 2), ('dog', 4)], 'birthdays': [['susan', '10-01-1977'], ['peter', '01-09-1979'], ['Lilla', '12-01-1995']], ('cousin', 'florida'): ['richie', 'matias', 'Sebastian'], 'one': 1, 'two': 2, 'three': 3}\n"
     ]
    }
   ],
   "source": [
    "print(household)"
   ]
  },
  {
   "cell_type": "code",
   "execution_count": 34,
   "metadata": {},
   "outputs": [
    {
     "name": "stdout",
     "output_type": "stream",
     "text": [
      "dict_items([('mom', 'susan'), ('dad', 'peter'), ('mom_age', '42'), ('dad_age', '39'), ('kids', ['Lilla', 'Mario', 'Stephen']), ('pets_age', [('cat', 2), ('dog', 4)]), ('birthdays', [['susan', '10-01-1977'], ['peter', '01-09-1979'], ['Lilla', '12-01-1995']]), (('cousin', 'florida'), ['richie', 'matias', 'Sebastian']), ('one', 1), ('two', 2), ('three', 3)]) ** False ** <class 'dict_items'>\n",
      "\n",
      "\n",
      "[('mom', 'susan'), ('dad', 'peter'), ('mom_age', '42'), ('dad_age', '39'), ('kids', ['Lilla', 'Mario', 'Stephen']), ('pets_age', [('cat', 2), ('dog', 4)]), ('birthdays', [['susan', '10-01-1977'], ['peter', '01-09-1979'], ['Lilla', '12-01-1995']]), (('cousin', 'florida'), ['richie', 'matias', 'Sebastian']), ('one', 1), ('two', 2), ('three', 3)] ** False ** <class 'list'>\n",
      "\n",
      "\n"
     ]
    }
   ],
   "source": [
    "'''NEED TO CAST THEM AS A LIST => HERE IS A TUPLE OF KEY VALUE PAIR'''\n",
    "items_view = household.items()\n",
    "print(items_view, \"**\", isinstance(items_view, dict), \"**\", type(items_view))\n",
    "print('\\n')\n",
    "\n",
    "items = list(items_view)\n",
    "print(items, \"**\", isinstance(items, dict), \"**\", type(items))\n",
    "print('\\n')\n",
    "\n"
   ]
  },
  {
   "cell_type": "code",
   "execution_count": 35,
   "metadata": {},
   "outputs": [
    {
     "name": "stdout",
     "output_type": "stream",
     "text": [
      "dict_keys(['mom', 'dad', 'mom_age', 'dad_age', 'kids', 'pets_age', 'birthdays', ('cousin', 'florida'), 'one', 'two', 'three']) ** False ** <class 'dict_keys'>\n",
      "\n",
      "\n",
      "['mom', 'dad', 'mom_age', 'dad_age', 'kids', 'pets_age', 'birthdays', ('cousin', 'florida'), 'one', 'two', 'three'] ** False ** <class 'list'>\n",
      "\n",
      "\n"
     ]
    }
   ],
   "source": [
    "'''NEED TO CAST THEM AS A LIST => NEED JUST THE KEYS'''\n",
    "keys_view = household.keys()\n",
    "print(keys_view, \"**\", isinstance(keys_view, dict), \"**\", type(keys_view))\n",
    "print('\\n')\n",
    "\n",
    "keys = list(keys_view)\n",
    "print(keys, \"**\", isinstance(keys, dict), \"**\", type(keys))\n",
    "print('\\n')"
   ]
  },
  {
   "cell_type": "code",
   "execution_count": 36,
   "metadata": {},
   "outputs": [
    {
     "name": "stdout",
     "output_type": "stream",
     "text": [
      "dict_values(['susan', 'peter', '42', '39', ['Lilla', 'Mario', 'Stephen'], [('cat', 2), ('dog', 4)], [['susan', '10-01-1977'], ['peter', '01-09-1979'], ['Lilla', '12-01-1995']], ['richie', 'matias', 'Sebastian'], 1, 2, 3]) ** False ** <class 'dict_values'>\n",
      "\n",
      "\n",
      "['susan', 'peter', '42', '39', ['Lilla', 'Mario', 'Stephen'], [('cat', 2), ('dog', 4)], [['susan', '10-01-1977'], ['peter', '01-09-1979'], ['Lilla', '12-01-1995']], ['richie', 'matias', 'Sebastian'], 1, 2, 3] ** False ** <class 'list'>\n",
      "\n",
      "\n"
     ]
    }
   ],
   "source": [
    "'''NEED TO CAST THEM AS A LIST => NEED JUST THE VALUES'''\n",
    "values_view = household.values()\n",
    "print(values_view, \"**\", isinstance(values_view, dict), \"**\", type(values_view))\n",
    "print('\\n')\n",
    "\n",
    "values = list(values_view)\n",
    "print(values, \"**\", isinstance(values, dict), \"**\", type(values))\n",
    "print('\\n')"
   ]
  },
  {
   "cell_type": "code",
   "execution_count": 37,
   "metadata": {},
   "outputs": [
    {
     "data": {
      "text/plain": [
       "{('cousin', 'florida'): ['richie', 'matias', 'Sebastian'],\n",
       " 'birthdays': [['susan', '10-01-1977'],\n",
       "  ['peter', '01-09-1979'],\n",
       "  ['Lilla', '12-01-1995']],\n",
       " 'dad': 'peter',\n",
       " 'dad_age': '39',\n",
       " 'kids': ['Lilla', 'Mario', 'Stephen'],\n",
       " 'mom': 'susan',\n",
       " 'mom_age': '42',\n",
       " 'one': 1,\n",
       " 'pets_age': [('cat', 2), ('dog', 4)],\n",
       " 'three': 3,\n",
       " 'two': 2}"
      ]
     },
     "execution_count": 37,
     "metadata": {},
     "output_type": "execute_result"
    }
   ],
   "source": [
    "'''NEED TO CREATE A DICTIONARY => FROM THE LIS OF TUPLES (KEY, VALUE) '''\n",
    "dict(items)"
   ]
  },
  {
   "cell_type": "code",
   "execution_count": 38,
   "metadata": {},
   "outputs": [
    {
     "name": "stdout",
     "output_type": "stream",
     "text": [
      "<zip object at 0x10d5c6888> ** False ** <class 'list'>\n",
      "\n",
      "\n",
      "[('Italy', 'pizza'), ('Germany', 'sauerkraut'), ('Spain', 'paella'), ('USA', 'hamburger')] ** False ** <class 'list'>\n",
      "\n",
      "\n",
      "{'Italy': 'pizza', 'Germany': 'sauerkraut', 'Spain': 'paella', 'USA': 'hamburger'} ** True ** <class 'dict'>\n",
      "\n",
      "\n",
      "{'Italy': 'pizza', 'Germany': 'sauerkraut', 'Spain': 'paella', 'USA': 'hamburger'} ** True ** <class 'dict'>\n"
     ]
    }
   ],
   "source": [
    "'''Dont forget this great connection between list and dictionaries'''\n",
    "dishes = [\"pizza\", \"sauerkraut\", \"paella\", \"hamburger\"]\n",
    "countries = [\"Italy\", \"Germany\", \"Spain\", \"USA\"]\n",
    "\n",
    "'''Use ZIP => as long as the len of the the lists is the same'''\n",
    "if len(dishes) == len(countries):\n",
    "    \n",
    "    '''\n",
    "        This builds the iterator:\n",
    "        Note: Especialy for those migrating from Python 2.x to Python 3.x: \n",
    "        zip() used to return a list, now it's returning an iterator\n",
    "    '''\n",
    "    zipping_first =  zip(countries,  dishes)\n",
    "    print(zipping_first, \"**\", isinstance(zipping_first, dict), \"**\", type(values))\n",
    "    print('\\n')\n",
    "    \n",
    "    '''this builds a list'''\n",
    "    country_dishes_list = list(zipping_first)\n",
    "    print(country_dishes_list, \"**\", isinstance(country_dishes_list, dict), \"**\", type(country_dishes_list))\n",
    "    print('\\n')\n",
    "    \n",
    "    '''this builds a dict'''\n",
    "    country_dishes_dict = dict(country_dishes_list)\n",
    "    print(country_dishes_dict, \"**\", isinstance(country_dishes_dict, dict), \"**\", type(country_dishes_dict))\n",
    "    print('\\n')\n",
    "    \n",
    "    '''less steps'''\n",
    "    country_dishes_dict_2 = dict(list(zip(countries,  dishes)))\n",
    "    print(country_dishes_dict_2, \"**\", isinstance(country_dishes_dict_2, dict), \"**\", type(country_dishes_dict_2))"
   ]
  },
  {
   "cell_type": "markdown",
   "metadata": {},
   "source": [
    "## So a Dictionary is good for what??\n",
    "---\n",
    "- Tracking stats, it behaves like a counter.\n",
    "- One major problem with dictionaries is that you can't assume any keys are already present....(see below)"
   ]
  },
  {
   "cell_type": "code",
   "execution_count": 39,
   "metadata": {},
   "outputs": [
    {
     "name": "stdout",
     "output_type": "stream",
     "text": [
      "{}\n",
      "{'my_counter': 1}\n"
     ]
    }
   ],
   "source": [
    "stats = {}\n",
    "print(stats)\n",
    "key = 'my_counter'\n",
    "\n",
    "if key not in stats:\n",
    "    stats[key] = 0\n",
    "stats[key] +=1\n",
    "print(stats)"
   ]
  },
  {
   "cell_type": "code",
   "execution_count": 40,
   "metadata": {},
   "outputs": [],
   "source": [
    "'''same idea as before but with a function'''\n",
    "def count_histogram(string):\n",
    "    stats_dictionary = {}\n",
    "    for character in string:\n",
    "        if character not in stats_dictionary:\n",
    "            stats_dictionary[character] =1\n",
    "        else:\n",
    "            stats_dictionary[character] +=1\n",
    "    return stats_dictionary"
   ]
  },
  {
   "cell_type": "code",
   "execution_count": 41,
   "metadata": {},
   "outputs": [
    {
     "data": {
      "text/plain": [
       "{'_': 4,\n",
       " 'a': 5,\n",
       " 'e': 3,\n",
       " 'g': 2,\n",
       " 'h': 1,\n",
       " 'i': 2,\n",
       " 'm': 3,\n",
       " 'n': 1,\n",
       " 'o': 1,\n",
       " 'r': 1,\n",
       " 'w': 1}"
      ]
     },
     "execution_count": 41,
     "metadata": {},
     "output_type": "execute_result"
    }
   ],
   "source": [
    "count_histogram(\"mamamia_here_we_go_again\")"
   ]
  },
  {
   "cell_type": "code",
   "execution_count": 42,
   "metadata": {
    "collapsed": true,
    "jupyter": {
     "outputs_hidden": true
    }
   },
   "outputs": [],
   "source": [
    "'''\n",
    "    REVERSE LOOKUP => SUPER HELPFUL BUT HARD TO SEARCH - GIVEN A VALUE YOU WANT TO FIND A KEY:\n",
    "    1. NO SIMPLE WAY TO DO THIS, ONE NEEDS TO SEARCH\n",
    "    2. YOU CAN RAISE AN ERROR STATEMENT IN THE PROCESS\n",
    "'''\n",
    "def reverse_lookup(dictionary, value):\n",
    "    for key in dictionary:\n",
    "        if dictionary[key] == value:\n",
    "            return key\n",
    "        raise LookupError()"
   ]
  },
  {
   "cell_type": "code",
   "execution_count": 43,
   "metadata": {},
   "outputs": [
    {
     "name": "stdout",
     "output_type": "stream",
     "text": [
      "{'one': 1, 'two': 2, 'three': 3, 4: 4, <class 'int'>: 'integer', <class 'float'>: 'float', False: 'true_false', <class 'bool'>: 5}\n",
      "one\n"
     ]
    },
    {
     "ename": "LookupError",
     "evalue": "",
     "output_type": "error",
     "traceback": [
      "\u001b[0;31m---------------------------------------------------------------------------\u001b[0m",
      "\u001b[0;31mLookupError\u001b[0m                               Traceback (most recent call last)",
      "\u001b[0;32m<ipython-input-43-a84cbd964488>\u001b[0m in \u001b[0;36m<module>\u001b[0;34m()\u001b[0m\n\u001b[1;32m      1\u001b[0m \u001b[0mprint\u001b[0m\u001b[0;34m(\u001b[0m\u001b[0ma\u001b[0m\u001b[0;34m)\u001b[0m\u001b[0;34m\u001b[0m\u001b[0m\n\u001b[1;32m      2\u001b[0m \u001b[0mprint\u001b[0m\u001b[0;34m(\u001b[0m\u001b[0mreverse_lookup\u001b[0m\u001b[0;34m(\u001b[0m\u001b[0ma\u001b[0m\u001b[0;34m,\u001b[0m \u001b[0;36m1\u001b[0m\u001b[0;34m)\u001b[0m\u001b[0;34m)\u001b[0m\u001b[0;34m\u001b[0m\u001b[0m\n\u001b[0;32m----> 3\u001b[0;31m \u001b[0mreverse_lookup\u001b[0m\u001b[0;34m(\u001b[0m\u001b[0ma\u001b[0m\u001b[0;34m,\u001b[0m \u001b[0;36m6\u001b[0m\u001b[0;34m)\u001b[0m\u001b[0;34m\u001b[0m\u001b[0m\n\u001b[0m",
      "\u001b[0;32m<ipython-input-42-0c1cda94e629>\u001b[0m in \u001b[0;36mreverse_lookup\u001b[0;34m(dictionary, value)\u001b[0m\n\u001b[1;32m      8\u001b[0m         \u001b[0;32mif\u001b[0m \u001b[0mdictionary\u001b[0m\u001b[0;34m[\u001b[0m\u001b[0mkey\u001b[0m\u001b[0;34m]\u001b[0m \u001b[0;34m==\u001b[0m \u001b[0mvalue\u001b[0m\u001b[0;34m:\u001b[0m\u001b[0;34m\u001b[0m\u001b[0m\n\u001b[1;32m      9\u001b[0m             \u001b[0;32mreturn\u001b[0m \u001b[0mkey\u001b[0m\u001b[0;34m\u001b[0m\u001b[0m\n\u001b[0;32m---> 10\u001b[0;31m         \u001b[0;32mraise\u001b[0m \u001b[0mLookupError\u001b[0m\u001b[0;34m(\u001b[0m\u001b[0;34m)\u001b[0m\u001b[0;34m\u001b[0m\u001b[0m\n\u001b[0m",
      "\u001b[0;31mLookupError\u001b[0m: "
     ]
    }
   ],
   "source": [
    "print(a)\n",
    "print(reverse_lookup(a, 1))\n",
    "reverse_lookup(a, 6)"
   ]
  },
  {
   "cell_type": "markdown",
   "metadata": {},
   "source": [
    "## Do you know what is going on?\n",
    "---\n",
    "<p align=\"center\">\n",
    "  <img src=\"../../img/stop_pict.jpg\" width=\"256\" height=\"455\">\n",
    "</p>"
   ]
  },
  {
   "cell_type": "markdown",
   "metadata": {},
   "source": [
    "## List Comprehensions AKA listcomps\n",
    "---\n",
    "- __Listcomps__ is a compact way to create a list whose elements are the results of applying a fixed expression to elements in another sequence\n",
    "\n",
    "        [<map exp> for <name> in <iter exp> if <filter exp>]\n",
    "Using a simple example:\n",
    "        [x * x - 3 for x in [1, 2, 3, 4, 5] if x % 2 == 1]\n",
    "What is happening:\n",
    "1. We are creating a new list after performing a series of operations to the initial sequence ```[1, 2, 3, 4, 5]```\n",
    "2. We only keep the elements that satisfy the filter expression ```x % 2 == 1``` this means ```(1, 3, and 5)```\n",
    "3. For each element in ```(1, 3, and 5)```, we apply the map expression ```x * x - 3``` before adding it to the new list\n",
    "4. The result is ```[-2, 6, 22]```\n",
    "\n",
    "Keep in mind that the if statement is optional in listcomps\n",
    "\n",
    "__A for loop may be used to do lots of different things: scanning a sequence to count or\n",
    "pick items, computing aggregates (sums, averages), or any number of other processing\n",
    "tasks. In contrast, a listcomp is meant to\n",
    "do one thing only: to build a new list__"
   ]
  },
  {
   "cell_type": "markdown",
   "metadata": {},
   "source": [
    "## List Comprehensions - WHY????\n",
    "---\n",
    "- Listcomps do everything the map and filter functions do, without the contortions of the functionally challenged Python lambda. "
   ]
  },
  {
   "cell_type": "code",
   "execution_count": 44,
   "metadata": {},
   "outputs": [
    {
     "name": "stdout",
     "output_type": "stream",
     "text": [
      "[162, 163, 165, 8364, 164]\n",
      "\n",
      "\n",
      "[162, 163, 165, 8364, 164]\n"
     ]
    }
   ],
   "source": [
    "symbols = '$¢£¥€¤'\n",
    "beyond_ascii = [ord(s) for s in symbols if ord(s) > 127]\n",
    "print(beyond_ascii)\n",
    "print(\"\\n\")\n",
    "\n",
    "beyond_ascii = list(filter(lambda c: c > 127, map(ord, symbols)))\n",
    "print(beyond_ascii)"
   ]
  },
  {
   "cell_type": "code",
   "execution_count": 45,
   "metadata": {},
   "outputs": [
    {
     "name": "stdout",
     "output_type": "stream",
     "text": [
      "[('black', 'S'), ('black', 'M'), ('black', 'L'), ('white', 'S'), ('white', 'M'), ('white', 'L')] \n",
      "** True ** <class 'list'>\n",
      "\n",
      "\n",
      "('black', 'S')\n",
      "('black', 'M')\n",
      "('black', 'L')\n",
      "('white', 'S')\n",
      "('white', 'M')\n",
      "('white', 'L')\n",
      "\n",
      "\n",
      "[('black', 'S'), ('white', 'S'), ('black', 'M'), ('white', 'M'), ('black', 'L'), ('white', 'L')] \n",
      "** True ** <class 'list'>\n",
      "\n",
      "\n"
     ]
    }
   ],
   "source": [
    "'''Generate a cartesian product even though the len of the list are different => BETTER THAN ZIP'''\n",
    "colors = ['black', 'white']\n",
    "sizes = ['S', 'M', 'L']\n",
    "\n",
    "'''This generates a list of tuples arranged by color, then size.'''\n",
    "tshirts = [(color, size) for color in colors for size in sizes] \n",
    "print(tshirts, \"\\n**\", isinstance(tshirts, list), \"**\", type(tshirts))\n",
    "print(\"\\n\")\n",
    "\n",
    "'''So the code above is doing this'''\n",
    "for color in colors:\n",
    "    for size in sizes:\n",
    "        print((color, size))\n",
    "        \n",
    "print(\"\\n\") \n",
    "\n",
    "\n",
    "'''Want to arrange by size, then color, just rearrange the for clauses'''\n",
    "tshirts_2 = [(color, size)  for size in sizes\n",
    "                   for color in colors]\n",
    "print(tshirts_2, \"\\n**\", isinstance(tshirts_2, list), \"**\", type(tshirts_2))\n",
    "print(\"\\n\")"
   ]
  },
  {
   "cell_type": "markdown",
   "metadata": {},
   "source": [
    "## Warm up 1\n",
    "---\n",
    "What is the output of the following?\n",
    "~~~\n",
    ">>> [i+1 for i in [1, 2, 3, 4, 5] if i%2 ==0]\n",
    "\n",
    ">>> [i*1 for i in [5, -1, 3, -1 ,3] if i > 2]\n",
    "\n",
    ">>> [[y * 2 for y in [x , x+1]] for x in [1, 2, 3, 4, 5]]\n",
    "~~~"
   ]
  },
  {
   "cell_type": "code",
   "execution_count": 46,
   "metadata": {},
   "outputs": [
    {
     "name": "stdout",
     "output_type": "stream",
     "text": [
      "[3, 5] ** True ** <class 'list'>\n",
      "\n",
      "\n",
      "[5, 3, 3] ** True ** <class 'list'>\n",
      "\n",
      "\n",
      "[[2, 4], [4, 6], [6, 8], [8, 10], [10, 12]] ** True ** <class 'list'>\n"
     ]
    }
   ],
   "source": [
    "listcomp_a = [i+1 for i in [1, 2, 3, 4, 5] if i%2 ==0]\n",
    "print(listcomp_a, \"**\", isinstance(listcomp_a, list), \"**\", type(listcomp_a))\n",
    "print(\"\\n\")\n",
    "\n",
    "listcomp_b = [i*1 for i in [5, -1, 3, -1 ,3] if i > 2]\n",
    "print(listcomp_b, \"**\", isinstance(listcomp_b, list), \"**\", type(listcomp_b))\n",
    "print(\"\\n\")\n",
    "\n",
    "listcomp_c = [[y * 2 for y in [x, x+1]] for x in [1, 2, 3, 4, 5]]\n",
    "print(listcomp_c, \"**\", isinstance(listcomp_c, list), \"**\", type(listcomp_c))"
   ]
  },
  {
   "cell_type": "markdown",
   "metadata": {},
   "source": [
    "## Warm up 2\n",
    "---\n",
    "Define a function ```cool``` that takes in a list ```lst``` and then returns a new list that keeps only the even-indexed elements of a ```lst``` and multiplies each of those elements by the correspondent index"
   ]
  },
  {
   "cell_type": "code",
   "execution_count": 47,
   "metadata": {
    "collapsed": true,
    "jupyter": {
     "outputs_hidden": true
    }
   },
   "outputs": [],
   "source": [
    "def cool(lst):\n",
    "    '''\n",
    "        x = [1, 2, 3, 4, 5, 6]\n",
    "        cool(x)\n",
    "        [0, 6, 20]\n",
    "    '''\n",
    "    new_list = []\n",
    "    for i, v in enumerate(lst):\n",
    "        if i % 2 ==0:\n",
    "            new_list.append(v*i)\n",
    "    return new_list"
   ]
  },
  {
   "cell_type": "code",
   "execution_count": 48,
   "metadata": {},
   "outputs": [
    {
     "data": {
      "text/plain": [
       "[0, 6, 20]"
      ]
     },
     "execution_count": 48,
     "metadata": {},
     "output_type": "execute_result"
    }
   ],
   "source": [
    "x = [1, 2, 3, 4, 5, 6]\n",
    "cool(x)"
   ]
  },
  {
   "cell_type": "code",
   "execution_count": 49,
   "metadata": {},
   "outputs": [],
   "source": [
    "def cool_2(lst):\n",
    "    return [v*i for i, v in enumerate(lst) if i % 2 ==0]"
   ]
  },
  {
   "cell_type": "code",
   "execution_count": 50,
   "metadata": {},
   "outputs": [
    {
     "data": {
      "text/plain": [
       "[0, 6, 20]"
      ]
     },
     "execution_count": 50,
     "metadata": {},
     "output_type": "execute_result"
    }
   ],
   "source": [
    "cool_2(x)"
   ]
  },
  {
   "cell_type": "markdown",
   "metadata": {},
   "source": [
    "## Nested list comprehensions\n",
    "---"
   ]
  },
  {
   "cell_type": "code",
   "execution_count": 51,
   "metadata": {},
   "outputs": [
    {
     "data": {
      "text/plain": [
       "[[1.0, 1.0], [2.0, 2.8284271247461903], [3.0, 5.196152422706632], [4.0, 8.0]]"
      ]
     },
     "execution_count": 51,
     "metadata": {},
     "output_type": "execute_result"
    }
   ],
   "source": [
    "import numpy as np\n",
    "# i want:\n",
    "a = [[0,0],\n",
    "     [1, 1], \n",
    "     [4, 8], \n",
    "     [9, 27], \n",
    "     [16, 64]\n",
    "    ]\n",
    "# take square root\n",
    "\n",
    "# output list outer\n",
    "output = []\n",
    "\n",
    "# from/iterator outer\n",
    "for num_list in a:\n",
    "    \n",
    "    # output list inner\n",
    "    internal_list = []\n",
    "    \n",
    "    # where/filter outer\n",
    "    if not 0 in num_list:\n",
    "        \n",
    "        # from/iterator inner\n",
    "        for num in num_list:\n",
    "            # selector/modifier inner\n",
    "            internal_list.append(np.sqrt(num))\n",
    "            \n",
    "        # selector/modifier outer\n",
    "        output.append(internal_list)\n",
    "    \n",
    "output"
   ]
  },
  {
   "cell_type": "code",
   "execution_count": 52,
   "metadata": {},
   "outputs": [
    {
     "data": {
      "text/plain": [
       "[[1.0, 1.0], [2.0, 2.8284271247461903], [3.0, 5.196152422706632], [4.0, 8.0]]"
      ]
     },
     "execution_count": 52,
     "metadata": {},
     "output_type": "execute_result"
    }
   ],
   "source": [
    "# list comprehension\n",
    "# anatomy:\n",
    "# [ selector/modifier | from/iterator | where/filter ] <- brackets = output list\n",
    "\n",
    "\n",
    "def square_rooter(num_list):\n",
    "    return [np.sqrt(num) for num in num_list]\n",
    "\n",
    "lc = [     \n",
    "    square_rooter(num_list) # <-- output list inner\n",
    "    for num_list in a # <-- outer for/iterator\n",
    "    if not 0 in num_list # <-- outer where/filter\n",
    "] # <-- output list outer\n",
    "lc"
   ]
  },
  {
   "cell_type": "markdown",
   "metadata": {},
   "source": [
    "## Dictionary Comprehensions AKA dictcomp\n",
    "---\n",
    "- A dictcomp builds a dict instance by producing key:value pair from any iterable. "
   ]
  },
  {
   "cell_type": "code",
   "execution_count": 53,
   "metadata": {},
   "outputs": [
    {
     "name": "stdout",
     "output_type": "stream",
     "text": [
      "[(86, 'China'), (91, 'India'), (1, 'United States'), (62, 'Indonesia'), (55, 'Brazil'), (92, 'Pakistan'), (880, 'Bangladesh'), (234, 'Nigeria'), (7, 'Russia'), (81, 'Japan')] \n",
      "** True ** <class 'list'>\n"
     ]
    }
   ],
   "source": [
    "dial_codes = [ (86, 'China'), (91, 'India'), (1, 'United States'), (62, 'Indonesia'),\n",
    "               (55, 'Brazil'), (92, 'Pakistan'), (880, 'Bangladesh'), (234, 'Nigeria'),\n",
    "               (7, 'Russia'), (81, 'Japan')]\n",
    "print(dial_codes, \"\\n**\", isinstance(dial_codes, list), \"**\", type(dial_codes))"
   ]
  },
  {
   "cell_type": "code",
   "execution_count": 54,
   "metadata": {},
   "outputs": [
    {
     "name": "stdout",
     "output_type": "stream",
     "text": [
      "{'China': 86, 'India': 91, 'United States': 1, 'Indonesia': 62, 'Brazil': 55, 'Pakistan': 92, 'Bangladesh': 880, 'Nigeria': 234, 'Russia': 7, 'Japan': 81} \n",
      "** False ** <class 'dict'>\n"
     ]
    }
   ],
   "source": [
    "country_code  = {country: code for code, country in dial_codes} \n",
    "print(country_code, \"\\n**\", isinstance(country_code, list), \"**\", type(country_code))"
   ]
  },
  {
   "cell_type": "code",
   "execution_count": 55,
   "metadata": {},
   "outputs": [
    {
     "name": "stdout",
     "output_type": "stream",
     "text": [
      "{'China': 86, 'Indonesia': 62, 'Pakistan': 92, 'Bangladesh': 880, 'Nigeria': 234} \n",
      "** False ** <class 'dict'>\n"
     ]
    }
   ],
   "source": [
    "even_country_code = {country: code for code, country in dial_codes if code % 2 ==0}\n",
    "print(even_country_code, \"\\n**\", isinstance(even_country_code, list), \"**\", type(even_country_code))"
   ]
  },
  {
   "cell_type": "code",
   "execution_count": 56,
   "metadata": {},
   "outputs": [
    {
     "name": "stdout",
     "output_type": "stream",
     "text": [
      "{'India': 91, 'Indonesia': 62, 'Brazil': 55, 'Bangladesh': 880} \n",
      "** False ** <class 'dict'>\n"
     ]
    }
   ],
   "source": [
    "names_b_i_country_code = {country: code for code, country in dial_codes if country[0].lower() in ['i', 'b']} \n",
    "print(names_b_i_country_code, \"\\n**\", isinstance(names_b_i_country_code, list), \"**\", type(names_b_i_country_code))"
   ]
  },
  {
   "cell_type": "code",
   "execution_count": 57,
   "metadata": {},
   "outputs": [
    {
     "name": "stdout",
     "output_type": "stream",
     "text": [
      "[[0, 0], [1, 1], [4, 8], [9, 27], [16, 64]] {'one': 1, 'two': 2, 'three': 3} {'two': 2, 'one': 1}\n",
      "\n",
      "\n"
     ]
    }
   ],
   "source": [
    "'''Be aware that the order of appereance of Key value pair of a dictionary might not be the same'''\n",
    "print(a, b, d)\n",
    "print(\"\\n\")"
   ]
  },
  {
   "cell_type": "markdown",
   "metadata": {},
   "source": [
    "## Dictionaries Handling Missing Keys with setdefault\n",
    "---\n",
    "- The ```setdefault()``` method returns the value of a key (if the key is in dictionary). If not, it inserts key with a value to the dictionary.\n",
    "~~~\n",
    "dict.setdefault(key[, default_value])\n",
    "~~~\n",
    "```\n",
    "setdefault() Parameters\n",
    "The setdefault() takes maximum of two parameters:\n",
    "    __key__ - key to be searched in the dictionary\n",
    "    __default_value__ (optional) - key with a value default_value is inserted to the dictionary if key is not in the dictionary.\n",
    "If not provided, the default_value will be None.\n",
    "```"
   ]
  },
  {
   "cell_type": "code",
   "execution_count": 59,
   "metadata": {},
   "outputs": [
    {
     "name": "stdout",
     "output_type": "stream",
     "text": [
      "{'one': 1, 'two': 2, 'three': 3}\n",
      "Original dictionary b:  {'one': 1, 'two': 2, 'three': 3}\n",
      "Number two:  2\n",
      "\n",
      "\n",
      "Original dictionary b:  {'one': 1, 'two': 2, 'three': 3, 'ten': None}\n",
      "Number ten:  None\n",
      "\n",
      "\n",
      "Original dictionary b:  {'one': 1, 'two': 2, 'three': 3, 'ten': None, 'twenty': 20}\n",
      "Number twenty:  20\n",
      "\n",
      "\n"
     ]
    }
   ],
   "source": [
    "'''If key is in the dictionary - setdefault()'''\n",
    "print(b)\n",
    "num_two =  b.setdefault('two')\n",
    "print(\"Original dictionary b: \", b)\n",
    "print(\"Number two: \", num_two)\n",
    "print(\"\\n\")\n",
    "\n",
    "'''If key is not in the dictionary  - setdefault()'''\n",
    "num_ten = b.setdefault('ten')\n",
    "print(\"Original dictionary b: \", b)\n",
    "print(\"Number ten: \", num_ten)\n",
    "print(\"\\n\")\n",
    "\n",
    "\n",
    "'''If key is not in the dictionary AND default value provided - setdefault()'''\n",
    "num_twenty = b.setdefault('twenty', 20)\n",
    "print(\"Original dictionary b: \", b)\n",
    "print(\"Number twenty: \", num_twenty)\n",
    "print(\"\\n\")"
   ]
  }
 ],
 "metadata": {
  "anaconda-cloud": {},
  "celltoolbar": "Slideshow",
  "kernelspec": {
   "display_name": "Python 3",
   "language": "python",
   "name": "python3"
  },
  "language_info": {
   "codemirror_mode": {
    "name": "ipython",
    "version": 3
   },
   "file_extension": ".py",
   "mimetype": "text/x-python",
   "name": "python",
   "nbconvert_exporter": "python",
   "pygments_lexer": "ipython3",
   "version": "3.7.3"
  }
 },
 "nbformat": 4,
 "nbformat_minor": 4
}
