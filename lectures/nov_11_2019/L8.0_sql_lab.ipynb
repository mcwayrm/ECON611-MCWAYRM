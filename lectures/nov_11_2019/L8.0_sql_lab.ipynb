{
 "cells": [
  {
   "cell_type": "markdown",
   "metadata": {},
   "source": [
    "<img src=\"https://images.efollett.com/htmlroot/images/templates/storeLogos/CA/864.gif\" style=\"float: right;\"> \n",
    "\n",
    "\n",
    "\n",
    "\n",
    "# ECON611\n",
    "### Lecture 8 -  SQL - intermediate and intro to advanced topics.\n",
    "\n",
    "- Use DBeaver."
   ]
  },
  {
   "cell_type": "markdown",
   "metadata": {},
   "source": [
    "### What are the genres in the database? \n",
    "---"
   ]
  },
  {
   "cell_type": "code",
   "execution_count": 2,
   "metadata": {},
   "outputs": [
    {
     "data": {
      "text/plain": [
       "25"
      ]
     },
     "execution_count": 2,
     "metadata": {},
     "output_type": "execute_result"
    }
   ],
   "source": [
    "# 25"
   ]
  },
  {
   "cell_type": "markdown",
   "metadata": {},
   "source": [
    "### What are the customer names that are from California?\n",
    "---"
   ]
  },
  {
   "cell_type": "code",
   "execution_count": 6,
   "metadata": {},
   "outputs": [],
   "source": [
    "# Frank\tHarris\n",
    "# Tim\tGoyer\n",
    "# Dan\tMiller"
   ]
  },
  {
   "cell_type": "markdown",
   "metadata": {},
   "source": [
    "### How many songs are longer than 10 minutes?\n",
    "---"
   ]
  },
  {
   "cell_type": "code",
   "execution_count": null,
   "metadata": {
    "collapsed": true,
    "jupyter": {
     "outputs_hidden": true
    }
   },
   "outputs": [],
   "source": [
    "# 260"
   ]
  },
  {
   "cell_type": "markdown",
   "metadata": {},
   "source": [
    "### How many customers by country?\n",
    "---"
   ]
  },
  {
   "cell_type": "code",
   "execution_count": null,
   "metadata": {
    "collapsed": true,
    "jupyter": {
     "outputs_hidden": true
    }
   },
   "outputs": [],
   "source": [
    "# 13\tUSA\n",
    "# 8\tCanada\n",
    "# 5\tBrazil\n",
    "# 5\tFrance\n",
    "# 4\tGermany\n",
    "# 3\tUnited Kingdom\n",
    "# 2\tCzech Republic\n",
    "# 2\tIndia\n",
    "# 2\tPortugal\n",
    "# 1\tArgentina\n",
    "# 1\tAustralia\n",
    "# 1\tAustria\n",
    "# 1\tBelgium\n",
    "# 1\tChile\n",
    "# 1\tDenmark\n",
    "# 1\tFinland\n",
    "# 1\tHungary\n",
    "# 1\tIreland\n",
    "# 1\tItaly\n",
    "# 1\tNetherlands\n",
    "# 1\tNorway\n",
    "# 1\tPoland\n",
    "# 1\tSpain\n",
    "# 1\tSweden"
   ]
  },
  {
   "cell_type": "markdown",
   "metadata": {},
   "source": [
    "### What is the most recent Order Date? \n",
    "---"
   ]
  },
  {
   "cell_type": "code",
   "execution_count": null,
   "metadata": {
    "collapsed": true,
    "jupyter": {
     "outputs_hidden": true
    }
   },
   "outputs": [],
   "source": [
    "# 58\t2011-12-22 00:00:00\t12,Community Centre\tDelhi\t\tIndia\t110017\t1.99"
   ]
  },
  {
   "cell_type": "markdown",
   "metadata": {},
   "source": [
    "### How many invoices were there in January 2010?\n",
    "---"
   ]
  },
  {
   "cell_type": "code",
   "execution_count": null,
   "metadata": {
    "collapsed": true,
    "jupyter": {
     "outputs_hidden": true
    }
   },
   "outputs": [],
   "source": []
  },
  {
   "cell_type": "markdown",
   "metadata": {},
   "source": [
    "### How many tracks have NULL composer?\n",
    "---"
   ]
  },
  {
   "cell_type": "code",
   "execution_count": null,
   "metadata": {
    "collapsed": true,
    "jupyter": {
     "outputs_hidden": true
    }
   },
   "outputs": [],
   "source": [
    "# 978"
   ]
  },
  {
   "cell_type": "markdown",
   "metadata": {},
   "source": [
    "### What are the 5 longest songs?\n",
    "---"
   ]
  },
  {
   "cell_type": "code",
   "execution_count": null,
   "metadata": {
    "collapsed": true,
    "jupyter": {
     "outputs_hidden": true
    }
   },
   "outputs": [],
   "source": [
    "# 2820\tOccupation / Precipice\t227\t3\t19\t\t5286953\t1054423946\t1.99\n",
    "# 3224\tThrough a Looking Glass\t229\t3\t21\t\t5088838\t1059546140\t1.99\n",
    "# 3244\tGreetings from Earth, Pt. 1\t253\t3\t20\t\t2960293\t536824558\t1.99\n",
    "# 3242\tThe Man With Nine Lives\t253\t3\t20\t\t2956998\t577829804\t1.99\n",
    "# 3227\tBattlestar Galactica, Pt. 2\t253\t3\t20\t\t2956081\t521387924\t1.99"
   ]
  },
  {
   "cell_type": "markdown",
   "metadata": {},
   "source": [
    "### R.E.M. has collaborated with a couple artists, can you find which artists they’ve collaborated with?\n",
    "---"
   ]
  },
  {
   "cell_type": "code",
   "execution_count": null,
   "metadata": {
    "collapsed": true,
    "jupyter": {
     "outputs_hidden": true
    }
   },
   "outputs": [],
   "source": []
  },
  {
   "cell_type": "markdown",
   "metadata": {},
   "source": [
    "### How many tracks are performed by R.E.M. excluding collaborators?\n",
    "---"
   ]
  },
  {
   "cell_type": "code",
   "execution_count": null,
   "metadata": {
    "collapsed": true,
    "jupyter": {
     "outputs_hidden": true
    }
   },
   "outputs": [],
   "source": []
  },
  {
   "cell_type": "markdown",
   "metadata": {},
   "source": [
    "### Return a list of Customers that assigns a sequential integer to each customer and resets the number when the country of the customer changes for Customers in Canada and Brazil\n",
    "---"
   ]
  },
  {
   "cell_type": "code",
   "execution_count": null,
   "metadata": {
    "collapsed": true,
    "jupyter": {
     "outputs_hidden": true
    }
   },
   "outputs": [],
   "source": []
  }
 ],
 "metadata": {
  "kernelspec": {
   "display_name": "Python 3",
   "language": "python",
   "name": "python3"
  },
  "language_info": {
   "codemirror_mode": {
    "name": "ipython",
    "version": 3
   },
   "file_extension": ".py",
   "mimetype": "text/x-python",
   "name": "python",
   "nbconvert_exporter": "python",
   "pygments_lexer": "ipython3",
   "version": "3.7.3"
  },
  "widgets": {
   "state": {},
   "version": "1.1.0"
  }
 },
 "nbformat": 4,
 "nbformat_minor": 4
}
