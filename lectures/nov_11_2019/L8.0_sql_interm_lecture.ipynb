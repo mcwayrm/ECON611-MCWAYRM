{
 "cells": [
  {
   "cell_type": "markdown",
   "metadata": {
    "slideshow": {
     "slide_type": "slide"
    }
   },
   "source": [
    "<img src=\"https://images.efollett.com/htmlroot/images/templates/storeLogos/CA/864.gif\" style=\"float: right;\"> \n",
    "\n",
    "\n",
    "\n",
    "\n",
    "# ECON611\n",
    "### Lecture 8 -  SQL - intermediate and intro to advanced topics.\n",
    "- Notes adapted from: \n",
    "\n",
    "    1. [SQL for Data Science: Presentation by Renée Teate](https://docs.google.com/presentation/d/1qOtT2M-rjYa9JzKNz6_CxvfbihmqcmG9Ax6LgIriz0Y/mobilepresent?slide=id.p)\n",
    "    2. [Mode Analytics: The SQL Tutorial for Data Analysis](https://mode.com/sql-tutorial/introduction-to-sql)\n",
    "    3. [W3Schools](https://www.w3schools.com/sql/trysql.asp?filename=trysql_select_columns)\n",
    "    4. [Oracle-Base](https://oracle-base.com/articles/misc/rank-dense-rank-first-last-analytic-functions)\n",
    "    5. [sqlitetutorial](https://www.sqlitetutorial.net/sqlite-window-functions/sqlite-row_number/) \n",
    "    6. [SQLite](https://www.sqlite.org/index.html)\n",
    "    \n",
    "    \n",
    "### Objectives\n",
    "  - Understanding of UNION and UNION ALL.\n",
    "  - JOIN: self join and multiple key joins.\n",
    "  - SQL data types:\n",
    "      - Dealing with Strings.\n",
    "      - Dealing with TimeStamp.\n",
    "      - Dealing with Missing values.\n",
    "  - Subqueries \n",
    "  - 3 Window functions\n"
   ]
  },
  {
   "cell_type": "markdown",
   "metadata": {
    "slideshow": {
     "slide_type": "slide"
    }
   },
   "source": [
    "## Quick Review of last session where the objectives were:\n",
    "---\n",
    "  - Define basic characteristics of RDBMS\n",
    "  - Understand basic relational database terminology\n",
    "    - Indice types\n",
    "    - Columns / Fields\n",
    "    - Relationships (one-to-one, many-to-one)\n",
    "  - Basic SQL syntax\n",
    "    - `SELECT`\n",
    "    - `WHERE` conditionals\n",
    "    - `GROUP BY` aggregation + `HAVING` conditional filtering\n",
    "    - `ORDER BY` sorting\n",
    "    - `LIMIT` limiting results\n",
    "    - `JOIN` relational joining of tables\n",
    "    \n",
    "- White board => "
   ]
  },
  {
   "cell_type": "markdown",
   "metadata": {
    "slideshow": {
     "slide_type": "slide"
    }
   },
   "source": [
    "## SQL - `DISTINCT` & `COUNT`\n",
    "---\n",
    "- There is a big difference when one usese `DISTINCT`, `COUNT`\n",
    "    \n",
    "    ```sql\n",
    "    select sum(case when Company is null then 1 else 0 end) as null_val,\n",
    "    count(Company) as non_null, count(*)\n",
    "    from Customer c2;```"
   ]
  },
  {
   "cell_type": "markdown",
   "metadata": {
    "slideshow": {
     "slide_type": "slide"
    }
   },
   "source": [
    "## SQL - `UNION`\n",
    "---\n",
    "- Merges data from two queries by stacking results on top of each other.\n",
    "- Must have same number of columns and corresponding `data types`.\n",
    "- Duplicate results are removed by default.\n",
    "- `UNION ALL` will include duplicates.\n",
    "- When using `UNION` the rows from the second dataset that are the same are dropped.\n",
    "- Use `UNION` if you want to append distinct values.\n",
    "\n",
    "```sql\n",
    "select 'Customer' as dataset_name,\n",
    "Country, count(Country) number_people\n",
    "from Customer \n",
    "where Country like 'France'\n",
    "group by 1 \n",
    "union ALL\n",
    "select 'Employee' as dataset_name,\n",
    "Country, count(Country) number_people\n",
    "from Employee e\n",
    "where Country like 'Canada'\n",
    "group by 1;\n",
    "```"
   ]
  },
  {
   "cell_type": "markdown",
   "metadata": {
    "slideshow": {
     "slide_type": "slide"
    }
   },
   "source": [
    "## SQL - `JOIN with Comparison Operators`\n",
    "---\n",
    "- This is super handy for when you are trying to sbset your data after the join.\n",
    "- Be careful when using this command as it can cause some serious missing values.\n",
    "```sql\n",
    "SELECT companies.permalink,\n",
    "       companies.name,\n",
    "       companies.status,\n",
    "       COUNT(investments.investor_permalink) AS investors\n",
    "  FROM tutorial.crunchbase_companies companies\n",
    "  LEFT JOIN tutorial.crunchbase_investments_part1 investments\n",
    "    ON companies.permalink = investments.company_permalink\n",
    "   AND investments.funded_year > companies.founded_year + 5\n",
    " GROUP BY 1,2, 3\n",
    "```\n",
    "- Example from Mode Analytics."
   ]
  },
  {
   "cell_type": "markdown",
   "metadata": {
    "slideshow": {
     "slide_type": "slide"
    }
   },
   "source": [
    "## SQL - `JOIN on Multiple Keys, Self JOINS`\n",
    "---\n",
    "- The ide here is to increase accuracy of results... but you can hurt the performance of your join. TRUST ME ON THIS IT WILL TAKE TOOOOO LONGGG to get an output back to you. \n",
    "- This will be the case when the tables you are joining have more than 1 column that relates them to.\n",
    "- I can see\n",
    "\n",
    "```sql\n",
    "SELECT companies.permalink,\n",
    "       companies.name,\n",
    "       investments.company_name,\n",
    "       investments.company_permalink\n",
    "  FROM tutorial.crunchbase_companies companies\n",
    "  LEFT JOIN tutorial.crunchbase_investments_part1 investments\n",
    "    ON companies.permalink = investments.company_permalink\n",
    "   AND companies.name = investments.company_name\n",
    "   ```\n",
    " - Example from Mode Analytics.\n",
    " \n",
    "- Self join => They are super helpful specially when you want to extract/combine information that is belongs to different entities but are somehow related...\n",
    "\n",
    "- List of customers and employee names whose CustomerId is greater or equal than the SupportRepId. Constrain to customers who are from France, Brazil or Canada.\n",
    "\n",
    "```sql\n",
    "select cusmer_1.FirstName as cst_name, cusmer_1.LastName as cst_lastname, cusmer_1.Country, \n",
    "        cusmer_1.CustomerId, cusmer_1.SupportRepId, empl_1.LastName as empl_lastname, \n",
    "        empl_1.FirstName as empl_firstname\n",
    "from Customer as cusmer_1\n",
    "join Customer as cusmer_2 \n",
    "    on cusmer_1.CustomerId = cusmer_2.CustomerId\n",
    "join Employee as empl_1\n",
    "    on cusmer_2.SupportRepId = empl_1.EmployeeId\n",
    "where cusmer_1.CustomerId >= cusmer_2.SupportRepId \n",
    "and cusmer_1.Country in ('France', 'Brazil', 'Canada');\n",
    "```"
   ]
  },
  {
   "cell_type": "markdown",
   "metadata": {
    "slideshow": {
     "slide_type": "slide"
    }
   },
   "source": [
    "## SQL - `Data types`\n",
    "---\n",
    "- Just as we have seen in Python, SQL also has its own ways to store data. \n",
    "- Keep in mind that each SQL flavor has its own constrains on how to store data.\n",
    "https://www.sqlite.org/datatype3.html\n",
    "- The most common data types are (from Mode Analytics):\n",
    "\n",
    "\n",
    "| Data            | Type                                             | How is stored                   |\n",
    "|:---------------------|:------------------------------------------------------|:-------------------------------|\n",
    "|String | VARCHAR(1024) or any other value                         | Any characters, with a maximum field length of 1024 characters or any other number.                |\n",
    "| Date/Time   | TIMESTAMP    | Stores year, month, day, hour, minute and second values as YYYY-MM-DD hh:mm:ss. |\n",
    "| Number | DOUBLE PRECISION | Numerical, with up to 17 significant digits decimal precision.|\n",
    "| Boolean              | BOOLEAN                              | Only TRUE or FALSE values.         |\n",
    "\n",
    "- Note: SQLite does not have a separate Boolean storage class. Instead, Boolean values are stored as integers 0 (false) and 1 (true).\n",
    "\n"
   ]
  },
  {
   "cell_type": "markdown",
   "metadata": {
    "slideshow": {
     "slide_type": "slide"
    }
   },
   "source": [
    "## SQL - `Data types`\n",
    "---\n",
    "- TIMESTAMP is probably the one you will have to deal regularly.\n",
    "- The way how to deal with this data type is unique for every SQL flavor and of course you can cast the output to an integer!!\n",
    "    - https://www.sqlite.org/lang_datefunc.html\n",
    "- What is the age of employees when they were hired? \n",
    "\n",
    "```sql\n",
    "select LastName, FirstName, BirthDate, HireDate,\n",
    "    cast(strftime(HireDate)- strftime(BirthDate)  as int) as_years_at_hire\n",
    "from Employee e;\n",
    "\n",
    "```"
   ]
  },
  {
   "cell_type": "markdown",
   "metadata": {},
   "source": [
    "## SQL - `Dealing with Strings`\n",
    "---\n",
    "- SQL is notorious for dealing with TIMESTAMP and string values. \n",
    "- String values are notorious for having missing characters at the beginning or end of the column. \n",
    "- Often we have entries with lower and upper values that can create problems.\n",
    "- SQLITE has the following commands to deal with this:\n",
    "\n",
    "```sql\n",
    "lower(X)\n",
    "\n",
    "The lower(X) function returns a copy of string X with all ASCII characters converted to lower case. The default built-in lower() function works for ASCII characters only. To do case conversions on non-ASCII characters, load the ICU extension.\n",
    "\n",
    "ltrim(X)\n",
    "ltrim(X,Y)\n",
    "\n",
    "The ltrim(X,Y) function returns a string formed by removing any and all characters that appear in Y from the left side of X. If the Y argument is omitted, ltrim(X) removes spaces from the left side of X.\n",
    "\n",
    "rtrim(X)\n",
    "rtrim(X,Y)\n",
    "\n",
    "The rtrim(X,Y) function returns a string formed by removing any and all characters that appear in Y from the right side of X. If the Y argument is omitted, rtrim(X) removes spaces from the right side of X.\n",
    "\n",
    "trim(X)\n",
    "trim(X,Y)\n",
    "\n",
    "The trim(X,Y) function returns a string formed by removing any and all characters that appear in Y from both ends of X. If the Y argument is omitted, trim(X) removes spaces from both ends of X.\n",
    "\n",
    "\n",
    "substr(X,Y,Z)\n",
    "substr(X,Y)\n",
    "\n",
    "The substr(X,Y,Z) function returns a substring of input string X that begins with the Y-th character and which is Z characters long. If Z is omitted then substr(X,Y) returns all characters through the end of the string X beginning with the Y-th. The left-most character of X is number 1. If Y is negative then the first character of the substring is found by counting from the right rather than the left. If Z is negative then the abs(Z) characters preceding the Y-th character are returned. If X is a string then characters indices refer to actual UTF-8 characters. If X is a BLOB then the indices refer to bytes.\n",
    "```\n",
    "from https://www.sqlite.org/lang_corefunc.html\n",
    "\n",
    "```sql\n",
    "select BillingAddress, LOWER(BillingAddress), ltrim(BillingAddress, 82), \n",
    "rtrim(lower(BillingAddress), 'street'), SUBSTR(BillingAddress, 5, LENGTH(BillingAddress))\n",
    "from Invoice i2 ;\n",
    "```"
   ]
  },
  {
   "cell_type": "markdown",
   "metadata": {
    "slideshow": {
     "slide_type": "slide"
    }
   },
   "source": [
    "## SQL - `Missing values`\n",
    "---\n",
    "- `COALESCE` comes to the rescue!!!... specially if you want to include in your count null values\n",
    "\n",
    "```sql\n",
    "select Company,COALESCE(Company, 'no company')\n",
    "from Customer;\n",
    "\n",
    "\n",
    "select count(Company) as ct_1, COUNT(COALESCE(Company, 0)) as ct_2\n",
    "from Customer;\n",
    "\n",
    "```\n",
    "\n"
   ]
  },
  {
   "cell_type": "markdown",
   "metadata": {
    "slideshow": {
     "slide_type": "slide"
    }
   },
   "source": [
    "## SQL - `Finding the location of a substring  and concatenation`\n",
    "---\n",
    "- The SQLite INSTR searches a substring in a string and returns an integer that indicates the position of the substring, which is the first character of the substring.\n",
    "\n",
    "```sql\n",
    "select City, INSTR(City, 'Pau') as test\n",
    "from Customer c;\n",
    "\n",
    "select City, INSTR(City, 'Pra') as test\n",
    "from Customer c;\n",
    "```\n",
    "\n",
    "- Where concatenation is handy is when we can combine column content to generate id's, names, etc.\n",
    "\n",
    "```sql\n",
    "select City, FirstName, (FirstName ||', '|| LastName||' from: '|| City)\n",
    "from Customer c;\n",
    "```"
   ]
  },
  {
   "cell_type": "markdown",
   "metadata": {
    "slideshow": {
     "slide_type": "slide"
    }
   },
   "source": [
    "## SQL - `Extracting time components from your tables`\n",
    "---\n",
    "- I can't stress the importance of dealing with time in SQL. As I said before each SQL flavor has its own ways to do this. SQL lite uses the following:\n",
    "\n",
    "- If you want to extract the Year Month and Day for the current date, the following SQL can be used:\n",
    "\n",
    "```sql\n",
    "SELECT strftime('%Y %m %d','now');\n",
    "```\n",
    "\n",
    "- If you want to extract the Hour Minute Second and milliseconds from the current datetime, the following SQL can be used.\n",
    "\n",
    "```sql\n",
    "SELECT strftime('%H %M %S %s','now');\n",
    "```\n",
    "\n",
    "```sql\n",
    "select LastName, FirstName, BirthDate,HireDate,\n",
    "strftime('%Y', HireDate)\n",
    "from Employee e;\n",
    "\n",
    "```"
   ]
  },
  {
   "cell_type": "markdown",
   "metadata": {
    "slideshow": {
     "slide_type": "slide"
    }
   },
   "source": [
    "## SQL - `SubQueries`\n",
    "---\n",
    "- Think as a nested query where given the output of the internal query you use this output for your outter query. \n",
    "\n",
    "```sql\n",
    "SELECT *\n",
    "FROM Customers\n",
    "WHERE CustomerID IN \n",
    "\t(\n",
    "       SELECT CustomerID\n",
    "\t  FROM Orders\n",
    "       GROUP BY CustomerID\n",
    "       HAVING Count(*) > 1\n",
    "      )\n",
    "ORDER BY Country, City, CustomerName\n",
    "```"
   ]
  },
  {
   "cell_type": "markdown",
   "metadata": {
    "slideshow": {
     "slide_type": "slide"
    }
   },
   "source": [
    "## SQL - `Window Function`\n",
    "---\n",
    "\n",
    "- FROM MODE ANALYTICS: A window function performs a calculation across a set of table rows that are somehow related to the current row. \n",
    "    - This is comparable to the type of calculation that can be done with an aggregate function. But unlike regular aggregate functions, use of a window function does not cause rows to become grouped into a single output row — the rows retain their separate identities. \n",
    "    - Behind the scenes, the window function is able to access more than just the current row of the query result.\n",
    "\n",
    "- This feature is so powerful and can save you significatn amount of time in your analysis.\n",
    "\n",
    "-```Aggregate and Window```.\n",
    "<p align=\"center\">\n",
    "  <img src=\"../../img/sql_window_1.png\" width=\"800\" height=\"1000\">\n",
    "</p>\n",
    "*Image from sqlitetutorial.net*"
   ]
  },
  {
   "cell_type": "markdown",
   "metadata": {
    "slideshow": {
     "slide_type": "slide"
    }
   },
   "source": [
    "## SQL - `Window Function`\n",
    "---\n",
    "\n",
    "-```Aggregate and Window```.\n",
    "<p align=\"center\">\n",
    "  <img src=\"../../img/sql_window_2.png\" width=\"800\" height=\"1000\">\n",
    "</p>\n",
    "*Image from sqlitetutorial.net*"
   ]
  },
  {
   "cell_type": "markdown",
   "metadata": {
    "slideshow": {
     "slide_type": "slide"
    }
   },
   "source": [
    "## SQL - `Window Function`\n",
    "---\n",
    "\n",
    "\n",
    "| Name         | Description                                                                                                |\n",
    "|:--------------|:------------------------------------------------------------------------------------------------------------|\n",
    "| CUME_DIST    | Compute the cumulative distribution of a value in an ordered set of values.                                |\n",
    "| DENSE_RANK   | Compute the rank for a row in an ordered set of rows with no gaps in rank values.                          |\n",
    "| FIRST_VALUE  | Get the value of the first row in a specified window frame.                                                |\n",
    "| LAG          | Provide access to a row at a given physical offset that comes before the current row                       |\n",
    "| LAST_VALUE   | Get the value of the last row in a specified window frame.                                                 |\n",
    "| LEAD         | Provide access to a row at a given physical offset that follows the current row.                           |\n",
    "| NTH_VALUE    | Return the value of an expression evaluated against the row N of the window frame in the result set.       |\n",
    "| NTILE        | Divide a result set into a number of buckets as evenly as possible and assign a bucket number to each row. |\n",
    "| PERCENT_RANK | Calculate the percent rank of each row in an ordered set of rows.                                          |\n",
    "| RANK         | Assign a rank to each row within the partition of the result set.                                          |\n",
    "| ROW_NUMBER   | Assign a sequential integer starting from one to each row within the current partition.                    |"
   ]
  },
  {
   "cell_type": "markdown",
   "metadata": {
    "collapsed": true,
    "slideshow": {
     "slide_type": "slide"
    }
   },
   "source": [
    "## SQL - `Window Function - RANK`\n",
    "---\n",
    "\n",
    "- The `RANK()` function assigns a rank to each row in a query’s result set. The rank of a row is calculated by one plus the number of ranks that comes before it.\n",
    "- The syntax is as follows:\n",
    "\n",
    "```sql\n",
    "RANK() OVER (\n",
    "    PARTITION BY <expression1>[{,<expression2>...}]\n",
    "    ORDER BY <expression1> [ASC|DESC], [{,<expression1>...}]\n",
    ")\n",
    "```\n",
    "- Where the `PARTITION BY` clause divides the rows of the result set into partitions.\n",
    "- Where the `ORDER BY` clause specifies the orders of the rows in each a partition.\n",
    "- Where the ` RANK()` function is applied to each row in each partition and re-initialized when crossing the partition boundary.\n"
   ]
  },
  {
   "cell_type": "markdown",
   "metadata": {
    "collapsed": true,
    "slideshow": {
     "slide_type": "slide"
    }
   },
   "source": [
    "## SQL - `Window Function - RANK`\n",
    "---\n",
    "-```Window Function - RANK```.\n",
    "<p align=\"center\">\n",
    "  <img src=\"../../img/sql_rank_1.png\" width=\"300\" height=\"600\">\n",
    "</p>\n",
    "*Image from sqlitetutorial.net*"
   ]
  },
  {
   "cell_type": "markdown",
   "metadata": {
    "collapsed": true,
    "slideshow": {
     "slide_type": "slide"
    }
   },
   "source": [
    "## SQL - `Window Function - RANK`\n",
    "---\n",
    "-```Window Function - RANK```.\n",
    "<p align=\"center\">\n",
    "  <img src=\"../../img/sql_rank_2.png\" width=\"300\" height=\"600\">\n",
    "</p>\n",
    "*Image from sqlitetutorial.net*\n",
    "\n",
    "\n",
    "- What is happening here? the third and fourth rows receive the same rank because they have the same value (makes sense). The fifth row gets the rank 5 because the RANK() function skips the rank 4 (hmmmm)!!.\n"
   ]
  },
  {
   "cell_type": "markdown",
   "metadata": {
    "collapsed": true
   },
   "source": [
    "## SQL - `Window Function - RANK`\n",
    "---\n",
    "- Let's rank tracks by their lengths:\n",
    "\n",
    "```sql\n",
    "SELECT Name, Milliseconds,\n",
    "    RANK () OVER (ORDER BY Milliseconds DESC) LengthRank \n",
    "FROM\n",
    "    track;\n",
    "```\n",
    "- Let's take a look at the output:\n",
    "    - When we skipped the `PARTITION BY` clause, the `RANK()` function treats the whole result set as a single partition.\n",
    "    - This means that first the `ORDER BY` clause sorts the tracks by their lengths (Milliseconds column).\n",
    "    - Then the `RANK()` function is applied to each row in the result set considering the orders of tracks by their lengths.\n",
    "    \n",
    "\n",
    "- Let's apply the `PARTITION BY` clause and see the output:\n",
    "\n",
    "```sql\n",
    "SELECT Name, Milliseconds, AlbumId,\n",
    "    RANK () OVER (PARTITION BY AlbumId ORDER BY Milliseconds DESC) LengthRank \n",
    "FROM\n",
    "    track;\n",
    "```\n",
    "- Let's take a look at the output:\n",
    "    - First the `PARTITION BY` clause divides the tracks into albums.\n",
    "    - Then, the `ORDER BY` clause sorts the tracks by their lengths.\n",
    "    - Lastly, the `RANK()` function assigns a rank to each track in each album. \n",
    "        - If the album changes, the `RANK()` function re-initializes the rank value."
   ]
  },
  {
   "cell_type": "markdown",
   "metadata": {
    "collapsed": true
   },
   "source": [
    "## SQL - `Window Function - RANK and Subqueries`\n",
    "---\n",
    "- So now you have a table that has a rank based on LengthRank... but in real applications you need the first second. third.... rank.\n",
    "- Here is where `Window Functions and Subqueries` work together.\n",
    "- Assume that you want to grab the fourth longest track in each album:\n",
    "\n",
    "\n",
    "```sql\n",
    "SELECT \n",
    "    * \n",
    "FROM (\n",
    "    SELECT Name, Milliseconds, AlbumId, RANK () OVER (PARTITION BY AlbumId \n",
    "                                                        ORDER BY Milliseconds DESC) LengthRank \n",
    "    FROM\n",
    "        track\n",
    ") \n",
    "WHERE \n",
    "    LengthRank = 4;\n",
    "```"
   ]
  },
  {
   "cell_type": "markdown",
   "metadata": {
    "collapsed": true,
    "slideshow": {
     "slide_type": "slide"
    }
   },
   "source": [
    "## SQL - `Window Function - RANK vs DENSE_RANK`\n",
    "---\n",
    "- The `DENSE_RANK()` function computes the rank of a row in an ordered set of rows and returns the rank as an integer. The ranks are consecutive integers starting from 1. Rows with equal values receive the same rank. ***And rank values are not skipped in case of ties.***\n",
    "- A main source of mistake is not knowing the difference between the `RANK()` vs `DENSE_RANK()` functions.\n",
    "- The difference is pretty subtle:\n",
    "    - `RANK()` gives you the ranking within your ordered partition. Ties are assigned the same rank, with the next ranking(s) skipped. So, if you have 3 items at rank 2, the next rank listed would be ranked 5\n",
    "    - `DENSE_RANK()` again gives you the ranking within your ordered partition, but the ranks are consecutive. No ranks are skipped if there are ranks with multiple items.\n",
    " \n",
    "- You are not sure yet.... well check this great source from [Oracle](https://oracle-base.com/articles/misc/rank-dense-rank-first-last-analytic-functions)\n",
    "\n",
    "```sql\n",
    "SELECT\n",
    "    Name, Milliseconds, AlbumId,\n",
    "    DENSE_RANK () OVER ( \n",
    "        PARTITION BY AlbumId \n",
    "        ORDER BY Milliseconds DESC \n",
    "    ) LengthRank\n",
    "FROM\n",
    "    track;\n",
    "```"
   ]
  },
  {
   "cell_type": "markdown",
   "metadata": {
    "collapsed": true,
    "slideshow": {
     "slide_type": "slide"
    }
   },
   "source": [
    "## SQL - `Window Function - DENSE_RANK`\n",
    "---\n",
    "-```Window Function - RANK```.\n",
    "<p align=\"center\">\n",
    "  <img src=\"../../img/sql_dense_rank.png\" width=\"300\" height=\"600\">\n",
    "</p>\n",
    "*Image from sqlitetutorial.net*\n",
    "\n",
    "\n",
    "- What is happening here:\n",
    "    - Rows with the same value receive the same rank.\n",
    "    - There are no gaps in rank values.\n"
   ]
  },
  {
   "cell_type": "markdown",
   "metadata": {
    "collapsed": true,
    "slideshow": {
     "slide_type": "slide"
    }
   },
   "source": [
    "## SQL - `Window Function - ROW_NUMBER`\n",
    "---\n",
    "- The `ROW_NUMBER` assigns a sequential integer to each row of a query’s result set. Rows are ordered starting from one based on the order specified by the ORDER BY clause in the window definition.\n",
    "- The syntax is as follows:\n",
    "\n",
    "```sql\n",
    "ROW_NUMBER() OVER (\n",
    "    [PARTITION BY expression1, expression2,...]\n",
    "    ORDER BY expression1 [ASC | DESC], expression2,...\n",
    ")\n",
    "```\n",
    "- The `PARTITION BY` clause divides the rows derived from the `FROM` clause into partitions. \n",
    "- The `PARTITION BY` clause is **optional**. If one skips the `PARTITION BY`, the `ROW_NUMBER()` will treat the whole result set as a single partition. (same idea as the previous window functions).\n",
    "- The `ORDER BY` clause specifies the order of the rows in each partition. The `ORDER BY` clause is **mandatory** because the `ROW_NUMBER()` function is order sensitive.\n",
    "- In the output, each row in each partition is assigned a sequential integer number called row number. The row number is reset for each partition."
   ]
  },
  {
   "cell_type": "markdown",
   "metadata": {
    "collapsed": true,
    "slideshow": {
     "slide_type": "slide"
    }
   },
   "source": [
    "## SQL - `Window Function - ROW_NUMBER`\n",
    "---\n",
    "- Lets take a look at the output of this code that returns the first name, last name, and country of all customers and it uses the `ROW_NUMBER()` function to add a sequential integer to each customer record:\n",
    "\n",
    "```sql\n",
    "SELECT\n",
    "    ROW_NUMBER () OVER (ORDER BY Country) RowNum,\n",
    "    FirstName,\n",
    "    LastName,\n",
    "    country \n",
    "FROM\n",
    "    customer;\n",
    " ```\n",
    " \n",
    "- Lets take a look at the output of this code that assigns a sequential integer to each customer and resets the number when the country of the customer changes: \n",
    " \n",
    " \n",
    "```sql\n",
    "SELECT\n",
    "    ROW_NUMBER () OVER (PARTITION BY Country ORDER BY FirstName) RowNum,\n",
    "    FirstName,\n",
    "    LastName,\n",
    "    country \n",
    "FROM\n",
    "    customer;\n",
    "```\n",
    "\n",
    "- In the last code:\n",
    "    - The `PARTITION BY` clause divides the customers by into partitions by country.\n",
    "    - The `ORDER BY` clause sorts customers in each partition by the first name.\n",
    "    - The `ROW_NUMBER()` function assigns each row in each partition a sequential integer and resets the number when the country changes."
   ]
  }
 ],
 "metadata": {
  "anaconda-cloud": {},
  "celltoolbar": "Slideshow",
  "kernelspec": {
   "display_name": "Python [conda env:gds-scipy16]",
   "language": "python",
   "name": "conda-env-gds-scipy16-py"
  },
  "language_info": {
   "codemirror_mode": {
    "name": "ipython",
    "version": 3
   },
   "file_extension": ".py",
   "mimetype": "text/x-python",
   "name": "python",
   "nbconvert_exporter": "python",
   "pygments_lexer": "ipython3",
   "version": "3.6.3"
  }
 },
 "nbformat": 4,
 "nbformat_minor": 4
}
