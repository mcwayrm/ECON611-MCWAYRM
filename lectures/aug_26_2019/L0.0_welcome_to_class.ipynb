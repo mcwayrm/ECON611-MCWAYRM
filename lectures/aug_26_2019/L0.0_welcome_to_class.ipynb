{
 "cells": [
  {
   "cell_type": "markdown",
   "metadata": {
    "slideshow": {
     "slide_type": "slide"
    }
   },
   "source": [
    "<img src=\"https://images.efollett.com/htmlroot/images/templates/storeLogos/CA/864.gif\" style=\"float: right;\"> \n",
    "\n",
    "\n",
    "\n",
    "\n",
    "# ECON611 \n",
    "### Lecture 0 - Welcome to Computation for Economic Analysis\n",
    "\n"
   ]
  },
  {
   "cell_type": "markdown",
   "metadata": {
    "slideshow": {
     "slide_type": "slide"
    }
   },
   "source": [
    "##  Class is full\n",
    "---\n",
    "* If you are not enrolled in the class... sorry but you can't be here. \n",
    "![gui](../../img/sorry.png)\n",
    "*Image from pixaby*\n"
   ]
  },
  {
   "cell_type": "markdown",
   "metadata": {
    "slideshow": {
     "slide_type": "slide"
    }
   },
   "source": [
    "## Do you already know Python?\n",
    "---\n",
    "MSAE Sample Course Plans - MSAE Graduation Checklist (2019 fall admits)\n",
    "![gui](../../img/programming.jpg)\n",
    "\n",
    "\n",
    "| Course number | Course title                      | Possible substitutes/exemptions                                             |\n",
    "|---------------|-----------------------------------|-----------------------------------------------------------------------------|\n",
    "| ECON 611      | Computation for Economic Analysis | At least one previous programming course, and very comfortable with Python  |\n",
    "\n",
    "\n",
    "\n",
    "\n",
    "*Image from infragistics*"
   ]
  },
  {
   "cell_type": "markdown",
   "metadata": {
    "slideshow": {
     "slide_type": "slide"
    }
   },
   "source": [
    "## Brave souls who are taking this class?\n",
    "---\n",
    "* In the `#general` channel add a gif ``/giphy [text]`` and also add your name with **one** line explaining why you are taking this class.\n"
   ]
  },
  {
   "cell_type": "markdown",
   "metadata": {
    "slideshow": {
     "slide_type": "slide"
    }
   },
   "source": [
    "## Rules of the game\n",
    "---\n",
    "Let's take a look at the class syllabus"
   ]
  }
 ],
 "metadata": {
  "anaconda-cloud": {},
  "celltoolbar": "Slideshow",
  "kernelspec": {
   "display_name": "Python [conda env:data]",
   "language": "python",
   "name": "conda-env-data-py"
  },
  "language_info": {
   "codemirror_mode": {
    "name": "ipython",
    "version": 2
   },
   "file_extension": ".py",
   "mimetype": "text/x-python",
   "name": "python",
   "nbconvert_exporter": "python",
   "pygments_lexer": "ipython2",
   "version": "2.7.13"
  }
 },
 "nbformat": 4,
 "nbformat_minor": 1
}
