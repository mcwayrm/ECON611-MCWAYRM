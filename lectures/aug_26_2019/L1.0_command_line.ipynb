{
 "cells": [
  {
   "cell_type": "markdown",
   "metadata": {
    "slideshow": {
     "slide_type": "slide"
    }
   },
   "source": [
    "<img src=\"https://images.efollett.com/htmlroot/images/templates/storeLogos/CA/864.gif\" style=\"float: right;\"> \n",
    "\n",
    "\n",
    "\n",
    "\n",
    "# ECON611 \n",
    "### Lecture 1 -  Using the Command Line\n",
    "\n",
    "\n",
    "\n",
    "### OVERALL LEARNING GOALS\n",
    "- Create folders and files using mkdir and touch in the command line\n",
    "- Change directories and list directory contents (cd, ls -l)\n",
    "- Check current working directly (pwd), find files, move files, copy files."
   ]
  },
  {
   "cell_type": "markdown",
   "metadata": {
    "slideshow": {
     "slide_type": "slide"
    }
   },
   "source": [
    "## How do we get here...\n",
    "---\n",
    "* Early computers relied on awkward forms on input (punch cards)\n",
    "* BUT => with the advent of the GUI (Graphical User Interface), the mouse/trackpad has become the essential piece of hardware (computer interactions)\n",
    "    * **Mouse** => has made us believe that the interaction with our computers is on a click by click basis.\n",
    "* GUI (Graphical User Interface) **(pronounced gooey)** => is the most widely used way to interact with personal computers\n",
    "\n",
    "    ![gui](../../img/gui.png)\n",
    "*Image from Wikimedia*\n"
   ]
  },
  {
   "cell_type": "markdown",
   "metadata": {
    "slideshow": {
     "slide_type": "slide"
    }
   },
   "source": [
    "##  Why not keep using the GUI (gooey)? \n",
    "---\n",
    "* This form of given instructions to a computer scales poorly (even if the instructions are similar or identical)\n",
    "    * For example if we have to copy the fifth line of each of a thousand text files stored in thousand different directories and paste it into a single file line by line. \n",
    "    * Using the traditional GUI approach of clicks will take you/us several hours."
   ]
  },
  {
   "cell_type": "markdown",
   "metadata": {
    "slideshow": {
     "slide_type": "slide"
    }
   },
   "source": [
    "## Command Line Interface (CLI) to our rescue.\n",
    "---\n",
    "* Why? it makes repetitive tasks automatic and fast. \n",
    "* How? It can take a single instruction and repeat it as is or with some modification as many times as we want. \n",
    "* The **CLI** is a read-evaluate-print loop (REPL) system because when you type a command and press Return (also known as Enter) the shell reads your command, evaluates (or “executes”) it, prints the output of your command, loops back and waits for you to enter another command.\n"
   ]
  },
  {
   "cell_type": "markdown",
   "metadata": {
    "slideshow": {
     "slide_type": "slide"
    }
   },
   "source": [
    "## Why Command Line?\n",
    "---\n",
    "\n",
    "Everything you can do in a window environment, can be done in terminal, **faster**.  You're wasting your life!... Using the mouse, clicking on buttons, confirming operations, waiting for windows to load.  \n",
    "\n",
    "* Running processes\n",
    "* Finding files\n",
    "* Web browsing\n",
    "* Installing packages\n",
    "* Managing your development environment"
   ]
  },
  {
   "cell_type": "markdown",
   "metadata": {
    "slideshow": {
     "slide_type": "slide"
    }
   },
   "source": [
    "## Shell.\n",
    "---\n",
    "* **ONE DEF:** A program which runs other programs rather than doing calculations itself. \n",
    "* **ANOTHER DEF:** Type of command line program, which contains a very simple, text-based user interface enabling us to access all of an operating system's services. It is, a program that accepts text as input and translates that text into the appropriate functions that you want your computer to run.\n",
    "\n",
    "* Those programs can be as complicated as futures exchange modeling software and as simple as a program that creates a new directory. \n",
    "* The simple programs which are used to perform stand alone tasks are usually refered to as _commands_. \n",
    "\n",
    "* **The most popular Unix shell is Bash, (the Bourne Again SHell — so-called because it’s derived from a shell written by Stephen Bourne). Bash is the default shell on most modern implementations of Unix and in most packages that provide Unix-like tools for Windows.**\n",
    "\n",
    "![Dos](https://upload.wikimedia.org/wikipedia/commons/9/94/FreeDOS_Beta_9_pre-release5_%28command_line_interface%29_on_Bochs_sshot20040912.png)\n",
    "*Image from Wikimedia*\n",
    "\n",
    "\n",
    "\n",
    "\n",
    "\n",
    "Here are a few Windows equivalents:\n",
    "[Windows shell equivalents](http://stackoverflow.com/questions/28487128/what-program-in-windows-is-equivalent-to-oss-terminal)\n"
   ]
  },
  {
   "cell_type": "markdown",
   "metadata": {
    "slideshow": {
     "slide_type": "notes"
    }
   },
   "source": [
    "Running applications, checking settings like free hard drive space, or even fun stuff like browsing the web can happen from the shell.  **What is a GUI? What is a CLI? What is a shell?**"
   ]
  },
  {
   "cell_type": "markdown",
   "metadata": {
    "slideshow": {
     "slide_type": "slide"
    }
   },
   "source": [
    "## Forget Finder, get fast at using your laptop \n",
    "---\n",
    "\n",
    "#### Opening & Closing Terminal\n",
    "\n",
    "First, we need to launch/opne the command prompt. We do this by using spotlight:\n",
    "\n",
    "- ⌘ (Command) + Space\n",
    "- \"*Te*rminal\"\n",
    "- Enter\n",
    "\n",
    "    * Notice that you can actually hit enter as soon as the field autocompletes. \n",
    "\n",
    "    * Get used to taking shortcuts – don't type the whole word out if you don't have to and **avoid** using your mouse if you can open or use an app with just keyboard shortcuts. It may seem harder now, but when you get used to it, it will save you literally hours of cumulative time."
   ]
  },
  {
   "cell_type": "markdown",
   "metadata": {
    "slideshow": {
     "slide_type": "slide"
    }
   },
   "source": [
    "## Navigating Files and Directories\n",
    "---\n",
    "* The part of our operating system responsible for managing files and directories is called the **file system.** \n",
    "    * What it does? Organizes our data into files and directories (also called “folders”), which hold files or other directories.\n",
    "\n",
    "\n",
    "\n",
    "* We know that every file or folder in a file system can be read, written, and deleted by referencing its position inside the filesystem. \n",
    "* BUT => When we talk about the position of a file or a folder in a file system, we refer to its **\"path\".** There are a couple of different type of paths we can use to refer to a file – **absolute paths** and **relative paths**.\n",
    "\n",
    "**Directory** is an important term that's used interchangeably with *folder*. Though they are not exactly the same thing, when we say \"navigate to your project directory\" think of this as \"navigate to your project folder\". \n"
   ]
  },
  {
   "cell_type": "markdown",
   "metadata": {
    "slideshow": {
     "slide_type": "notes"
    }
   },
   "source": [
    "All files can created, updated, or deleted using the command line interface.  We do this by referencing **paths**, relative or absolute.  I prefer the term directory when talking about the shell / term."
   ]
  },
  {
   "cell_type": "markdown",
   "metadata": {
    "slideshow": {
     "slide_type": "slide"
    }
   },
   "source": [
    "## Navigating Files and Directories\n",
    "---\n",
    "Several commands are frequently used to create, inspect, rename, and delete files and directories. \n",
    "* To start exploring them, we’ll go to our open shell window and type\n",
    "    - pwd\n",
    "* You will see something like this:\n",
    "    - /Users/Javier\n",
    "    \n",
    "    \n",
    "Which is my home directory\n",
    "\n",
    "- know that The home directory path will look different on different operating systems:  \n",
    "    * **Linux** it may look like /home/javier\n",
    "    * **Windows** it will be similar to C:\\Documents and Settings\\javier or C:\\Users\\javier"
   ]
  },
  {
   "cell_type": "markdown",
   "metadata": {
    "slideshow": {
     "slide_type": "slide"
    }
   },
   "source": [
    "## Navigating Files and Directories - visuals\n",
    "---\n",
    "Asume that the file system in my computer looks as follows:\n",
    "![gui](../../img/fies_struct_1.png)\n",
    "*Image from swcarpentry*\n",
    "\n",
    "* At the very top is the **root** directory which holds everything else. We refer to it using a slash character, /, on its own; this is the leading slash in /Users/Javier.\n",
    "\n",
    "* Inside that directory are several other directories: \n",
    "    * **bin** (which is where some built-in programs are stored). \n",
    "    * **data** (for miscellaneous data files).\n",
    "    * **Users** (where users’ personal directories are located).\n",
    "    * **tmp** (for temporary files that don’t need to be stored long-term).\n",
    "\n",
    "* We know that our current working directory /Users/Javier is stored inside /Users because /Users is the first part of its name. Similarly, we know that /Users is stored inside the root directory / because its name begins with /."
   ]
  },
  {
   "cell_type": "markdown",
   "metadata": {
    "slideshow": {
     "slide_type": "slide"
    }
   },
   "source": [
    "## Navigating Files and Directories - visuals\n",
    "---\n",
    "Asume that the file system in my computer looks as follows:\n",
    "![gui](../../img/files_struct_2.png)\n",
    "*Image from swcarpentry*"
   ]
  },
  {
   "cell_type": "markdown",
   "metadata": {
    "slideshow": {
     "slide_type": "slide"
    }
   },
   "source": [
    "## What is an absolute path?\n",
    "----\n",
    "\n",
    "An absolute path is defined as the specific location of a file or folder from the root directory, _REMEMBER_ typically shown as `/`. We already mnetioned that the root directory is the starting point from which all other folders are defined and is not normally the same as your **Home** directory, which is normally found at `/Users/[Your Username]`."
   ]
  },
  {
   "cell_type": "markdown",
   "metadata": {
    "slideshow": {
     "slide_type": "slide"
    }
   },
   "source": [
    "## What is a relative path?\n",
    "---\n",
    "\n",
    "A relative path is a reference to a file or folder **relative** to the current position, or the present working directory (pwd). If we are in the folder `/a/b/` and we want to open the file that has the absolute path `/a/b/c/file.txt`, we can just type:\n",
    "\n",
    "```bash\n",
    "open c/file.txt\n",
    "```\n",
    "\n",
    "or\n",
    "\n",
    "```bash\n",
    "open ./c/file.txt\n",
    "```\n",
    "\n",
    "At any time, we can also use the absolute path, by adding a slash to the beginning of the path. The absolute path is the same for a file or a folder regardless of the current working directory, but relative paths are different, depending on what directory we are in.  Directory structures are laid out like `directory/subdirectory/subsubdirectory`.\n",
    "\n",
    "**Check:**  What is the difference between an absolute path and a relative path?"
   ]
  },
  {
   "cell_type": "markdown",
   "metadata": {
    "slideshow": {
     "slide_type": "notes"
    }
   },
   "source": [
    "Illustration in whiteboard and keyboard"
   ]
  },
  {
   "cell_type": "markdown",
   "metadata": {
    "slideshow": {
     "slide_type": "slide"
    }
   },
   "source": [
    "## Working with unix commands and file paths\n",
    "---\n",
    "\n",
    "Typing **`cd`** - a command for \"change directory\" with no parameters takes us to our home directory.\n",
    "\n",
    "```bash\n",
    "cd\n",
    "```\n",
    "\n",
    "If we type in `pwd` - a command for \"print working directory\" from that folder, we can see where we are in relation to the root directory. The `pwd` command will always give you the absolute path of your current location.\n",
    "\n",
    "An example of absolute path:\n",
    "\n",
    "```bash\n",
    "open /Users/Charlie/desktop/a/b/c/file.txt\n",
    "```\n",
    "\n",
    "Notice, this path starts from `/` directory which is a root directory for every Linux/Unix machines."
   ]
  },
  {
   "cell_type": "markdown",
   "metadata": {
    "slideshow": {
     "slide_type": "notes"
    }
   },
   "source": [
    "Change directories.  pwd / show working directories.  Open a file using the open command."
   ]
  },
  {
   "cell_type": "markdown",
   "metadata": {
    "slideshow": {
     "slide_type": "slide"
    }
   },
   "source": [
    "\n",
    "## Navigating using the command prompt\n",
    "---\n",
    "\n",
    "* Changing directories\n",
    "* Listing files\n",
    "* Creating directories and files\n",
    "* removing files\n",
    "\n",
    "The tilde `~` character is an alias to your home directory. Use it to quickly return home.\n",
    "\n",
    "```bash\n",
    "cd ~\\\n",
    "```\n",
    "\n",
    "Or even more simply, you can just type:\n",
    "\n",
    "```bash\n",
    "cd\n",
    "```\n",
    "\n",
    "The tilde `~` character is useful to shorten paths that would otherwise be\n",
    "absolute paths. For example, to navigate to your Desktop you can type:\n",
    "\n",
    "```bash\n",
    "cd ~/Desktop\n",
    "```\n"
   ]
  },
  {
   "cell_type": "markdown",
   "metadata": {
    "slideshow": {
     "slide_type": "notes"
    }
   },
   "source": [
    "_note: Also, pronounced \"tild\" but \"tild-a\" is good too.  cd by itself takes you to home directory much like the ~tilde char. Also touch can be used to update the timestamp of a file._  "
   ]
  },
  {
   "cell_type": "markdown",
   "metadata": {
    "slideshow": {
     "slide_type": "slide"
    }
   },
   "source": [
    "## Checkpoint absolute vs relative path?\n",
    "---\n",
    "![gui](../../img/absolute_relative_1.png)\n",
    "*Image from swcarpentry*"
   ]
  },
  {
   "cell_type": "markdown",
   "metadata": {
    "slideshow": {
     "slide_type": "slide"
    }
   },
   "source": [
    "## Checkpoint absolute vs relative path?\n",
    "---\n",
    "![gui](../../img/absolute_relative_2.png)\n",
    "*Image from swcarpentry*"
   ]
  },
  {
   "cell_type": "markdown",
   "metadata": {
    "slideshow": {
     "slide_type": "slide"
    }
   },
   "source": [
    "\n",
    "## What is the Syntax of the Shell?\n",
    "---\n",
    "If you type something like this:\n",
    "```bash\n",
    "ls -S /\n",
    "```\n",
    "`ls`  is the command,  \n",
    "`-S` is the option, switch or a flag which makes our output comprehensive it usually starts with one or two dashes\n",
    "`/` is an argument \n",
    "\n",
    "In the output:\n",
    "1. a trailing `/` indicates that this is a directory\n",
    "2. `@` indicates a link\n",
    "3. `*` indicates an executable\n",
    "\n",
    "Dont foget if you need help check the manual\n",
    "```bash\n",
    "man ls \n",
    "```"
   ]
  },
  {
   "cell_type": "markdown",
   "metadata": {
    "slideshow": {
     "slide_type": "slide"
    }
   },
   "source": [
    "## Enough talking - let's get our machines to work\n",
    "---\n",
    "1. Open the Termninal\n",
    "2. Can you tell where you are? \n",
    "\n",
    "```bash\n",
    "pwd\n",
    "```\n",
    "\n",
    "3. Learn how to use any command effectively: \n",
    "```bash\n",
    "man pwd\n",
    "```\n",
    "\n",
    "    3.1 Explore the options of the command \n",
    "```bash\n",
    "ls\n",
    "```"
   ]
  },
  {
   "cell_type": "markdown",
   "metadata": {
    "slideshow": {
     "slide_type": "slide"
    }
   },
   "source": [
    "## Enough talking - discover what is in your directory\n",
    "---\n",
    "1. The `ls` command lists files and directories in the current folder => ls = list directory content.\n",
    "```bash\n",
    "ls\n",
    "```\n",
    "_What it does? => returns ALL THE VISIBLE FILES IN THE CURRENT WORKING DIRECTORY_\n",
    "\n",
    "\n",
    "2. It can also be used to list files located in any directory. For example to list\n",
    "your applications you can type:\n",
    "```bash\n",
    "ls /Applications\n",
    "```\n",
    "\n",
    "3. But certain files are hidden from us by having the filenames begin with a dot. We can access them by typing \n",
    "```bash\n",
    "ls -a\n",
    "```\n",
    "4. Now what if you need to know if a folder has pdf extension files or have some type of name. We can use wildcards (regular expressions) to find them NOTE ***`paper**** => means files with the letter paper at the beginning, whereas ****.pdf*** refers to files that end with .pdf, but it doesnt find the hidden files` \n",
    "\n",
    "\n",
    "5. What about `ls file?.out` => finds all files beginning with file and ending with .out where the ? can be any letter from a-z A-Z and 0-9.\n",
    "    Keep in mind you can use ? for every wildcard character, and * for an unspecified number of characters\n",
    "    \n",
    "6. One of my fav \n",
    "```bash\n",
    "ls -lrt\n",
    "l = long format, r = reverse order with respect to the last time = t\n",
    "```\n"
   ]
  },
  {
   "cell_type": "markdown",
   "metadata": {
    "slideshow": {
     "slide_type": "slide"
    }
   },
   "source": [
    "## Also, hidden directories can be found!\n",
    "\n",
    "There are hidden directories all over your filesystem. Mainly, to save you from youself.  Using the paramters `-lha` to `ls`, we can find these directories.\n",
    "\n",
    "```bash\n",
    "ls -lha\n",
    "```\n",
    "<pre>\n",
    "-l: &nbsp;&nbsp; One entry per line\n",
    "-h: &nbsp;&nbsp; When used with the -l option, use unit suffixes: Byte, Kilobyte, Megabyte, etc.\n",
    "-a: &nbsp;&nbsp; Include directory entries whose names begin with a dot (.).\n",
    "</pre>"
   ]
  },
  {
   "cell_type": "markdown",
   "metadata": {
    "slideshow": {
     "slide_type": "slide"
    }
   },
   "source": [
    "## Enough talking - discover what is in your directory\n",
    "---\n",
    "We can also use ls to see the contents of a different directory\n",
    "```bash\n",
    "ls -lt USF/\n",
    "```"
   ]
  },
  {
   "cell_type": "markdown",
   "metadata": {
    "slideshow": {
     "slide_type": "slide"
    }
   },
   "source": [
    "## Checkpoint ls command?\n",
    "---\n",
    "![gui](../../img/ls_1.png)\n",
    "*Image from swcarpentry*"
   ]
  },
  {
   "cell_type": "markdown",
   "metadata": {
    "slideshow": {
     "slide_type": "slide"
    }
   },
   "source": [
    "## Checkpoint ls command?\n",
    "---\n",
    "![gui](../../img/ls_2.png)\n",
    "*Image from swcarpentry*"
   ]
  },
  {
   "cell_type": "markdown",
   "metadata": {
    "slideshow": {
     "slide_type": "slide"
    }
   },
   "source": [
    "## Checkpoint ls command?\n",
    "---\n",
    "![gui](../../img/ls_3.png)\n",
    "*Image from swcarpentry*"
   ]
  },
  {
   "cell_type": "markdown",
   "metadata": {
    "slideshow": {
     "slide_type": "slide"
    }
   },
   "source": [
    "## Checkpoint ls command?\n",
    "---\n",
    "![gui](../../img/ls_4.png)\n",
    "*Image from swcarpentry*"
   ]
  },
  {
   "cell_type": "markdown",
   "metadata": {
    "slideshow": {
     "slide_type": "slide"
    }
   },
   "source": [
    "## Creating a directory and file(s)\n",
    "\n",
    "---\n",
    "Navigate to your ECON611-GITHUBUSERNAME folder\n",
    "\n",
    "To make a new directory.\n",
    "```bash\n",
    "mkdir class1\n",
    "```\n",
    "\n",
    "Create a text file inside the class1 folder\n",
    "```bash\n",
    "nano notes.txt\n",
    "```\n",
    "And type this: \n",
    "```\n",
    "This are my first lines inside nano.\n",
    "I open nano using the command line.\n",
    "It's a simple text editor. \n",
    "```\n",
    "\n",
    "Once you are done typing, press (CTRL + O), this writes the data to our computer's disk. Be aware that we’ll be asked what file we want to save this to: press Return to accept the suggested default of notes.txt).\n",
    "Now that the file is saved you can type CTRL + X\n",
    "\n",
    "NOTE: nano is ***TEXT*** editor, the most simple and yet helpful. We are using nano for the purpose of ilustration in the class. In production nano is not helpful. You should see something like this:\n",
    "\n",
    "![gui](../../img/nano.png)\n",
    "\n",
    "\n",
    "There is another way to create a file type this:\n",
    "\n",
    "```bash\n",
    "touch notes2.txt\n",
    "```\n",
    "\n",
    "***On your own add 3 lines to the notes2.txt file***\n"
   ]
  },
  {
   "cell_type": "markdown",
   "metadata": {
    "slideshow": {
     "slide_type": "notes"
    }
   },
   "source": [
    "Use white board for cp command"
   ]
  },
  {
   "cell_type": "markdown",
   "metadata": {
    "collapsed": true,
    "slideshow": {
     "slide_type": "slide"
    }
   },
   "source": [
    "## Move and Rename Files\n",
    "---\n",
    "The `mv` command moves and rename files \"depending how is used.\" The original file no longer exists after the operation.\n",
    "\n",
    "In your terminal rename notes2.txt notes1.1.txt \"get on the habit of using -i and/or -v\" \n",
    "\n",
    "```bash\n",
    "mv -v notes2.txt notes1.1.txt\n",
    "```\n",
    "\n",
    "***On your own add 3 lines to the notes2.txt file***\n",
    "\n",
    "## Copy Files and Directories\n",
    "\n",
    "---\n",
    "\n",
    "This is something you will be doing on a regular basis at class.\n",
    "\n",
    "1. Navigate to your ECON611 folder (this is the class folder)\n",
    "2. copy the README.md to your ECON611-GITHUBUSERNAME folder\n",
    "```bash\n",
    "cp -v README.md ../LOCAL_ECON611/\n",
    "```\n",
    "\n",
    "## Delete the file\n",
    "DANGER => ONCE the file is GONE is GONE FOREEEEEEEVVVVVVEEERRR!\n",
    "\n",
    "\n",
    "Highly recommend using `-i` for this command it will ask you if you want to delete the command.\n",
    "\n",
    "---\n",
    "To remove a file.\n",
    "```bash\n",
    "rm -i README.md\n",
    "```"
   ]
  },
  {
   "cell_type": "markdown",
   "metadata": {
    "slideshow": {
     "slide_type": "slide"
    }
   },
   "source": [
    "## Whiteboard Example!\n",
    "---\n",
    "#### Using wildcards in the command prompt\n",
    "\n",
    "\n",
    "The wildcard symbol `*` is useful for using commands to operate on multiple\n",
    "files. To give an example first create a folder on your Desktop and add some\n",
    "files.\n",
    "```bash\n",
    "mkdir ~/Desktop/example_folder\n",
    "cd ~/Desktop/example_folder\n",
    "touch dog.txt\n",
    "touch bird.txt\n",
    "touch fish.txt\n",
    "```\n",
    "\n",
    "You can use the wildcard `*` to then operate on subsets of files. List any\n",
    "file with \"i\" in the filename, for example:\n",
    "```bash\n",
    "ls *i*\n",
    "```\n",
    "\n",
    "Or remove any file with \"d\":\n",
    "```bash\n",
    "rm *d*\n",
    "ls\n",
    "```"
   ]
  },
  {
   "cell_type": "markdown",
   "metadata": {
    "collapsed": true,
    "slideshow": {
     "slide_type": "slide"
    }
   },
   "source": [
    "## Lets count words and more\n",
    "---\n",
    "```bash\n",
    "wc notes1.1.txt\n",
    "```\n",
    "The wc utility displays the number of lines, words, and bytes contained in each input file\n",
    "\n",
    "What is the count of of each text file?\n",
    "\n",
    "Other helpful commands\n",
    "\n",
    "```bash\n",
    "cat notes.txt => prints cont of a file\n",
    "less notes.txt.txt => works better for large files (cat not bueno)!\n",
    "head -1 notes.txt => the top 10 lines\n",
    "tail -1 notes.txt => the last 10 lines\n",
    "explore the sort command!! => what can you tell about it?\n",
    "```"
   ]
  },
  {
   "cell_type": "markdown",
   "metadata": {
    "collapsed": true,
    "slideshow": {
     "slide_type": "slide"
    }
   },
   "source": [
    "## Working with commands\n",
    "---\n",
    "```bash\n",
    "type ls => displays the type of command the shell will execute.\n",
    "which python => displays the executable location.\n",
    "which conda\n",
    "help pwd => summary of a command can do.\n",
    "```"
   ]
  },
  {
   "cell_type": "markdown",
   "metadata": {
    "slideshow": {
     "slide_type": "slide"
    }
   },
   "source": [
    "## Somehow advanced topics - Finding things\n",
    "---\n",
    "### Finding files: Locate & Find\n",
    "\n",
    "By far the most useful operation from the terminal, is finding files.  `locate` finds files all over your filesystem.  The `find` command will find files relative to the current working directory, but needs to be used in conjunction with a pipe operation.\n",
    "\n",
    "```bash\n",
    "Find all notebook files within subdirectories of current working directory\n",
    "find . | grep ipynb\n",
    "\n",
    "Find all text files within subdirectories of current working directory\n",
    "find . | grep txt\n",
    "\n",
    "Find specific file(s) on entire system\n",
    "locate nanorc\n",
    "\n",
    "Find lines that contain the word lines\n",
    " grep lines notes.txt\n",
    "```"
   ]
  },
  {
   "cell_type": "markdown",
   "metadata": {
    "slideshow": {
     "slide_type": "slide"
    }
   },
   "source": [
    "## Reserved Characters  \n",
    "---\n",
    "Keep them in mind as you explore bash commands\n",
    "``` bash\n",
    "* ? [ ] - { } ! | ~ . # ^ $ < > ; ' \" / \\ & ( ) @\n",
    "\n",
    "USE:\n",
    "[ ] and { } Metacharacters use for pattern matching and regular expressions.\n",
    "\n",
    ";\t\t\tCommand separator\n",
    "&\t\t\tBackground execution\n",
    "(  )\t\t Command grouping\n",
    "|\t\t\tPipe\n",
    "* ? [ ] ~\tFilename metacharacters\n",
    "{ }\t\t  String expansion characters. Usually don't require quoting.\n",
    "> < & !\t\tRedirection symbols\n",
    "! ^\t\t\tHistory substitution, quick substitution\n",
    "\" ' \\\t\tUsing in quoting other characters\n",
    "$\t\t\tVariable substitution\n",
    "newline space tab\tWord separators\n",
    "The characters below can be used for quoting:\n",
    "\n",
    " \n",
    "\n",
    "\" \"\t\t\tEverything between \" and \" is taken literally, except\n",
    "\t\t\tfor the following characters that keep their \n",
    "\t\t\tspecial meaning:\n",
    "\t\t\t\t$\tVariable substitution will occur\n",
    "\t\t\t\t`\tCommand substitution will occur\n",
    "\t\t\t\t\"\tThis marks the end of the double quote\n",
    "\t\t\t\t\\\tEscape next character\n",
    "\t\t\t\t!\tThe history character\n",
    "\t\t\t\tnewline\tThe newline character\n",
    "' '\t\t\tEverything between ' and ' is taken literally except \n",
    "\t\t\tfor ! (history) and another ', and newline.\n",
    "\t\t\t\n",
    "\\\t\t\tThe character following a \\ is taken literally. Use\n",
    "\t\t\twithin \" \" to escape \", $ and `. Often used to escape\n",
    "\t\t\titself, spaces, or newlines. Always needed to escape a\n",
    "\t\t\thistory character (usually !).\n",
    "```\n",
    "``` bash\n",
    "Type this\n",
    "\n",
    "% echo 'Single quotes \"protect\" double quotes'\n",
    "\n",
    "\n",
    "% echo \"Well, isn't that \\\"great\\\"?\"\n",
    "\n",
    "\n",
    "% echo \"The value of \\$y is $y\"\n",
    "```"
   ]
  },
  {
   "cell_type": "markdown",
   "metadata": {},
   "source": [
    "Notes adapted from:\n",
    "\n",
    "1. Gabriel A. Devenyi (Ed.), Gerard Capes (Ed.), Colin Morris (Ed.), Will Pitchers (Ed.),\n",
    "Greg Wilson, Gerard Capes, Gabriel A. Devenyi, Christina Koch, Raniere Silva, Ashwin Srinath, … Vikram Chhatre.\n",
    "(2019, July). swcarpentry/shell-novice: Software Carpentry: the UNIX shell, June 2019 (Version v2019.06.1).\n",
    "Zenodo. http://doi.org/10.5281/zenodo.3266823\n",
    "\n",
    "2. Paarsch, H., Golyaev. K. A Gentle Introduction to Effective Computing in Quantitative Research: What Every Research Assistant Should Know (The MIT Press) Hardcover – May 13, 2016"
   ]
  }
 ],
 "metadata": {
  "anaconda-cloud": {},
  "celltoolbar": "Slideshow",
  "kernelspec": {
   "display_name": "Python [conda env:data]",
   "language": "python",
   "name": "conda-env-data-py"
  },
  "language_info": {
   "codemirror_mode": {
    "name": "ipython",
    "version": 2
   },
   "file_extension": ".py",
   "mimetype": "text/x-python",
   "name": "python",
   "nbconvert_exporter": "python",
   "pygments_lexer": "ipython2",
   "version": "2.7.13"
  }
 },
 "nbformat": 4,
 "nbformat_minor": 1
}
