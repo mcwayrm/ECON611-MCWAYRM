{
 "cells": [
  {
   "cell_type": "markdown",
   "metadata": {
    "slideshow": {
     "slide_type": "slide"
    }
   },
   "source": [
    "<img src=\"https://images.efollett.com/htmlroot/images/templates/storeLogos/CA/864.gif\" style=\"float: right;\"> \n",
    "\n",
    "\n",
    "\n",
    "\n",
    "# ECON611\n",
    "### Lecture 9 -  Object-Oriented Programming (OOP) in Python .\n",
    "- Notes adapted from: \n",
    "\n",
    "    1. [Object Oriented for Computer Scientist](https://www.csee.umbc.edu/courses/671/fall12/notes/python/07python_classes.pdf)\n",
    "    2. [Object Oriented Programming in Python](https://python-textbok.readthedocs.io/en/1.0/Object_Oriented_Programming.html)\n",
    "    3. [Python Practice Book](https://anandology.com/python-practice-book/object_oriented_programming.html)\n",
    "    4. [Think Python: How to Think Like a Computer Scientist](http://greenteapress.com/thinkpython/html/)\n",
    "    5. [A Gentle Introduction to Effective Computing in Quantitative Research](https://books.google.com/books?hl=en&lr=&id=q4IsDAAAQBAJ&oi=fnd&pg=PR7&dq=a+gentle+introduction+to+effective+computing+in+quantitative+research&ots=rCbU6o_kxr&sig=hdOhrXtJ4Jk_qcl9BBPEA6oX-aI#v=onepage&q=a%20gentle%20introduction%20to%20effective%20computing%20in%20quantitative%20research&f=false) \n",
    "\n",
    "    "
   ]
  },
  {
   "cell_type": "markdown",
   "metadata": {
    "slideshow": {
     "slide_type": "slide"
    }
   },
   "source": [
    "## <span style=\"color:blue\">REVIEW OF FUNCTIONS</span>\n",
    "---\n",
    "- A function is a sequence of statements which performs some kind of task. \n",
    "    - Eliminate code duplication: instead of writing all the statements at every place in our code where we want to perform the same task, we define them in one place and refer to them by the function name. \n",
    "    - If we want to change how that task is performed, we will now mostly only need to change code in one place.\n",
    "\n",
    "- In the following example\n",
    "\n",
    "```python\n",
    "def print_a_message():\n",
    "    print(\"Hello, world I am taking ECON611!\")\n",
    "```\n",
    "```sql\n",
    "def => statement that indicates the start of a function definition.\n",
    "print_a_message => function name.... try to give names that are action oriented and are simply to read.\n",
    "( ): round brackets (definitions of parameters that the function takes will go in between them) \n",
    "```"
   ]
  },
  {
   "cell_type": "code",
   "execution_count": 1,
   "metadata": {
    "collapsed": true,
    "jupyter": {
     "outputs_hidden": true
    },
    "slideshow": {
     "slide_type": "slide"
    }
   },
   "outputs": [],
   "source": [
    "def print_a_message():\n",
    "    print(\"Hello, world I am taking ECON611!\")"
   ]
  },
  {
   "cell_type": "markdown",
   "metadata": {
    "slideshow": {
     "slide_type": "slide"
    }
   },
   "source": [
    "## <span style=\"color:blue\">REVIEW OF FUNCTIONS</span>\n",
    "---\n",
    "- Remember that defining a function doesn't make it run it:\n",
    "    - This means that when the flow of control reaches the function definition and executes it, ```Python``` just learns about the function and what it will do when we run it.\n",
    "    - So to run a function we need to **_call it_**\n",
    "    \n",
    "```python\n",
    "print_a_message()\n",
    "```"
   ]
  },
  {
   "cell_type": "code",
   "execution_count": 2,
   "metadata": {
    "slideshow": {
     "slide_type": "slide"
    }
   },
   "outputs": [
    {
     "name": "stdout",
     "output_type": "stream",
     "text": [
      "Hello, world I am taking ECON611!\n"
     ]
    }
   ],
   "source": [
    "def print_message():\n",
    "    print(\"Hello, world I am taking ECON611!\")\n",
    "    \n",
    "print_a_message()"
   ]
  },
  {
   "cell_type": "markdown",
   "metadata": {
    "slideshow": {
     "slide_type": "slide"
    }
   },
   "source": [
    "## <span style=\"color:blue\">REVIEW OF FUNCTIONS</span>\n",
    "---\n",
    "- In Python, many <span style=\"color:red\">**objects**</span> are callable, which means that you can call them like <span style=\"color:red\">**functions**</span> – a callable object has a special <span style=\"color:red\">**method**</span> defined which is executed when the <span style=\"color:red\">**object**</span> is called. \n",
    "    - Types such as <span style=\"color:red\">**str, int**</span> or <span style=\"color:red\">**list**</span> can be used as <span style=\"color:red\">**functions**</span>, to create <span style=\"color:red\">**new objects**</span> of that type (sometimes by converting an existing object):"
   ]
  },
  {
   "cell_type": "code",
   "execution_count": 3,
   "metadata": {
    "slideshow": {
     "slide_type": "slide"
    }
   },
   "outputs": [
    {
     "name": "stdout",
     "output_type": "stream",
     "text": [
      "3 <class 'str'>\n",
      "3 <class 'int'>\n",
      "[] <class 'list'>\n",
      "[1, 2, 3] <class 'list'>\n"
     ]
    }
   ],
   "source": [
    "num_str = str(3)\n",
    "print(num_str, type(num_str))\n",
    "\n",
    "num = int(\"3\")\n",
    "print(num, type(num))\n",
    "\n",
    "people = list() # make a new (empty) list\n",
    "print(people, type(people))\n",
    "\n",
    "people = list((1, 2, 3)) # convert a tuple to a new list\n",
    "print(people, type(people))"
   ]
  },
  {
   "cell_type": "markdown",
   "metadata": {
    "slideshow": {
     "slide_type": "slide"
    }
   },
   "source": [
    "## <span style=\"color:blue\">REVIEW OF FUNCTIONS</span>\n",
    "---\n",
    "- In general, <span style=\"color:red\">**classes**</span> (of which <span style=\"color:red\">**types**</span> are a subset) are callable.\n",
    "    1. When we call a class we call its constructor method, which is used to create a new object of that class. \n",
    "    2. One can call some classes to make new objects when we want to raise exceptions:\n",
    " ```python\n",
    " raise ValueError(\"There's something wrong with the value you entered!\")\n",
    " ```\n",
    "- Since functions are <span style=\"color:red\">**objects**</span> in Python, we can treat them just like any other object – we can assign a function as the value of a variable. \n",
    "- We can then refer to a function without calling it, we just use the function name without round brackets\n",
    "\n",
    "```python\n",
    "my_function = print_message\n",
    "\n",
    "# later we can call the function using the variable name\n",
    "my_function()\n",
    "```"
   ]
  },
  {
   "cell_type": "code",
   "execution_count": 4,
   "metadata": {
    "slideshow": {
     "slide_type": "slide"
    }
   },
   "outputs": [
    {
     "name": "stdout",
     "output_type": "stream",
     "text": [
      "Hello, world I am taking ECON611!\n"
     ]
    }
   ],
   "source": [
    "my_function = print_message\n",
    "my_function()"
   ]
  },
  {
   "cell_type": "markdown",
   "metadata": {
    "slideshow": {
     "slide_type": "slide"
    }
   },
   "source": [
    "## <span style=\"color:blue\">REVIEW OF FUNCTIONS</span>\n",
    "---\n",
    "- One of the great things about defining functions is that if we define several functions __which all call each other__, the order in which we define them doesn’t matter as long as they are all defined before we start using them.....\n",
    "\n",
    "```python\n",
    "def my_function():\n",
    "    my_other_function()\n",
    "\n",
    "def my_other_function():\n",
    "    print(\"Hello!\")\n",
    "\n",
    "# this is fine, because my_other_function is now defined\n",
    "my_function()\n",
    "```\n",
    "- **But if you have this..... you will encounter an error:**\n",
    "\n",
    "```python\n",
    "def my_function():\n",
    "    my_other_function()\n",
    "\n",
    "# this is not fine, because my_other_function is not defined yet!\n",
    "my_function()\n",
    "\n",
    "def my_other_function():\n",
    "    print(\"Hello!\")\n",
    "```\n"
   ]
  },
  {
   "cell_type": "markdown",
   "metadata": {
    "slideshow": {
     "slide_type": "slide"
    }
   },
   "source": [
    "## <span style=\"color:blue\">REVIEW OF FUNCTIONS - Input Parameters</span>\n",
    "---\n",
    "- We can generalize the parameters of a function. This means that we want to pass information into a function and use it inside the function to tailor the __function’s behaviour to our exact needs.__ We express this information as a series of input parameters.\n",
    "- Using the same example:\n",
    "\n",
    "```python\n",
    "# here is a more general function\n",
    "def print_a_message(message):\n",
    "    print(message)\n",
    "```\n",
    "\n",
    "```python\n",
    "def print_sum(a, b):\n",
    "    print(a + b)\n",
    "```\n",
    "\n",
    "```python\n",
    "# this means that a takes the value of 3 and b takes the value of 4\n",
    "print_sum(3, 4)\n",
    "\n",
    "```\n"
   ]
  },
  {
   "cell_type": "markdown",
   "metadata": {
    "slideshow": {
     "slide_type": "slide"
    }
   },
   "source": [
    "## <span style=\"color:blue\">REVIEW OF FUNCTIONS - Return</span>\n",
    "---\n",
    "- We talked about this before:\n",
    "    - The functions we define above do not return any values, they just result in a message being printed (which can be helpful... but that is not the purpose of a function)\n",
    "    \n",
    "```python\n",
    "# return the addition value\n",
    "def add(a, b):\n",
    "    print(a + b)\n",
    "```\n",
    "\n",
    "- Now we can assing the output of the function to a variable:\n",
    "\n",
    "```ptyhon\n",
    "d = add(3, 4)\n",
    "```\n",
    "- **YOU MUST KEEO IN MINDS THAT** a function can only have a single return value:\n",
    "    - But that value can be a list or tuple, in other words you can return as many different values from a function as you like. \n",
    "    - Practically speaking it makes sense to return multiple values if they are tied to each other in some way. \n",
    "    - When several values are placed after the return statement, separated by commas, they will automatically be converted to a tuple. \n",
    "        - Then, you can assign a tuple to multiple variables separated by commas at the same time, so you can unpack a tuple returned by a function into multiple variables.\n",
    "        \n",
    "        \n",
    "```python\n",
    "def divide(dividend, divisor):\n",
    "    quotient = dividend // divisor\n",
    "    remainder = dividend % divisor\n",
    "    return quotient, remainder\n",
    "\n",
    "# you can do this\n",
    "q, r = divide(35, 4)\n",
    "\n",
    "# but you can also do this\n",
    "result = divide(67, 9)\n",
    "q1 = result[0]\n",
    "q2 = result[1]\n",
    "\n",
    "# by the way, you can also do this\n",
    "a, b = (1, 2)\n",
    "# or this\n",
    "c, d = [5, 6]\n",
    "# or this\n",
    "c, d, e = [5, 6, 8]\n",
    "```\n",
    "\n"
   ]
  },
  {
   "cell_type": "code",
   "execution_count": 5,
   "metadata": {
    "collapsed": true,
    "jupyter": {
     "outputs_hidden": true
    },
    "slideshow": {
     "slide_type": "slide"
    }
   },
   "outputs": [],
   "source": [
    "def divide(dividend, divisor):\n",
    "    quotient = dividend // divisor\n",
    "    remainder = dividend % divisor\n",
    "    return quotient, remainder"
   ]
  },
  {
   "cell_type": "code",
   "execution_count": 6,
   "metadata": {
    "slideshow": {
     "slide_type": "slide"
    }
   },
   "outputs": [
    {
     "name": "stdout",
     "output_type": "stream",
     "text": [
      "1 2 <class 'int'>\n"
     ]
    }
   ],
   "source": [
    "a, b = (1, 2)\n",
    "print(a, b, type(a))"
   ]
  },
  {
   "cell_type": "code",
   "execution_count": 7,
   "metadata": {
    "slideshow": {
     "slide_type": "slide"
    }
   },
   "outputs": [
    {
     "name": "stdout",
     "output_type": "stream",
     "text": [
      "5 6 <class 'int'>\n"
     ]
    }
   ],
   "source": [
    "c, d = [5, 6]\n",
    "print(c, d, type(c))"
   ]
  },
  {
   "cell_type": "code",
   "execution_count": 8,
   "metadata": {
    "slideshow": {
     "slide_type": "slide"
    }
   },
   "outputs": [
    {
     "data": {
      "text/plain": [
       "8"
      ]
     },
     "execution_count": 8,
     "metadata": {},
     "output_type": "execute_result"
    }
   ],
   "source": [
    "c, d, e = [5, 6, 8]\n",
    "e"
   ]
  },
  {
   "cell_type": "markdown",
   "metadata": {
    "slideshow": {
     "slide_type": "slide"
    }
   },
   "source": [
    "## <span style=\"color:blue\">REVIEW OF FUNCTIONS - The mysterious NONE or TypeError</span>\n",
    "---\n",
    "- All functions do actually return __something__, even if we don’t define a return value – the __default return value is__ <span style=\"color:red\">**None**</span>.\n",
    "\n",
    "```python\n",
    "mystery_output = print_message(\"Boo!\")\n",
    "print(mystery_output)\n",
    "```\n",
    "- When a <span style=\"color:red\">**return**</span> statement is reached, the flow of control immediately __exits the function.__ and any further statements in the function body will be skipped. \n",
    "    - We can sometimes use this to our advantage to reduce the number of conditional statements we need to use inside a function\n",
    "    \n",
    "```python\n",
    "def divide(dividend, divisor):\n",
    "    if not divisor:\n",
    "        return None, None # instead of dividing by zero\n",
    "\n",
    "    quotient = dividend // divisor\n",
    "    remainder = dividend % divisor\n",
    "    return quotient, remainder\n",
    "```\n",
    "\n",
    "- This approach can be useful when we want to check parameters at the beginning of a function – it means that we don’t have to indent the main part of the function inside an else block. \n",
    "- Also it’s more <span style=\"color:red\">**appropriate**</span> to raise an __exception__ instead of returning a value like None if there is something wrong with one of the parameters:\n",
    "\n",
    "```python\n",
    "def divide(dividend, divisor):\n",
    "    if not divisor:\n",
    "        raise ValueError(\"The divisor cannot be zero!\")\n",
    "\n",
    "    quotient = dividend // divisor\n",
    "    remainder = dividend % divisor\n",
    "    return quotient, remainder\n",
    "```"
   ]
  },
  {
   "cell_type": "code",
   "execution_count": 9,
   "metadata": {
    "slideshow": {
     "slide_type": "slide"
    }
   },
   "outputs": [
    {
     "ename": "TypeError",
     "evalue": "print_message() takes 0 positional arguments but 1 was given",
     "output_type": "error",
     "traceback": [
      "\u001b[0;31m---------------------------------------------------------------------------\u001b[0m",
      "\u001b[0;31mTypeError\u001b[0m                                 Traceback (most recent call last)",
      "\u001b[0;32m<ipython-input-9-74d4d14e1359>\u001b[0m in \u001b[0;36m<module>\u001b[0;34m()\u001b[0m\n\u001b[0;32m----> 1\u001b[0;31m \u001b[0mmystery_output\u001b[0m \u001b[0;34m=\u001b[0m \u001b[0mprint_message\u001b[0m\u001b[0;34m(\u001b[0m\u001b[0;34m\"Boo!\"\u001b[0m\u001b[0;34m)\u001b[0m\u001b[0;34m\u001b[0m\u001b[0m\n\u001b[0m\u001b[1;32m      2\u001b[0m \u001b[0mprint\u001b[0m\u001b[0;34m(\u001b[0m\u001b[0mmystery_output\u001b[0m\u001b[0;34m)\u001b[0m\u001b[0;34m\u001b[0m\u001b[0m\n",
      "\u001b[0;31mTypeError\u001b[0m: print_message() takes 0 positional arguments but 1 was given"
     ]
    }
   ],
   "source": [
    "mystery_output = print_message(\"Boo!\")\n",
    "print(mystery_output)"
   ]
  },
  {
   "cell_type": "markdown",
   "metadata": {
    "slideshow": {
     "slide_type": "slide"
    }
   },
   "source": [
    "## <span style=\"color:blue\">REVIEW OF FUNCTIONS - Default Parameters</span>\n",
    "---\n",
    "- In Python, there can only be __one function with a particular name defined in the scope__\n",
    "    - If you define another function with the same name, you will __overwrite the first function.__\n",
    "    - You must call this function with the correct number of parameters, otherwise you will get an error.\n",
    "- When defining a function you might feel the need of having two versions of the same function.\n",
    "    - This is not best practice\n",
    "    - To __avoid__ this you can make some of your parameters to be _optional_ by suppliying a default value for it.\n",
    "        - The most common practice is using Booleans\n",
    "        \n",
    "```python\n",
    "def make_greeting(title, name, surname, formal=True):\n",
    "    if formal:\n",
    "        return \"Hello, %s %s!\" % (title, surname)\n",
    "\n",
    "    return \"Hello, %s!\" % name\n",
    "```\n",
    "- When you call the function, you can leave the optional parameter out:\n",
    "    - In doing this, the default value will be used. \n",
    "- On the contrary if you include the parameter, the value will override the default value."
   ]
  },
  {
   "cell_type": "code",
   "execution_count": 10,
   "metadata": {
    "slideshow": {
     "slide_type": "slide"
    }
   },
   "outputs": [
    {
     "name": "stdout",
     "output_type": "stream",
     "text": [
      "Hello, Mr Smith!\n",
      "Hello, John!\n"
     ]
    }
   ],
   "source": [
    "def make_greeting(title, name, surname, formal=True):\n",
    "    if formal:\n",
    "        return \"Hello, %s %s!\" % (title, surname)\n",
    "    return \"Hello, %s!\" % name\n",
    "\n",
    "print(make_greeting(\"Mr\", \"John\", \"Smith\"))\n",
    "print(make_greeting(\"Mr\", \"John\", \"Smith\", False))"
   ]
  },
  {
   "cell_type": "markdown",
   "metadata": {
    "slideshow": {
     "slide_type": "slide"
    }
   },
   "source": [
    "## <span style=\"color:blue\">REVIEW OF FUNCTIONS - Default Parameters</span>\n",
    "---\n",
    "- You can define multiple optional parameters\n",
    "\n",
    "```python\n",
    "def make_greeting(title, name, surname, formal=True, time=None):\n",
    "    # the rest of the code here\n",
    "```\n",
    "- You can explicitly specify the parameter names along with the values:\n",
    "```python\n",
    "title=\"Mr\", name=\"John\", surname=\"Smith\", formal=False, time=\"evening\"\n",
    "```\n",
    "- You can mix positional and keyword parameters, but the keyword parameters must come after any positional parameters:\n",
    "```python\n",
    "# this is OK\n",
    "print(make_greeting(\"Mr\", \"John\", surname=\"Smith\"))\n",
    "# this will give you an error\n",
    "print(make_greeting(title=\"Mr\", \"John\", \"Smith\"))\n",
    "```\n",
    "- You can specify keyword parameters in any order – they don’t have to match the order in the function definition:\n",
    "```python\n",
    "print(make_greeting(surname=\"Smith\", name=\"John\", title=\"Mr\"))\n",
    "```\n",
    "- You can pass in the second optional parameter and not the first\n",
    "```python\n",
    "print(make_greeting(\"Mr\", \"John\", \"Smith\", time=\"evening\"))\n",
    "```"
   ]
  },
  {
   "cell_type": "code",
   "execution_count": 11,
   "metadata": {
    "slideshow": {
     "slide_type": "slide"
    }
   },
   "outputs": [
    {
     "name": "stdout",
     "output_type": "stream",
     "text": [
      "Hello, Mr Smith!\n",
      "Hello, John!\n",
      "Good evening, John!\n",
      "\n",
      "\n",
      "Hello, Mr Smith!\n",
      "Good evening, John!\n"
     ]
    }
   ],
   "source": [
    "def make_greeting(title, name, surname, formal=True, time=None):\n",
    "    if formal:\n",
    "        fullname =  \"%s %s\" % (title, surname)\n",
    "    else:\n",
    "        fullname = name\n",
    "\n",
    "    if time is None:\n",
    "        greeting = \"Hello\"\n",
    "    else:\n",
    "        greeting = \"Good %s\" % time\n",
    "\n",
    "    return \"%s, %s!\" % (greeting, fullname)\n",
    "\n",
    "print(make_greeting(\"Mr\", \"John\", \"Smith\"))\n",
    "print(make_greeting(\"Mr\", \"John\", \"Smith\", False))\n",
    "print(make_greeting(\"Mr\", \"John\", \"Smith\", False, \"evening\"))\n",
    "print(\"\\n\")\n",
    "print(make_greeting(title=\"Mr\", name=\"John\", surname=\"Smith\"))\n",
    "print(make_greeting(title=\"Mr\", name=\"John\", surname=\"Smith\", formal=False, time=\"evening\"))"
   ]
  },
  {
   "cell_type": "code",
   "execution_count": 12,
   "metadata": {
    "slideshow": {
     "slide_type": "slide"
    }
   },
   "outputs": [
    {
     "ename": "SyntaxError",
     "evalue": "positional argument follows keyword argument (<ipython-input-12-2348cd26befd>, line 1)",
     "output_type": "error",
     "traceback": [
      "\u001b[0;36m  File \u001b[0;32m\"<ipython-input-12-2348cd26befd>\"\u001b[0;36m, line \u001b[0;32m1\u001b[0m\n\u001b[0;31m    print(make_greeting(title=\"Mr\", \"John\", \"Smith\"))\u001b[0m\n\u001b[0m                                   ^\u001b[0m\n\u001b[0;31mSyntaxError\u001b[0m\u001b[0;31m:\u001b[0m positional argument follows keyword argument\n"
     ]
    }
   ],
   "source": [
    "print(make_greeting(title=\"Mr\", \"John\", \"Smith\"))"
   ]
  },
  {
   "cell_type": "code",
   "execution_count": 13,
   "metadata": {
    "slideshow": {
     "slide_type": "slide"
    }
   },
   "outputs": [
    {
     "name": "stdout",
     "output_type": "stream",
     "text": [
      "Hello, Mr Smith!\n",
      "Good evening, Mr Smith!\n"
     ]
    }
   ],
   "source": [
    "print(make_greeting(surname=\"Smith\", name=\"John\", title=\"Mr\"))\n",
    "print(make_greeting(\"Mr\", \"John\", \"Smith\", time=\"evening\"))"
   ]
  },
  {
   "cell_type": "markdown",
   "metadata": {
    "slideshow": {
     "slide_type": "slide"
    }
   },
   "source": [
    "## <span style=\"color:blue\">REVIEW OF FUNCTIONS - </span> ```*args and **kwargs```\n",
    "---\n",
    "- There are times when you may want to pass a variable-length list of positional or keyword parameters into a function. => Trust on me on this one!!!\n",
    "- We can put ___```*```___ before a parameter name to indicate that it is a variable-length tuple of positional parameters\n",
    "- We can use ___```**```___ to indicate that a parameter is a variable-length dictionary of keyword parameters.\n",
    "- __By convention__, the parameter name we use for the ```tuple``` is <span style=\"color:red\">**args**</span> and the name we use for the  ```dictionary``` is <span style=\"color:red\">**kwargs**</span>\n",
    "\n",
    "```python\n",
    "def print_args(*args):\n",
    "    for arg in args:\n",
    "        print(arg)\n",
    "\n",
    "def print_kwargs(**kwargs):\n",
    "    for k, v in kwargs.items():\n",
    "        print(\"%s: %s\" % (k, v))\n",
    "```\n",
    "- Inside the function, we can access args as a normal tuple, but the ___```*```___ means that <span style=\"color:red\">**args**</span> isn’t passed into the function as a single parameter which is a tuple: instead, it is passed in as a series of individual parameters. \n",
    "- Similarly, ___```**```___ means that <span style=\"color:red\">**kwargs**</span> is passed in as a series of individual keyword parameters, rather than a single parameter which is a dictionary.\n",
    "- Here is where these options are effective:\n",
    "    - We can use ___```*```___ or ___```**```___ when we are calling a function to unpack a sequence or a dictionary into a series of individual parameters\n",
    "\n",
    "```python\n",
    "my_list = [\"one\", \"two\", \"three\"]\n",
    "print_args(*my_list)\n",
    "\n",
    "my_dict = {\"name\": \"Jane\", \"surname\": \"Doe\"}\n",
    "print_kwargs(**my_dict)\n",
    "    ```"
   ]
  },
  {
   "cell_type": "code",
   "execution_count": 14,
   "metadata": {
    "slideshow": {
     "slide_type": "slide"
    }
   },
   "outputs": [
    {
     "name": "stdout",
     "output_type": "stream",
     "text": [
      "one\n",
      "two\n",
      "three\n",
      "one\n",
      "two\n",
      "three\n",
      "four\n",
      "\n",
      "\n",
      "name: Jane\n",
      "surname: Doe\n",
      "age: 10\n",
      "\n",
      "\n",
      "one\n",
      "two\n",
      "three\n",
      "\n",
      "\n",
      "name: Jane\n",
      "surname: Doe\n",
      "\n",
      "\n",
      "Good evening, John!\n"
     ]
    }
   ],
   "source": [
    "def print_args(*args):\n",
    "    for arg in args:\n",
    "        print(arg)\n",
    "\n",
    "def print_kwargs(**kwargs):\n",
    "    for k, v in kwargs.items():\n",
    "        print(\"%s: %s\" % (k, v))\n",
    "        \n",
    "print_args(\"one\", \"two\", \"three\")\n",
    "print_args(\"one\", \"two\", \"three\", \"four\")\n",
    "print(\"\\n\")\n",
    "print_kwargs(name=\"Jane\", surname=\"Doe\")\n",
    "print_kwargs(age=10)\n",
    "print(\"\\n\")\n",
    "##unpack a sequence or a dictionary \n",
    "my_list = [\"one\", \"two\", \"three\"]\n",
    "print_args(*my_list)\n",
    "print(\"\\n\")\n",
    "my_dict = {\"name\": \"Jane\", \"surname\": \"Doe\"}\n",
    "print_kwargs(**my_dict)\n",
    "print(\"\\n\")\n",
    "\n",
    "##Using one of our functions:\n",
    "## def make_greeting(title, name, surname, formal=True, time=None)\n",
    "my_dict = {\n",
    "    \"title\": \"Mr\",\n",
    "    \"name\": \"John\",\n",
    "    \"surname\": \"Smith\",\n",
    "    \"formal\": False,\n",
    "    \"time\": \"evening\",\n",
    "}\n",
    "\n",
    "print(make_greeting(**my_dict))"
   ]
  },
  {
   "cell_type": "markdown",
   "metadata": {
    "slideshow": {
     "slide_type": "slide"
    }
   },
   "source": [
    "## <span style=\"color:blue\">REVIEW OF FUNCTIONS - Lambdas</span> \n",
    "---\n",
    "- I have always find it hard to understand what a lambda function does...until I realized that:\n",
    "    - I can define a function on the ```fly``` when we I to pass it as a parameter or assign it to a variable. \n",
    "    - I realized that I can use the <span style=\"color:red\">**lambda**</span> keyword to define anonymous, one-line functions inline in our code\n",
    "\n",
    "```python\n",
    "a = lambda: 3\n",
    "\n",
    "# is the same as\n",
    "def a():\n",
    "    return 3\n",
    "```\n",
    "\n",
    "- A <span style=\"color:red\">**lambda**</span> can take parameters – they are written between the lambda keyword and the colon, without brackets. \n",
    "- A <span style=\"color:red\">**lambda**</span> function may only contain a single expression, and the result of evaluating this expression is implicitly returned from the function (we don’t use the return keyword)\n",
    "\n",
    "```python\n",
    "b = lambda x, y: x + y\n",
    "\n",
    "# is the same as\n",
    "def b(x, y):\n",
    "    return x + y\n",
    "```\n"
   ]
  },
  {
   "cell_type": "markdown",
   "metadata": {
    "slideshow": {
     "slide_type": "slide"
    }
   },
   "source": [
    "## <span style=\"color:blue\">REVIEW OF FUNCTIONS - Completed</span> \n",
    "---\n",
    "<p align=\"center\">\n",
    "  <img src=\"../../img/stop_pict.jpg\" width=\"400\" height=\"800\">\n",
    "</p>"
   ]
  },
  {
   "cell_type": "markdown",
   "metadata": {
    "slideshow": {
     "slide_type": "slide"
    }
   },
   "source": [
    "## <span style=\"color:blue\">Object-Oriented Programming OOP </span> \n",
    "---\n",
    "- Provides forms of structuring programs so that properties and behaviors are combined into individual <span style=\"color:blue\">**objects**</span>.\n",
    "    - <span style=\"color:blue\">**Object**</span> could represent a person with a name property, age, address, etc., with behaviors like walking, talking, breathing, and running. \n",
    "    \n",
    "    - <span style=\"color:blue\">**Object**</span> could represent an email with properties like recipient list, subject, body, etc., and behaviors like adding attachments and sending. \n",
    "    \n",
    "    \n",
    "- In OOP <span style=\"color:blue\">**objects**</span> are at the center of the object-oriented programming paradigm, not only representing the data, as in ```procedural programming```, but in the overall structure of the program as well."
   ]
  },
  {
   "cell_type": "markdown",
   "metadata": {
    "slideshow": {
     "slide_type": "slide"
    }
   },
   "source": [
    "## <span style=\"color:blue\">Classes and Objects</span> \n",
    "---\n",
    "- Thus far we have had a structural approach to programming:\n",
    "\n",
    "```sql\n",
    "- The procedural programming paradigm:\n",
    "    1. Break up tasks into related calculations\n",
    "    2. Collect them in the Python construct function\n",
    "```\n",
    "- BUT.... related functions can be collected into modules or packages.\n",
    "    - In other words rather than having the same arguments in many different functions, we can collect the functions that all share the same inputs into the Python construct <span style=\"color:red\">**class**</span>.\n",
    "\n",
    "- In doing this, a <span style=\"color:red\">**class**</span> is another data type packaged with associated functions to manipulate it. \n",
    "- This functions, which are referred to as <span style=\"color:red\">**methods**</span> are simply Python functions having a special relation to the object of the specified type.... that object is called <span style=\"color:red\">**self**</span>"
   ]
  },
  {
   "cell_type": "markdown",
   "metadata": {
    "slideshow": {
     "slide_type": "slide"
    }
   },
   "source": [
    "## <span style=\"color:blue\">Classes in Python</span> \n",
    "---\n",
    "- Let's think about basic things....we deal with data. Therefore on the data, each thing or object is an instance of some class.\n",
    "- The most primitive ```data structures available in Python```, like ```numbers, strings, and lists``` are designed to represent simple things like the cost of something, the name of a poem, and your favorite colors, respectively.\n",
    "- But when you want to represent something more complex these primitives ideas are not sufficient.\n",
    "- Therefore, one of the most powerful features in an object oriented programming language is ___the ability to allow a programmer (PROBLEM SOLVER) to create new classes that model data that is needed to solve the problems.___\n",
    "\n",
    "- What if you wanted to track a number of different animals. If you used a list, the first element could be the animal’s while the second element could represent its age.\n",
    "    - What if you had 1000 different animals? Are you certain each animal has both a name and an age, and so forth? What if you wanted to add other properties to these animals? This lacks organization, and it’s the exact need for <span style=\"color:red\">**classes**</span>."
   ]
  },
  {
   "cell_type": "markdown",
   "metadata": {
    "slideshow": {
     "slide_type": "slide"
    }
   },
   "source": [
    "## <span style=\"color:blue\">Classes in Python</span> \n",
    "---\n",
    "- Create new user-defined data structures that contain arbitrary information about something. In the case of an animal, we could create an ```Animal()``` class to track properties about the Animal like the name and age.\n",
    "\n",
    "- KEEP IN MIND a class just provides a template/structure — it’s a blueprint for how something should be defined, but it **doesn’t** actually provide any real content itself. The ```Animal()``` class may specify that the name and age are necessary for defining an animal, but it will not actually state what a specific animal’s name or age is.\n",
    "\n",
    "- <span style=\"color:red\">**It may help to think of a class as an idea for how something should be defined.**</span> "
   ]
  },
  {
   "cell_type": "code",
   "execution_count": 30,
   "metadata": {
    "slideshow": {
     "slide_type": "slide"
    }
   },
   "outputs": [
    {
     "data": {
      "text/plain": [
       "__main__.Point"
      ]
     },
     "execution_count": 30,
     "metadata": {},
     "output_type": "execute_result"
    }
   ],
   "source": [
    "class Point:\n",
    "    '''Represents a point in 2-D space'''\n",
    "Point"
   ]
  },
  {
   "cell_type": "code",
   "execution_count": 16,
   "metadata": {
    "slideshow": {
     "slide_type": "slide"
    }
   },
   "outputs": [
    {
     "data": {
      "text/plain": [
       "__main__.Dog"
      ]
     },
     "execution_count": 16,
     "metadata": {},
     "output_type": "execute_result"
    }
   ],
   "source": [
    "class Dog:\n",
    "    '''One of the animals'''\n",
    "    pass\n",
    "Dog"
   ]
  },
  {
   "cell_type": "markdown",
   "metadata": {
    "slideshow": {
     "slide_type": "slide"
    }
   },
   "source": [
    "## <span style=\"color:blue\">Objects - Instance/Object</span> \n",
    "---\n",
    "- While the class is the blueprint, __an instance is a copy of the class with actual values__, literally an object belonging to a specific class. It’s not an idea anymore; it’s an actual animal, like a dog named Roger who’s eight years old.\n",
    "\n",
    "\n",
    "\n",
    "- In the case of the ```class Point```\n",
    "1. The defined ```class Point``` creates a <span style=\"color:blue\">**class object**</span>\n",
    "2. Because Point is defined at the top level...it has a full name ```__main__.Point```\n",
    "3. Think of the <span style=\"color:blue\">**class object**</span> like a factory for creating <span style=\"color:blue\">**objects**</span> \n",
    "    - So to create a point you call the Point as if it were a function\n",
    "    \n",
    "    ```python\n",
    "    blank = Point()\n",
    "    blank\n",
    "     <__main__.Point at 0x1041b0ba8>\n",
    "    ```\n",
    "    - The return value is a reference to a Point object... the one we assing to blank\n",
    "4. When you create a new object you call this <span style=\"color:blue\">**instantiation**</span> and the object is an <span style=\"color:blue\">**instance**</span> of the class\n",
    "5. Every <span style=\"color:blue\">**object**</span> is an <span style=\"color:blue\">**instance**</span> of some <span style=\"color:blue\">**class**</span> => <span style=\"color:blue\">**object**</span> and <span style=\"color:blue\">**instance**</span> are interchangeable."
   ]
  },
  {
   "cell_type": "code",
   "execution_count": 17,
   "metadata": {
    "slideshow": {
     "slide_type": "slide"
    }
   },
   "outputs": [
    {
     "data": {
      "text/plain": [
       "<__main__.Point at 0x102be23c8>"
      ]
     },
     "execution_count": 17,
     "metadata": {},
     "output_type": "execute_result"
    }
   ],
   "source": [
    "blank = Point()\n",
    "blank"
   ]
  },
  {
   "cell_type": "markdown",
   "metadata": {
    "slideshow": {
     "slide_type": "slide"
    }
   },
   "source": [
    "## <span style=\"color:blue\">Instance/Object - Attributes</span> \n",
    "---\n",
    "- All classes create objects, and all objects contain characteristics called attributes.\n",
    "- When you assign values to named elements of an <span style=\"color:blue\">**instance/object**</span>, these elements are called <span style=\"color:blue\">**attributes**</span> \n",
    "\n",
    "```python\n",
    "blank.x  = 3.0\n",
    "blank.y = 4.0\n",
    "```\n",
    "- This means that the variable ```blank``` refers to a Point object, that has 2 attributes (each attribute refers to a floating point).\n",
    "- Now that the variable ```blank``` knows where to get its values from... we can use the ```dot``` notation to call the values..\n",
    "\n",
    "```python\n",
    "math.sqrt(blank.x**2 + blank.y**2)\n",
    "```\n",
    "- We can pass the instance as an argument:\n",
    "\n",
    "```python\n",
    "def print_point(p):\n",
    "    print ('(%g, %g)' % (p.x, p.y))\n",
    "```"
   ]
  },
  {
   "cell_type": "code",
   "execution_count": 31,
   "metadata": {
    "slideshow": {
     "slide_type": "slide"
    }
   },
   "outputs": [
    {
     "data": {
      "text/plain": [
       "5.0"
      ]
     },
     "execution_count": 31,
     "metadata": {},
     "output_type": "execute_result"
    }
   ],
   "source": [
    "import math\n",
    "blank.x  = 3.0\n",
    "blank.y = 4.0\n",
    "math.sqrt(blank.x**2 + blank.y**2)"
   ]
  },
  {
   "cell_type": "code",
   "execution_count": 32,
   "metadata": {
    "slideshow": {
     "slide_type": "slide"
    }
   },
   "outputs": [
    {
     "name": "stdout",
     "output_type": "stream",
     "text": [
      "(3, 4)\n"
     ]
    }
   ],
   "source": [
    "def print_point(p):\n",
    "    print ('(%g, %g)' % (p.x, p.y))\n",
    "print_point(blank)"
   ]
  },
  {
   "cell_type": "markdown",
   "metadata": {
    "slideshow": {
     "slide_type": "slide"
    }
   },
   "source": [
    "## <span style=\"color:blue\">Instance/Object - Attributes, the init  Method</span> \n",
    "---\n",
    "- The __init__() method => short for initialization, is a special method that gets called when an object is initiated.\n",
    "- Use the __init__() method to initialize (e.g., specify) an object’s initial attributes by giving them their default value (or state). This method must have at least one argument as well as the self variable, which refers to the object itself (e.g., Dog).\n",
    "\n",
    "```python\n",
    "class Dog:\n",
    "# A class representing a dog\n",
    "\n",
    "    # Initializer / Instance Attributes\n",
    "    def __init__(self, name, age):\n",
    "        self.name = name\n",
    "        self.age = age\n",
    "```\n",
    "\n",
    "```python\n",
    "class Student:\n",
    "# A class representing a student\n",
    "\n",
    "    # Initializer / Instance Attributes\n",
    "    def __init__(self, n, a):\n",
    "         self.full_name = n\n",
    "         self.age = a\n",
    "    def get_age(self):\n",
    "         return self.age\n",
    "\n",
    "```\n",
    "- It is common for the parameters of __init__ to have the same names as the attributes, but not always \n",
    "- In the following statements:\n",
    "\n",
    "```python\n",
    "self.name = name\n",
    "self.full_name = n\n",
    "```\n",
    "\n",
    "<span style=\"color:blue\">**self**</span> stores the value of the parameter ```name``` and ```n``` as an attribute of ```self``` \n",
    "- The <span style=\"color:blue\">**self**</span> variable is also an instance of the ```class```. \n",
    "    - Since instances of a class have varying values we could state Dog.name = name rather than self.name = name. \n",
    "    - But since not all dogs share the same name, we need to be able to assign different values to different instances. Hence the need for the special self variable, which will help to keep track of individual instances of each class."
   ]
  },
  {
   "cell_type": "markdown",
   "metadata": {
    "slideshow": {
     "slide_type": "slide"
    }
   },
   "source": [
    "## <span style=\"color:blue\">Instance/Object - Attributes, the init  Method - Self</span> \n",
    "---\n",
    "- An ```__init__``` method can take any number of arguments.\n",
    "- Like other functions or methods, the arguments can be defined with default values, making them optional to the caller.\n",
    "- BUT the first argument <span style=\"color:blue\">**self**</span> in the definition of ```__init__``` is special…\n",
    "\n",
    "- The first argument of every method is a reference to the current instance of the class\n",
    "- By convention, we name this argument <span style=\"color:blue\">**self**</span>\n",
    "- In ```__init__```, <span style=\"color:blue\">**self**</span> refers to the object currently being created; so, in other class methods, it refers to the instance whose method was called \n",
    "- Although you must specify <span style=\"color:blue\">**self**</span> explicitly when defining the method, you don’t include it when calling the method.\n",
    "- Python passes it for you automatically."
   ]
  },
  {
   "cell_type": "code",
   "execution_count": 20,
   "metadata": {
    "slideshow": {
     "slide_type": "slide"
    }
   },
   "outputs": [],
   "source": [
    "class Dog:\n",
    "# '''A class representing a dog'''\n",
    "#     '''Initializer / Instance Attributes'''\n",
    "    def __init__(self, name, age):\n",
    "        self.name = name\n",
    "        self.age = age\n",
    "\n",
    "class Student:\n",
    "# '''A class representing a student'''\n",
    "#     '''Initializer / Instance Attributes'''\n",
    "    def __init__(self, n, a):\n",
    "        self.full_name = n\n",
    "        self.age = a\n",
    "        \n",
    "    def get_age(self):\n",
    "        return self.age"
   ]
  },
  {
   "cell_type": "markdown",
   "metadata": {
    "slideshow": {
     "slide_type": "slide"
    }
   },
   "source": [
    "## <span style=\"color:blue\">Access to Attributes and Methods </span> \n",
    "---\n",
    "- When they are known:"
   ]
  },
  {
   "cell_type": "code",
   "execution_count": 21,
   "metadata": {
    "slideshow": {
     "slide_type": "slide"
    }
   },
   "outputs": [
    {
     "name": "stdout",
     "output_type": "stream",
     "text": [
      "Chance the rapper\n"
     ]
    },
    {
     "data": {
      "text/plain": [
       "26"
      ]
     },
     "execution_count": 21,
     "metadata": {},
     "output_type": "execute_result"
    }
   ],
   "source": [
    "f = Student(\"Chance the rapper\", 26)\n",
    "print(f.full_name) # Access attribute \n",
    "f.get_age()  # Access a method "
   ]
  },
  {
   "cell_type": "markdown",
   "metadata": {
    "slideshow": {
     "slide_type": "slide"
    }
   },
   "source": [
    "## <span style=\"color:blue\">Access to Attributes and Methods </span> \n",
    "---\n",
    "- When they are uknown- occasionally the name of an attribute or method of a class is only given at run time.\n",
    "    - Solution:\n",
    "    ```python\n",
    "    getattr(object_instance, string) \n",
    "    ```\n",
    "    - Where\n",
    "    ```sql\n",
    "    string is a string which contains the name of an attribute or method of a class\n",
    "    getattr(object_instance, string) returns a reference to that attribute or method \n",
    "    \n",
    "    ```\n",
    "    \n",
    "    - Solution\n",
    "    ```python\n",
    "    hasattr(object_instance,string)\n",
    "    ```"
   ]
  },
  {
   "cell_type": "code",
   "execution_count": 22,
   "metadata": {
    "slideshow": {
     "slide_type": "slide"
    }
   },
   "outputs": [
    {
     "name": "stdout",
     "output_type": "stream",
     "text": [
      "Chance the rapper\n",
      "<bound method Student.get_age of <__main__.Student object at 0x102af89e8>>\n",
      "26\n"
     ]
    },
    {
     "ename": "AttributeError",
     "evalue": "'Student' object has no attribute 'get_birthday'",
     "output_type": "error",
     "traceback": [
      "\u001b[0;31m---------------------------------------------------------------------------\u001b[0m",
      "\u001b[0;31mAttributeError\u001b[0m                            Traceback (most recent call last)",
      "\u001b[0;32m<ipython-input-22-561095858400>\u001b[0m in \u001b[0;36m<module>\u001b[0;34m()\u001b[0m\n\u001b[1;32m      2\u001b[0m \u001b[0mprint\u001b[0m\u001b[0;34m(\u001b[0m\u001b[0mgetattr\u001b[0m\u001b[0;34m(\u001b[0m\u001b[0mf\u001b[0m\u001b[0;34m,\u001b[0m \u001b[0;34m\"get_age\"\u001b[0m\u001b[0;34m)\u001b[0m\u001b[0;34m)\u001b[0m\u001b[0;34m\u001b[0m\u001b[0m\n\u001b[1;32m      3\u001b[0m \u001b[0mprint\u001b[0m\u001b[0;34m(\u001b[0m\u001b[0mgetattr\u001b[0m\u001b[0;34m(\u001b[0m\u001b[0mf\u001b[0m\u001b[0;34m,\u001b[0m \u001b[0;34m\"get_age\"\u001b[0m\u001b[0;34m)\u001b[0m\u001b[0;34m(\u001b[0m\u001b[0;34m)\u001b[0m\u001b[0;34m)\u001b[0m\u001b[0;34m\u001b[0m\u001b[0m\n\u001b[0;32m----> 4\u001b[0;31m \u001b[0mgetattr\u001b[0m\u001b[0;34m(\u001b[0m\u001b[0mf\u001b[0m\u001b[0;34m,\u001b[0m \u001b[0;34m\"get_birthday\"\u001b[0m\u001b[0;34m)\u001b[0m\u001b[0;34m\u001b[0m\u001b[0m\n\u001b[0m",
      "\u001b[0;31mAttributeError\u001b[0m: 'Student' object has no attribute 'get_birthday'"
     ]
    }
   ],
   "source": [
    "print(getattr(f, \"full_name\"))\n",
    "print(getattr(f, \"get_age\"))\n",
    "print(getattr(f, \"get_age\")())\n",
    "getattr(f, \"get_birthday\") "
   ]
  },
  {
   "cell_type": "code",
   "execution_count": 23,
   "metadata": {
    "slideshow": {
     "slide_type": "slide"
    }
   },
   "outputs": [
    {
     "name": "stdout",
     "output_type": "stream",
     "text": [
      "True\n",
      "True\n",
      "False\n"
     ]
    }
   ],
   "source": [
    "print(hasattr(f, \"full_name\"))\n",
    "print(hasattr(f, \"get_age\"))\n",
    "print(hasattr(f, \"get_birthday\"))"
   ]
  },
  {
   "cell_type": "code",
   "execution_count": 24,
   "metadata": {
    "slideshow": {
     "slide_type": "slide"
    }
   },
   "outputs": [
    {
     "name": "stdout",
     "output_type": "stream",
     "text": [
      "Scorpion is 4 years old\n",
      "Scorpion says GRR GRR\n"
     ]
    }
   ],
   "source": [
    "class Dog:\n",
    "\n",
    "    # Class Attribute\n",
    "    species = 'mammal'\n",
    "\n",
    "    # Initializer / Instance Attributes\n",
    "    def __init__(self, name, age):\n",
    "        self.name = name\n",
    "        self.age = age\n",
    "    \n",
    "    # string method\n",
    "    def __str__(self):\n",
    "        return \"{} is {} years old\".format(self.name, self.age)\n",
    "\n",
    "    # instance method\n",
    "    def speak(self, sound):\n",
    "        return \"{} says {}\".format(self.name, sound)\n",
    "\n",
    "# Instantiate the Dog object\n",
    "mikey = Dog(\"Scorpion\", 4)\n",
    "\n",
    "# # call our instance methods\n",
    "print(mikey)\n",
    "print(mikey.speak(\"GRR GRR\"))\n"
   ]
  },
  {
   "cell_type": "markdown",
   "metadata": {
    "slideshow": {
     "slide_type": "slide"
    }
   },
   "source": [
    "## <span style=\"color:blue\">Inheritance - Subclasses  </span> \n",
    "---\n",
    "- Classes can extend the definition of other classes\n",
    "- Allows use (or extension) of methods and attributes already defined in the previous one\n",
    "- To define a subclass, put the name of the superclass in parens after the subclass’s name on the first line of the definition\n"
   ]
  },
  {
   "cell_type": "markdown",
   "metadata": {
    "slideshow": {
     "slide_type": "slide"
    }
   },
   "source": [
    "## <span style=\"color:blue\">Inheritance - Subclasses  </span> \n",
    "---\n",
    "- I like to think of this as nested objects.\n",
    "- Formaly this means that an object is an attribute of another object.\n",
    "\n",
    "```python\n",
    "box = Rectangle()\n",
    "box.width = 100.00\n",
    "box.height = 200.00\n",
    "box.corner = Point()\n",
    "box.corner.x = 0.00\n",
    "box.corner.y = 0.00\n",
    "```\n",
    "- A function can return an instance...\n",
    "\n",
    "```python \n",
    "def find_center(rect):\n",
    "    p = Point()\n",
    "    p.x = rect.corner.x + rect.width/2\n",
    "    p.y = rect.corner.y + rect.height/2\n",
    "    return p\n",
    "```"
   ]
  },
  {
   "cell_type": "code",
   "execution_count": 36,
   "metadata": {},
   "outputs": [],
   "source": [
    "class Rectangle:\n",
    "    '''\n",
    "        Represents a rectangle. attributes: width, height, corner\n",
    "    '''"
   ]
  },
  {
   "cell_type": "code",
   "execution_count": 38,
   "metadata": {
    "slideshow": {
     "slide_type": "slide"
    }
   },
   "outputs": [
    {
     "name": "stdout",
     "output_type": "stream",
     "text": [
      "(50, 100)\n"
     ]
    }
   ],
   "source": [
    "box = Rectangle()\n",
    "box.width = 100.00\n",
    "box.height = 200.00\n",
    "box.corner = Point()\n",
    "box.corner.x = 0.00\n",
    "box.corner.y = 0.00\n",
    "\n",
    "''' '''\n",
    "def find_center(rect):\n",
    "    p = Point()\n",
    "    p.x = rect.corner.x + rect.width/2\n",
    "    p.y = rect.corner.y + rect.height/2\n",
    "    return p\n",
    "''' '''\n",
    "center = find_center(box)\n",
    "print_point(center)"
   ]
  },
  {
   "cell_type": "markdown",
   "metadata": {
    "slideshow": {
     "slide_type": "slide"
    }
   },
   "source": [
    "## <span style=\"color:blue\">Inheritance - Subclasses/Redefining Methods  </span> \n",
    "---\n",
    "- If you want to redefine a method of the parent class, include a new definition using the same name in the subclass\n",
    "    - The old code won’t get executed\n",
    "- To execute the method in the parent class in addition to new code for some method, explicitly call the parent’s version of method \n",
    "```python\n",
    "parentClass.methodName(self, a, b, c)\n",
    "```\n",
    "- The only time you ever explicitly pass <span style=\"color:blue\">**self**</span> as an argument is when calling a method of an ancestor"
   ]
  },
  {
   "cell_type": "code",
   "execution_count": 39,
   "metadata": {
    "slideshow": {
     "slide_type": "slide"
    }
   },
   "outputs": [],
   "source": [
    "class Student:\n",
    "# '''A class representing a student'''\n",
    "#     '''Initializer / Instance Attributes'''\n",
    "    def __init__(self, n, a):\n",
    "        self.full_name = n\n",
    "        self.age = a\n",
    "        \n",
    "    def get_age(self):\n",
    "        return self.age\n",
    "    \n",
    "class Econ_student (Student):\n",
    "    def __init__(self, n, a, s):\n",
    "        Student.__init__(self, n, a) #Call __init__ for student\n",
    "        self.section_num = s ##section name\n",
    "        \n",
    "    def get_age(self):\n",
    "        return \"The student: {} is {} years old\".format(self.full_name, self.age)"
   ]
  },
  {
   "cell_type": "code",
   "execution_count": 40,
   "metadata": {
    "slideshow": {
     "slide_type": "slide"
    }
   },
   "outputs": [
    {
     "name": "stdout",
     "output_type": "stream",
     "text": [
      "Chance the rapper\n",
      "26\n",
      "econ\n"
     ]
    },
    {
     "data": {
      "text/plain": [
       "'The student: Chance the rapper is 26 years old'"
      ]
     },
     "execution_count": 40,
     "metadata": {},
     "output_type": "execute_result"
    }
   ],
   "source": [
    "f = Econ_student(\"Chance the rapper\", 26, \"econ\")\n",
    "print(f.full_name)\n",
    "print(f.age)\n",
    "print(f.section_num)\n",
    "f.get_age()"
   ]
  },
  {
   "cell_type": "code",
   "execution_count": 41,
   "metadata": {
    "slideshow": {
     "slide_type": "slide"
    }
   },
   "outputs": [
    {
     "name": "stdout",
     "output_type": "stream",
     "text": [
      "Jim is 12 years old\n",
      "Jim runs slowly\n"
     ]
    }
   ],
   "source": [
    "class Dog:\n",
    "\n",
    "    # Class Attribute\n",
    "    species = 'mammal'\n",
    "\n",
    "    # Initializer / Instance Attributes\n",
    "    def __init__(self, name, age):\n",
    "        self.name = name\n",
    "        self.age = age\n",
    "    \n",
    "    # string method\n",
    "    def __str__(self):\n",
    "        return \"{} is {} years old\".format(self.name, self.age)\n",
    "\n",
    "    # instance method\n",
    "    def speak(self, sound):\n",
    "        return \"{} says {}\".format(self.name, sound)\n",
    "\n",
    "# Child class (inherits from Dog class)\n",
    "class RussellTerrier(Dog):\n",
    "    def run(self, speed):\n",
    "        return \"{} runs {}\".format(self.name, speed)\n",
    "\n",
    "\n",
    "# Child class (inherits from Dog class)\n",
    "class Bulldog(Dog):\n",
    "    def run(self, speed):\n",
    "        return \"{} runs {}\".format(self.name, speed)\n",
    "\n",
    "\n",
    "# Child classes inherit attributes and\n",
    "# behaviors from the parent class\n",
    "jim = RussellTerrier(\"Jim\", 12)\n",
    "print(jim)\n",
    "\n",
    "# Child classes have specific attributes\n",
    "# and behaviors as well\n",
    "print(jim.run(\"slowly\"))"
   ]
  },
  {
   "cell_type": "markdown",
   "metadata": {
    "slideshow": {
     "slide_type": "slide"
    }
   },
   "source": [
    "## <span style=\"color:blue\">Classes and Objects - Objects are Mutable</span> \n",
    "---\n",
    "- Straightforward method => nothing new here\n",
    "```python\n",
    "box.width = box.width + 50\n",
    "box.height = box.width + 100\n",
    "```\n",
    "\n",
    "- Function to modify objects: \n",
    "```python\n",
    "def grow_rectangle(rect, dwidth, dheight):\n",
    "    rect.width += dwidth\n",
    "    rect.height += dheight\n",
    "```"
   ]
  },
  {
   "cell_type": "code",
   "execution_count": 42,
   "metadata": {
    "slideshow": {
     "slide_type": "slide"
    }
   },
   "outputs": [
    {
     "name": "stdout",
     "output_type": "stream",
     "text": [
      "100.0 200.0\n",
      "150.0 300.0\n"
     ]
    }
   ],
   "source": [
    "print(box.width, box.height)\n",
    "def grow_rectangle(rect, dwidth, dheight):\n",
    "    rect.width += dwidth\n",
    "    rect.height += dheight\n",
    "    \n",
    "grow_rectangle(box, 50, 100)\n",
    "print(box.width, box.height)"
   ]
  },
  {
   "cell_type": "markdown",
   "metadata": {},
   "source": [
    "## <span style=\"color:blue\">ALL TOGETHER</span> \n",
    "---\n"
   ]
  },
  {
   "cell_type": "code",
   "execution_count": 43,
   "metadata": {
    "collapsed": true,
    "jupyter": {
     "outputs_hidden": true
    }
   },
   "outputs": [],
   "source": [
    "balance = 0\n",
    "\n",
    "def deposit(amount):\n",
    "    global balance\n",
    "    balance += amount\n",
    "    return balance\n",
    "\n",
    "def withdraw(amount):\n",
    "    global balance\n",
    "    balance -= amount\n",
    "    return balance"
   ]
  },
  {
   "cell_type": "code",
   "execution_count": 44,
   "metadata": {
    "collapsed": true,
    "jupyter": {
     "outputs_hidden": true
    }
   },
   "outputs": [],
   "source": [
    "def make_account():\n",
    "    return {'balance': 0}\n",
    "\n",
    "def deposit(account, amount):\n",
    "    account['balance'] += amount\n",
    "    return account['balance']\n",
    "\n",
    "def withdraw(account, amount):\n",
    "    account['balance'] -= amount\n",
    "    return account['balance']"
   ]
  },
  {
   "cell_type": "code",
   "execution_count": 48,
   "metadata": {
    "collapsed": true,
    "jupyter": {
     "outputs_hidden": true
    }
   },
   "outputs": [],
   "source": [
    "'''CLASS'''\n",
    "class BankAccount:\n",
    "    def __init__(self):\n",
    "        self.balance = 0\n",
    "\n",
    "    def withdraw(self, amount):\n",
    "        self.balance -= amount\n",
    "        return self.balance\n",
    "\n",
    "    def deposit(self, amount):\n",
    "        self.balance += amount\n",
    "        return self.balance"
   ]
  },
  {
   "cell_type": "code",
   "execution_count": 47,
   "metadata": {
    "collapsed": true,
    "jupyter": {
     "outputs_hidden": true
    }
   },
   "outputs": [],
   "source": [
    "'''INHERITANCE'''\n",
    "class MinimumBalanceAccount(BankAccount):\n",
    "    def __init__(self, minimum_balance):\n",
    "        BankAccount.__init__(self)\n",
    "        self.minimum_balance = minimum_balance\n",
    "\n",
    "    def withdraw(self, amount):\n",
    "        if self.balance - amount < self.minimum_balance:\n",
    "            print('Sorry, minimum balance must be maintained.')\n",
    "        else:\n",
    "            BankAccount.withdraw(self, amount)"
   ]
  },
  {
   "cell_type": "code",
   "execution_count": 50,
   "metadata": {},
   "outputs": [],
   "source": [
    "class A:\n",
    "    def f(self):\n",
    "        return self.g()\n",
    "\n",
    "    def g(self):\n",
    "        return 'A'\n",
    "\n",
    "class B(A):\n",
    "    def g(self):\n",
    "        return 'B'\n",
    "\n",
    "# a = A()\n",
    "# b = B()\n",
    "# print(a.f(), b.f())\n",
    "# print(a.g(), b.g())"
   ]
  },
  {
   "cell_type": "code",
   "execution_count": 51,
   "metadata": {
    "collapsed": true,
    "jupyter": {
     "outputs_hidden": true
    }
   },
   "outputs": [],
   "source": [
    "class RationalNumber:\n",
    "    \"\"\"\n",
    "    Rational Numbers with support for arthmetic operations.\n",
    "\n",
    "        >>> a = RationalNumber(1, 2)\n",
    "        >>> b = RationalNumber(1, 3)\n",
    "        >>> a + b\n",
    "        5/6\n",
    "        >>> a - b\n",
    "        1/6\n",
    "        >>> a * b\n",
    "        1/6\n",
    "        >>> a/b\n",
    "        3/2\n",
    "    \"\"\"\n",
    "    def __init__(self, numerator, denominator=1):\n",
    "        self.n = numerator\n",
    "        self.d = denominator\n",
    "\n",
    "    def __add__(self, other):\n",
    "        if not isinstance(other, RationalNumber):\n",
    "            other = RationalNumber(other)\n",
    "\n",
    "        n = self.n * other.d + self.d * other.n\n",
    "        d = self.d * other.d\n",
    "        return RationalNumber(n, d)\n",
    "\n",
    "    def __sub__(self, other):\n",
    "        if not isinstance(other, RationalNumber):\n",
    "            other = RationalNumber(other)\n",
    "\n",
    "        n1, d1 = self.n, self.d\n",
    "        n2, d2 = other.n, other.d\n",
    "        return RationalNumber(n1*d2 - n2*d1, d1*d2)\n",
    "\n",
    "    def __mul__(self, other):\n",
    "        if not isinstance(other, RationalNumber):\n",
    "            other = RationalNumber(other)\n",
    "\n",
    "        n1, d1 = self.n, self.d\n",
    "        n2, d2 = other.n, other.d\n",
    "        return RationalNumber(n1*n2, d1*d2)\n",
    "\n",
    "    def __div__(self, other):\n",
    "        if not isinstance(other, RationalNumber):\n",
    "            other = RationalNumber(other)\n",
    "\n",
    "        n1, d1 = self.n, self.d\n",
    "        n2, d2 = other.n, other.d\n",
    "        return RationalNumber(n1*d2, d1*n2)\n",
    "\n",
    "    def __str__(self):\n",
    "        return \"%s/%s\" % (self.n, self.d)\n",
    "\n",
    "    __repr__ = __str__"
   ]
  },
  {
   "cell_type": "code",
   "execution_count": null,
   "metadata": {
    "collapsed": true,
    "jupyter": {
     "outputs_hidden": true
    }
   },
   "outputs": [],
   "source": []
  }
 ],
 "metadata": {
  "anaconda-cloud": {},
  "celltoolbar": "Slideshow",
  "kernelspec": {
   "display_name": "Python 3",
   "language": "python",
   "name": "python3"
  },
  "language_info": {
   "codemirror_mode": {
    "name": "ipython",
    "version": 3
   },
   "file_extension": ".py",
   "mimetype": "text/x-python",
   "name": "python",
   "nbconvert_exporter": "python",
   "pygments_lexer": "ipython3",
   "version": "3.7.3"
  }
 },
 "nbformat": 4,
 "nbformat_minor": 4
}
