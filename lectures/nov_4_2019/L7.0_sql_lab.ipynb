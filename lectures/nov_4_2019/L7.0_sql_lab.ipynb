{
 "cells": [
  {
   "cell_type": "markdown",
   "metadata": {},
   "source": [
    "<img src=\"https://images.efollett.com/htmlroot/images/templates/storeLogos/CA/864.gif\" style=\"float: right;\"> \n",
    "\n",
    "\n",
    "\n",
    "\n",
    "# ECON611\n",
    "### Lecture 7 -  SQL - Basics and intro to Intermediate - Lab\n",
    "\n",
    "- Use the [W3Schools built in dataset to answer all the questions](https://www.w3schools.com/sql/trysql.asp?filename=trysql_select_columns).\n",
    "- The dataset used in W3Schools comes from the [Northwind sample database](https://northwinddatabase.codeplex.com/)."
   ]
  },
  {
   "cell_type": "markdown",
   "metadata": {},
   "source": [
    "## Some general questions: \n",
    "---"
   ]
  },
  {
   "cell_type": "markdown",
   "metadata": {},
   "source": [
    "### Return all of the Customers that live in Mexico D.F and have the name Ana or Angel\n",
    "---"
   ]
  },
  {
   "cell_type": "code",
   "execution_count": null,
   "metadata": {},
   "outputs": [],
   "source": [
    "SELECT CustomerName\n",
    "FROM Customers\n",
    "WHERE (CustomerName LIKE 'ana%' OR CustomerName LIKE 'angle%') AND City = 'Mexico D.F.';\n"
   ]
  },
  {
   "cell_type": "markdown",
   "metadata": {},
   "source": [
    "### SELECT order details, alias at least one column, order by Quantity AND UnitPrice\n",
    "---"
   ]
  },
  {
   "cell_type": "code",
   "execution_count": null,
   "metadata": {},
   "outputs": [],
   "source": [
    "SELECT Quantity, OrderDetailID AS ID, ProductID\n",
    "FROM OrderDetails\n",
    "ORDER BY Quantity;"
   ]
  },
  {
   "cell_type": "markdown",
   "metadata": {},
   "source": [
    "### How many customers by country?\n",
    "---"
   ]
  },
  {
   "cell_type": "code",
   "execution_count": null,
   "metadata": {},
   "outputs": [],
   "source": [
    "SELECT Country, COUNT(Country) AS country_agg\n",
    "FROM Customers\n",
    "GROUP BY Country;"
   ]
  },
  {
   "cell_type": "markdown",
   "metadata": {},
   "source": [
    "### What is the most recent Order Date? \n",
    "---"
   ]
  },
  {
   "cell_type": "code",
   "execution_count": null,
   "metadata": {},
   "outputs": [],
   "source": [
    "SELECT * FROM Orders\n",
    "ORDER BY OrderDate DESC;"
   ]
  },
  {
   "cell_type": "markdown",
   "metadata": {},
   "source": [
    "## 1. Products\n",
    "---\n",
    "\n",
    "What products is this company selling? The `Products` and `Categories` tables contain information to answer this question."
   ]
  },
  {
   "cell_type": "markdown",
   "metadata": {},
   "source": [
    "### 1.1 What categories of products is the company selling?\n",
    "---"
   ]
  },
  {
   "cell_type": "code",
   "execution_count": null,
   "metadata": {},
   "outputs": [],
   "source": [
    "SELECT DISTINCT CategoryName\n",
    "FROM Categories;"
   ]
  },
  {
   "cell_type": "markdown",
   "metadata": {},
   "source": [
    "### 1.2 How many products per category does the catalog contain?\n",
    "---"
   ]
  },
  {
   "cell_type": "code",
   "execution_count": null,
   "metadata": {},
   "outputs": [],
   "source": [
    "SELECT CategoryID, COUNT(ProductID) AS prod_count\n",
    "FROM Products\n",
    "GROUP BY CategoryID;"
   ]
  },
  {
   "cell_type": "markdown",
   "metadata": {},
   "source": [
    "### 1.3 How many not discontinued products per category?\n",
    "---"
   ]
  },
  {
   "cell_type": "code",
   "execution_count": null,
   "metadata": {},
   "outputs": [],
   "source": [
    "-- I'm unsure what you by discontinued as there is no variable to match that nor is there a time variable which shows that\n",
    "SELECT CategoryID, COUNT(ProductID) AS prod_count\n",
    "FROM Products\n",
    "GROUP BY CategoryID;"
   ]
  },
  {
   "cell_type": "markdown",
   "metadata": {},
   "source": [
    "### 1.4 What are the most expensive 5 products (not discontinued)?\n",
    "---"
   ]
  },
  {
   "cell_type": "code",
   "execution_count": null,
   "metadata": {},
   "outputs": [],
   "source": [
    "SELECT * \n",
    "FROM Products\n",
    "ORDER BY Price DESC,\n",
    "LIMIT 5;"
   ]
  },
  {
   "cell_type": "markdown",
   "metadata": {},
   "source": [
    "### 1.5 How many units of each of these 5 products are there in stock?\n",
    "---"
   ]
  },
  {
   "cell_type": "code",
   "execution_count": null,
   "metadata": {
    "collapsed": true,
    "jupyter": {
     "outputs_hidden": true
    }
   },
   "outputs": [],
   "source": [
    "SELECT OrderDetails.Quantity, Products.ProductID, Products.Price\n",
    "FROM OrderDetails\n",
    "JOIN Products\n",
    "ON OrderDetails.ProductID = Products.ProductID\n",
    "GROUP BY OrderDetails.ProductID\n",
    "ORDER BY Products.Price DESC\n",
    "LIMIT 5;"
   ]
  },
  {
   "cell_type": "markdown",
   "metadata": {},
   "source": [
    "## 2. Orders\n",
    "---"
   ]
  },
  {
   "cell_type": "markdown",
   "metadata": {},
   "source": [
    "### 2.1 How many orders in total?"
   ]
  },
  {
   "cell_type": "code",
   "execution_count": null,
   "metadata": {},
   "outputs": [],
   "source": [
    "SELECT Count(DISTINCT OrderID) as total\n",
    "FROM OrderDetails;"
   ]
  },
  {
   "cell_type": "markdown",
   "metadata": {},
   "source": [
    "### 2.2 How many orders per year?"
   ]
  },
  {
   "cell_type": "code",
   "execution_count": null,
   "metadata": {},
   "outputs": [],
   "source": [
    "SELECT YEAR(OrderDate) AS order_year, COUNT(DISTINCT OrderID)\n",
    "FROM Orders\n",
    "GROUP BY order_year\n",
    "ORDER BY order_year;"
   ]
  },
  {
   "cell_type": "markdown",
   "metadata": {},
   "source": [
    "### 2.3 How many orders per quarter?"
   ]
  },
  {
   "cell_type": "code",
   "execution_count": null,
   "metadata": {},
   "outputs": [],
   "source": [
    "SELECT MONTH(OrderDate) AS order_month, \n",
    "\tCOUNT(DISTINCT OrderID),\n",
    "    CASE WHEN order_month BETWEEN 1 AND 3 THEN 'Q1'\n",
    "    WHEN order_month BETWEEN 4 AND 6 THEN 'Q2'\n",
    "    WHEN order_month BETWEEN 7 AND 9 THEN 'Q3'\n",
    "    WHEN order_month BETWEEN 10 AND 12 THEN 'Q4'\n",
    "    END AS order_quater\n",
    "FROM Orders\n",
    "GROUP BY order_quater\n",
    "ORDER BY order_quater;"
   ]
  },
  {
   "cell_type": "markdown",
   "metadata": {},
   "source": [
    "### 2.4 Which country is receiving the most orders?"
   ]
  },
  {
   "cell_type": "code",
   "execution_count": null,
   "metadata": {},
   "outputs": [],
   "source": [
    "SELECT MAX(COUNT(Orders.OrderID)) AS top_country, Customers.Country\n",
    "FROM Customers\n",
    "JOIN Orders\n",
    "ON Customers.CustomerID = Orders.CustomerID\n",
    "GROUP BY Customers.Country;"
   ]
  },
  {
   "cell_type": "markdown",
   "metadata": {},
   "source": [
    "### 2.5 Which country is receiving the least?"
   ]
  },
  {
   "cell_type": "code",
   "execution_count": null,
   "metadata": {},
   "outputs": [],
   "source": [
    "SELECT MIN(COUNT(Orders.OrderID)) AS top_country, Customers.Country\n",
    "FROM Customers\n",
    "JOIN Orders\n",
    "ON Customers.CustomerID = Orders.CustomerID\n",
    "GROUP BY Customers.Country;"
   ]
  },
  {
   "cell_type": "markdown",
   "metadata": {},
   "source": [
    "### 2.6 What's the average shipping time (ShippedDate - OrderDate)?"
   ]
  },
  {
   "cell_type": "code",
   "execution_count": null,
   "metadata": {},
   "outputs": [],
   "source": [
    "-- There is no ShippedDate so this can not be done"
   ]
  },
  {
   "cell_type": "markdown",
   "metadata": {},
   "source": [
    "### 2.7 What customer is submitting the highest number of orders?"
   ]
  },
  {
   "cell_type": "code",
   "execution_count": null,
   "metadata": {},
   "outputs": [],
   "source": [
    "SELECT CustomerID, MAX(COUNT OrderID) AS top_buyer\n",
    "FROM Orders\n",
    "GROUP BY CustomerID;"
   ]
  },
  {
   "cell_type": "markdown",
   "metadata": {},
   "source": [
    "### 2.8 What customer is generating the highest revenue (need to pd.merge with order_details)?"
   ]
  },
  {
   "cell_type": "code",
   "execution_count": null,
   "metadata": {},
   "outputs": [],
   "source": [
    "-- ????"
   ]
  },
  {
   "cell_type": "markdown",
   "metadata": {},
   "source": [
    "### 2.9 What fraction of the revenue is generated by the top 5 customers?\n",
    "\n",
    "Compare that with the fraction represented by 5 customers over the total number of customers."
   ]
  },
  {
   "cell_type": "code",
   "execution_count": null,
   "metadata": {},
   "outputs": [],
   "source": [
    "-- ???"
   ]
  },
  {
   "cell_type": "markdown",
   "metadata": {},
   "source": [
    "## Other tables\n",
    "---\n",
    "\n",
    "Explore the content of other tables. In particular lookt at the `suppliers`, `shippers` and `employees` tables."
   ]
  },
  {
   "cell_type": "code",
   "execution_count": null,
   "metadata": {
    "collapsed": true,
    "jupyter": {
     "outputs_hidden": true
    }
   },
   "outputs": [],
   "source": [
    "no..."
   ]
  }
 ],
 "metadata": {
  "kernelspec": {
   "display_name": "Python 3",
   "language": "python",
   "name": "python3"
  },
  "language_info": {
   "codemirror_mode": {
    "name": "ipython",
    "version": 3
   },
   "file_extension": ".py",
   "mimetype": "text/x-python",
   "name": "python",
   "nbconvert_exporter": "python",
   "pygments_lexer": "ipython3",
   "version": "3.7.3"
  },
  "widgets": {
   "state": {},
   "version": "1.1.0"
  }
 },
 "nbformat": 4,
 "nbformat_minor": 4
}
