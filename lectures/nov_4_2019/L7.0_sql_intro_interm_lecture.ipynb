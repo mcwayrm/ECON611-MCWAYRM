{
 "cells": [
  {
   "cell_type": "markdown",
   "metadata": {
    "slideshow": {
     "slide_type": "slide"
    }
   },
   "source": [
    "<img src=\"https://images.efollett.com/htmlroot/images/templates/storeLogos/CA/864.gif\" style=\"float: right;\"> \n",
    "\n",
    "\n",
    "\n",
    "\n",
    "# ECON611\n",
    "### Lecture 7 -  SQL - Basics and intro to Intermediate\n",
    "- Notes adapted from: \n",
    "\n",
    "    1. [SQL for Data Science: Presentation by Renée Teate](https://docs.google.com/presentation/d/1qOtT2M-rjYa9JzKNz6_CxvfbihmqcmG9Ax6LgIriz0Y/mobilepresent?slide=id.p)\n",
    "    2. [Mode Analytics: The SQL Tutorial for Data Analysis](https://mode.com/sql-tutorial/introduction-to-sql)\n",
    "    3. [W3Schools](https://www.w3schools.com/sql/trysql.asp?filename=trysql_select_columns)\n",
    "    4. [QuantSprout](http://quantsprout.com/)\n",
    "    5. [ODSC-West Conference 2019](https://odsc.com/california/) \n",
    "    6. [SQLite](https://www.sqlite.org/index.html)\n",
    "    \n",
    "    \n",
    "### Objectives\n",
    "  - Define basic characteristics of RDBMS\n",
    "  - Understand basic relational database terminology\n",
    "    - Indice types\n",
    "    - Columns / Fields\n",
    "    - Relationships (one-to-one, many-to-one)\n",
    "  - Basic SQL syntax\n",
    "    - `SELECT`\n",
    "    - `WHERE` conditionals\n",
    "    - `GROUP BY` aggregation + `HAVING` conditional filtering\n",
    "    - `ORDER BY` sorting\n",
    "    - `LIMIT` limiting results\n",
    "    - `JOIN` relational joining of tables"
   ]
  },
  {
   "cell_type": "markdown",
   "metadata": {
    "slideshow": {
     "slide_type": "slide"
    }
   },
   "source": [
    "## SQL - is not an EXCEL file\n",
    "---\n",
    "\n",
    "- While in school the data we generate is either store in excel or csv files.\n",
    "- We are used to opening a single file that has the complete view per each entry of collected data.\n",
    "- In production this is no longer sustainable as companies generate large data points that can't be store in excel files.\n",
    "- One need to be able to use and relate the multiple datasets to create a final data for analysis.\n",
    "- Python is not the right tool for this as it is more of an object oriented language that deals with more complex programming issues.\n",
    "- SQL (and the many flavors) is what we need to use to deal with this."
   ]
  },
  {
   "cell_type": "markdown",
   "metadata": {
    "slideshow": {
     "slide_type": "slide"
    }
   },
   "source": [
    "## Relational Database Systems (RDBMS)\n",
    "---\n",
    "- By definition => Structure Query Language(SQL) is a database query language that is used to store and manage data in a Relational form DBMS (Data Base Management and Store). \n",
    "- As mentioned before, these days almost all RDBMS use SQL as the standard database query language. \n",
    "- This means that SQL is used to perform all types of data operations in RDBMS.\n",
    "- Beyond this, a correclty created databases lets users develop rules that ensure proper data management and verification, which analyst turn into digestable insights."
   ]
  },
  {
   "cell_type": "markdown",
   "metadata": {
    "slideshow": {
     "slide_type": "slide"
    }
   },
   "source": [
    "## Relational Database Systems (RDBMS)\n",
    "---\n",
    "- One needs to remember that SQL is a programming language => there are SQL Developers.\n",
    "- One needs to remember that SQL provides a relation among multiple data points.\n",
    "- One needs to remember that SQL allows you to share LARGE data sets with multiple users.\n",
    "- One needs to remember that SQL helps with the scalability of projects.\n",
    "- One needs to remember that NOT knowing SQL can be an impediment to:\n",
    "> Be more effective analyst\n",
    "\n",
    "    > Get a job as an analyst"
   ]
  },
  {
   "cell_type": "markdown",
   "metadata": {
    "slideshow": {
     "slide_type": "slide"
    }
   },
   "source": [
    "## Why you (aspiring - Data Analyst/Scientists/Economist) should learn SQL\n",
    "---\n",
    "- Having better understand of the data you’re analyzing is more power to you! - understand the source and how it is compiled\n",
    "- You don't need to rely on (or wait on) busy data engineers for datasets (trust me on this one)!\n",
    "- You can efficiently feature engineer (create new variables) earlier in the pipeline.\n",
    "- Increase your hireability (meaning you can get actually get a job).\n",
    "\n"
   ]
  },
  {
   "cell_type": "markdown",
   "metadata": {
    "slideshow": {
     "slide_type": "slide"
    }
   },
   "source": [
    "### SQL - Types\n",
    "---\n",
    "These days there are soo many flavors of SQL but in essence the functionality is the same. Here are a few examples:\n",
    "\n",
    "1. PostgreSQL\n",
    "2. SQLite\n",
    "3. MySQL\n",
    "4. Amazon Redshift • Oracle\n",
    "6. Google Big Query\n",
    "5. Microsoft SQL Server"
   ]
  },
  {
   "cell_type": "markdown",
   "metadata": {
    "slideshow": {
     "slide_type": "slide"
    }
   },
   "source": [
    "### SQL - Behind the Scenes - Simple Idea\n",
    "---\n",
    "<p align=\"center\">\n",
    "  <img src=\"../../img/sql_basic_idea.png\" width=\"700\" height=\"1500\">\n",
    "</p>\n",
    "*Image from QuantSprout*"
   ]
  },
  {
   "cell_type": "markdown",
   "metadata": {
    "slideshow": {
     "slide_type": "slide"
    }
   },
   "source": [
    "### SQL - Behind the Scenes - More Complex - Uber\n",
    "---\n",
    "<p align=\"center\">\n",
    "  <img src=\"../../img/uber_sql.jpg\" width=\"700\" height=\"1500\">\n",
    "</p>\n",
    "*Image from ODSC-UBER Data Architecture*"
   ]
  },
  {
   "cell_type": "markdown",
   "metadata": {
    "slideshow": {
     "slide_type": "slide"
    }
   },
   "source": [
    "### Basic and Complex (RDBMS)\n",
    "---\n",
    "- What do they have in common:\n",
    "\n",
    "~~~\n",
    "1. Data is organized in tables.\n",
    "2. Where tables have rows AKA Records and columns AKA Fields.\n",
    "3. Fields have data types (see below).\n",
    "4. There are PRIMARY KEYS (unique identifier).\n",
    "5. There are FOREIGN KEYS (indetifier to link a table with another table(s)).\n",
    "~~~\n",
    "\n",
    "- Data Types:\n",
    "\n",
    "~~~\n",
    "1. Text (char(n); varchar(n);, varchar(n)).\n",
    "2. Numbers (int, float).\n",
    "3. Boolean (T/F).\n",
    "4. Temporal (dates, times).\n",
    "~~~"
   ]
  },
  {
   "cell_type": "markdown",
   "metadata": {
    "slideshow": {
     "slide_type": "slide"
    }
   },
   "source": [
    "### A Basic and Complex (RDBMS) system solves:\n",
    "---\n",
    "- Data consistency\n",
    "- Data availability\n",
    "- Fault tolerance\n",
    "- Data Scalability\n",
    "\n",
    "> Databases are all about \"data\" in terms of features, speed, scale, and reliability."
   ]
  },
  {
   "cell_type": "markdown",
   "metadata": {
    "slideshow": {
     "slide_type": "slide"
    }
   },
   "source": [
    "### A Basic and Complex (RDBMS) system needs to adhere in general terms to ACID\n",
    "--- \n",
    "\n",
    "> Cue student-run bank database example.\n",
    "\n",
    "The acronym ACID stands for Atomicity, Consistency, Isolation, Durability. This is a set of properties that guarantee that database transactions are processed reliably.\n",
    "\n",
    "**Atomicity** requires that each transaction be \"all or nothing\": if one part of the transaction fails, the entire transaction fails, and the database state is left unchanged.\n",
    "\n",
    "**Consistency** ensures that any transaction will bring the database from one valid state to another. Any data written to the database must be valid according to all defined rules, including constraints, cascades, triggers, and any combination thereof.\n",
    "\n",
    "**Isolation** ensures that the concurrent execution of transactions results in a system state that would be obtained if transactions were executed serially, i.e., one after the other.\n",
    "\n",
    "**Durability** ensures that once a transaction has been committed, it will remain so, even in the event of power loss, crashes, or errors. In a relational database, for instance, once a group of SQL statements execute, the results need to be stored permanently (even if the database crashes immediately thereafter)\n",
    "\n",
    "This is the typical model under which _relational databases_ operate, and it fits perfectly our previous example of the bank.\n"
   ]
  },
  {
   "cell_type": "markdown",
   "metadata": {
    "slideshow": {
     "slide_type": "slide"
    }
   },
   "source": [
    "### Database Terminology\n",
    "---\n",
    "\n",
    "1. **Fields** or **Columns**: this is your traditional column name.\n",
    "2. **Rows** or **Records**: as unique entry that belongs to an specific id.\n",
    "3. **Schema**: collection of database objects which includes logical structures (often times the terms schema diagram and entity-relationship diagram are interchangeable).\n",
    "        Including:\n",
    "            - Databases\n",
    "            - Tables\n",
    "            - Relationships Between Tables\n",
    "            - Keys and Indexes\n",
    "4. **Primary Key (pk)**: Column with the value that uniquely identifies each row in your table.\n",
    "5. **Foreign Keys (fk)**: Column with the value that uniquely identifies each row in a different table, and connects it to this one.\n"
   ]
  },
  {
   "cell_type": "markdown",
   "metadata": {
    "slideshow": {
     "slide_type": "slide"
    }
   },
   "source": [
    "### Database Visually- Fields/Columns\n",
    "---\n",
    "<p align=\"center\">\n",
    "  <img src=\"../../img/sql_cols.png\" width=\"1000\" height=\"1500\">\n",
    "</p>\n",
    "*Image from W3Schools*"
   ]
  },
  {
   "cell_type": "markdown",
   "metadata": {
    "slideshow": {
     "slide_type": "slide"
    }
   },
   "source": [
    "### Database Visually- Rows/Records\n",
    "---\n",
    "<p align=\"center\">\n",
    "  <img src=\"../../img/sql_rows.png\" width=\"1000\" height=\"1500\">\n",
    "</p>\n",
    "*Image from W3Schools*"
   ]
  },
  {
   "cell_type": "markdown",
   "metadata": {
    "slideshow": {
     "slide_type": "slide"
    }
   },
   "source": [
    "### Database Visually- Entity Relation/Schema\n",
    "---\n",
    "W3Schools Entity Relation Diagram (Sample Database)\n",
    "\n",
    "<p align=\"center\">\n",
    "  <img src=\"../../img/sql_schema.png\" width=\"1000\" height=\"1500\">\n",
    "</p>\n",
    "\n",
    "\n",
    "[Image from W3Schools](https://www.chegg.com/homework-help/questions-and-answers/link-w3schools-relationship-diagram-needed-questions-1-implementing-relational-database-co-q38045137)\n",
    "\n"
   ]
  },
  {
   "cell_type": "markdown",
   "metadata": {
    "slideshow": {
     "slide_type": "slide"
    }
   },
   "source": [
    "### Database Visually- Primary Key(pk)\n",
    "---\n",
    "- In the Customers table the PK is Customer ID\n",
    "<p align=\"center\">\n",
    "  <img src=\"../../img/sql_pk.png\" width=\"300\" height=\"600\">\n",
    "</p>\n",
    "\n",
    "\n",
    "[Image from W3Schools](https://www.chegg.com/homework-help/questions-and-answers/link-w3schools-relationship-diagram-needed-questions-1-implementing-relational-database-co-q38045137)"
   ]
  },
  {
   "cell_type": "markdown",
   "metadata": {
    "slideshow": {
     "slide_type": "slide"
    }
   },
   "source": [
    "### Database Visually- Foreign Key (fk)\n",
    "---\n",
    "- Customer ID is a Foreign Key in the Orders table\n",
    "<p align=\"center\">\n",
    "  <img src=\"../../img/sql_fk.png\" width=\"500\" height=\"900\">\n",
    "</p>\n",
    "\n",
    "\n",
    "[Image from W3Schools](https://www.chegg.com/homework-help/questions-and-answers/link-w3schools-relationship-diagram-needed-questions-1-implementing-relational-database-co-q38045137)"
   ]
  },
  {
   "cell_type": "markdown",
   "metadata": {
    "slideshow": {
     "slide_type": "slide"
    }
   },
   "source": [
    "### Database Relationships\n",
    "---\n",
    "- In real life, customers place more than one order which generates a **ONE TO MANY** relationship. In this case each order can only have one Customer\n",
    "<p align=\"center\">\n",
    "  <img src=\"../../img/sql_one_many.png\" width=\"500\" height=\"900\">\n",
    "</p>\n",
    "\n",
    "\n",
    "[Image from W3Schools](https://www.chegg.com/homework-help/questions-and-answers/link-w3schools-relationship-diagram-needed-questions-1-implementing-relational-database-co-q38045137)"
   ]
  },
  {
   "cell_type": "markdown",
   "metadata": {
    "slideshow": {
     "slide_type": "slide"
    }
   },
   "source": [
    "### Database Relationships\n",
    "---\n",
    "- In real life, each Order can include many Products from the catalog and eac Product in the catalog can be included in many Orders. In this case, the Order Details becomes a “junction” table that links each Product with each Order, and records the quantity, therefore we have a **MANY TO MANY** relationship.\n",
    "\n",
    "<p align=\"center\">\n",
    "  <img src=\"../../img/sql_many_many.png\" width=\"600\" height=\"1000\">\n",
    "</p>\n",
    "\n",
    "\n",
    "[Image from W3Schools](https://www.chegg.com/homework-help/questions-and-answers/link-w3schools-relationship-diagram-needed-questions-1-implementing-relational-database-co-q38045137)"
   ]
  },
  {
   "cell_type": "markdown",
   "metadata": {
    "slideshow": {
     "slide_type": "slide"
    }
   },
   "source": [
    "### SQL - Syntax\n",
    "---\n",
    "\n",
    "#### SELECT\n",
    "Every query should start with `SELECT`.  `SELECT` is followed by the names of the columns in the output.\n",
    "\n",
    "`SELECT` is always paired with `FROM`, and `FROM` identifies the table to retrieve data from.\n",
    "\n",
    "```sql\n",
    "SELECT\n",
    "<columns>\n",
    "FROM\n",
    "<table>;\n",
    "```\n",
    "\n",
    "One can add as many columns as needed from a table \n",
    "\n",
    "```sql\n",
    "SELECT\n",
    "<column>, <another_column>, <…>\n",
    "FROM\n",
    "<table>;\n",
    "```\n",
    "\n",
    "Or we can `SELECT` all the columns from a table using `*`:\n",
    "```sql\n",
    "SELECT\n",
    "*\n",
    "FROM\n",
    "<table>;\n",
    "```\n"
   ]
  },
  {
   "cell_type": "markdown",
   "metadata": {
    "slideshow": {
     "slide_type": "slide"
    }
   },
   "source": [
    "\n",
    "### SQL - Syntax\n",
    "---\n",
    "\n",
    "#### ADDING CONSTRAINS - General Operands:\n",
    "- The idea in here is to filter the data from a table.\n",
    "- **NOTE: these operands work on most SQL flavors, but some dont.**\n",
    "\n",
    "```\n",
    "SELECT column, another_column, …\n",
    "FROM mytable\n",
    "WHERE condition\n",
    "    AND/OR another_condition\n",
    "    AND/OR …;\n",
    "```\n",
    "- As you can see, one can build a sql clauses using the ```AND``` and ```OR``` operands after the ```WHERE``` operand. Take a look at this operands that can use when dealing with numeric columns:\n",
    "\n",
    "| Operator            | Condition                                            | SQL Example                   |\n",
    "|:---------------------|:------------------------------------------------------|:-------------------------------|\n",
    "| =, !=, < <=, >, >=  | Standard numerical operators                         | col_name != 4                 |\n",
    "| BETWEEN … AND …     | Number is within range of two values (inclusive)     | col_name BETWEEN 1.5 AND 10.5 |\n",
    "| NOT BETWEEN … AND … | Number is not within range of two values (inclusive) | col_name NOT BETWEEN 1 AND 10 |\n",
    "| IN (…)              | Number exists in a list                              | col_name IN (2, 4, 6)         |\n",
    "| NOT IN (…)          | Number does not exist in a list                      | col_name NOT IN (1, 3, 5)     |"
   ]
  },
  {
   "cell_type": "markdown",
   "metadata": {
    "slideshow": {
     "slide_type": "slide"
    }
   },
   "source": [
    "\n",
    "### SQL - Syntax\n",
    "---\n",
    "\n",
    "#### ADDING CONDITIONAL CONSTRAINTS - General Operands:\n",
    "- What is you are dealing with non-integer columns.... well the filtering idea is the same: \n",
    "- **NOTE: All strings must be quoted so that the query parser can distinguish words in the string from SQL keywords.**\n",
    "- **NOTE: these operands work on most SQL flavors, but some dont.**\n",
    "\n",
    "```\n",
    "SELECT column, another_column, …\n",
    "FROM mytable\n",
    "WHERE condition\n",
    "    AND/OR another_condition\n",
    "    AND/OR …;\n",
    "```\n",
    "- As you can see, one can build a sql clauses using the ```AND``` and ```OR``` operands after the ```WHERE``` operand. Take a look at this operands that can use when dealing with non-numeric columns:\n",
    "\n",
    "| Operator   | Condition                                                                                             | SQL Example                                                       |\n",
    "|:------------|-------------------------------------------------------------------------------------------------------|-------------------------------------------------------------------|\n",
    "| =          | Case sensitive exact string comparison (notice the single equals)                                     | col_name = \"abc\"                                                  |\n",
    "| != or <>   | Case sensitive exact string inequality comparison                                                     | col_name != \"abcd\"                                                |\n",
    "| LIKE       | Case insensitive exact string comparison                                                              | col_name LIKE \"ABC\"                                               |\n",
    "| NOT LIKE   | Case insensitive exact string inequality comparison                                                   | col_name NOT LIKE \"ABCD\"                                          |\n",
    "| %          | Used anywhere in a string to match a sequence of zero or more characters (only with LIKE or NOT LIKE) | col_name LIKE \"%AT%\"(matches \"AT\", \"ATTIC\", \"CAT\" or even \"BATS\") |\n",
    "| _          | Used anywhere in a string to match a single character (only with LIKE or NOT LIKE)                    | col_name LIKE \"AN_\"(matches \"AND\", but not \"AN\")                  |\n",
    "| IN (…)     | String exists in a list                                                                               | col_name IN (\"A\", \"B\", \"C\")                                       |\n",
    "| NOT IN (…) | String does not exist in a list                                                                       | col_name NOT IN (\"D\", \"E\", \"F\")                                   |"
   ]
  },
  {
   "cell_type": "markdown",
   "metadata": {
    "slideshow": {
     "slide_type": "slide"
    }
   },
   "source": [
    "\n",
    "### SQL - Syntax\n",
    "---\n",
    "\n",
    "#### ORDERING AND LIMITING OUTPUT RESULTS:\n",
    "- Most of the time you want to see your results order by a column and may be you need to see/spot check the first ```n``` columns. You can do that using ```ORDER BY column ASC/DESC``` and using ```LIMIT num_limit OFFSET num_offset```\n",
    "- Where ```LIMIT``` will reduce the number of rows to return, and the optional ```OFFSET``` will specify where to begin counting the number rows from.\n",
    "\n",
    "```sql\n",
    "SELECT column, another_column, …\n",
    "FROM mytable\n",
    "WHERE condition(s)\n",
    "ORDER BY column ASC/DESC\n",
    "LIMIT num_limit OFFSET num_offset;\n",
    "```"
   ]
  },
  {
   "cell_type": "markdown",
   "metadata": {
    "slideshow": {
     "slide_type": "slide"
    }
   },
   "source": [
    "### SQL - Syntax\n",
    "---\n",
    "\n",
    "#### AGGREGATE EXPRESSIONS\n",
    "- One of the many advantages ```SQL``` has is the ability to summarize information about a group of rows of data.\n",
    "- The overall syntax looks more or less like this:\n",
    "```sql\n",
    "SELECT AGG_FUNC(column_or_expression) AS aggregate_description, …\n",
    "FROM mytable\n",
    "WHERE constraint_expression;\n",
    "```\n",
    "- Keep in mind that without a specified grouping, each aggregate function is going to run on the whole set of result rows and return a single value. And like normal expressions, giving your aggregate functions an alias ensures that the results will be easier to read and process.\n",
    "    - **NOTE on `alias`: one can `alias` a column name and table. They are extremely helpful for when you are dealing with joins and multiple columns.**\n",
    "\n",
    "| Function                | Description                                                                                                                                                                                     |\n",
    "|:-------------------------|:-------------------------------------------------------------------------------------------------------------------------------------------------------------------------------------------------|\n",
    "| COUNT(*), COUNT(column) | A common function used to counts the number of rows in the group if no column name is specified. Otherwise, count the number of rows in the group with non-NULL values in the specified column. |\n",
    "| MIN(column)             | Finds the smallest numerical value in the specified column for all rows in the group.                                                                                                           |\n",
    "| MAX(column)             | Finds the largest numerical value in the specified column for all rows in the group.                                                                                                            |\n",
    "| AVG(column)             | Finds the average numerical value in the specified column for all rows in the group.                                                                                                            |\n",
    "| SUM(column)             | Finds the sum of all numerical values in the specified column for the rows in the group. |"
   ]
  },
  {
   "cell_type": "markdown",
   "metadata": {
    "slideshow": {
     "slide_type": "slide"
    }
   },
   "source": [
    "### SQL - Syntax\n",
    "---\n",
    "\n",
    "#### GROUPED AGGREGATE EXPRESSIONS\n",
    "- In addition to aggregating across all the rows, one can instead apply the aggregate functions to ```individual groups``` of data within that group. This would then create as many results as there are ```unique groups``` defined as by the ```GROUP BY``` clause.\n",
    "\n",
    "```sql\n",
    "SELECT AGG_FUNC(column_or_expression) AS aggregate_description, …\n",
    "FROM mytable\n",
    "WHERE constraint_expression\n",
    "GROUP BY column;\n",
    "```\n",
    "- Even after a grouped aggregate function, there are still more ways that one can use to filter the output data. One can do this by using the ```HAVING``` clause **after** the ```GROUP BY``` clause.\n",
    "\n",
    "```sql\n",
    "SELECT group_by_column, AGG_FUNC(column_expression) AS aggregate_result_alias, …\n",
    "FROM mytable\n",
    "WHERE condition\n",
    "GROUP BY column\n",
    "HAVING group_condition;\n",
    "```\n",
    "\n",
    "- Keep in mind of the following\n",
    "    - The ```GROUP BY``` clause is executed after the ```WHERE``` clause.\n",
    "    - The ```HAVING``` clause constraints are written the same way as the ```WHERE``` clause constraints, and are applied to the grouped rows. \n",
    "    - If you aren't using the ```GROUP BY``` clause, a simple ```WHERE``` clause is enough."
   ]
  },
  {
   "cell_type": "markdown",
   "metadata": {
    "slideshow": {
     "slide_type": "slide"
    }
   },
   "source": [
    "### SQL - Syntax - Warmups (together)\n",
    "---\n",
    "#### Let's run the following queries using W3Schools built in dataset and discuss the output:\n",
    "https://www.w3schools.com/sql/trysql.asp?filename=trysql_select_columns\n",
    "\n",
    "```\n",
    "1. Select all columns (and rows) from the Customers table:\n",
    "SELECT * FROM Customers;\n",
    "\n",
    "2. Select the CustomerName column from the Customers table:\n",
    "SELECT CustomerName FROM Customers;\n",
    "\n",
    "3. SELECT CustomerID, CustomerName, ContactName\n",
    "   FROM Customers\n",
    "   ORDER BY CustomerName;\n",
    "\n",
    "4. Select the Customer ID, Customer Name, and Contact Name columns from the Customers table, and filter to rows where the CustomerName is ‘Lonesome Pine Restaurant.\n",
    "    SELECT CustomerID, CustomerName, ContactName\n",
    "    FROM Customers\n",
    "    WHERE CustomerName = “Lonesome Pine Restaurant”;\n",
    "\n",
    "5. SELECT CustomerID, CustomerName, ContactName\n",
    "    FROM Customers\n",
    "    WHERE CustomerID > 80;\n",
    "    \n",
    "6. SELECT *\n",
    "   FROM Customers\n",
    "   WHERE Country IN (“Canada”, “USA”, “Mexico”)\n",
    "   ORDER BY Country, City, CustomerName;\n",
    "\n",
    "7. SELECT *\n",
    "   FROM Orders;\n",
    "   \n",
    "8.  SELECT CustomerID\n",
    "    FROM Orders\n",
    "    ORDER BY CustomerID;\n",
    "    \n",
    "9. Select the CustomerID, Count of Rows (Orders) per CustomerID from the Orders table, and sort by CustomerID.\n",
    "    SELECT CustomerID, Count(*) as OrderCount\n",
    "    FROM Orders\n",
    "    GROUP BY CustomerID\n",
    "    ORDER BY CustomerID;\n",
    "    \n",
    "10. What is wrong with this query:\n",
    "    SELECT CustomerID, Count(*) as OrderCount\n",
    "    FROM Orders\n",
    "    WHERE OrderCount > 1\n",
    "    GROUP BY CustomerID\n",
    "    ORDER BY CustomerID;\n",
    "    \n",
    "ANS: There is no OrderCount field in the original table to filter on in the WHERE clause! We are counting the         rows AFTER they’re grouped, so to filter on this Count column, we have to filter AFTER the GROUP BY. \n",
    "\n",
    "11. SELECT CustomerID, Count(*) as OrderCount\n",
    "    FROM Orders\n",
    "    GROUP BY CustomerID\n",
    "    HAVING OrderCount > 1\n",
    "    ORDER BY CustomerID;\n",
    "\n",
    "```"
   ]
  },
  {
   "cell_type": "markdown",
   "metadata": {
    "slideshow": {
     "slide_type": "slide"
    }
   },
   "source": [
    "### SQL - Syntax - Warmups (Independent) \n",
    "---\n",
    "#### Let's run the following queries using W3Schools built in dataset and discuss the output:\n",
    "https://www.w3schools.com/sql/trysql.asp?filename=trysql_select_columns\n",
    "\n",
    "Now that you've learned a lot more commands, try combining them:\n",
    "~~~\n",
    "1. Retrieve the top 3 orders by number of items ordered\n",
    "2. Retrieve the oldest 5 orders\n",
    "3. Retrieve the 5 most recent orders. Nest that query into another one that ranks these 5 orders by shipping country (alphabetical order) => REMEMBER YOUR MODE READINGS\n",
    "4. Try 3 OTHER queries on your own\n",
    "~~~"
   ]
  },
  {
   "cell_type": "markdown",
   "metadata": {
    "slideshow": {
     "slide_type": "subslide"
    }
   },
   "source": [
    "> Answers:\n",
    "```sql\n",
    "SELECT \"OrderID\", SUM(\"Quantity\") AS \"Sum\"\n",
    "FROM OrderDetails\n",
    "GROUP BY \"OrderID\"\n",
    "ORDER BY \"Sum\" DESC\n",
    "LIMIT 3;\n",
    "```\n",
    "```sql\n",
    "SELECT \"OrderID\", \"OrderDate\"\n",
    "FROM Orders\n",
    "ORDER BY \"OrderDate\"\n",
    "LIMIT 5;\n",
    "```\n",
    "```sql\n",
    "SELECT * FROM (\n",
    "\tSELECT \"OrderID\", \"OrderDate\", \"ShipCountry\"\n",
    "\tFROM Orders\n",
    "\tORDER BY \"OrderDate\" DESC\n",
    "\tLIMIT 5\n",
    "\t) AS fivemostrecent\n",
    "ORDER BY \"ShipCountry\";\n",
    "```"
   ]
  },
  {
   "cell_type": "markdown",
   "metadata": {
    "slideshow": {
     "slide_type": "slide"
    }
   },
   "source": [
    "### SQL - Syntax\n",
    "---\n",
    "\n",
    "#### NORMALIZATION AND JOINS:\n",
    "> Cue example of non-normalized table structure.\n",
    "\n",
    "- ```Database normalization``` is useful because it minimizes duplicate data in any single table, and allows for data in the database to grow independently of each other (ie. Types of car engines can grow independent of each type of car). As a trade-off, queries get slightly more complex since they have to be able to find data from different parts of the database, and performance issues can arise when working with many large tables.\n",
    "- In order to answer questions about an entity that has data spanning multiple tables in a normalized database, we need to learn how to write a query that can combine all that data and pull out exactly the information we need.\n",
    "\n",
    "\n",
    "- Here is where ```JOINS``` come handy:\n",
    "\n",
    "```\n",
    "1. At its core, JOIN is a technique for merging data together from multiple tables\n",
    "2. Tables must have a shared Foreign Key to be joined together\n",
    "3. We can create Multiple JOINS to merge data from more than one table\n",
    "4. Data from JOINS only exist in memory during the transaction of the query\n",
    "```"
   ]
  },
  {
   "cell_type": "markdown",
   "metadata": {
    "slideshow": {
     "slide_type": "slide"
    }
   },
   "source": [
    "### SQL - Syntax\n",
    "---\n",
    "\n",
    "#### JOINS:\n",
    "\n",
    "-```JOINS``` how they work?:\n",
    "\n",
    "```\n",
    "1. Data is merged between two tables at a time.\n",
    "2. Cartesian product is created between two tables (in other words every possible combination of records).\n",
    "3. Results are then filtered based on a condition where Foreign Keys equal each other.\n",
    "4. All fields (unless you only specify columns from each table) from both tables are included in JOINS.\n",
    "5. When we have multiple joins: JOINS are executed one by one in the order they are written.\n",
    "6. When we have multiple joins: the output of first join is used in subsequent join.\n",
    "7. When we have multiple joins: each join we create, adds computing work to the server.\n",
    "8. When we have multiple joins: Foreign keys must be shared between the table being joined and the previous tables that were joined\n",
    "```\n",
    "\n",
    "-```JOINS``` basic syntax:\n",
    "\n",
    "```sql\n",
    "SELECT column, another_table_column, …\n",
    "FROM mytable\n",
    "JOIN another_table \n",
    "    ON mytable.id = another_table.id\n",
    "WHERE condition(s)\n",
    "ORDER BY column, … ASC/DESC\n",
    "LIMIT num_limit OFFSET num_offset;\n",
    "```"
   ]
  },
  {
   "cell_type": "markdown",
   "metadata": {
    "slideshow": {
     "slide_type": "slide"
    }
   },
   "source": [
    "### SQL - Syntax\n",
    "---\n",
    "\n",
    "#### TYPE OF JOINS:\n",
    "\n",
    "-```INNER JOINS```: Default JOIN.\n",
    "<p align=\"center\">\n",
    "  <img src=\"../../img/sql_inner_join_1.png\" width=\"500\" height=\"1000\">\n",
    "</p>\n",
    "*Image from QuantSprout*"
   ]
  },
  {
   "cell_type": "markdown",
   "metadata": {
    "slideshow": {
     "slide_type": "slide"
    }
   },
   "source": [
    "### SQL - Syntax\n",
    "---\n",
    "\n",
    "#### TYPE OF JOINS:\n",
    "\n",
    "-```INNER JOINS```: Default JOIN.\n",
    "<p align=\"center\">\n",
    "  <img src=\"../../img/sql_inner_join_2.png\" width=\"500\" height=\"1000\">\n",
    "</p>\n",
    "*Image from QuantSprout*"
   ]
  },
  {
   "cell_type": "markdown",
   "metadata": {
    "slideshow": {
     "slide_type": "slide"
    }
   },
   "source": [
    "### SQL - Syntax\n",
    "---\n",
    "\n",
    "#### TYPE OF JOINS:\n",
    "\n",
    "-```LEFT JOIN```.\n",
    "<p align=\"center\">\n",
    "  <img src=\"../../img/sql_left_join_1.png\" width=\"500\" height=\"1000\">\n",
    "</p>\n",
    "*Image from QuantSprout*"
   ]
  },
  {
   "cell_type": "markdown",
   "metadata": {
    "slideshow": {
     "slide_type": "slide"
    }
   },
   "source": [
    "### SQL - Syntax\n",
    "---\n",
    "\n",
    "#### TYPE OF JOINS:\n",
    "\n",
    "-```LEFT JOIN```.\n",
    "<p align=\"center\">\n",
    "  <img src=\"../../img/sql_left_join_2.png\" width=\"500\" height=\"1000\">\n",
    "</p>\n",
    "*Image from QuantSprout*"
   ]
  },
  {
   "cell_type": "markdown",
   "metadata": {
    "slideshow": {
     "slide_type": "slide"
    }
   },
   "source": [
    "### SQL - Syntax\n",
    "---\n",
    "\n",
    "#### TYPE OF JOINS:\n",
    "\n",
    "-```RIGHT JOIN```.\n",
    "<p align=\"center\">\n",
    "  <img src=\"../../img/sql_right_join_1.png\" width=\"500\" height=\"1000\">\n",
    "</p>\n",
    "*Image from QuantSprout*"
   ]
  },
  {
   "cell_type": "markdown",
   "metadata": {
    "slideshow": {
     "slide_type": "slide"
    }
   },
   "source": [
    "### SQL - Syntax\n",
    "---\n",
    "\n",
    "#### TYPE OF JOINS:\n",
    "\n",
    "-```RIGHT JOIN```.\n",
    "<p align=\"center\">\n",
    "  <img src=\"../../img/sql_right_join_2.png\" width=\"500\" height=\"1000\">\n",
    "</p>\n",
    "*Image from QuantSprout*"
   ]
  },
  {
   "cell_type": "markdown",
   "metadata": {
    "slideshow": {
     "slide_type": "slide"
    }
   },
   "source": [
    "### SQL - Syntax\n",
    "---\n",
    "\n",
    "#### TYPE OF JOINS:\n",
    "\n",
    "-```OUTTER JOIN```.\n",
    "<p align=\"center\">\n",
    "  <img src=\"../../img/sql_outter_join_1.png\" width=\"500\" height=\"1000\">\n",
    "</p>\n",
    "*Image from QuantSprout*"
   ]
  },
  {
   "cell_type": "markdown",
   "metadata": {
    "slideshow": {
     "slide_type": "slide"
    }
   },
   "source": [
    "### SQL - Syntax\n",
    "---\n",
    "\n",
    "#### TYPE OF JOINS:\n",
    "\n",
    "-```OUTTER JOIN```.\n",
    "<p align=\"center\">\n",
    "  <img src=\"../../img/sql_outter_join_2.png\" width=\"500\" height=\"1000\">\n",
    "</p>\n",
    "*Image from QuantSprout*"
   ]
  },
  {
   "cell_type": "markdown",
   "metadata": {
    "slideshow": {
     "slide_type": "slide"
    }
   },
   "source": [
    "### SQL - Syntax\n",
    "---\n",
    "\n",
    "#### TYPE OF JOINS - SYNTAX:\n",
    "```sql\n",
    "SELECT column, another_column, …\n",
    "FROM mytable\n",
    "INNER/LEFT/RIGHT/FULL JOIN another_table \n",
    "    ON mytable.id = another_table.matching_id\n",
    "WHERE condition(s)\n",
    "ORDER BY column, … ASC/DESC\n",
    "LIMIT num_limit OFFSET num_offset;\n",
    "```"
   ]
  },
  {
   "cell_type": "markdown",
   "metadata": {
    "slideshow": {
     "slide_type": "slide"
    }
   },
   "source": [
    "### SQL - Syntax - Warmups (together)\n",
    "---\n",
    "#### Let's run the following queries using W3Schools built in dataset and discuss the output:\n",
    "https://www.w3schools.com/sql/trysql.asp?filename=trysql_select_columns\n",
    "\n",
    "~~~\n",
    "1. Select the CustomerID and CustomerName from the Customers table, \n",
    "and the CustomerID, OrderID, and OrderDate from the Orders table, \n",
    "where the CustomerID in the Customers table and the CustomerID in the Orders table match\n",
    "\n",
    "SELECT \n",
    "Customers.CustomerID, \n",
    "Customers.CustomerName,\n",
    "Orders.CustomerID, \n",
    "Orders.OrderID, \n",
    "Orders.OrderDate\n",
    "FROM Customers\n",
    "\tLEFT JOIN Orders\n",
    "\t\tON Customers.CustomerID = Orders.CustomerID\n",
    "~~~\n",
    "\n",
    "\n",
    "~~~\n",
    "2. Goup on the CustomerID in the Customers table so we can aggregate (summarize) columns from the Orders table:\n",
    "\n",
    "SELECT Customers.CustomerID, Customers.CustomerName,\n",
    "COUNT(Orders.OrderID) OrderCount, \n",
    "\tMIN(Orders.OrderDate) as FirstOrderDate\n",
    "FROM Customers\n",
    "\tLEFT JOIN Orders\n",
    "\t\tON Customers.CustomerID = Orders.CustomerID\n",
    "GROUP BY Customers.CustomerID, Customers.CustomerName\n",
    "\n",
    "\n",
    "~~~\n",
    "\n",
    "~~~\n",
    "3. What is the difference between the output of this query from the one above?\n",
    "\n",
    "SELECT Customers.CustomerID, Customers.CustomerName,\n",
    "COUNT(Orders.OrderID) OrderCount, \n",
    "\tMIN(Orders.OrderDate) as FirstOrderDate\n",
    "FROM Customers\n",
    "\tINNER JOIN Orders\n",
    "\t\tON Customers.CustomerID = Orders.CustomerID\n",
    "GROUP BY Customers.CustomerID, Customers.CustomerName\n",
    "~~~\n",
    "\n",
    "\n",
    "~~~\n",
    "4. Getting order quantity and total order \n",
    "\n",
    "\n",
    "SELECT orders.customerid, orders.orderid,\n",
    "COUNT(DISTINCT products.productid) as distinctproducts, \n",
    "SUM(orderdetails.quantity) as orderqty, \n",
    "SUM(products.price) as ordertotal\n",
    "FROM orders\n",
    "LEFT JOIN orderdetails ON orders.orderid = orderdetails.orderid\n",
    "LEFT JOIN products ON orderdetails.productid = products.productid\n",
    "GROUP BY orders.customerid, orders.orderid\n",
    "~~~"
   ]
  },
  {
   "cell_type": "markdown",
   "metadata": {
    "slideshow": {
     "slide_type": "slide"
    }
   },
   "source": [
    "### SQL - Syntax\n",
    "---\n",
    "\n",
    "#### SUBQUERIES:\n",
    "- Think as a nested query where given the output of the internal query you use this output for your outter query. \n",
    "\n",
    "~~~\n",
    "SELECT *\n",
    "FROM Customers\n",
    "WHERE CustomerID IN \n",
    "\t(\n",
    "       SELECT CustomerID\n",
    "\t  FROM Orders\n",
    "       GROUP BY CustomerID\n",
    "       HAVING Count(*) > 1\n",
    "      )\n",
    "ORDER BY Country, City, CustomerName\n",
    "~~~"
   ]
  },
  {
   "cell_type": "markdown",
   "metadata": {
    "slideshow": {
     "slide_type": "slide"
    }
   },
   "source": [
    "### SQL - Syntax\n",
    "---\n",
    "\n",
    "#### Conditionals - CASE WHEN:\n",
    "- Think of this as your if statement in Python. \n",
    "~~~\n",
    "CASE WHEN Product.Category=1 THEN 1 ELSE 0 END\n",
    "~~~\n",
    "- Once you have the output of the ```CASE``` statement you can then pass other sql functions\n",
    "\n",
    "~~~\n",
    "MAX(CASE WHEN Product.Category=1 THEN 1 ELSE 0 END)\n",
    "~~~"
   ]
  },
  {
   "cell_type": "markdown",
   "metadata": {
    "slideshow": {
     "slide_type": "slide"
    }
   },
   "source": [
    "### SQL - Syntax\n",
    "---\n",
    "\n",
    "#### Let's run the following query using W3Schools built in dataset and discuss the output:\n",
    "https://www.w3schools.com/sql/trysql.asp?filename=trysql_select_columns\n",
    "~~~\n",
    "SELECT orders.customerid, orders.orderid,\n",
    "COUNT(DISTINCT products.productid) as distinctproducts, \n",
    "SUM(orderdetails.quantity) as orderqty, \n",
    "SUM(products.price) as ordertotal,\n",
    "MAX(CASE WHEN products.categoryid = 1 THEN 1 ELSE 0 END) beverages_flag,\n",
    "MAX(CASE WHEN products.categoryid = 6 THEN 1 ELSE 0 END) candy_flag\n",
    "FROM orders\n",
    "LEFT JOIN orderdetails ON orders.orderid = orderdetails.orderid\n",
    "LEFT JOIN products ON orderdetails.productid = products.productid\n",
    "GROUP BY orders.customerid, orders.orderid;\n",
    "~~~"
   ]
  },
  {
   "cell_type": "code",
   "execution_count": null,
   "metadata": {},
   "outputs": [],
   "source": []
  }
 ],
 "metadata": {
  "anaconda-cloud": {},
  "celltoolbar": "Slideshow",
  "kernelspec": {
   "display_name": "Python 3",
   "language": "python",
   "name": "python3"
  },
  "language_info": {
   "codemirror_mode": {
    "name": "ipython",
    "version": 3
   },
   "file_extension": ".py",
   "mimetype": "text/x-python",
   "name": "python",
   "nbconvert_exporter": "python",
   "pygments_lexer": "ipython3",
   "version": "3.7.3"
  }
 },
 "nbformat": 4,
 "nbformat_minor": 4
}
