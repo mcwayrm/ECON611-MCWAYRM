{
 "cells": [
  {
   "cell_type": "markdown",
   "metadata": {},
   "source": [
    "<img src=\"https://images.efollett.com/htmlroot/images/templates/storeLogos/CA/864.gif\" style=\"float: right;\"> \n",
    "\n",
    "\n",
    "\n",
    "\n",
    "# ECON611\n",
    "### HW_2 -  Python: Lists and Dictionaries\n",
    "#### Due: September 30"
   ]
  },
  {
   "cell_type": "markdown",
   "metadata": {},
   "source": [
    "Lists are the foundational data structures used in Python. "
   ]
  },
  {
   "cell_type": "code",
   "execution_count": 2,
   "metadata": {},
   "outputs": [],
   "source": [
    "import json"
   ]
  },
  {
   "cell_type": "markdown",
   "metadata": {},
   "source": [
    "### Warm-up (30 points)\n",
    "Some people were having trouble solving some of the warm-up questions, so we are breaking them down in sub-questions for at least the first two assignments. If you have a different way you want to do, please feel free to ignore the break-down.\n",
    "#### 1. \n",
    "Reverse the first half of a list\n",
    "  \n",
    "a) Create a new variable that holds the first half of the list. If the last has an odd number of elements, round down (i.e. len(list) = 5, reverse the first two elements).  \n",
    "  \n",
    "b) Reverse the list created in a)  \n",
    "  \n",
    "c) Append the second half of the ```inp``` list to the end of the list from b)  \n",
    "  \n",
    "input: ```[1, 2, 3, 4, 5, 6, 7]```  \n",
    "output: ```[3, 2, 1, 4, 5, 6, 7]```  "
   ]
  },
  {
   "cell_type": "code",
   "execution_count": 7,
   "metadata": {},
   "outputs": [
    {
     "name": "stdout",
     "output_type": "stream",
     "text": [
      "[3, 2, 1, [4, 5, 6, 7]]\n",
      "[3, 2, 1, 4, 5, 6, 7]\n",
      "[7, 4, 1]\n"
     ]
    }
   ],
   "source": [
    "# My Inital Try\n",
    "inp = [1, 2, 3, 4, 5, 6, 7]\n",
    "inp2 = inp[:3]\n",
    "inp2.reverse()\n",
    "inp2.append(inp[3:])\n",
    "print(inp2)\n",
    "\n",
    "# A Much Better way to do this\n",
    "inp = [1, 2, 3, 4, 5, 6, 7]\n",
    "HOLD = inp[:3]\n",
    "REVERSE = HOLD[::-1] #Reverse HOLD\n",
    "REVERSE.extend(inp[3:])\n",
    "print(REVERSE)"
   ]
  },
  {
   "cell_type": "markdown",
   "metadata": {},
   "source": [
    "### 2.\n",
    "Given two lists, write all the possible combinations of the two into a new list.  \n",
    "  \n",
    "input: ```[1, 2, 3, 4]``` and ```['a', 'b', 'c', 'd']```  \n",
    "output: ```[(1, 'a'), (1, 'b'), (1, 'c'), (1, 'd'), (2, 'a'), (2, 'b'), (2, 'c'), (2, 'd'), (3, 'a'), (3, 'b'), (3, 'c'), (3, 'd'), (4, 'a'), (4, 'b'), (4, 'c'), (4, 'd')]```  \n",
    "  \n",
    "a) Create an empty list  \n",
    "  \n",
    "b) loop through both lists and append a tuple of (list 1 element, list 2 element) to the output list. HINT: use a for loop"
   ]
  },
  {
   "cell_type": "code",
   "execution_count": 9,
   "metadata": {},
   "outputs": [
    {
     "name": "stdout",
     "output_type": "stream",
     "text": [
      "[(1, 'a'), (1, 'b'), (1, 'c'), (1, 'd'), (2, 'a'), (2, 'b'), (2, 'c'), (2, 'd'), (3, 'a'), (3, 'b'), (3, 'c'), (3, 'd'), (4, 'a'), (4, 'b'), (4, 'c'), (4, 'd')]\n"
     ]
    }
   ],
   "source": [
    "inp1 = [1, 2, 3, 4]\n",
    "inp2 = ['a', 'b', 'c', 'd']\n",
    "unique_list = []\n",
    "\n",
    "unique_list = []\n",
    "for num in inp1:\n",
    "    for let in inp2:\n",
    "        unique_list.append((num, let))\n",
    "print(unique_list)\n"
   ]
  },
  {
   "cell_type": "markdown",
   "metadata": {},
   "source": [
    "#### 3.\n",
    "Given two sorted lists, merge them maintaining the sorted order.  \n",
    "  \n",
    "input: ```[1, 3, 6]``` and ```[1, 2, 5, 14]```  \n",
    "output: ```[1, 1, 2, 3, 5, 6, 14]```\n",
    "  \n",
    "a) Create an empty list. \n",
    "  \n",
    "b) You will need to loop through both lists at the same time. If the element you are looking at in ```inp1``` is less than the element you are looking at in ```inp2```, append the element in ```inp1``` to the list created in a) and move on to the next element in ```inp1```. If the element is in ```inp2```, append that element to a) and move on to the next element in ```inp2```.  HINT: you probably want to use a while loop.\n",
    "  \n",
    "\n"
   ]
  },
  {
   "cell_type": "code",
   "execution_count": 1,
   "metadata": {},
   "outputs": [
    {
     "name": "stdout",
     "output_type": "stream",
     "text": [
      "[1, 1, 2, 3, 5, 6, 14]\n",
      "[1, 1, 2, 3, 5, 6, 14]\n",
      "[1, 1, 2, 3, 5, 6, 14]\n"
     ]
    }
   ],
   "source": [
    "inp1 = [1, 3, 6]\n",
    "inp2 = [1, 2, 5, 14]\n",
    "\n",
    "#     Initial Way\n",
    "inp_list2 = []\n",
    "for elem in inp1:\n",
    "    inp_list2.append(elem)\n",
    "for elem in inp2:\n",
    "    inp_list2.append(elem)\n",
    "inp_list2.sort()\n",
    "print(inp_list2)\n",
    "\n",
    "#     Way #2\n",
    "combined = list(inp1 + inp2)\n",
    "for num in combined:\n",
    "    combined.sort()\n",
    "print(combined)\n",
    "\n",
    "#     Way #3\n",
    "list1 = sorted(inp1+inp2)\n",
    "print(list1)\n"
   ]
  },
  {
   "cell_type": "markdown",
   "metadata": {},
   "source": [
    "### Questions (70 points)"
   ]
  },
  {
   "cell_type": "code",
   "execution_count": 3,
   "metadata": {},
   "outputs": [
    {
     "name": "stdout",
     "output_type": "stream",
     "text": [
      "[0, 1, 101.93602021280064, 185.10884418022408]\n"
     ]
    }
   ],
   "source": [
    "with open('../database/hw_2.json') as f:\n",
    "    products = json.load(f)\n",
    "#     Check Content\n",
    "print(products[0])"
   ]
  },
  {
   "cell_type": "markdown",
   "metadata": {},
   "source": [
    "Stephen goes to target. ```products``` is a list of tuples that contain information about what is in stock there. The format of the tuple is ```(item id, stock, price, how much stephen values the product)```\n",
    "\n",
    "#### 1. Separate the list of tuples into 4 lists\n"
   ]
  },
  {
   "cell_type": "code",
   "execution_count": 24,
   "metadata": {},
   "outputs": [
    {
     "name": "stdout",
     "output_type": "stream",
     "text": [
      "[101.93602021280064, 10.894342157462795, 11.844080983593695, 6.869088216468875, 47.72272164918158, 2.01065653510808, 114.98615895612085, 9.382001305961644, 27.633784384417876, 15.652483970052266, 86.67001160500293, 2.5596212299714503, 14.549880724957704, 13.680146830104597, 62.41274131894139, 6.686621457064503, 16.904363645055092, 8.348998420926767, 20.951573411360123, 35.974674821372155, 6.68175597014865, 63.100185532726115, 49.481097135593195, 33.19815622211637, 49.44475319799778, 10.137811442815627, 17.762860245948158, 7.879233012873762, 15.36530307441098, 34.13609970636612, 10.057707422315108, 13.507518726918216, 10.10294837819472, 8.626116109119005, 10.265141849856382, 19.832765655877182, 6.571155231516867, 25.391531116496136, 105.61518698842477, 42.184133232011646, 16.579457808565337, 8.267821364312567, 9.514735539017783, 109.12069912672433, 21.132407333241474, 10.622818259369566, 24.310673307335673, 164.06376061070935, 22.649979627525237, 37.23328464334909, 27.117257137397296, 14.122230026832256, 6.407580880600212, 14.163344835784828, 16.29903276734249, 36.11192673269095, 46.47820132066135, 50.9631122242514, 26.724675783437323, 48.673812977855725, 9.446100954942395, 70.30677418245453, 33.54640889956518, 14.90813690497092, 32.737399715489886, 18.62357566500094, 62.27931744518522, 91.81877674548346, 178.67623168733564, 4.970416624745941, 4.739284593006167, 12.128209915102662, 23.57146969423915, 48.239052995253004, 27.53987480182238, 2.6585976490665546, 14.78770344881711, 45.969339544059835, 25.282051961920903, 43.034889925673376, 16.08153721918525, 16.43218531923161, 24.205052466733207, 30.266807415139247, 24.49085347086565, 22.62394018433381, 10.271136846860557, 29.299304727977734, 22.68766241963084, 62.145841679833886, 66.61420745204151, 24.171068887950327, 13.800641131797482, 10.604406184657085, 30.676422232324008, 21.700603437696653, 14.241301858164165, 20.980571793902456, 10.804893745157548, 40.367783715839934]\n"
     ]
    }
   ],
   "source": [
    "final = []\n",
    "item_list = []\n",
    "stock_list = []\n",
    "price_list = []\n",
    "value_list = []\n",
    "\n",
    "for i in products:\n",
    "    #Separate out the lists into their own categories\n",
    "    item_list.append(i[0])\n",
    "    stock_list.append(i[1])\n",
    "    price_list.append(i[2])\n",
    "    value_list.append(i[3])  \n",
    "final = [item_list, stock_list, price_list, value_list]\n",
    "print(final[2])\n",
    "# print(final)"
   ]
  },
  {
   "cell_type": "markdown",
   "metadata": {},
   "source": [
    "#### 2. What is the most expensive product? "
   ]
  },
  {
   "cell_type": "code",
   "execution_count": 25,
   "metadata": {},
   "outputs": [
    {
     "data": {
      "text/plain": [
       "'The most expensive product is 68.'"
      ]
     },
     "execution_count": 25,
     "metadata": {},
     "output_type": "execute_result"
    }
   ],
   "source": [
    "#     Easy way to check the max\n",
    "max_product = max(price_list)\n",
    "# print(max_product)\n",
    "\n",
    "#     Finds the product\n",
    "price_list.sort() \n",
    "expensive = price_list[-1]\n",
    "out = list()\n",
    "for i in products:\n",
    "    if i[2] == expensive: \n",
    "        exp_product = i \n",
    "# print(exp_product)\n",
    "'''The most expensive product is 68.'''"
   ]
  },
  {
   "cell_type": "markdown",
   "metadata": {},
   "source": [
    "#### 3. What are the three cheapest products?\n"
   ]
  },
  {
   "cell_type": "code",
   "execution_count": 26,
   "metadata": {},
   "outputs": [],
   "source": [
    "\n",
    "cheapest = sorted(price_list) \n",
    "cheap_product = []\n",
    "for i in products:\n",
    "    if i[2] < cheapest[3]: \n",
    "        cheap_product.extend([i])\n",
    "# print(cheap_product)\n"
   ]
  },
  {
   "cell_type": "markdown",
   "metadata": {},
   "source": [
    "#### 4.  What is the total value of all the goods in Target"
   ]
  },
  {
   "cell_type": "code",
   "execution_count": 27,
   "metadata": {},
   "outputs": [
    {
     "name": "stdout",
     "output_type": "stream",
     "text": [
      "2909.5432498662494\n"
     ]
    }
   ],
   "source": [
    "tot_value = sum(value_list)\n",
    "print(tot_value)"
   ]
  },
  {
   "cell_type": "markdown",
   "metadata": {},
   "source": [
    "#### 5. Target decides that all goods should cost at least 50 dollars. Create a new list products_50 w/ the updated prices and recalculate the total value of all the goods with these prices"
   ]
  },
  {
   "cell_type": "code",
   "execution_count": 35,
   "metadata": {},
   "outputs": [
    {
     "name": "stdout",
     "output_type": "stream",
     "text": [
      "The new total price is $5640 and the new total value is $2909.\n"
     ]
    }
   ],
   "source": [
    "products_50 = list()\n",
    "for x in products:\n",
    "    if x[2] < 50:\n",
    "        x[2] = 50\n",
    "        products_50.append(x)\n",
    "    else:\n",
    "        products_50.append(x)\n",
    "#     Check\n",
    "# print(products_50)\n",
    "new_price = list()\n",
    "new_value = list()\n",
    "for x in products_50:\n",
    "    new_price.append(x[2])\n",
    "    new_value.append(x[3])\n",
    "new_pricetotal = sum(new_price)\n",
    "new_valuetotal = sum(new_value)\n",
    "print(\"The new total price is $%d and the new total value is $%d.\" % (new_pricetotal, new_valuetotal))\n"
   ]
  },
  {
   "cell_type": "markdown",
   "metadata": {},
   "source": [
    "### Bonus (20 points)\n",
    "Stephen's mom gives him $3000 to spend. What is the best bundle Stephen can buy? Note his mom will take his money back if he doesn't spend it.  \n",
    "  \n",
    "There is no way to solve this perfectly without creating all the combinations, which is computationally impossible. However, there are good ways to get a close to optimal bundle, and we will award points based off people's ideas there. This is a type of question you would usually see in an algorithms class, which is usually taken after 2 semesters of CS and focuses on these types of questions, so we don't expect anybody to solve this. Feel free to give a try though. Since it is a bonus question, we will not provide any assistance for it."
   ]
  },
  {
   "cell_type": "code",
   "execution_count": null,
   "metadata": {},
   "outputs": [],
   "source": []
  }
 ],
 "metadata": {
  "kernelspec": {
   "display_name": "Python 3",
   "language": "python",
   "name": "python3"
  },
  "language_info": {
   "codemirror_mode": {
    "name": "ipython",
    "version": 3
   },
   "file_extension": ".py",
   "mimetype": "text/x-python",
   "name": "python",
   "nbconvert_exporter": "python",
   "pygments_lexer": "ipython3",
   "version": "3.7.3"
  }
 },
 "nbformat": 4,
 "nbformat_minor": 2
}
