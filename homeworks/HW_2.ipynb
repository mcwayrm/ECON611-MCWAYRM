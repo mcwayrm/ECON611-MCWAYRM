{
 "cells": [
  {
   "cell_type": "markdown",
   "metadata": {},
   "source": [
    "<img src=\"https://images.efollett.com/htmlroot/images/templates/storeLogos/CA/864.gif\" style=\"float: right;\"> \n",
    "\n",
    "\n",
    "\n",
    "\n",
    "# ECON611\n",
    "### HW_2 -  Python: Lists and Dictionaries\n",
    "#### Due: September 30"
   ]
  },
  {
   "cell_type": "markdown",
   "metadata": {},
   "source": [
    "Lists are the foundational data structures used in Python. "
   ]
  },
  {
   "cell_type": "code",
   "execution_count": 7,
   "metadata": {},
   "outputs": [],
   "source": [
    "import json"
   ]
  },
  {
   "cell_type": "markdown",
   "metadata": {},
   "source": [
    "### Warm-up (30 points)\n",
    "Some people were having trouble solving some of the warm-up questions, so we are breaking them down in sub-questions for at least the first two assignments. If you have a different way you want to do, please feel free to ignore the break-down.\n",
    "#### 1. \n",
    "Reverse the first half of a list\n",
    "  \n",
    "a) Create a new variable that holds the first half of the list. If the last has an odd number of elements, round down (i.e. len(list) = 5, reverse the first two elements).  \n",
    "  \n",
    "b) Reverse the list created in a)  \n",
    "  \n",
    "c) Append the second half of the ```inp``` list to the end of the list from b)  \n",
    "  \n",
    "input: ```[1, 2, 3, 4, 5, 6, 7]```  \n",
    "output: ```[3, 2, 1, 4, 5, 6, 7]```  "
   ]
  },
  {
   "cell_type": "code",
   "execution_count": 8,
   "metadata": {},
   "outputs": [],
   "source": [
    "inp = [1, 2, 3, 4, 5, 6, 7]"
   ]
  },
  {
   "cell_type": "markdown",
   "metadata": {},
   "source": [
    "### 2.\n",
    "Given two lists, write all the possible combinations of the two into a new list.  \n",
    "  \n",
    "input: ```[1, 2, 3, 4]``` and ```['a', 'b', 'c', 'd']```  \n",
    "output: ```[(1, 'a'), (1, 'b'), (1, 'c'), (1, 'd'), (2, 'a'), (2, 'b'), (2, 'c'), (2, 'd'), (3, 'a'), (3, 'b'), (3, 'c'), (3, 'd'), (4, 'a'), (4, 'b'), (4, 'c'), (4, 'd')]```  \n",
    "  \n",
    "a) Create an empty list  \n",
    "  \n",
    "b) loop through both lists and append a tuple of (list 1 element, list 2 element) to the output list. HINT: use a for loop"
   ]
  },
  {
   "cell_type": "code",
   "execution_count": 9,
   "metadata": {},
   "outputs": [],
   "source": [
    "inp1 = [1, 2, 3, 4]\n",
    "inp2 = ['a', 'b', 'c', 'd']"
   ]
  },
  {
   "cell_type": "markdown",
   "metadata": {},
   "source": [
    "#### 3.\n",
    "Given two sorted lists, merge them maintaining the sorted order.  \n",
    "  \n",
    "input: ```[1, 3, 6]``` and ```[1, 2, 5, 14]```  \n",
    "output: ```[1, 1, 2, 3, 5, 6, 14]```\n",
    "  \n",
    "a) Create an empty list. \n",
    "  \n",
    "b) You will need to loop through both lists at the same time. If the element you are looking at in ```inp1``` is less than the element you are looking at in ```inp2```, append the element in ```inp1``` to the list created in a) and move on to the next element in ```inp1```. If the element is in ```inp2```, append that element to a) and move on to the next element in ```inp2```.  HINT: you probably want to use a while loop.\n",
    "  \n",
    "\n"
   ]
  },
  {
   "cell_type": "code",
   "execution_count": 10,
   "metadata": {},
   "outputs": [],
   "source": [
    "inp1 = [1, 3, 6]\n",
    "inp2 = [1, 2, 5, 14]"
   ]
  },
  {
   "cell_type": "markdown",
   "metadata": {},
   "source": [
    "### Questions (70 points)"
   ]
  },
  {
   "cell_type": "code",
   "execution_count": 11,
   "metadata": {},
   "outputs": [],
   "source": [
    "with open('../database/hw_2.json') as f:\n",
    "    products = json.load(f)"
   ]
  },
  {
   "cell_type": "markdown",
   "metadata": {},
   "source": [
    "Stephen goes to target. ```products``` is a list of tuples that contain information about what is in stock there. The format of the tuple is ```(item id, stock, price, how much stephen values the product)```\n",
    "\n",
    "#### 1. Separate the list of tuples into 4 lists\n"
   ]
  },
  {
   "cell_type": "code",
   "execution_count": null,
   "metadata": {},
   "outputs": [],
   "source": []
  },
  {
   "cell_type": "markdown",
   "metadata": {},
   "source": [
    "#### 2. What is the most expensive product? "
   ]
  },
  {
   "cell_type": "code",
   "execution_count": null,
   "metadata": {},
   "outputs": [],
   "source": []
  },
  {
   "cell_type": "markdown",
   "metadata": {},
   "source": [
    "#### 3. What are the three cheapest products?\n"
   ]
  },
  {
   "cell_type": "code",
   "execution_count": null,
   "metadata": {},
   "outputs": [],
   "source": []
  },
  {
   "cell_type": "markdown",
   "metadata": {},
   "source": [
    "#### 4.  What is the total value of all the goods in Target"
   ]
  },
  {
   "cell_type": "code",
   "execution_count": null,
   "metadata": {},
   "outputs": [],
   "source": []
  },
  {
   "cell_type": "markdown",
   "metadata": {},
   "source": [
    "#### 5. Target decides that all goods should cost at least 50 dollars. Create a new list products_50 w/ the updated prices and recalculate the total value of all the goods with these prices"
   ]
  },
  {
   "cell_type": "code",
   "execution_count": null,
   "metadata": {},
   "outputs": [],
   "source": []
  },
  {
   "cell_type": "markdown",
   "metadata": {},
   "source": [
    "### Bonus (20 points)\n",
    "Stephen's mom gives him $3000 to spend. What is the best bundle Stephen can buy? Note his mom will take his money back if he doesn't spend it.  \n",
    "  \n",
    "There is no way to solve this perfectly without creating all the combinations, which is computationally impossible. However, there are good ways to get a close to optimal bundle, and we will award points based off people's ideas there. This is a type of question you would usually see in an algorithms class, which is usually taken after 2 semesters of CS and focuses on these types of questions, so we don't expect anybody to solve this. Feel free to give a try though. Since it is a bonus question, we will not provide any assistance for it."
   ]
  },
  {
   "cell_type": "code",
   "execution_count": null,
   "metadata": {},
   "outputs": [],
   "source": []
  }
 ],
 "metadata": {
  "kernelspec": {
   "display_name": "Python 3",
   "language": "python",
   "name": "python3"
  },
  "language_info": {
   "codemirror_mode": {
    "name": "ipython",
    "version": 3
   },
   "file_extension": ".py",
   "mimetype": "text/x-python",
   "name": "python",
   "nbconvert_exporter": "python",
   "pygments_lexer": "ipython3",
   "version": "3.7.4"
  }
 },
 "nbformat": 4,
 "nbformat_minor": 2
}
