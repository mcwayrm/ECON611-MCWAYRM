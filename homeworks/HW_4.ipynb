{
 "cells": [
  {
   "cell_type": "markdown",
   "metadata": {},
   "source": [
    "<img src=\"https://images.efollett.com/htmlroot/images/templates/storeLogos/CA/864.gif\" style=\"float: right;\"> \n",
    "\n",
    "\n",
    "\n",
    "\n",
    "# ECON611\n",
    "### HW_4 -  SQL\n",
    "#### Due: Nov 18\n",
    "\n",
    "We will be using the sample databases that come from the DBeaver program (use the Database Installation guide to assist you on installing it). We will be using the sample tables that are provided there. Save your work as a SQL script with answers to specific questions commented out properly labled."
   ]
  },
  {
   "cell_type": "markdown",
   "metadata": {},
   "source": [
    "## 1. Music and Album Data\n",
    "---\n",
    "We will be using the following tables from DBeaver:\n",
    "• Album • Artist • Genre • Track • PlaylistTrack • MediaType"
   ]
  },
  {
   "cell_type": "markdown",
   "metadata": {},
   "source": [
    "## Problems (40 points)\n",
    "---"
   ]
  },
  {
   "cell_type": "markdown",
   "metadata": {},
   "source": [
    "#### A. (5 points). Output a table that has the columns Album Title, Artist, Track Name, Genre, Composer, Length of Song (minutes) \n",
    "---"
   ]
  },
  {
   "cell_type": "code",
   "execution_count": null,
   "metadata": {
    "collapsed": true
   },
   "outputs": [],
   "source": []
  },
  {
   "cell_type": "markdown",
   "metadata": {},
   "source": [
    "#### B. (5 points). Output a frequency table for how many letters are in an album title and a song title. (i.e. 3 columns: number of letters, number of album titles with that amount of letters, number of song titles with that amount of letters). What is the average and range of amount of letters?\n",
    "---"
   ]
  },
  {
   "cell_type": "code",
   "execution_count": null,
   "metadata": {
    "collapsed": true
   },
   "outputs": [],
   "source": []
  },
  {
   "cell_type": "markdown",
   "metadata": {},
   "source": [
    "#### C. (10 points). How many songs did each composer write? How many artists composed their own music? Output all of the Artists who had songs that were longer than 2.5 minutes and they did not write their own songs.\n",
    "---"
   ]
  },
  {
   "cell_type": "code",
   "execution_count": null,
   "metadata": {
    "collapsed": true
   },
   "outputs": [],
   "source": []
  },
  {
   "cell_type": "markdown",
   "metadata": {},
   "source": [
    "#### D. (10 points). How many albums contain songs that only have an even number of seconds in the length of the song and the songs are all MPEG audio files?\n",
    "---"
   ]
  },
  {
   "cell_type": "code",
   "execution_count": null,
   "metadata": {
    "collapsed": true
   },
   "outputs": [],
   "source": []
  },
  {
   "cell_type": "markdown",
   "metadata": {},
   "source": [
    "#### E. (10 points). How large, in terms of Megabytes are each album? On average, how large, in terms of bytes, is a pop song? What is the range and average duration of a heavy metal song in minutes?\n",
    "---"
   ]
  },
  {
   "cell_type": "code",
   "execution_count": null,
   "metadata": {
    "collapsed": true
   },
   "outputs": [],
   "source": []
  },
  {
   "cell_type": "markdown",
   "metadata": {},
   "source": [
    "## 2. Customer Data\n",
    "---\n",
    "We will be using the following tables from DBeaver:\n",
    "• Customer • Invoice • InvoiceLine • Album • Artist • Genre • Track • PlaylistTrack • MediaType"
   ]
  },
  {
   "cell_type": "markdown",
   "metadata": {},
   "source": [
    "## Problems (40 points)\n",
    "---"
   ]
  },
  {
   "cell_type": "markdown",
   "metadata": {},
   "source": [
    "#### A. (5 points). Output a table that shows the number of customers in each city, and also have shows the state and country that the city is located in.\n",
    "---"
   ]
  },
  {
   "cell_type": "code",
   "execution_count": null,
   "metadata": {
    "collapsed": true
   },
   "outputs": [],
   "source": []
  },
  {
   "cell_type": "markdown",
   "metadata": {},
   "source": [
    "#### B. (10 points). How much in total was spent on music per year? What is the average amount a person spent on music in a year? What is the average amount a person with a gmail account spent on music in a year?\n",
    "---"
   ]
  },
  {
   "cell_type": "code",
   "execution_count": null,
   "metadata": {
    "collapsed": true
   },
   "outputs": [],
   "source": []
  },
  {
   "cell_type": "markdown",
   "metadata": {},
   "source": [
    "#### C. (10 points). What year-month combination had the most spending on music? Which year-month combi- nation had the most money spent on pop music?\n",
    "---"
   ]
  },
  {
   "cell_type": "code",
   "execution_count": null,
   "metadata": {
    "collapsed": true
   },
   "outputs": [],
   "source": []
  },
  {
   "cell_type": "markdown",
   "metadata": {},
   "source": [
    "#### D. (10 points). What genre has the most songs bought that are in the pop genre? What is the total money spent on these songs? Which customer is spending the most on pop songs?\n",
    "---"
   ]
  },
  {
   "cell_type": "code",
   "execution_count": null,
   "metadata": {
    "collapsed": true
   },
   "outputs": [],
   "source": []
  },
  {
   "cell_type": "markdown",
   "metadata": {},
   "source": [
    "#### E. (10 points). Output how many songs each artist is selling in each country? Who is selling the post outside of the US? On average, how many songs is each artist selling outside of the US?\n",
    "---"
   ]
  },
  {
   "cell_type": "code",
   "execution_count": null,
   "metadata": {
    "collapsed": true
   },
   "outputs": [],
   "source": []
  },
  {
   "cell_type": "markdown",
   "metadata": {},
   "source": [
    "## 3. Window Functions (20 points)\n",
    "---"
   ]
  },
  {
   "cell_type": "markdown",
   "metadata": {},
   "source": [
    "#### A. (10 points). Return a list of Customers that assigns a sequential integer to each customer and resets the number when the country of the customer changes for Customers are not from Canada and Brazil and whose email address have `yahoo` or `gmail'\n",
    "---"
   ]
  },
  {
   "cell_type": "code",
   "execution_count": null,
   "metadata": {
    "collapsed": true
   },
   "outputs": [],
   "source": []
  },
  {
   "cell_type": "markdown",
   "metadata": {},
   "source": [
    "#### B. (10 points). Compute the rank for each track in each album based on the track’s length, then append all the tracks that have a lengthrank of 2 and 4 \n",
    "---"
   ]
  },
  {
   "cell_type": "code",
   "execution_count": null,
   "metadata": {
    "collapsed": true
   },
   "outputs": [],
   "source": []
  },
  {
   "cell_type": "markdown",
   "metadata": {},
   "source": [
    "## BONUS (20 points)\n",
    "---\n",
    "- Using SQLITE syntax [make your own SQLITE table](https://www.sqlitetutorial.net/sqlite-create-table/) and set of data. You will need to create a table of 5 columns and 10 rows containing any information you find interesting. (5 points)\n",
    "- You should create/import your table need to [dbeaver](https://docs.roguewave.com/en/zendstudio/current/content/create_manage_database_with_dbeaver.htm). (5 points)\n",
    "- Perform 3 different calculations using your data in order to tell a story of your data set. (10 points)\n",
    "\n",
    "** FEEL FREE TO USE/EXPLORE OTHER SOURCES**"
   ]
  },
  {
   "cell_type": "code",
   "execution_count": null,
   "metadata": {
    "collapsed": true
   },
   "outputs": [],
   "source": []
  }
 ],
 "metadata": {
  "kernelspec": {
   "display_name": "Python [conda env:gds-scipy16]",
   "language": "python",
   "name": "conda-env-gds-scipy16-py"
  },
  "language_info": {
   "codemirror_mode": {
    "name": "ipython",
    "version": 3
   },
   "file_extension": ".py",
   "mimetype": "text/x-python",
   "name": "python",
   "nbconvert_exporter": "python",
   "pygments_lexer": "ipython3",
   "version": "3.6.3"
  }
 },
 "nbformat": 4,
 "nbformat_minor": 2
}
