{
 "cells": [
  {
   "cell_type": "markdown",
   "metadata": {},
   "source": [
    "<img src=\"https://images.efollett.com/htmlroot/images/templates/storeLogos/CA/864.gif\" style=\"float: right;\"> \n",
    "\n",
    "\n",
    "\n",
    "\n",
    "# ECON611\n",
    "### HW_4 -  SQL\n",
    "#### Due: Nov 18\n",
    "\n",
    "We will be using the sample databases that come from the DBeaver program (use the Database Installation guide to assist you on installing it). We will be using the sample tables that are provided there. Save your work as a SQL script with answers to specific questions commented out properly labled."
   ]
  },
  {
   "cell_type": "markdown",
   "metadata": {},
   "source": [
    "## 1. Music and Album Data\n",
    "---\n",
    "We will be using the following tables from DBeaver:\n",
    "• Album • Artist • Genre • Track • PlaylistTrack • MediaType"
   ]
  },
  {
   "cell_type": "markdown",
   "metadata": {},
   "source": [
    "## Problems (40 points)\n",
    "---"
   ]
  },
  {
   "cell_type": "markdown",
   "metadata": {},
   "source": [
    "#### A. (5 points). Output a table that has the columns Album Title, Artist, Track Name, Genre, Composer, Length of Song (minutes) \n",
    "---"
   ]
  },
  {
   "cell_type": "code",
   "execution_count": 2,
   "metadata": {},
   "outputs": [
    {
     "ename": "SyntaxError",
     "evalue": "invalid syntax (<ipython-input-2-f9f59ac29ab0>, line 1)",
     "output_type": "error",
     "traceback": [
      "\u001b[1;36m  File \u001b[1;32m\"<ipython-input-2-f9f59ac29ab0>\"\u001b[1;36m, line \u001b[1;32m1\u001b[0m\n\u001b[1;33m    SELECT A.Title AS Album_Title, T.Name AS Track_Name\u001b[0m\n\u001b[1;37m           ^\u001b[0m\n\u001b[1;31mSyntaxError\u001b[0m\u001b[1;31m:\u001b[0m invalid syntax\n"
     ]
    }
   ],
   "source": [
    "SELECT A.Title AS Album_Title, T.Name AS Track_Name\n",
    "\t  ,(T.Milliseconds/1000) AS Song_Minutes\n",
    "\t  , Art.Name AS Artist_Name, G.Name AS Genre_Name\n",
    "FROM Artist AS Art\n",
    "INNER JOIN Album AS A\n",
    "ON Art.ArtistId = A.ArtistId\n",
    "INNER JOIN Track AS T \n",
    "ON T.AlbumId = A.AlbumId\n",
    "INNER JOIN Genre AS G \n",
    "ON G.GenreId = T.GenreId\n",
    "ORDER BY Artist_Name;"
   ]
  },
  {
   "cell_type": "markdown",
   "metadata": {},
   "source": [
    "#### B. (5 points). Output a frequency table for how many letters are in an album title and a song title. (i.e. 3 columns: number of letters, number of album titles with that amount of letters, number of song titles with that amount of letters). What is the average and range of amount of letters?\n",
    "---"
   ]
  },
  {
   "cell_type": "code",
   "execution_count": null,
   "metadata": {
    "collapsed": true,
    "jupyter": {
     "outputs_hidden": true
    }
   },
   "outputs": [],
   "source": [
    "SELECT \n",
    "\tfinaltable.songtitle, finaltable.Title, finaltable.numberofletters, finaltable.numberoflettersong, finaltable.freqalbumlength, \n",
    "\tCount(finaltable.songtitle) OVER (PARTITION BY finaltable.numberoflettersong ORDER BY finaltable.numberoflettersong) as freqsonglength -- Number of songs with same title length\n",
    "FROM(\n",
    "\tSELECT \n",
    "\t\tTrack.AlbumId, freqalbum.Title, \n",
    "\t\tfreqalbum.numberofletters, freqalbum.freqalbumlength, \n",
    "\t\tTrack.Name as songtitle, length(Track.Name) as numberoflettersong\n",
    "\tFROM(\n",
    "\t\tSELECT *, Count(*) OVER (PARTITION BY numberofletters ORDER BY numberofletters) as freqalbumlength\n",
    "\t\tFROM(\n",
    "\t\t\tSELECT *, length(Title) as numberofletters\n",
    "\t\t\tFrom Album\n",
    "\t\t\t) albumlength -- Length of Album Title\n",
    "\t\tORDER BY numberofletters) freqalbum -- Number of albums with same title length\n",
    "\tJOIN Track\n",
    "\ton Track.AlbumId = freqalbum.AlbumId) finaltable -- Length of Song Title and join with Album\n",
    "ORDER BY 3, 4, 5, 6 DESC; -- Order by lengths and frequencies\n",
    "\n",
    "SELECT \n",
    "\tAVG(numberofletters) as avg_albumtitle, AVG(numberoflettersong) as avg_songtitle, \n",
    "\tMAX(numberofletters)-MIN(numberofletters) as range_albumtitle, MAX(numberoflettersong)-MIN(numberoflettersong) as range_albumtitle\n",
    "FROM(\n",
    "\tSELECT \n",
    "\t\tfinaltable.songtitle, finaltable.Title, finaltable.numberofletters, finaltable.numberoflettersong, finaltable.freqalbumlength, \n",
    "\t\tCount(finaltable.songtitle) OVER (PARTITION BY finaltable.numberoflettersong ORDER BY finaltable.numberoflettersong) as freqsonglength -- Number of songs with same title length\n",
    "\tFROM(\n",
    "\t\tSELECT \n",
    "\t\t\tTrack.AlbumId, freqalbum.Title, \n",
    "\t\t\tfreqalbum.numberofletters, freqalbum.freqalbumlength, \n",
    "\t\t\tTrack.Name as songtitle, length(Track.Name) as numberoflettersong\n",
    "\t\tFROM(\n",
    "\t\t\tSELECT *, Count(*) OVER (PARTITION BY numberofletters ORDER BY numberofletters) as freqalbumlength\n",
    "\t\t\tFROM(\n",
    "\t\t\t\tSELECT *, length(Title) as numberofletters\n",
    "\t\t\t\tFrom Album\n",
    "\t\t\t\t) albumlength -- Length of Album Title\n",
    "\t\t\tORDER BY numberofletters) freqalbum -- Number of albums with same title length\n",
    "\t\tJOIN Track\n",
    "\t\ton Track.AlbumId = freqalbum.AlbumId) finaltable -- Length of Song Title and join with Album\n",
    "\tORDER BY 3, 4, 5, 6 DESC);"
   ]
  },
  {
   "cell_type": "markdown",
   "metadata": {},
   "source": [
    "#### C. (10 points). How many songs did each composer write? How many artists composed their own music? Output all of the Artists who had songs that were longer than 2.5 minutes and they did not write their own songs.\n",
    "---"
   ]
  },
  {
   "cell_type": "code",
   "execution_count": null,
   "metadata": {
    "collapsed": true,
    "jupyter": {
     "outputs_hidden": true
    }
   },
   "outputs": [],
   "source": [
    "SELECT COUNT(*), Composer\n",
    "FROM Track\n",
    "WHERE Composer NOTNULL\n",
    "GROUP BY Composer\n",
    "ORDER BY COUNT(*) DESC;\n",
    "​\n",
    "SELECT COUNT(*)\n",
    "FROM(\n",
    "\tSELECT lastjoin.*, Genre.Name as genre\n",
    "\tFROM (\n",
    "\t\tSELECT albumartist.*, Track.Name as SongTitle, Track.GenreId, Track.Composer, Track.Milliseconds/1000/60 as song_length\n",
    "\t\tFROM(\n",
    "\t\t\tSELECT Album.AlbumId, Album.ArtistId, \n",
    "\t\t\tAlbum.Title as AlbumTitle, \n",
    "\t\t\tArtist.Name as ArtistName\n",
    "\t\t\tFROM Album\n",
    "\t\t\tJOIN Artist\n",
    "\t\t\ton Album.ArtistId = Artist.ArtistId\n",
    "\t\t\tgroup by Artist.ArtistId) albumartist --Inner join Album and Artist\n",
    "\t\tJOIN Track\n",
    "\t\ton albumartist.AlbumId = Track.AlbumId\n",
    "\t\tgroup by albumartist.AlbumId) lastjoin -- Inner join the previous join and Track\n",
    "\tJOIN Genre\n",
    "\ton lastjoin.GenreId = Genre.GenreId -- Lastly join the previous join with Genre\n",
    "\tgroup by lastjoin.ArtistId\n",
    "\t)\n",
    "WHERE ArtistName = Composer; -- Where Artists and Composer are the same\n",
    "\n",
    "SELECT *\n",
    "FROM(\n",
    "\tSELECT lastjoin.*, Genre.Name as genre\n",
    "\tFROM (\n",
    "\t\tSELECT albumartist.*, Track.Name as SongTitle, Track.GenreId, Track.Composer, Track.Milliseconds/1000/60 as song_length\n",
    "\t\tFROM(\n",
    "\t\t\tSELECT Album.AlbumId, Album.ArtistId, \n",
    "\t\t\tAlbum.Title as AlbumTitle, \n",
    "\t\t\tArtist.Name as ArtistName\n",
    "\t\t\tFROM Album\n",
    "\t\t\tJOIN Artist\n",
    "\t\t\ton Album.ArtistId = Artist.ArtistId\n",
    "\t\t\tgroup by Artist.ArtistId) albumartist --Inner join Album and Artist\n",
    "\t\tJOIN Track\n",
    "\t\ton albumartist.AlbumId = Track.AlbumId\n",
    "\t\tgroup by albumartist.AlbumId) lastjoin -- Inner join the previous join and Track\n",
    "\tJOIN Genre\n",
    "\ton lastjoin.GenreId = Genre.GenreId -- Lastly join the previous join with Genre\n",
    "\tgroup by lastjoin.ArtistId\n",
    "\t)\n",
    "WHERE ArtistName != Composer AND song_length > 2.5\n",
    "ORDER BY song_length desc;"
   ]
  },
  {
   "cell_type": "markdown",
   "metadata": {},
   "source": [
    "#### D. (10 points). How many albums contain songs that only have an even number of seconds in the length of the song and the songs are all MPEG audio files?\n",
    "---"
   ]
  },
  {
   "cell_type": "code",
   "execution_count": null,
   "metadata": {
    "collapsed": true,
    "jupyter": {
     "outputs_hidden": true
    }
   },
   "outputs": [],
   "source": [
    "SELECT COUNT(*)\n",
    "FROM( \n",
    "\tSELECT lastjoin.*, Genre.Name as genre\n",
    "\tFROM (\n",
    "\t\tSELECT albumartist.*, Track.Name as SongTitle, Track.GenreId, Track.Composer, Track.Milliseconds/1000 as song_length_seconds, Track.MediaTypeId -- added media type, changed to length in seconds\n",
    "\t\tFROM(\n",
    "\t\t\tSELECT Album.AlbumId, Album.ArtistId, \n",
    "\t\t\tAlbum.Title as AlbumTitle, \n",
    "\t\t\tArtist.Name as ArtistName\n",
    "\t\t\tFROM Album\n",
    "\t\t\tJOIN Artist\n",
    "\t\t\ton Album.ArtistId = Artist.ArtistId\n",
    "\t\t\tgroup by Artist.ArtistId) albumartist --Inner join Album and Artist\n",
    "\t\tJOIN Track\n",
    "\t\ton albumartist.AlbumId = Track.AlbumId\n",
    "\t\tgroup by albumartist.AlbumId) lastjoin -- Inner join the previous join and Track\n",
    "\tJOIN Genre\n",
    "\ton lastjoin.GenreId = Genre.GenreId -- Lastly join the previous join with Genre\n",
    "\tgroup by lastjoin.ArtistId\n",
    "\t)\n",
    "WHERE (song_length_seconds%2 = 0) AND (MediaTypeId = 1 or MediaTypeId = 3) -- Even number of seconds AND MPEG file types\n",
    "ORDER BY song_length_seconds;"
   ]
  },
  {
   "cell_type": "markdown",
   "metadata": {},
   "source": [
    "#### E. (10 points). How large, in terms of Megabytes are each album? On average, how large, in terms of bytes, is a pop song? What is the range and average duration of a heavy metal song in minutes?\n",
    "---"
   ]
  },
  {
   "cell_type": "code",
   "execution_count": null,
   "metadata": {
    "collapsed": true,
    "jupyter": {
     "outputs_hidden": true
    }
   },
   "outputs": [],
   "source": [
    "SELECT *, Bytes/1000000 as Megabytes -- Divide Bytes by 1mil to get Megabytes\n",
    "FROM(\n",
    "\tSELECT lastjoin.*, Genre.Name as genre\n",
    "\tFROM (\n",
    "\t\tSELECT albumartist.*, Track.Name as SongTitle, Track.GenreId, Track.Composer, Track.Milliseconds/1000 as song_length_seconds, Track.MediaTypeId, Track.Bytes -- added bytes\n",
    "\t\tFROM(\n",
    "\t\t\tSELECT Album.AlbumId, Album.ArtistId, \n",
    "\t\t\tAlbum.Title as AlbumTitle, \n",
    "\t\t\tArtist.Name as ArtistName\n",
    "\t\t\tFROM Album\n",
    "\t\t\tJOIN Artist\n",
    "\t\t\ton Album.ArtistId = Artist.ArtistId\n",
    "\t\t\tgroup by Artist.ArtistId) albumartist --Inner join Album and Artist\n",
    "\t\tJOIN Track\n",
    "\t\ton albumartist.AlbumId = Track.AlbumId\n",
    "\t\tgroup by albumartist.AlbumId) lastjoin -- Inner join the previous join and Track\n",
    "\tJOIN Genre\n",
    "\ton lastjoin.GenreId = Genre.GenreId -- Lastly join the previous join with Genre\n",
    "\tgroup by lastjoin.ArtistId\n",
    "\t);\n",
    "\n",
    "SELECT AVG(Bytes) -- Average number of bytes\n",
    "FROM(\n",
    "\tSELECT lastjoin.*, Genre.Name as genre\n",
    "\tFROM (\n",
    "\t\tSELECT albumartist.*, Track.Name as SongTitle, Track.GenreId, Track.Composer, Track.Milliseconds/1000 as song_length_seconds, Track.MediaTypeId, Track.Bytes\n",
    "\t\tFROM(\n",
    "\t\t\tSELECT Album.AlbumId, Album.ArtistId, \n",
    "\t\t\tAlbum.Title as AlbumTitle, \n",
    "\t\t\tArtist.Name as ArtistName\n",
    "\t\t\tFROM Album\n",
    "\t\t\tJOIN Artist\n",
    "\t\t\ton Album.ArtistId = Artist.ArtistId\n",
    "\t\t\tgroup by Artist.ArtistId) albumartist --Inner join Album and Artist\n",
    "\t\tJOIN Track\n",
    "\t\ton albumartist.AlbumId = Track.AlbumId\n",
    "\t\tgroup by albumartist.AlbumId) lastjoin -- Inner join the previous join and Track\n",
    "\tJOIN Genre\n",
    "\ton lastjoin.GenreId = Genre.GenreId -- Lastly join the previous join with Genre\n",
    "\tgroup by lastjoin.ArtistId\n",
    "\t)\n",
    "WHERE genre = 'Pop'; -- Only for pop songs\n",
    "\n",
    "SELECT AVG(song_length), MAX(song_length)-MIN(song_length) as song_length_range\n",
    "FROM(\n",
    "\tSELECT lastjoin.*, Genre.Name as genre\n",
    "\tFROM (\n",
    "\t\tSELECT albumartist.*, Track.Name as SongTitle, Track.GenreId, Track.Composer, Track.Milliseconds/1000/60 as song_length, Track.MediaTypeId, Track.Bytes -- back to minutes\n",
    "\t\tFROM(\n",
    "\t\t\tSELECT Album.AlbumId, Album.ArtistId, \n",
    "\t\t\tAlbum.Title as AlbumTitle, \n",
    "\t\t\tArtist.Name as ArtistName\n",
    "\t\t\tFROM Album\n",
    "\t\t\tJOIN Artist\n",
    "\t\t\ton Album.ArtistId = Artist.ArtistId\n",
    "\t\t\tgroup by Artist.ArtistId) albumartist --Inner join Album and Artist\n",
    "\t\tJOIN Track\n",
    "\t\ton albumartist.AlbumId = Track.AlbumId\n",
    "\t\tgroup by albumartist.AlbumId) lastjoin -- Inner join the previous join and Track\n",
    "\tJOIN Genre\n",
    "\ton lastjoin.GenreId = Genre.GenreId -- Lastly join the previous join with Genre\n",
    "\tgroup by lastjoin.ArtistId\n",
    "\t)\n",
    "WHERE genre = 'Metal'; -- Only for metal music"
   ]
  },
  {
   "cell_type": "markdown",
   "metadata": {},
   "source": [
    "## 2. Customer Data\n",
    "---\n",
    "We will be using the following tables from DBeaver:\n",
    "• Customer • Invoice • InvoiceLine • Album • Artist • Genre • Track • PlaylistTrack • MediaType"
   ]
  },
  {
   "cell_type": "markdown",
   "metadata": {},
   "source": [
    "## Problems (40 points)\n",
    "---"
   ]
  },
  {
   "cell_type": "markdown",
   "metadata": {},
   "source": [
    "#### A. (5 points). Output a table that shows the number of customers in each city, and also have shows the state and country that the city is located in.\n",
    "---"
   ]
  },
  {
   "cell_type": "code",
   "execution_count": null,
   "metadata": {
    "collapsed": true,
    "jupyter": {
     "outputs_hidden": true
    }
   },
   "outputs": [],
   "source": [
    "SELECT City, State, Country, COUNT(*)\n",
    "FROM Customer \n",
    "GROUP BY City\n",
    "ORDER BY Count(*) DESC;"
   ]
  },
  {
   "cell_type": "markdown",
   "metadata": {},
   "source": [
    "#### B. (10 points). How much in total was spent on music per year? What is the average amount a person spent on music in a year? What is the average amount a person with a gmail account spent on music in a year?\n",
    "---"
   ]
  },
  {
   "cell_type": "code",
   "execution_count": null,
   "metadata": {
    "collapsed": true,
    "jupyter": {
     "outputs_hidden": true
    }
   },
   "outputs": [],
   "source": [
    "SELECT SUM(Total) as totalspent, STRFTIME('%Y', InvoiceDate)\n",
    "FROM Invoice i \n",
    "GROUP BY STRFTIME('%Y', InvoiceDate)\n",
    "ORDER BY STRFTIME('%Y', InvoiceDate) ASC; -- This gives the total for each year\n",
    "\n",
    "SELECT totalspent/COUNT(DISTINCT CustomerId) as avgspending\n",
    "FROM(\n",
    "\tSELECT *, SUM(Total) as totalspent, STRFTIME('%Y', InvoiceDate)\n",
    "\tFROM Invoice i \n",
    "\tGROUP BY STRFTIME('%Y', InvoiceDate)\n",
    "\tORDER BY STRFTIME('%Y', InvoiceDate) ASC\n",
    "\t); -- This divides the totalspent by the number of unique customers, thus giving average spending\n",
    "\n",
    "SELECT totalspent/COUNT(DISTINCT CustomerId) as avgspending\n",
    "FROM(\n",
    "\tSELECT *, SUM(Total) as totalspent, STRFTIME('%Y', InvoiceDate)\n",
    "\tFROM(\n",
    "\t\tSELECT c.Email, i.*\n",
    "\t\tFrom Customer c\n",
    "\t\tJOIN Invoice i\n",
    "\t\ton c.CustomerId=i.CustomerId\n",
    "\t\tWHERE c.Email LIKE '%@gmail.com'\n",
    "\t\t)\n",
    "\tGROUP BY CustomerId\n",
    "\t); -- This used the same process, but truncated our sample to only those emails ending in '@gmail.com'"
   ]
  },
  {
   "cell_type": "markdown",
   "metadata": {},
   "source": [
    "#### C. (10 points). What year-month combination had the most spending on music? Which year-month combi- nation had the most money spent on pop music?\n",
    "---"
   ]
  },
  {
   "cell_type": "code",
   "execution_count": null,
   "metadata": {
    "collapsed": true,
    "jupyter": {
     "outputs_hidden": true
    }
   },
   "outputs": [],
   "source": [
    "SELECT SUM(Total) as totalspent, STRFTIME('%Y %m', InvoiceDate)\n",
    "FROM Invoice\n",
    "GROUP BY STRFTIME('%Y %m', InvoiceDate)\n",
    "ORDER BY totalspent DESC\n",
    "LIMIT 1;\n",
    "\n",
    "-- Found out how to join multiple tables!\n",
    "SELECT SUM(Total) as totalspent, STRFTIME('%Y %m', InvoiceDate)\n",
    "FROM(\n",
    "\tSELECT Invoice.*, InvoiceLine.*, Track.*, Genre.*\n",
    "\tFROM Invoice\n",
    "\tJOIN InvoiceLine ON Invoice.InvoiceId = InvoiceLine.InvoiceId\n",
    "\tJOIN Track ON InvoiceLine.TrackId = Track.TrackId\n",
    "\tJOIN Genre ON Genre.GenreId = Track.GenreId\n",
    "\tWHERE Genre.Name = 'Pop') poponly\n",
    "GROUP BY STRFTIME('%Y %m', InvoiceDate)\n",
    "ORDER BY totalspent DESC\n",
    "LIMIT 1;"
   ]
  },
  {
   "cell_type": "markdown",
   "metadata": {},
   "source": [
    "#### D. (10 points). What genre has the most songs bought that are in the pop genre? What is the total money spent on these songs? Which customer is spending the most on pop songs?\n",
    "---"
   ]
  },
  {
   "cell_type": "code",
   "execution_count": null,
   "metadata": {
    "collapsed": true,
    "jupyter": {
     "outputs_hidden": true
    }
   },
   "outputs": [],
   "source": [
    "SELECT SUM(p.Quantity), Artist.Name as artist -- Displaying number of purchased songs and artist name\n",
    "FROM(\n",
    "\tSELECT Invoice.*, InvoiceLine.*, Track.*, Genre.*\n",
    "\tFROM Invoice\n",
    "\tJOIN InvoiceLine ON Invoice.InvoiceId = InvoiceLine.InvoiceId\n",
    "\tJOIN Track ON InvoiceLine.TrackId = Track.TrackId\n",
    "\tJOIN Genre ON Genre.GenreId = Track.GenreId\n",
    "\tWHERE Genre.Name = 'Pop'\n",
    "\t) p\n",
    "JOIN Album ON p.AlbumId = Album.AlbumId\n",
    "JOIN Artist ON Album.ArtistId = Artist.ArtistId -- Added Album and Artist to our megatable\n",
    "GROUP BY artist\n",
    "ORDER BY SUM(p.Quantity) DESC\n",
    "LIMIT 1; -- We only want this artist with the greatest number of purchases (ie. U2)\n",
    "\n",
    "SELECT SUM(DISTINCT Total) -- Gives total spent on Pop songs\n",
    "FROM(\n",
    "\tSELECT *\n",
    "\tFROM(\n",
    "\t\tSELECT Invoice.*, InvoiceLine.*, Track.*, Genre.*\n",
    "\t\tFROM Invoice\n",
    "\t\tLEFT JOIN InvoiceLine ON Invoice.InvoiceId = InvoiceLine.InvoiceId\n",
    "\t\tJOIN Track ON InvoiceLine.TrackId = Track.TrackId\n",
    "\t\tJOIN Genre ON Genre.GenreId = Track.GenreId\n",
    "\t\tWHERE Genre.Name = 'Pop'\n",
    "\t\t) p\n",
    "\tJOIN Album ON p.AlbumId = Album.AlbumId\n",
    "\tJOIN Artist ON Album.ArtistId = Artist.ArtistId\n",
    "\t) purchasedpop;\n",
    "\n",
    "SELECT SUM(DISTINCT Total), CustomerId\n",
    "FROM(\n",
    "\tSELECT Invoice.*, InvoiceLine.*, Track.*, Genre.*\n",
    "\tFROM Invoice\n",
    "\tJOIN InvoiceLine ON Invoice.InvoiceId = InvoiceLine.InvoiceId\n",
    "\tJOIN Track ON InvoiceLine.TrackId = Track.TrackId\n",
    "\tJOIN Genre ON Genre.GenreId = Track.GenreId\n",
    "\tWHERE Genre.Name = 'Pop'\n",
    "\t\t)\n",
    "GROUP BY CustomerId\n",
    "ORDER BY SUM(DISTINCT Total) DESC\n",
    "LIMIT 4;"
   ]
  },
  {
   "cell_type": "markdown",
   "metadata": {},
   "source": [
    "#### E. (10 points). Output how many songs each artist is selling in each country? Who is selling the post outside of the US? On average, how many songs is each artist selling outside of the US?\n",
    "---"
   ]
  },
  {
   "cell_type": "code",
   "execution_count": null,
   "metadata": {
    "collapsed": true,
    "jupyter": {
     "outputs_hidden": true
    }
   },
   "outputs": [],
   "source": [
    "SELECT ArtistId, artist, BillingCountry, SUM(Quantity) as quantity \n",
    "FROM(\n",
    "\tSELECT Invoice.*, InvoiceLine.*, Track.*, Genre.*, Album.*, Artist.*, Artist.Name as artist\n",
    "\tFROM Invoice\n",
    "\tJOIN InvoiceLine ON Invoice.InvoiceId = InvoiceLine.InvoiceId\n",
    "\tJOIN Track ON InvoiceLine.TrackId = Track.TrackId\n",
    "\tJOIN Genre ON Genre.GenreId = Track.GenreId\n",
    "\tJOIN Album ON Track.AlbumId = Album.AlbumId\n",
    "\tJOIN Artist ON Album.ArtistId = Artist.ArtistId\n",
    "\t) wowza\n",
    "GROUP BY BillingCountry, ArtistId\n",
    "ORDER BY ArtistId ASC, SUM(Quantity) DESC, BillingCountry ASC; -- Gives how many songs each artist sells in each country\n",
    "\n",
    "SELECT ArtistId, artist, SUM(quantity) -- Gives total sold\n",
    "FROM(\n",
    "\tSELECT ArtistId, artist, BillingCountry, SUM(Quantity) as quantity\n",
    "\tFROM(\n",
    "\t\tSELECT Invoice.*, InvoiceLine.*, Track.*, Genre.*, Album.*, Artist.*, Artist.Name as artist\n",
    "\t\tFROM Invoice\n",
    "\t\tJOIN InvoiceLine ON Invoice.InvoiceId = InvoiceLine.InvoiceId\n",
    "\t\tJOIN Track ON InvoiceLine.TrackId = Track.TrackId\n",
    "\t\tJOIN Genre ON Genre.GenreId = Track.GenreId\n",
    "\t\tJOIN Album ON Track.AlbumId = Album.AlbumId\n",
    "\t\tJOIN Artist ON Album.ArtistId = Artist.ArtistId\n",
    "\t\t) wowza\n",
    "\tGROUP BY BillingCountry, ArtistId\n",
    "\tORDER BY ArtistId ASC, SUM(Quantity) DESC, BillingCountry ASC\n",
    "\t) woooowza\n",
    "WHERE BillingCountry is not 'USA' -- Limits to outside of USA\n",
    "GROUP BY ArtistId\n",
    "ORDER BY quantity DESC;\n",
    "\n",
    "SELECT AVG(totalnotus) -- Gives average sold not in the USA\n",
    "FROM (\n",
    "\tSELECT ArtistId, artist, SUM(quantity) as totalnotus\n",
    "\tFROM(\n",
    "\t\tSELECT ArtistId, artist, BillingCountry, SUM(Quantity) as quantity\n",
    "\t\tFROM(\n",
    "\t\t\tSELECT Invoice.*, InvoiceLine.*, Track.*, Genre.*, Album.*, Artist.*, Artist.Name as artist\n",
    "\t\t\tFROM Invoice\n",
    "\t\t\tJOIN InvoiceLine ON Invoice.InvoiceId = InvoiceLine.InvoiceId\n",
    "\t\t\tJOIN Track ON InvoiceLine.TrackId = Track.TrackId\n",
    "\t\t\tJOIN Genre ON Genre.GenreId = Track.GenreId\n",
    "\t\t\tJOIN Album ON Track.AlbumId = Album.AlbumId\n",
    "\t\t\tJOIN Artist ON Album.ArtistId = Artist.ArtistId\n",
    "\t\t\t) wowza\n",
    "\t\tGROUP BY BillingCountry, ArtistId\n",
    "\t\tORDER BY ArtistId ASC, SUM(Quantity) DESC, BillingCountry ASC\n",
    "\t\t) woooowza\n",
    "\tWHERE BillingCountry is not 'USA'\n",
    "\tGROUP BY ArtistId\n",
    "\tORDER BY quantity DESC\n",
    "\t) wooooooooowza;"
   ]
  },
  {
   "cell_type": "markdown",
   "metadata": {},
   "source": [
    "## 3. Window Functions (20 points)\n",
    "---"
   ]
  },
  {
   "cell_type": "markdown",
   "metadata": {},
   "source": [
    "#### A. (10 points). Return a list of Customers that assigns a sequential integer to each customer and resets the number when the country of the customer changes for Customers are not from Canada and Brazil and whose email address have `yahoo` or `gmail'\n",
    "---"
   ]
  },
  {
   "cell_type": "code",
   "execution_count": null,
   "metadata": {
    "collapsed": true,
    "jupyter": {
     "outputs_hidden": true
    }
   },
   "outputs": [],
   "source": [
    "SELECT *, ROW_NUMBER() OVER (PARTITION BY Country)\n",
    "FROM Customer c\n",
    "WHERE Country is not 'Canada' OR Country is not 'Brazil' \n",
    "\tAND (Email LIKE '%yahoo.com' OR Email LIKE '%gmail.com')\n",
    "ORDER BY Country;"
   ]
  },
  {
   "cell_type": "markdown",
   "metadata": {},
   "source": [
    "#### B. (10 points). Compute the rank for each track in each album based on the track’s length, then append all the tracks that have a lengthrank of 2 and 4 \n",
    "---"
   ]
  },
  {
   "cell_type": "code",
   "execution_count": null,
   "metadata": {
    "collapsed": true,
    "jupyter": {
     "outputs_hidden": true
    }
   },
   "outputs": [],
   "source": [
    "SELECT *\n",
    "FROM(\n",
    "\tSELECT AlbumID, Name, Milliseconds, \n",
    "\t\tDENSE_RANK() OVER (PARTITION BY AlbumId ORDER BY Milliseconds) lengthrank --This is the length ranking function\n",
    "\tFROM Track)\n",
    "WHERE lengthrank = 2 OR lengthrank = 4;"
   ]
  },
  {
   "cell_type": "markdown",
   "metadata": {},
   "source": [
    "## BONUS (20 points)\n",
    "---\n",
    "- Using SQLITE syntax [make your own SQLITE table](https://www.sqlitetutorial.net/sqlite-create-table/) and set of data. You will need to create a table of 5 columns and 10 rows containing any information you find interesting. (5 points)\n",
    "- You should create/import your table need to [dbeaver](https://docs.roguewave.com/en/zendstudio/current/content/create_manage_database_with_dbeaver.htm). (5 points)\n",
    "- Perform 3 different calculations using your data in order to tell a story of your data set. (10 points)\n",
    "\n",
    "** FEEL FREE TO USE/EXPLORE OTHER SOURCES**"
   ]
  },
  {
   "cell_type": "code",
   "execution_count": null,
   "metadata": {
    "collapsed": true,
    "jupyter": {
     "outputs_hidden": true
    }
   },
   "outputs": [],
   "source": []
  }
 ],
 "metadata": {
  "kernelspec": {
   "display_name": "Python 3",
   "language": "python",
   "name": "python3"
  },
  "language_info": {
   "codemirror_mode": {
    "name": "ipython",
    "version": 3
   },
   "file_extension": ".py",
   "mimetype": "text/x-python",
   "name": "python",
   "nbconvert_exporter": "python",
   "pygments_lexer": "ipython3",
   "version": "3.7.3"
  }
 },
 "nbformat": 4,
 "nbformat_minor": 4
}
