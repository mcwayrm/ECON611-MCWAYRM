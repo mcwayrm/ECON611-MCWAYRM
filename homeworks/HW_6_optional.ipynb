{
 "cells": [
  {
   "cell_type": "markdown",
   "metadata": {},
   "source": [
    "<img src=\"https://images.efollett.com/htmlroot/images/templates/storeLogos/CA/864.gif\" style=\"float: right;\"> \n",
    "\n",
    "\n",
    "\n",
    "\n",
    "# ECON611\n",
    "### HW_6-  Optional HW\n",
    "\n",
    "\n",
    "For this homework you'll be using the provided imdb `movies` list below as your dataset. \n",
    "\n",
    "**All the questions require writing functions and also use iteration/list comprehensions to solve. You should print out a test of each function you write.**\n",
    "\n",
    "1. If you are working on this HW you will need to submit this HW by Dec 9th before we begin our final exam.\n",
    "2. When you submit the HW you need to let us know which of the previous 5 HWs you want to replace with using the score of this Optional HW6.\n",
    "3. The solutions to this HW will be posted after the final exam on Dec 9th.\n",
    "---\n",
    "\n",
    "### 1. Load the provided list of movies dictionaries."
   ]
  },
  {
   "cell_type": "code",
   "execution_count": 1,
   "metadata": {
    "collapsed": true
   },
   "outputs": [],
   "source": [
    "# List of movies dictionaries:\n",
    "\n",
    "movies = [\n",
    "{\n",
    "\"name\": \"Usual Suspects\", \n",
    "\"imdb\": 7.0,\n",
    "\"category\": \"Thriller\"\n",
    "},\n",
    "{\n",
    "\"name\": \"Hitman\",\n",
    "\"imdb\": 6.3,\n",
    "\"category\": \"Action\"\n",
    "},\n",
    "{\n",
    "\"name\": \"Dark Knight\",\n",
    "\"imdb\": 9.0,\n",
    "\"category\": \"Adventure\"\n",
    "},\n",
    "{\n",
    "\"name\": \"The Help\",\n",
    "\"imdb\": 8.0,\n",
    "\"category\": \"Drama\"\n",
    "},\n",
    "{\n",
    "\"name\": \"The Choice\",\n",
    "\"imdb\": 6.2,\n",
    "\"category\": \"Romance\"\n",
    "},\n",
    "{\n",
    "\"name\": \"Colonia\",\n",
    "\"imdb\": 7.4,\n",
    "\"category\": \"Romance\"\n",
    "},\n",
    "{\n",
    "\"name\": \"Love\",\n",
    "\"imdb\": 6.0,\n",
    "\"category\": \"Romance\"\n",
    "},\n",
    "{\n",
    "\"name\": \"Bride Wars\",\n",
    "\"imdb\": 5.4,\n",
    "\"category\": \"Romance\"\n",
    "},\n",
    "{\n",
    "\"name\": \"AlphaJet\",\n",
    "\"imdb\": 3.2,\n",
    "\"category\": \"War\"\n",
    "},\n",
    "{\n",
    "\"name\": \"Ringing Crime\",\n",
    "\"imdb\": 4.0,\n",
    "\"category\": \"Crime\"\n",
    "},\n",
    "{\n",
    "\"name\": \"Joking muck\",\n",
    "\"imdb\": 7.2,\n",
    "\"category\": \"Comedy\"\n",
    "},\n",
    "{\n",
    "\"name\": \"What is the name\",\n",
    "\"imdb\": 9.2,\n",
    "\"category\": \"Suspense\"\n",
    "},\n",
    "{\n",
    "\"name\": \"Detective\",\n",
    "\"imdb\": 7.0,\n",
    "\"category\": \"Suspense\"\n",
    "},\n",
    "{\n",
    "\"name\": \"Exam\",\n",
    "\"imdb\": 4.2,\n",
    "\"category\": \"Thriller\"\n",
    "},\n",
    "{\n",
    "\"name\": \"We Two\",\n",
    "\"imdb\": 7.2,\n",
    "\"category\": \"Romance\"\n",
    "}\n",
    "]"
   ]
  },
  {
   "cell_type": "markdown",
   "metadata": {},
   "source": [
    "---\n",
    "\n",
    "### 2. Filtering data by IMDB score\n",
    "\n",
    "#### 2.1   [15 points]\n",
    "\n",
    "Write a function that:\n",
    "\n",
    "1. Accepts a single movie dictionary from the `movies` list as an argument.\n",
    "2. Returns True if the IMDB score is above 5.5 and prints the movie names\n",
    "\n",
    "#### 2.2   [15 points]\n",
    "\n",
    "Write a function that:\n",
    "\n",
    "1. Accepts the movies list and a specified category.\n",
    "2. Returns True if the average score of the category is higher than the average score of all movies."
   ]
  },
  {
   "cell_type": "code",
   "execution_count": 2,
   "metadata": {
    "collapsed": true
   },
   "outputs": [],
   "source": [
    "# Code for 2.1 \n"
   ]
  },
  {
   "cell_type": "code",
   "execution_count": 3,
   "metadata": {},
   "outputs": [
    {
     "data": {
      "text/plain": [
       "'Testing solution'"
      ]
     },
     "execution_count": 3,
     "metadata": {},
     "output_type": "execute_result"
    }
   ],
   "source": [
    "'''Testing solution'''\n"
   ]
  },
  {
   "cell_type": "code",
   "execution_count": 4,
   "metadata": {},
   "outputs": [],
   "source": [
    "# Code for 2.2\n"
   ]
  },
  {
   "cell_type": "code",
   "execution_count": 5,
   "metadata": {},
   "outputs": [
    {
     "data": {
      "text/plain": [
       "'Testing solution'"
      ]
     },
     "execution_count": 5,
     "metadata": {},
     "output_type": "execute_result"
    }
   ],
   "source": [
    "'''Testing solution'''\n"
   ]
  },
  {
   "cell_type": "markdown",
   "metadata": {},
   "source": [
    "---\n",
    "\n",
    "### 3. Creating subsets by numeric condition\n",
    "\n",
    "#### 3.1 [15 points]\n",
    "\n",
    "Write a function that:\n",
    "\n",
    "1. Accepts the movies list as an argument.\n",
    "2. Returns the movies list sorted first by category and then by movie according to average score and individual score, respectively."
   ]
  },
  {
   "cell_type": "code",
   "execution_count": 6,
   "metadata": {},
   "outputs": [
    {
     "data": {
      "text/plain": [
       "'Testing Solutions'"
      ]
     },
     "execution_count": 6,
     "metadata": {},
     "output_type": "execute_result"
    }
   ],
   "source": [
    "# Code for 3.2 \n",
    "\n",
    "\n",
    "\n",
    "'''Testing Solutions'''\n"
   ]
  },
  {
   "cell_type": "markdown",
   "metadata": {},
   "source": [
    "---\n",
    "\n",
    "### 4. Creating subsets by string condition\n",
    "\n",
    "#### 4.1 [15 points]\n",
    "\n",
    "Write a function that:\n",
    "\n",
    "1. Accepts the movies list and a category name.\n",
    "2. Returns the movie names within that category (case-insensitive!)\n",
    "3. If the category is not in the data, print a message that it does not exist and return None.\n",
    "\n",
    "Recall that to convert a string to lowercase, you can use:\n",
    "\n",
    "```python\n",
    "mystring = 'Dumb and Dumber'\n",
    "lowercase_mystring = mystring.lower()\n",
    "print lowercase_mystring\n",
    "'dumb and dumber'\n",
    "```\n",
    "\n",
    "#### 4.2 [15 points]\n",
    "\n",
    "Write a function that:\n",
    "\n",
    "1. Accepts the movies list and a \"search string\".\n",
    "2. Returns a dictionary with keys `'category'` and `'title'` whose values are lists of categories that contain the search string and titles that contain the search string, respectively (case-insensitive!)"
   ]
  },
  {
   "cell_type": "code",
   "execution_count": 7,
   "metadata": {},
   "outputs": [
    {
     "data": {
      "text/plain": [
       "'Testing solution'"
      ]
     },
     "execution_count": 7,
     "metadata": {},
     "output_type": "execute_result"
    }
   ],
   "source": [
    "# Code for 4.1 \n",
    "\n",
    "    \n",
    "\n",
    "    \n",
    "'''Testing solution'''\n"
   ]
  },
  {
   "cell_type": "code",
   "execution_count": 8,
   "metadata": {},
   "outputs": [
    {
     "data": {
      "text/plain": [
       "'Testing solution'"
      ]
     },
     "execution_count": 8,
     "metadata": {},
     "output_type": "execute_result"
    }
   ],
   "source": [
    "# Code for 4.2     \n",
    "\n",
    "\n",
    "'''Testing solution'''\n"
   ]
  },
  {
   "cell_type": "markdown",
   "metadata": {},
   "source": [
    "---\n",
    "\n",
    "### Multiple conditions\n",
    "\n",
    "#### 5.1\n",
    "\n",
    "Write a function that:\n",
    "\n",
    "1. Accepts the movies list and a \"search criteria\" variable.\n",
    "2. If the criteria variable is numeric, return a list of movie titles with a score greater than or equal to the criteria.\n",
    "3. If the criteria variable is a string, return a list of movie titles that match that category (case-insensitive!). If there is no match, return an empty list and print an informative message.\n",
    "\n",
    "#### 5.2 \n",
    "\n",
    "Write a function that:\n",
    "\n",
    "1. Accepts the movies list and a string search criteria variable.\n",
    "2. The search criteria variable can contain within it:\n",
    "  - Boolean operations: `'AND'`, `'OR'`, and `'NOT'` (can have/be lowercase as well, I just capitalized for clarity).\n",
    "  - Search criteria specified with syntax `score=...`, `category=...`, and/or `title=...`, where the `...` indicates what to look for.\n",
    "    - If `score` is present, it means scores greater than or equal to the value.\n",
    "    - For `category` and `title`, the string indicates that the category or title must _contain_ the search string (case-insensitive).\n",
    "3. Return the matches for the search criteria specified."
   ]
  },
  {
   "cell_type": "code",
   "execution_count": 9,
   "metadata": {},
   "outputs": [
    {
     "data": {
      "text/plain": [
       "'Testing solution'"
      ]
     },
     "execution_count": 9,
     "metadata": {},
     "output_type": "execute_result"
    }
   ],
   "source": [
    "# Code for 5.1 Section \n",
    "\n",
    "    \n",
    "    \n",
    "            \n",
    "'''Testing solution'''"
   ]
  },
  {
   "cell_type": "code",
   "execution_count": 10,
   "metadata": {
    "collapsed": true
   },
   "outputs": [],
   "source": [
    "# Code for 5.2 section \n"
   ]
  },
  {
   "cell_type": "code",
   "execution_count": 11,
   "metadata": {},
   "outputs": [
    {
     "data": {
      "text/plain": [
       "'Testing solution'"
      ]
     },
     "execution_count": 11,
     "metadata": {},
     "output_type": "execute_result"
    }
   ],
   "source": [
    "'''Testing solution'''"
   ]
  },
  {
   "cell_type": "code",
   "execution_count": null,
   "metadata": {
    "collapsed": true
   },
   "outputs": [],
   "source": []
  }
 ],
 "metadata": {
  "kernelspec": {
   "display_name": "Python [default]",
   "language": "python",
   "name": "python2"
  },
  "language_info": {
   "codemirror_mode": {
    "name": "ipython",
    "version": 2
   },
   "file_extension": ".py",
   "mimetype": "text/x-python",
   "name": "python",
   "nbconvert_exporter": "python",
   "pygments_lexer": "ipython2",
   "version": "2.7.13"
  }
 },
 "nbformat": 4,
 "nbformat_minor": 1
}
