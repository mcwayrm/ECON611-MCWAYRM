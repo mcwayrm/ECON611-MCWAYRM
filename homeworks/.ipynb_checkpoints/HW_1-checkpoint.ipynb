{
 "cells": [
  {
   "cell_type": "markdown",
   "metadata": {},
   "source": [
    "<img src=\"https://images.efollett.com/htmlroot/images/templates/storeLogos/CA/864.gif\" style=\"float: right;\"> \n",
    "\n",
    "\n",
    "\n",
    "\n",
    "# ECON611\n",
    "### HW_1 -  Python "
   ]
  },
  {
   "cell_type": "code",
   "execution_count": 1,
   "metadata": {},
   "outputs": [],
   "source": [
    "# Packages you can use. DO NOT USE ANY OTHER PACKAGE BESIDES THESE\n",
    "import json\n",
    "import re"
   ]
  },
  {
   "cell_type": "markdown",
   "metadata": {},
   "source": [
    "# Homework 1\n",
    "\n",
    "This homework will help you practice working with loops and strings. Both are fundamental for computer science, so please make sure to ask Javi/Stephen/Lilla if you have any questions. If you don't understand these concepts, the class will be very difficult because you will see them in all following homeworks.\n",
    "  \n",
    "  \n",
    "Unless explicitly stated, you can use whatever you want to answer the question"
   ]
  },
  {
   "cell_type": "markdown",
   "metadata": {},
   "source": [
    "## Problem 1\n",
    "### Data\n",
    "In this problem, you will be working with raw html files of the webpages for the child welfare program in the nber working paper series ([example](https://www.nber.org/papers/w26242)).\n",
    "\n",
    "### Basic information about html\n",
    "Html documents have tags listed in &lt;> that identify information about the content the tag refers to.  \n",
    "There are two different types of tags:  \n",
    "1. <b>Start and end tag</b>. There is a tag that signifies the start and a tag that indicates the end. \n",
    "For example,  \n",
    "&lt;title>  \n",
    "   Fathers' Multiple-Partner Fertility and Children's Educational Outcomes  \n",
    "&lt;/title>  \n",
    "The end tag is always &lt;/[NAME OF TAG]>, while the start tag might have information after the tag (&lt;p style=\"margin-left: 40px; margin-right: 40px; text-align: justify\"> is a head tag with name p)  \n",
    "  \n",
    "2. <b>In-place tags</b>. These are tags that open and close itself. For example, &lt;meta content=\"Donna K. Ginther\" name=\"keyword\"/>. The /> at the end signifies closing the tag.\n",
    "\n",
    "Refer to the example below to see what an html file looks like."
   ]
  },
  {
   "cell_type": "code",
   "execution_count": 2,
   "metadata": {},
   "outputs": [],
   "source": [
    "# loads the raw html files for your hw.\n",
    "# The data format is a list of strings, where each string is the webpage \n",
    "with open('../database/nber.json') as f:\n",
    "    data = json.load(f)"
   ]
  },
  {
   "cell_type": "code",
   "execution_count": 6,
   "metadata": {},
   "outputs": [],
   "source": [
    "# print(data[0]) # example of data"
   ]
  },
  {
   "cell_type": "markdown",
   "metadata": {},
   "source": [
    "#### 1.\n",
    "Extract the  \n",
    "<b>i)   Title</b>   \n",
    "This can be found between &lt;title> and &lt;/title>, e.g.  \n",
    "&lt;title>Child Access Prevention Laws and Juvenile Firearm-Related Homicides&lt;/title>  \n",
    "  \n",
    "<b>ii)  Date of publication</b>  \n",
    "This can be found in the content section of a &lt;meta> tag when the name section is citation_author, e.g.  \n",
    "&lt;meta content=\"2019-09-05\" name=\"citation_date\"/>\n",
    "  \n",
    "<b>iii) Authors (return this as a list of lists, where each sub-list is the list of authors for that paper)</b>  \n",
    "This can be found in the content section of a &lt;meta> tag when the name section is citation_author, e.g.  \n",
    "&lt;meta content=\"Ginther, Donna K\" name=\"citation_author\"/>  \n",
    "  \n",
    "<b>iv) Abstract </b>  \n",
    "The head tag for this is &lt;p style=\"margin-left: 40px; margin-right: 40px; text-align: justify\">\n",
    "\n",
    "<b>Example</b>  \n",
    "If I had the texts from the following two papers [1](https://www.nber.org/papers/w26242) [2](https://www.nber.org/papers/w26238), my outputs would be:  \n",
    "  \n",
    "i)   [\"Fathers' Multiple-Partner Fertility and Children's Educational Outcomes\",  \n",
    "      \"Changes in Family Structure and Welfare Participation Since the 1960s: The Role of Legal Services\"]    \n",
    "  \n",
    "ii)  [\"2019-09-05\", \"2019-09-05\"]    \n",
    "  \n",
    "iii) [[\"Ginther, Donna K\", \"Grasdal, Astrid L\", \"Pollak, Robert A\"],  \n",
    "      [\"Goodman-Bacon, Andrew\", \"Cunningham, Jamein P\"]]"
   ]
  },
  {
   "cell_type": "code",
   "execution_count": 189,
   "metadata": {},
   "outputs": [
    {
     "data": {
      "text/plain": [
       "186"
      ]
     },
     "execution_count": 189,
     "metadata": {},
     "output_type": "execute_result"
    }
   ],
   "source": [
    "# Check the length \n",
    "len(data)"
   ]
  },
  {
   "cell_type": "code",
   "execution_count": 207,
   "metadata": {},
   "outputs": [],
   "source": [
    "# i) Title\n",
    "title_list = list()\n",
    "for i in range(len(data)):\n",
    "    title = re.search('<title>.{1,}</title>', str(data[i]))\n",
    "    title1 = title[0][7:-8]\n",
    "    title_list.append(title1)\n",
    "# print(title_list)"
   ]
  },
  {
   "cell_type": "code",
   "execution_count": 208,
   "metadata": {},
   "outputs": [],
   "source": [
    "# ii) Date\n",
    "date_list = list()\n",
    "for i in range(len(data)):\n",
    "   date = re.search('<meta name=\"citation_date\".{1,}>', str(data[i]))\n",
    "   date1 = date[0][36:-2]\n",
    "   date_list.append(date1)\n",
    "# print(date_list)"
   ]
  },
  {
   "cell_type": "code",
   "execution_count": 209,
   "metadata": {},
   "outputs": [],
   "source": [
    "# iii) Authors\n",
    "authors_list = list()\n",
    "for i in range(len(data)):\n",
    "    author = re.search('<meta name=\"citation_author\".{1,}<meta name=\"DC.Date\"', str(data[i]), re.DOTALL)\n",
    "    author1 = author[0][:-20]\n",
    "    a = author1.split('<meta name=\"citation_author\" content=\"')\n",
    "    del a[0]\n",
    "    for n, i in enumerate(a):\n",
    "            a[n] = a[n][:-4]\n",
    "    authors_list.append(a)\n",
    "# print(authors_list)\n"
   ]
  },
  {
   "cell_type": "code",
   "execution_count": 210,
   "metadata": {},
   "outputs": [],
   "source": [
    "# iv) Abstract\n",
    "\n",
    "# # Version 1\n",
    "# abstract_list = list()\n",
    "# for i in range(186):\n",
    "#    abstract_begin = data[i].find('<p style=\"margin-left: 40px; margin-right: 40px; text-align: justify\">')\n",
    "#    abstract_begin += 70\n",
    "#    abstract_end = data[i].find(\"</p>\", abstract_begin)\n",
    "#    abstract = data[i][abstract_begin:abstract_end]\n",
    "#    abstract_list.append(abstract[1:-1])\n",
    "# # print(abstract_list)\n",
    "\n",
    "# Version 2\n",
    "abstract_list = list()\n",
    "for i in range(len(data)):\n",
    "    abstract2 = re.search(r'<p style=\"margin-left: 40px; margin-right: 40px; text-align: justify\">(.+?)</p>', str(data[i]), re.DOTALL)\n",
    "    abstract_extract = abstract2 [0][71:-5]\n",
    "    abstract_list.append(abstract_extract)\n",
    "# print(abstract_list)\n"
   ]
  },
  {
   "cell_type": "code",
   "execution_count": 5,
   "metadata": {},
   "outputs": [],
   "source": [
    "# The Offical 'big boy.' Wish I could index each paper as a single entry\n",
    "papers_list = list()\n",
    "for i in range(len(data)):\n",
    "#     Title\n",
    "    title = re.search('<title>.{1,}</title>', str(data[i]))\n",
    "    title1 = title[0][7:-8]\n",
    "#     Date\n",
    "    date = re.search('<meta name=\"citation_date\".{1,}>', str(data[i]))\n",
    "    date1 = date[0][36:-2]\n",
    "#     Abstract\n",
    "    abstract2 = re.search(r'<p style=\"margin-left: 40px; margin-right: 40px; text-align: justify\">(.+?)</p>', str(data[i]), re.DOTALL)\n",
    "    abstract_extract = abstract2 [0][71:-5]\n",
    "#     Author\n",
    "    author = re.search('<meta name=\"citation_author\".{1,}<meta name=\"DC.Date\"', str(data[i]), re.DOTALL)\n",
    "    author1 = author[0][:-20]\n",
    "    a = author1.split('<meta name=\"citation_author\" content=\"')\n",
    "    del a[0]\n",
    "    for n, i in enumerate(a):\n",
    "            a[n] = a[n][:-4]\n",
    "#     Append to master list\n",
    "    papers_list.append([title1, date1, a, abstract_extract])\n",
    "# check an entry\n",
    "# print(papers_list[1])"
   ]
  }
 ],
 "metadata": {
  "kernelspec": {
   "display_name": "Python 3",
   "language": "python",
   "name": "python3"
  },
  "language_info": {
   "codemirror_mode": {
    "name": "ipython",
    "version": 3
   },
   "file_extension": ".py",
   "mimetype": "text/x-python",
   "name": "python",
   "nbconvert_exporter": "python",
   "pygments_lexer": "ipython3",
   "version": "3.7.3"
  }
 },
 "nbformat": 4,
 "nbformat_minor": 2
}
