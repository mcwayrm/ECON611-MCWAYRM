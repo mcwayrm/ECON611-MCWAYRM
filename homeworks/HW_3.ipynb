{
 "cells": [
  {
   "cell_type": "markdown",
   "metadata": {},
   "source": [
    "<img src=\"https://images.efollett.com/htmlroot/images/templates/storeLogos/CA/864.gif\" style=\"float: right;\"> \n",
    "\n",
    "\n",
    "\n",
    "\n",
    "# ECON611\n",
    "### HW_3 -  Python: Sets and Dictionaries\n",
    "#### Due: Oct 7"
   ]
  },
  {
   "cell_type": "code",
   "execution_count": 26,
   "metadata": {},
   "outputs": [],
   "source": [
    "import json\n",
    "import sys\n",
    "sys.path.append('..')\n",
    "from util_python.gen_hw_3 import load_data"
   ]
  },
  {
   "cell_type": "markdown",
   "metadata": {},
   "source": [
    "### Warm-up (40 points)\n",
    "NOTE: the inp I give is just an example input. Your code should still work if we change the input\n",
    "\n",
    "#### 1.\n",
    "Explain what we we use each of the following for:  \n",
    "a. lists  \n",
    "  \n",
    "  \n",
    "b. dictionaries  \n",
    "  \n",
    "c. sets  \n",
    "  "
   ]
  },
  {
   "cell_type": "markdown",
   "metadata": {},
   "source": [
    "#### 2. \n",
    "Identify all the unique values in the dictionary  \n",
    "inp: ```inp = {1:2, 2:3, 3:4, 4:2, 5:2}```  \n",
    "out: ```[2 ,3 ,4]```"
   ]
  },
  {
   "cell_type": "code",
   "execution_count": 6,
   "metadata": {},
   "outputs": [
    {
     "data": {
      "text/plain": [
       "{2, 3, 4}"
      ]
     },
     "execution_count": 6,
     "metadata": {},
     "output_type": "execute_result"
    }
   ],
   "source": [
    "inp = {1:2, 2:3, 3:4, 4:2, 5:2}\n",
    "set(inp.values())"
   ]
  },
  {
   "cell_type": "markdown",
   "metadata": {},
   "source": [
    "#### 3.\n",
    "return a list of the values of a dictionary when its corresponding key is an integer less than 10.  \n",
    "inp: ```{'Econ': '611', 1:2, 14:15, 6:'14'}```  \n",
    "out: ```[2, 14]```"
   ]
  },
  {
   "cell_type": "code",
   "execution_count": 9,
   "metadata": {},
   "outputs": [
    {
     "data": {
      "text/plain": [
       "[2, '14']"
      ]
     },
     "execution_count": 9,
     "metadata": {},
     "output_type": "execute_result"
    }
   ],
   "source": [
    "inp = {'Econ': '611', 1:2, 14:15, 6:'14'}\n",
    "\n",
    "[value for key, value in inp.items() if isinstance(key, int) and key < 10]"
   ]
  },
  {
   "cell_type": "markdown",
   "metadata": {},
   "source": [
    "#### 4.\n",
    "Given a string, find the word with the highest count.  \n",
    "a. Separate the string into words  \n",
    "b. keep a count of the words  \n",
    "c. return the word with the highest count  \n",
    "inp: ```\"I went to school to study.\"```  \n",
    "out: ```\"to: 2\"```"
   ]
  },
  {
   "cell_type": "code",
   "execution_count": 20,
   "metadata": {},
   "outputs": [
    {
     "name": "stdout",
     "output_type": "stream",
     "text": [
      "to: 2\n"
     ]
    }
   ],
   "source": [
    "inp = \"I went to school to study.\"\n",
    "counts = {}\n",
    "for word in inp.split():\n",
    "    if word in counts.keys():\n",
    "        counts[word] += 1\n",
    "    else:\n",
    "        counts[word] = 1\n",
    "max_word = max(counts, key = counts.get)\n",
    "print(f\"{max_word}: {counts[max_word]}\")\n",
    "# print(\"%s has %s and is the max word in the sentence\" % max_word counts[max_word])"
   ]
  },
  {
   "cell_type": "markdown",
   "metadata": {},
   "source": [
    "### Questions (60 points)\n",
    "Make sure to have the util_python directory in your repo so load_data() works"
   ]
  },
  {
   "cell_type": "code",
   "execution_count": 28,
   "metadata": {},
   "outputs": [],
   "source": [
    "data = load_data()"
   ]
  },
  {
   "cell_type": "code",
   "execution_count": 29,
   "metadata": {},
   "outputs": [
    {
     "data": {
      "text/plain": [
       "{'host_id': 2787,\n",
       " 'neighbourhood_group': 'Brooklyn',\n",
       " 'neighbourhood': 'Kensington',\n",
       " 'price': 149,\n",
       " 'minimum_nights': 1,\n",
       " 'room_type': 'Private room'}"
      ]
     },
     "execution_count": 29,
     "metadata": {},
     "output_type": "execute_result"
    }
   ],
   "source": [
    "data['2539']"
   ]
  },
  {
   "cell_type": "markdown",
   "metadata": {},
   "source": [
    "```data``` contains a dictionary of airbnb New york data. It is a nested dictionary, with the formath\n",
    "```{'house_id': {Dictionary of information about house}}```"
   ]
  },
  {
   "cell_type": "markdown",
   "metadata": {},
   "source": [
    "#### 1.\n",
    "a. Find the number of listings in each borough.  \n",
    "b. Find the number of listings of each listing type (house/private room/shared room)"
   ]
  },
  {
   "cell_type": "code",
   "execution_count": 30,
   "metadata": {},
   "outputs": [
    {
     "name": "stdout",
     "output_type": "stream",
     "text": [
      "{'Brooklyn': 20104, 'Manhattan': 21661, 'Queens': 5666, 'Staten Island': 373, 'Bronx': 1091}\n",
      "{'Private room': 22326, 'Entire home/apt': 25409, 'Shared room': 1160}\n"
     ]
    }
   ],
   "source": [
    "#  a.\n",
    "boroughs = {}\n",
    "for listing_id, listing in data.items():\n",
    "    borough = listing['neighbourhood_group']\n",
    "    if borough in boroughs.keys():\n",
    "        boroughs[borough] += 1\n",
    "    else:\n",
    "        boroughs[borough] = 1\n",
    "print(boroughs)\n",
    "#  b.\n",
    "types = {}\n",
    "for listing_id, listing in data.items():\n",
    "    room_type = listing['room_type']\n",
    "    if room_type in types.keys():\n",
    "        types[room_type] += 1\n",
    "    else:\n",
    "        types[room_type] = 1\n",
    "print(types)\n"
   ]
  },
  {
   "cell_type": "markdown",
   "metadata": {},
   "source": [
    "#### 2. Create a new dictionary that is grouped at the host level. \n",
    "The output should be ```{host_id:[{Dictionary of listing 1}, {listing 2},...]}```   \n",
    "How many listings do hosts have on average?"
   ]
  },
  {
   "cell_type": "code",
   "execution_count": 33,
   "metadata": {},
   "outputs": [
    {
     "name": "stdout",
     "output_type": "stream",
     "text": [
      "[{'neighbourhood_group': 'Brooklyn', 'neighbourhood': 'Kensington', 'price': 149, 'minimum_nights': 1, 'room_type': 'Private room', 'listing_id': '2539'}, {'neighbourhood_group': 'Brooklyn', 'neighbourhood': 'Bensonhurst', 'price': 99, 'minimum_nights': 1, 'room_type': 'Private room', 'listing_id': '7937553'}, {'neighbourhood_group': 'Brooklyn', 'neighbourhood': 'Gravesend', 'price': 79, 'minimum_nights': 1, 'room_type': 'Private room', 'listing_id': '10160215'}, {'neighbourhood_group': 'Brooklyn', 'neighbourhood': 'Gravesend', 'price': 149, 'minimum_nights': 1, 'room_type': 'Private room', 'listing_id': '10267242'}, {'neighbourhood_group': 'Brooklyn', 'neighbourhood': 'Bensonhurst', 'price': 79, 'minimum_nights': 1, 'room_type': 'Shared room', 'listing_id': '10593675'}, {'neighbourhood_group': 'Brooklyn', 'neighbourhood': 'Bensonhurst', 'price': 49, 'minimum_nights': 1, 'room_type': 'Private room', 'listing_id': '17263207'}]\n"
     ]
    }
   ],
   "source": [
    "hosts = {}\n",
    "for listing_id, listing in data.items():\n",
    "    host = listing['host_id']\n",
    "    listing_dict = dict([(k, v) for k, v in listing.items() if k != 'host_id'] + [('listing_id', listing_id)])\n",
    "    if host in hosts.keys():\n",
    "        hosts[host].append(listing_dict)\n",
    "    else:\n",
    "        hosts[host] = [listing_dict]\n",
    "print(hosts[2787])"
   ]
  },
  {
   "cell_type": "markdown",
   "metadata": {},
   "source": [
    "#### 3. Do hosts have many listings across boroughs? Do they generally stick to one type of room?"
   ]
  },
  {
   "cell_type": "code",
   "execution_count": 36,
   "metadata": {},
   "outputs": [
    {
     "name": "stdout",
     "output_type": "stream",
     "text": [
      "Percentage of hosts that list across boroughs is 2.1342646488164534%\n",
      "Percentage of hosts that stick to one type of room is 28.831975164920447%\n"
     ]
    }
   ],
   "source": [
    "hosts_mult_listings = dict([(h, l) for h, l in hosts.items() if len(l) > 1])\n",
    "hosts_mult_cnt = len(hosts_mult_listings)\n",
    "multiple_brgs_cnt = 0\n",
    "multiple_room_type_cnt = 0\n",
    "def more_than_one(lst, var):\n",
    "    multiple_boroughs = len(set([l[var] for l in lst])) > 1\n",
    "    return multiple_boroughs \n",
    "    \n",
    "for host, listings in hosts_mult_listings.items():\n",
    "    multiple_brgs_cnt += more_than_one(listings, 'neighbourhood_group')\n",
    "    multiple_room_type_cnt += more_than_one(listings, 'room_type')\n",
    "print(f\"Percentage of hosts that list across boroughs is {multiple_brgs_cnt/hosts_mult_cnt*100}%\")\n",
    "print(f\"Percentage of hosts that stick to one type of room is {multiple_room_type_cnt/hosts_mult_cnt*100}%\")"
   ]
  },
  {
   "cell_type": "markdown",
   "metadata": {},
   "source": [
    "#### 4. How many neighbourhoods are in each bourough?"
   ]
  },
  {
   "cell_type": "code",
   "execution_count": 38,
   "metadata": {},
   "outputs": [
    {
     "name": "stdout",
     "output_type": "stream",
     "text": [
      "{'Fordham', 'Spuyten Duyvil', 'West Farms', 'Melrose', 'Edenwald', 'Morris Heights', 'Concourse Village', 'City Island', 'Morris Park', 'Pelham Bay', 'University Heights', 'Hunts Point', 'Claremont Village', 'Riverdale', 'Port Morris', 'Westchester Square', 'Belmont', 'Castle Hill', 'Baychester', 'Allerton', 'Soundview', 'Longwood', 'Tremont', 'Pelham Gardens', 'Schuylerville', 'Eastchester', 'Norwood', 'Kingsbridge', 'Woodlawn', 'Morrisania', 'Unionport', 'North Riverdale', 'Concourse', 'Van Nest', 'Mount Hope', 'Bronxdale', 'East Morrisania', 'Clason Point', 'Highbridge', 'Mott Haven', 'Williamsbridge', 'Throgs Neck', 'Fieldston', 'Mount Eden', 'Olinville', 'Wakefield', 'Co-op City', 'Parkchester'}\n"
     ]
    }
   ],
   "source": [
    "neighborhood_group = {'Brooklyn':set(), 'Bronx': set(), 'Manhattan': set(), \n",
    "             'Queens': set(), 'Staten Island': set()}\n",
    "for listing_id, listing in data.items():\n",
    "    neighborhood_group[listing['neighbourhood_group']].add(listing['neighbourhood'])\n",
    "print(neighborhood_group['Bronx'])"
   ]
  }
 ],
 "metadata": {
  "kernelspec": {
   "display_name": "Python 3",
   "language": "python",
   "name": "python3"
  },
  "language_info": {
   "codemirror_mode": {
    "name": "ipython",
    "version": 3
   },
   "file_extension": ".py",
   "mimetype": "text/x-python",
   "name": "python",
   "nbconvert_exporter": "python",
   "pygments_lexer": "ipython3",
   "version": "3.7.3"
  }
 },
 "nbformat": 4,
 "nbformat_minor": 2
}
