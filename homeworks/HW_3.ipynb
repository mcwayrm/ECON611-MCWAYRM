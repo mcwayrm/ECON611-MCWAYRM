{
 "cells": [
  {
   "cell_type": "markdown",
   "metadata": {},
   "source": [
    "<img src=\"https://images.efollett.com/htmlroot/images/templates/storeLogos/CA/864.gif\" style=\"float: right;\"> \n",
    "\n",
    "\n",
    "\n",
    "\n",
    "# ECON611\n",
    "### HW_3 -  Python: Sets and Dictionaries\n",
    "#### Due: Oct 7"
   ]
  },
  {
   "cell_type": "code",
   "execution_count": 1,
   "metadata": {},
   "outputs": [],
   "source": [
    "import json\n",
    "import sys\n",
    "sys.path.append('..')\n",
    "from util_python.gen_hw_3 import load_data"
   ]
  },
  {
   "cell_type": "markdown",
   "metadata": {},
   "source": [
    "### Warm-up (40 points)\n",
    "NOTE: the inp I give is just an example input. Your code should still work if we change the input\n",
    "\n",
    "#### 1.\n",
    "Explain what we we use each of the following for:  \n",
    "a. lists  \n",
    "  \n",
    "  \n",
    "b. dictionaries  \n",
    "  \n",
    "c. sets  \n",
    "  "
   ]
  },
  {
   "cell_type": "markdown",
   "metadata": {},
   "source": [
    "#### 2. \n",
    "Identify all the unique values in the dictionary  \n",
    "inp: ```inp = {1:2, 2:3, 3:4, 4:2, 5:2}```  \n",
    "out: ```[2 ,3 ,4]```"
   ]
  },
  {
   "cell_type": "code",
   "execution_count": 2,
   "metadata": {},
   "outputs": [],
   "source": [
    "inp = {1:2, 2:3, 3:4, 4:2, 5:2}"
   ]
  },
  {
   "cell_type": "markdown",
   "metadata": {},
   "source": [
    "#### 3.\n",
    "return a list of the values of a dictionary when its corresponding key is an integer less than 10.  \n",
    "inp: ```{'Econ': '611', 1:2, 14:15, 6:'14'}```  \n",
    "out: ```[2, 14]```"
   ]
  },
  {
   "cell_type": "code",
   "execution_count": 3,
   "metadata": {},
   "outputs": [],
   "source": [
    "inp = {'Econ': '611', 1:2, 14:15, 6:'14'}\n"
   ]
  },
  {
   "cell_type": "markdown",
   "metadata": {},
   "source": [
    "#### 4.\n",
    "Given a string, find the word with the highest count.  \n",
    "a. Separate the string into words  \n",
    "b. keep a count of the words  \n",
    "c. return the word with the highest count  \n",
    "inp: ```\"I went to school to study.\"```  \n",
    "out: ```\"to: 2\"```"
   ]
  },
  {
   "cell_type": "code",
   "execution_count": 4,
   "metadata": {},
   "outputs": [],
   "source": [
    "inp = \"I went to school to study.\""
   ]
  },
  {
   "cell_type": "markdown",
   "metadata": {},
   "source": [
    "### Questions (60 points)\n",
    "Make sure to have the util_python directory in your repo so load_data() works"
   ]
  },
  {
   "cell_type": "code",
   "execution_count": 5,
   "metadata": {},
   "outputs": [],
   "source": [
    "data = load_data()"
   ]
  },
  {
   "cell_type": "code",
   "execution_count": 6,
   "metadata": {},
   "outputs": [
    {
     "data": {
      "text/plain": [
       "{'host_id': 2787,\n",
       " 'neighbourhood_group': 'Brooklyn',\n",
       " 'neighbourhood': 'Kensington',\n",
       " 'price': 149,\n",
       " 'minimum_nights': 1,\n",
       " 'room_type': 'Private room'}"
      ]
     },
     "execution_count": 6,
     "metadata": {},
     "output_type": "execute_result"
    }
   ],
   "source": [
    "data['2539']"
   ]
  },
  {
   "cell_type": "markdown",
   "metadata": {},
   "source": [
    "```data``` contains a dictionary of airbnb New york data. It is a nested dictionary, with the formath\n",
    "```{'house_id': {Dictionary of information about house}}```"
   ]
  },
  {
   "cell_type": "markdown",
   "metadata": {},
   "source": [
    "#### 1.\n",
    "a. Find the number of listings in each borough.  \n",
    "b. Find the number of listings of each listing type (house/private room/shared room)"
   ]
  },
  {
   "cell_type": "code",
   "execution_count": null,
   "metadata": {},
   "outputs": [],
   "source": []
  },
  {
   "cell_type": "markdown",
   "metadata": {},
   "source": [
    "#### 2. Create a new dictionary that is grouped at the host level. \n",
    "The output should be ```{host_id:[{Dictionary of listing 1}, {listing 2},...]}```   \n",
    "How many listings do hosts have on average?"
   ]
  },
  {
   "cell_type": "code",
   "execution_count": null,
   "metadata": {},
   "outputs": [],
   "source": []
  },
  {
   "cell_type": "markdown",
   "metadata": {},
   "source": [
    "#### 3. Do hosts have many listings across boroughs? Do they generally stick to one type of room?"
   ]
  },
  {
   "cell_type": "code",
   "execution_count": null,
   "metadata": {},
   "outputs": [],
   "source": []
  },
  {
   "cell_type": "markdown",
   "metadata": {},
   "source": [
    "#### 4. How many neighbourhoods are in each bourough?"
   ]
  },
  {
   "cell_type": "code",
   "execution_count": null,
   "metadata": {},
   "outputs": [],
   "source": []
  }
 ],
 "metadata": {
  "kernelspec": {
   "display_name": "Python 3",
   "language": "python",
   "name": "python3"
  },
  "language_info": {
   "codemirror_mode": {
    "name": "ipython",
    "version": 3
   },
   "file_extension": ".py",
   "mimetype": "text/x-python",
   "name": "python",
   "nbconvert_exporter": "python",
   "pygments_lexer": "ipython3",
   "version": "3.7.4"
  }
 },
 "nbformat": 4,
 "nbformat_minor": 2
}
