{
 "cells": [
  {
   "cell_type": "markdown",
   "metadata": {},
   "source": [
    "<img src=\"https://images.efollett.com/htmlroot/images/templates/storeLogos/CA/864.gif\" style=\"float: right;\"> \n",
    "\n",
    "\n",
    "\n",
    "\n",
    "# ECON611\n",
    "### HW_2: Solutions -  Python: Lists and Dictionaries\n",
    "#### Due: September 30"
   ]
  },
  {
   "cell_type": "markdown",
   "metadata": {},
   "source": [
    "Grade per questions:\n",
    "\n",
    "| Question                                                             | Value (%) |\n",
    "|:----------------------------------------------------------------------|:-----------:|\n",
    "| Warm-up 1                                                            | 10        |\n",
    "| Warm-up 2                                                            | 10        |\n",
    "| Warm-up 3                                                            | 10        |\n",
    "| Data Problem 1 (Separate the list of tuples into 4 lists)            | 14        |\n",
    "| Data problem 2 (What is the most expensive product?)                 | 14        |\n",
    "| Data problem 3 (What are the three cheapest products?)               | 14        |\n",
    "| Data problem 4 (What is the total value of all the goods in Target)  | 14        |\n",
    "| Data problem 5 (Create a new list products_50 w/....)                | 14        |\n",
    "| TOTAL                                                                | 100       |\n",
    "\n",
    "---\n",
    "| Question                                                                             | Value (max points/per answer) |\n",
    "|:--------------------------------------------------------------------------------------|:------------------------------------:|\n",
    "| BONUS (if answer is perfect)                                                         | 20                                 |\n",
    "| BONUS (if answer is intermediate to advanced)                                        | 15                                 |\n",
    "| BONUS (if answer is intermediate)                                                    | 10                                 |\n",
    "| BONUS (if tried something)                                                           | 5                                  |\n",
    "| **answer refers to CORRECT/CLEAN code/methods/functions, exceeds HW expectations, etc. | 14                                 |"
   ]
  },
  {
   "cell_type": "markdown",
   "metadata": {},
   "source": [
    "Lists are the foundational data structures used in Python. "
   ]
  },
  {
   "cell_type": "code",
   "execution_count": 34,
   "metadata": {
    "collapsed": true
   },
   "outputs": [],
   "source": [
    "import json"
   ]
  },
  {
   "cell_type": "markdown",
   "metadata": {},
   "source": [
    "### Warm-up (30 points)\n",
    "Some people were having trouble solving some of the warm-up questions, so we are breaking them down in sub-questions for at least the first two assignments. If you have a different way you want to do, please feel free to ignore the break-down.\n",
    "#### 1. \n",
    "Reverse the first half of a list\n",
    "  \n",
    "a) Create a new variable that holds the first half of the list. If the last has an odd number of elements, round down (i.e. len(list) = 5, reverse the first two elements).  \n",
    "  \n",
    "b) Reverse the list created in a)  \n",
    "  \n",
    "c) Append the second half of the ```inp``` list to the end of the list from b)  \n",
    "  \n",
    "input: ```[1, 2, 3, 4, 5, 6, 7]```  \n",
    "output: ```[3, 2, 1, 4, 5, 6, 7]```  "
   ]
  },
  {
   "cell_type": "code",
   "execution_count": 24,
   "metadata": {},
   "outputs": [
    {
     "name": "stdout",
     "output_type": "stream",
     "text": [
      "[3, 2, 1, 4, 5, 6, 7]\n"
     ]
    }
   ],
   "source": [
    "inp = [1, 2, 3, 4, 5, 6, 7]\n",
    "if len(inp) > 1:\n",
    "    half = int(len(inp)/2)\n",
    "    print(inp[half-1::-1] + inp[half:])\n",
    "else:\n",
    "    print(inp)"
   ]
  },
  {
   "cell_type": "markdown",
   "metadata": {},
   "source": [
    "### 2.\n",
    "Given two lists, write all the possible combinations of the two into a new list.  \n",
    "  \n",
    "input: ```[1, 2, 3, 4]``` and ```['a', 'b', 'c', 'd']```  \n",
    "output: ```[(1, 'a'), (1, 'b'), (1, 'c'), (1, 'd'), (2, 'a'), (2, 'b'), (2, 'c'), (2, 'd'), (3, 'a'), (3, 'b'), (3, 'c'), (3, 'd'), (4, 'a'), (4, 'b'), (4, 'c'), (4, 'd')]```  \n",
    "  \n",
    "a) Create an empty list  \n",
    "  \n",
    "b) loop through both lists and append a tuple of (list 1 element, list 2 element) to the output list. HINT: use a for loop"
   ]
  },
  {
   "cell_type": "code",
   "execution_count": 25,
   "metadata": {},
   "outputs": [
    {
     "name": "stdout",
     "output_type": "stream",
     "text": [
      "[(1, 'a'), (1, 'b'), (1, 'c'), (1, 'd'), (2, 'a'), (2, 'b'), (2, 'c'), (2, 'd'), (3, 'a'), (3, 'b'), (3, 'c'), (3, 'd'), (4, 'a'), (4, 'b'), (4, 'c'), (4, 'd')]\n"
     ]
    }
   ],
   "source": [
    "inp1 = [1, 2, 3, 4]\n",
    "inp2 = ['a', 'b', 'c', 'd']\n",
    "\n",
    "out = []\n",
    "for i in inp1:\n",
    "    for j in inp2:\n",
    "        out.append((i, j))\n",
    "print(out)"
   ]
  },
  {
   "cell_type": "markdown",
   "metadata": {},
   "source": [
    "#### 3.\n",
    "Given two sorted lists, merge them maintaining the sorted order.  \n",
    "  \n",
    "input: ```[1, 3, 6]``` and ```[1, 2, 5, 14]```  \n",
    "output: ```[1, 1, 2, 3, 5, 6, 14]```\n",
    "  \n",
    "a) Create an empty list. \n",
    "  \n",
    "b) You will need to loop through both lists at the same time. If the element you are looking at in ```inp1``` is less than the element you are looking at in ```inp2```, append the element in ```inp1``` to the list created in a) and move on to the next element in ```inp1```. If the element is in ```inp2```, append that element to a) and move on to the next element in ```inp2```.  HINT: you probably want to use a while loop.\n",
    "  \n",
    "\n"
   ]
  },
  {
   "cell_type": "code",
   "execution_count": 31,
   "metadata": {},
   "outputs": [
    {
     "name": "stdout",
     "output_type": "stream",
     "text": [
      "[1, 1, 2, 3, 5, 6, 14]\n"
     ]
    }
   ],
   "source": [
    "inp1 = [1, 3, 6]\n",
    "inp2 = [1, 2, 5, 14]\n",
    "\n",
    "idx1 = 0\n",
    "idx2 = 0\n",
    "out = []\n",
    "while idx1 < len(inp1) and idx2 < len(inp2):\n",
    "    if inp1[idx1] < inp2[idx2]:\n",
    "        out.append(inp1[idx1])\n",
    "        idx1 += 1\n",
    "    else:\n",
    "        out.append(inp2[idx2])\n",
    "        idx2 += 1\n",
    "out = out + inp1[idx1:] + inp2[idx2:]\n",
    "print(out)"
   ]
  },
  {
   "cell_type": "markdown",
   "metadata": {},
   "source": [
    "### Questions (70 points)"
   ]
  },
  {
   "cell_type": "code",
   "execution_count": 56,
   "metadata": {
    "collapsed": true
   },
   "outputs": [],
   "source": [
    "with open('../database/hw_2.json') as f:\n",
    "    products = json.load(f)"
   ]
  },
  {
   "cell_type": "markdown",
   "metadata": {},
   "source": [
    "Stephen goes to target. ```products``` is a list of tuples that contain information about what is in stock there. The format of the tuple is ```(item id, stock, price, how much stephen values the product)```\n",
    "\n",
    "#### 1. Separate the list of tuples into 4 lists\n"
   ]
  },
  {
   "cell_type": "code",
   "execution_count": 42,
   "metadata": {
    "collapsed": true
   },
   "outputs": [],
   "source": [
    "list1, list2, list3, list4 = zip(*products)\n",
    "#Alternatively\n",
    "list1 = [p[0] for p in products]\n",
    "list2 = [p[1] for p in products]\n",
    "list3 = [p[2] for p in products]\n",
    "list4 = [p[3] for p in products]"
   ]
  },
  {
   "cell_type": "markdown",
   "metadata": {},
   "source": [
    "#### 2. What is the most expensive product? "
   ]
  },
  {
   "cell_type": "code",
   "execution_count": 44,
   "metadata": {},
   "outputs": [
    {
     "data": {
      "text/plain": [
       "68"
      ]
     },
     "execution_count": 44,
     "metadata": {},
     "output_type": "execute_result"
    }
   ],
   "source": [
    "max(products, key = lambda x: x[2])[0]"
   ]
  },
  {
   "cell_type": "markdown",
   "metadata": {},
   "source": [
    "#### 3. What are the three cheapest products?\n"
   ]
  },
  {
   "cell_type": "code",
   "execution_count": 45,
   "metadata": {},
   "outputs": [
    {
     "name": "stdout",
     "output_type": "stream",
     "text": [
      "(5, 2.01065653510808) (11, 2.5596212299714503) (75, 2.6585976490665546)\n"
     ]
    }
   ],
   "source": [
    "# This way is more computationally efficient than sorting the list and grabbing bottom three\n",
    "# algorithm is store the lowest 3 prices and adjust the these values as we iterate through the list\n",
    "cheap1 = (0, 100000000)\n",
    "cheap2 = (0, 100000000)\n",
    "cheap3 = (0, 100000000)\n",
    "for product in products:\n",
    "    if product[2] < cheap1[1]:\n",
    "        cheap3 = cheap2\n",
    "        cheap2 = cheap1\n",
    "        cheap1 = (product[0], product[2])\n",
    "    elif product[2] < cheap2[1]:\n",
    "        cheap3 = cheap2\n",
    "        cheap2 = (product[0], product[2])\n",
    "    elif product[2] < cheap3[1]:\n",
    "        cheap3 = (product[0], product[2])\n",
    "print(cheap1, cheap2, cheap3)"
   ]
  },
  {
   "cell_type": "markdown",
   "metadata": {},
   "source": [
    "#### 4.  What is the total value of all the goods in Target"
   ]
  },
  {
   "cell_type": "code",
   "execution_count": 49,
   "metadata": {},
   "outputs": [
    {
     "data": {
      "text/plain": [
       "186226.20706629497"
      ]
     },
     "execution_count": 49,
     "metadata": {},
     "output_type": "execute_result"
    }
   ],
   "source": [
    "sum([product[2] * product[3] for product in products])"
   ]
  },
  {
   "cell_type": "markdown",
   "metadata": {},
   "source": [
    "#### 5. Target decides that all goods should cost at least 50 dollars. Create a new list products_50 w/ the updated prices and recalculate the total value of all the goods with these prices"
   ]
  },
  {
   "cell_type": "code",
   "execution_count": 52,
   "metadata": {},
   "outputs": [
    {
     "data": {
      "text/plain": [
       "[[0, 1, 101.93602021280064, 185.10884418022408],\n",
       " (1, 2, 50, 8.047874427041796),\n",
       " (2, 20, 50, 8.4577208847232),\n",
       " (3, 19, 50, 11.785942454295737),\n",
       " (4, 16, 50, 27.61836283780311),\n",
       " (5, 22, 50, 1.488040201120746),\n",
       " [6, 0, 114.98615895612085, 112.55633944579581],\n",
       " (7, 23, 50, 7.416327399625584),\n",
       " (8, 18, 50, 20.77468832296961),\n",
       " (9, 10, 50, 24.753829928072122),\n",
       " [10, 8, 86.67001160500293, 68.68867296598606],\n",
       " (11, 13, 50, 2.6842976005599124),\n",
       " (12, 3, 50, 9.893762292749553),\n",
       " (13, 0, 50, 12.169681539543351),\n",
       " [14, 8, 62.41274131894139, 79.6307879103853],\n",
       " (15, 20, 50, 6.524855620725107),\n",
       " (16, 13, 50, 13.974590182860403),\n",
       " (17, 18, 50, 0.0),\n",
       " (18, 15, 50, 21.031023302921643),\n",
       " (19, 9, 50, 18.473501093393917)]"
      ]
     },
     "execution_count": 52,
     "metadata": {},
     "output_type": "execute_result"
    }
   ],
   "source": [
    "# replace p[2] to 50 if p[2] < 50\n",
    "products_50 = [(p[0], p[1], 50, p[3]) if p[2] < 50 else p for p in products]\n",
    "products_50[:20]"
   ]
  },
  {
   "cell_type": "markdown",
   "metadata": {},
   "source": [
    "### Bonus (20 points)\n",
    "Stephen's mom gives him $3000 to spend. What is the best bundle Stephen can buy? Note his mom will take his money back if he doesn't spend it.  \n",
    "  \n",
    "There is no way to solve this perfectly without creating all the combinations, which is computationally impossible. However, there are good ways to get a close to optimal bundle, and we will award points based off people's ideas there. This is a type of question you would usually see in an algorithms class, which is usually taken after 2 semesters of CS and focuses on these types of questions, so we don't expect anybody to solve this. Feel free to give a try though. Since it is a bonus question, we will not provide any assistance for it."
   ]
  },
  {
   "cell_type": "markdown",
   "metadata": {},
   "source": [
    "As stated there is no realistic way to solve this. One approximation you can do is using what is called a greedy algorithm. Basically, find the products with the highest value, and add them until there aren't anymore. This is \"greedy\" because it ignores the big picture and takes the value that is best at that time."
   ]
  },
  {
   "cell_type": "code",
   "execution_count": 63,
   "metadata": {},
   "outputs": [
    {
     "name": "stdout",
     "output_type": "stream",
     "text": [
      "2999.5058152756556\n",
      "{83: 22, 60: 24, 0: 1, 3: 19, 40: 2, 70: 17, 78: 16, 9: 10, 51: 7, 50: 15, 21: 11}\n"
     ]
    }
   ],
   "source": [
    "cons = {}\n",
    "# sorting products by highest value per dollar\n",
    "products_by_value = sorted(products, key=lambda x: x[3] / x[2], reverse = True) \n",
    "amount_spent = 0\n",
    "# iterate through the sorted products and add as many of that product as possible to the consumption bundle\n",
    "for product in products_by_value:\n",
    "    cntr = 0\n",
    "    num_affordable = int((3000 - amount_spent) / product[2]) # number of the product that is affordable \n",
    "    num_purchased = min(product[1], num_affordable) \n",
    "    amount_spent += product[2] * num_purchased\n",
    "    if num_purchased > 0:\n",
    "        cons[product[0]] = num_purchased\n",
    "print(amount_spent)\n",
    "print(cons)"
   ]
  },
  {
   "cell_type": "code",
   "execution_count": null,
   "metadata": {
    "collapsed": true
   },
   "outputs": [],
   "source": []
  }
 ],
 "metadata": {
  "kernelspec": {
   "display_name": "Python [conda env:gds-scipy16]",
   "language": "python",
   "name": "conda-env-gds-scipy16-py"
  },
  "language_info": {
   "codemirror_mode": {
    "name": "ipython",
    "version": 3
   },
   "file_extension": ".py",
   "mimetype": "text/x-python",
   "name": "python",
   "nbconvert_exporter": "python",
   "pygments_lexer": "ipython3",
   "version": "3.6.3"
  }
 },
 "nbformat": 4,
 "nbformat_minor": 2
}
